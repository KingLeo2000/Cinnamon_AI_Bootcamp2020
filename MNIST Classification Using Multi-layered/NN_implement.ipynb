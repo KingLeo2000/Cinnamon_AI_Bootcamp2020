{
 "cells": [
  {
   "cell_type": "markdown",
   "metadata": {
    "colab_type": "text",
    "id": "ERx0WhAbCAKm"
   },
   "source": [
    "# My work:\n",
    "\n",
    "- Implement a simple neural network (with one hidden layer) from scratch which is similar to the Keras's dense layer\n",
    "\n",
    "- Experiment with different hyperparameter (number of hidden units, epochs, learning rate, momentumn factors)"
   ]
  },
  {
   "cell_type": "markdown",
   "metadata": {
    "colab_type": "text",
    "id": "JVXNHcMvXs_r"
   },
   "source": [
    "## Preparation"
   ]
  },
  {
   "cell_type": "code",
   "execution_count": 16,
   "metadata": {
    "cellView": "both",
    "colab": {},
    "colab_type": "code",
    "id": "l9VuDjau1bvg"
   },
   "outputs": [],
   "source": [
    "#@title\n",
    "from keras.datasets import mnist\n",
    "import numpy as np\n",
    "from sklearn.model_selection import train_test_split\n",
    "import matplotlib.pyplot as plt\n",
    "from tqdm import tqdm\n",
    "import seaborn as sns\n",
    "from sklearn.metrics import accuracy_score, confusion_matrix\n",
    "import time\n",
    "from sklearn.base import BaseEstimator, ClassifierMixin\n",
    "from sklearn.model_selection import GridSearchCV ,ParameterGrid\n",
    "import pandas as pd\n",
    "np.random.seed(42)"
   ]
  },
  {
   "cell_type": "code",
   "execution_count": 17,
   "metadata": {
    "colab": {},
    "colab_type": "code",
    "id": "pbI_LH3CHYhJ"
   },
   "outputs": [],
   "source": [
    "# Load data and flatten them\n",
    "(X_train, y_train), (X_test, y_test) = mnist.load_data()\n",
    "\n",
    "X_data = np.concatenate([X_train, X_test], axis=0)/255\n",
    "y_data = np.concatenate([y_train, y_test], axis=0)\n",
    "X_data = X_data.reshape(X_data.shape[0],784)"
   ]
  },
  {
   "cell_type": "code",
   "execution_count": 18,
   "metadata": {
    "colab": {},
    "colab_type": "code",
    "id": "ZxZU7-_8Rea6"
   },
   "outputs": [],
   "source": [
    "X_train_full = X_data[:X_train.shape[0],:]\n",
    "X_test = X_data[X_train.shape[0]:,:]\n",
    "y_train_full = y_data[:y_train.shape[0]]\n",
    "y_test = y_data[y_train.shape[0]:]"
   ]
  },
  {
   "cell_type": "code",
   "execution_count": 19,
   "metadata": {
    "colab": {},
    "colab_type": "code",
    "id": "9LqUU5c1RhBM"
   },
   "outputs": [],
   "source": [
    "X_train, X_valid, y_train, y_valid = train_test_split(X_train_full, y_train_full, test_size=0.2, random_state=42)"
   ]
  },
  {
   "cell_type": "code",
   "execution_count": 20,
   "metadata": {
    "colab": {},
    "colab_type": "code",
    "id": "_MwCo8ZQSHuh"
   },
   "outputs": [],
   "source": [
    "def sigmoid(z):\n",
    "    s = 1/ (1 + np.exp(-z))\n",
    "    return s\n",
    "\n",
    "def cross_entropy(Y, Y_hat):\n",
    "    L_sum = np.sum(np.multiply(Y, np.log(Y_hat)))\n",
    "    m = Y.shape[1]\n",
    "    L = -(1/m) * L_sum\n",
    "    return L"
   ]
  },
  {
   "cell_type": "markdown",
   "metadata": {
    "colab_type": "text",
    "id": "OVGa-LWTXxcx"
   },
   "source": [
    "## The first neural network is similar to the case of Keras"
   ]
  },
  {
   "cell_type": "code",
   "execution_count": 22,
   "metadata": {
    "colab": {},
    "colab_type": "code",
    "id": "QrRi0VR1Tu5u"
   },
   "outputs": [],
   "source": [
    "class simple_NN1:\n",
    "    \n",
    "    def __init__(self, hidden_state):\n",
    "        self.n_h = hidden_state  \n",
    "    \n",
    "    def reshapeX(self, X_data):\n",
    "        X = X_data.T\n",
    "        return X\n",
    "\n",
    "    def reshapeY(self, y_data):\n",
    "        y = np.zeros((y_data.size, y_data.max()+1))\n",
    "        y[np.arange(y_data.size), y_data] = 1\n",
    "        y = y.T\n",
    "        return y\n",
    "\n",
    "    def initial_param(self,X_train, y_train):\n",
    "\n",
    "        n_x = X_train.shape[0]\n",
    "        n_class = y_train.shape[0]\n",
    "\n",
    "        self.W1 = np.random.randn(self.n_h, n_x) * np.sqrt(1 / n_x)\n",
    "        self.b1 = np.zeros((self.n_h, 1)) * np.sqrt(1 / n_x)\n",
    "        self.W2 = np.random.randn(n_class, self.n_h) * np.sqrt(1 / self.n_h)\n",
    "        self.b2 = np.zeros((n_class, 1))  * np.sqrt(1 / self.n_h)\n",
    "        \n",
    "    def forward(self, X_data):\n",
    "        \n",
    "        Z1 = np.matmul(self.W1, X_data) + self.b1\n",
    "        A1 = sigmoid(Z1)\n",
    "        Z2 = np.matmul(self.W2, A1) + self.b2\n",
    "        A2 = np.exp(Z2) / np.sum(np.exp(Z2), axis=0)\n",
    "        return [Z1, A1, Z2, A2]\n",
    "    def backward(self):\n",
    "        \n",
    "        dZ2 = self.A2 - self.y_train\n",
    "        dW2_ = (1/self.m) * np.matmul(dZ2, (self.A1).T)\n",
    "        db2_ = (1/self.m) * np.sum(dZ2, axis=1, keepdims=True)\n",
    "        dA1 = np.matmul((self.W2).T, dZ2)\n",
    "        dZ1 = dA1 * sigmoid(self.Z1) * (1 - sigmoid(self.Z1))\n",
    "        dW1_ = (1/self.m) * np.matmul(dZ1, (self.X_train).T)\n",
    "        db1_ = (1/self.m) * np.sum(dZ1, axis=1, keepdims=True)\n",
    "        \n",
    "        if self.batch > 0:\n",
    "            self.dW2 = (self.beta * self.dW2 + (1. - self.beta) * dW2_)\n",
    "            self.db2 = (self.beta * self.db2 + (1. - self.beta) * db2_)\n",
    "            self.dW1 = (self.beta * self.dW1 + (1. - self.beta) * dW1_)\n",
    "            self.db1 = (self.beta * self.db1 + (1. - self.beta) * db1_)\n",
    "        else:\n",
    "            self.dW2 = dW2_\n",
    "            self.db2 = db2_\n",
    "            self.dW1 = dW1_\n",
    "            self.db1 = db1_\n",
    "        \n",
    "        self.W2 = self.W2 - self.lr * self.dW2\n",
    "        self.b2 = self.b2 - self.lr * self.db2\n",
    "        self.W1 = self.W1 - self.lr * self.dW1\n",
    "        self.b1 = self.b1 - self.lr * self.db1\n",
    "    \n",
    "    \n",
    "    def fit(self, X_train, y_train, X_valid, y_valid, n_epochs, batch_size=32, learning_rate=3, beta=0.9):\n",
    "        X_train = self.reshapeX(X_train)\n",
    "        y_train = self.reshapeY(y_train)\n",
    "        X_valid = self.reshapeX(X_valid)\n",
    "        y_valid = self.reshapeY(y_valid)\n",
    "        \n",
    "        self.lr = learning_rate\n",
    "        self.beta = beta\n",
    "        self.initial_param(X_train, y_train)\n",
    "        print(f'Training on {X_train.shape[1]} samples validate on {X_valid.shape[1]} samples'.upper())\n",
    "        self.train_loss= []\n",
    "        self.train_acc = []\n",
    "        self.val_loss = []\n",
    "        self.val_acc = []\n",
    "\n",
    "        for epoch in range(n_epochs):\n",
    "\n",
    "            shuffle = np.random.permutation(X_train.shape[1])\n",
    "            X_shuffled = X_train[:, shuffle]\n",
    "            y_shuffled = y_train[:, shuffle]\n",
    "            n_batches = X_train.shape[1] // batch_size\n",
    "\n",
    "            for batch in tqdm(range(n_batches), desc=f'Epoch {epoch+1}/{n_epochs} : '):\n",
    "                begin = batch * batch_size\n",
    "                end = min(begin + batch_size, X_shuffled.shape[1] - 1)\n",
    "                self.X_train = X_shuffled[:, begin:end]\n",
    "                self.y_train = y_shuffled[:, begin:end]\n",
    "                self.m = (self.X_train).shape[1]\n",
    "\n",
    "                self.batch = batch\n",
    "                self.Z1, self.A1, self.Z2, self.A2 = self.forward(self.X_train)\n",
    "                self.backward()\n",
    "            train_ouput = self.forward(X_train)[-1]\n",
    "            train_predict = np.argmax(train_ouput, axis=0)\n",
    "            train_loss = cross_entropy(y_train, train_ouput)\n",
    "            train_acc = accuracy_score(train_predict, np.argmax(y_train, axis=0))\n",
    " \n",
    "            val_output = self.forward(X_valid)[-1]\n",
    "            val_predict = np.argmax(val_output, axis=0)\n",
    "            val_loss = cross_entropy(y_valid, val_output)           \n",
    "            val_acc = accuracy_score(val_predict, np.argmax(y_valid, axis=0))\n",
    "\n",
    "            print(f'Train loss: {train_loss:.4f}. Train accuracy: {train_acc:.4f}')\n",
    "            print(f'Valid loss: {val_loss:.4f}. Valid_accuracy: {val_acc:.4f}')\n",
    "            self.train_loss.append(train_loss)\n",
    "            self.train_acc.append(train_acc)\n",
    "            self.val_loss.append(val_loss)\n",
    "            self.val_acc.append(val_acc)\n",
    "    def history(self):\n",
    "        fig, ax = plt.subplots(1,2, figsize=(16, 6))\n",
    "        plt.subplot(1,2,1)\n",
    "        plt.plot(self.train_loss, label='Train')\n",
    "        plt.plot(self.val_loss, label='Validataion')\n",
    "        plt.title('Loss on training and validation sets')\n",
    "        plt.ylabel('Loss')\n",
    "        plt.xlabel('Epoch')\n",
    "        plt.legend(loc=\"upper right\")\n",
    "        plt.subplot(1,2,2)\n",
    "        plt.plot(self.train_acc, label='Train')\n",
    "        plt.plot(self.val_acc, label='Validataion')\n",
    "        plt.title('Accuracy on training and validation sets')\n",
    "        plt.ylabel('Accuracy')\n",
    "        plt.xlabel('Epoch')\n",
    "        plt.legend(loc=\"upper left\")                \n",
    "        fig.suptitle('nah', fontsize=20)\n",
    "        plt.show()\n",
    "\n",
    "    def predict_proba(self, X_test):\n",
    "        X_test = self.reshapeX(X_test)\n",
    "        return self.forward(X_test)[-1]\n",
    "    \n",
    "    def predict(self, X_test):\n",
    "        proba = self.predict_proba(X_test)\n",
    "        predictions = np.argmax(proba, axis=0)\n",
    "        return predictions\n",
    "    \n",
    "    def score(self, X_test, y_test, ):\n",
    "        predictions = self.predict(X_test)\n",
    "        print('Accuracy : ', accuracy_score(predictions, y_test))"
   ]
  },
  {
   "cell_type": "code",
   "execution_count": 24,
   "metadata": {
    "colab": {
     "base_uri": "https://localhost:8080/",
     "height": 1000,
     "referenced_widgets": [
      "d7c1cddaf1504d82af47f85d4060e68e",
      "83bda6adb8fd4ca1a46a992453a92dd1",
      "ec073abade944b20843ebf8ae15e83ff",
      "b7a7a11a1b43442989a11f1268efea3e",
      "e6ed85d77d7e4652a42f48e0b6e1f46c",
      "1e136502539240d19184cd288e71fba5",
      "fd51e927392b4b4a9280f1b9325d416e",
      "6a44cba12e584f12b5b9d18c840099e1",
      "de66b75706cf419282dab89d7d2d7295",
      "940b43964e064425a4d60fb074b79339",
      "4c9ae6eb12a74724bd259c54de7376c2",
      "7787aeadeedf440484abe35067c2876f",
      "639eacb3d6b8444a92f21aed2c59b6a5",
      "872ad2554f614b86b4a411840c4cc7c3",
      "61865c892cf2453585acfe56cf61a9d9",
      "0e32555dfa6d4c79b5877f0c972add47",
      "c19c3512e6204f099bb022280bad51f5",
      "ba1ffb8402fd497388a68375051b0c75",
      "997a3b56a75a4ed78625fa642e979ca4",
      "43ba65b7e0d64254ba457593accfa55a",
      "8165b85a92b240d4977d74ca063a440b",
      "32644c0ac676475c8140c2645ee6598d",
      "c9dd609db7764a45ab6b3899b007248e",
      "d7e5e2923c0f435b8abeb5101028a539",
      "5cd260af6fb747eeb7c92b025cdd1ec6",
      "0012320beb614414a193d1faa73c5cc0",
      "e074676940394021bbe40155d859b85d",
      "1b579110526d4e8b8ed205d199792ea1",
      "7f0aa3f138a84bd68f41f3eab9214a93",
      "865463b610af4bd18dbe3b257fdbc971",
      "899628977c4a4589acc05df5833d3a2b",
      "f731024c52d4475fbbfb567d059f4640",
      "741fc3934cb44751b6e473099d87244f",
      "3824aa417f014b9fb057a04114b5e577",
      "c0ad4d81578c49909be956cade606b88",
      "1a100aae587245c48c8e8c258c375613",
      "2ad022c51e744612bd8e9082629ba361",
      "ddf94c57012742db877859a3298f5dd6",
      "a1317350996e491495be754e72f4c6de",
      "d2f882eb5a89469bbce4fbad2d960eea",
      "a9e49e57cbf04d3ca68640a93bafb04d",
      "281ec88133bb4ca7bb34c5bb17fe42d4",
      "609db0067c2044129842945ac75acaac",
      "132f907a84e24de69c55727c68e805a4",
      "431f1478e10847b6b6b4dee1684659a3",
      "fb0146881e6b4358b696eb5f9af914db",
      "61cdc115533f463fb6dda3da11c5f3c7",
      "0010bd3304c74897a068c82b22e1184c",
      "abc2ed1a543343239759f3f78b0e2d7d",
      "a6e7fbe060c24fe3904ecf4e92acc8eb",
      "898bf4e577774b369986865ade2900ae",
      "5a939d27e1134a3580a188bffa8c0f18",
      "002a9b09e998470fa1ce456f24a79d13",
      "45cb9910052a48d88c13e1148e8abf47",
      "a1497dda8c4a49ea9096c20083081f5a",
      "4ac162e954bd447eaa69a6dffa5b1c95",
      "347aeb24cde64549846a44a9e4a4cc17",
      "358e5c6b61d1412a820d19fa0b3aa836",
      "435f74d1703049e792e3672acd1de660",
      "154fd273d5f245a383911c8f7155a712",
      "53afede33ce94d93b322f0c380b2a6d6",
      "306d8af166164739a9c065f9f156ca43",
      "31eae9b19c1b427fbf6b856d80fb65ae",
      "9077b9dc117348f9b226ac48c13c4b49",
      "c0e8ea848863458bbdfc77ff2dfc1d80",
      "c919c5fc3cc644e5b21803fb42ff904b",
      "e84c4574b7814a049973dd972da3fd2f",
      "202de3a7258747f5837198961dcb04be",
      "571e16fcae924af3a28ede1cbe4428a1",
      "32886357a91743aaae24ba0d98421bce",
      "a2785c9044d34b91a8e0719f1dc9e0c4",
      "9cb716f7d76e489cb75d6bece8482733",
      "d0607ca480cc4d1bb4476e163ee48e6c",
      "0aa70e12fad74f9dbea0b484c4285105",
      "2f1485a3bf0142a096b1981cb04f0029",
      "0c3e837667214570b5b5d33b722e056f",
      "c15f123405d042a2abfd1ec99219fb97",
      "e018829ad7ff4aea9f87dc86bfab4d15",
      "4ccb45cef86d453cae723662755a49be",
      "7f99b9c63c0040b1b128a0286093ed75",
      "4bbbb308c11d4ad2aa0df8f811b3e249",
      "8f58cba531c840ec995c309f33f49d1c",
      "fdc4ae7864ff411785997d1be4fabfc7",
      "aff03987a65d48fda0b996537308c5b2",
      "82945119fb1248afb76e476e4e8fb8f6",
      "36632ddafb6941f19e7a9415225685b6",
      "d9eed6e0c4454398a79032917e7bbfce",
      "65946b68e7ca46c8abd0e0fe4cb3a7a1",
      "54e615bd687c4be7b5aa8092346e68d5",
      "338086744209452a8f1719c6c05bbfa2",
      "9861eac38d704cffa95b6f2e612aadeb",
      "0547b5b063bf4f9ea2186d109ac7addb",
      "4b9dd45839424374b009f411daef4f23",
      "cdf557f7b1e4423fa51dd9c31d8127ea",
      "44d4daa59dcb43f496d08dd1673869a8",
      "799b854caeb242cc9e27a08f39dbb4f3",
      "b40e9d1aaab14bb2aba46118e91f4112",
      "0d8e412babbd441fbfe142a308b34bc5",
      "98300c1d1dcf4de1a5a6594cc74e6b9b",
      "e47d569d04334b54b0cd1387f72f32c1",
      "e14a4ce12d8a44899adfd2d3fa9427f2",
      "4d38c36297ec44ad8e576c9d451f2617",
      "ac28270a555c40088fbc3055debe89a6",
      "2894b9e2ba684eef8a7cee3aa7a9f098",
      "67a715c7774f4da5bf24cd6bb957bf35",
      "b65255a87cf4464aab684009fafe7109",
      "26457acc217140a39af1c1618736ef21",
      "8b62160b00ae45a9a0e51dc4e0f6f5c7",
      "50d5955b80ae4479a9c0dc814ef32732",
      "656715a73dec4dad996b145704c7efb5",
      "c736d48415184a288c7fb99d8f4487eb",
      "4bb4a44d342b492e9eea86bf29f85aa4",
      "a5496be97bb5415fab7fe3d462fde218",
      "9def3a0b4b2f4838838791b2f66cab51",
      "2d737c5d9f5248549d8c0aad77762b31",
      "1c0d7ac824b043e5b2aba3306a74dbe6",
      "0611e31d950d407d8530502196efa669",
      "8394b7de31b74c19b2a48144df2d8f12",
      "915fddc3a98a4efebe8e2f0bc4ab7b1e",
      "b38943ff5f3e42b6a74a98ab4a931f17",
      "ea6613c6f790477a90ff4b39d8166145",
      "77ba66f0a894434995bc19a72f567cae",
      "d60b152a63474a0aa020251d81324d1c",
      "f80cceacd1d34fa280c290fe18c7bd92",
      "84e0f7939c1c4a07b445ddeff82a1478",
      "3d84115e84ce4a2f88d02c5920a5f740",
      "1acef992aacb428ba148418c9fcd6978",
      "70ffeb5fcebe4284852e9467ffecbaa2",
      "5d171db49bc34bbd820dc347f57edcdd",
      "2d94b3729d5e4dd7b7d17995fe06b483",
      "93cf689e765b48898b14a59441963e69",
      "9bb3fca1cf9b4b4fa43d5346be516b2b",
      "482e6206a8a74cd3b556196d008b2541",
      "54c15d8c84524b2e995f067d46826016",
      "fe9a32a4247d4479a79993c032801bcf",
      "edd60ad41c84479e8591066cba7d0dc9",
      "4b8b98def53641afb434c45d3ae90400",
      "97b9d88da92f4603b32982ec229f0017",
      "c07b5756662445d3ba03d27bde8ddcac",
      "0a2c20e478ee47abaaf67098f15c31bf",
      "c68a52d980404207b0e7cd5ca8942f77",
      "66b32cd6c8394e99848f1121dbf1799f",
      "f5afa32e34d54291a1e381880cec87c9",
      "0db53a5529e14a7c9c4ac98e39772b0a",
      "46cede6051974b8bb1988526bdf97821",
      "ae5be58a50534f07bc0c6b7c110693f0",
      "fb599f27799143fa9a9af52abdaac89a",
      "b79b47fc302c4c0499e6b881b0c4543f",
      "0ab1a06b359d4bda8c0da94d9d094cbf",
      "1830cae78f1d4133b5764fa2e5903f90",
      "e532a8da10024308bdc25f0b0d56ade1",
      "00423b081fe146d0a7c15662cfc6c4d0",
      "a4d1389de14a4719b2d53f04109f1bf0",
      "9af12f9fd32e4e14827fa33ca26156b4",
      "d09913583c1643c784d432a57cb93e40",
      "ba279f37fe884a8e96a190e6c47adf18",
      "6a75dadf434549539239ccf9332c329e",
      "816f60a507104595a23b956e2ee87913",
      "af0e745d887f4a4fb3d97861ba776b1f",
      "65103e5b6d6a44459d56e8d66035bb44"
     ]
    },
    "colab_type": "code",
    "executionInfo": {
     "elapsed": 38543,
     "status": "ok",
     "timestamp": 1581495537016,
     "user": {
      "displayName": "Phan Hoang",
      "photoUrl": "",
      "userId": "17165038072317104940"
     },
     "user_tz": -420
    },
    "id": "sq8ZWAXuxauK",
    "outputId": "be732d50-3187-47ad-b2c1-1b8768a42af7"
   },
   "outputs": [
    {
     "name": "stdout",
     "output_type": "stream",
     "text": [
      "TRAINING ON 48000 SAMPLES VALIDATE ON 12000 SAMPLES\n"
     ]
    },
    {
     "name": "stderr",
     "output_type": "stream",
     "text": [
      "Epoch 1/20 : 100%|█████████████████████████████████████████████████████████████████| 750/750 [00:00<00:00, 1690.88it/s]\n"
     ]
    },
    {
     "name": "stdout",
     "output_type": "stream",
     "text": [
      "Train loss: 0.3569. Train accuracy: 0.9021\n",
      "Valid loss: 0.3558. Valid_accuracy: 0.9022\n"
     ]
    },
    {
     "name": "stderr",
     "output_type": "stream",
     "text": [
      "Epoch 2/20 : 100%|█████████████████████████████████████████████████████████████████| 750/750 [00:00<00:00, 1431.90it/s]\n"
     ]
    },
    {
     "name": "stdout",
     "output_type": "stream",
     "text": [
      "Train loss: 0.2855. Train accuracy: 0.9173\n",
      "Valid loss: 0.2870. Valid_accuracy: 0.9185\n"
     ]
    },
    {
     "name": "stderr",
     "output_type": "stream",
     "text": [
      "Epoch 3/20 : 100%|█████████████████████████████████████████████████████████████████| 750/750 [00:00<00:00, 1532.68it/s]\n"
     ]
    },
    {
     "name": "stdout",
     "output_type": "stream",
     "text": [
      "Train loss: 0.2514. Train accuracy: 0.9290\n",
      "Valid loss: 0.2559. Valid_accuracy: 0.9265\n"
     ]
    },
    {
     "name": "stderr",
     "output_type": "stream",
     "text": [
      "Epoch 4/20 : 100%|█████████████████████████████████████████████████████████████████| 750/750 [00:00<00:00, 1403.91it/s]\n"
     ]
    },
    {
     "name": "stdout",
     "output_type": "stream",
     "text": [
      "Train loss: 0.2239. Train accuracy: 0.9363\n",
      "Valid loss: 0.2304. Valid_accuracy: 0.9354\n"
     ]
    },
    {
     "name": "stderr",
     "output_type": "stream",
     "text": [
      "Epoch 5/20 : 100%|█████████████████████████████████████████████████████████████████| 750/750 [00:00<00:00, 1377.19it/s]\n"
     ]
    },
    {
     "name": "stdout",
     "output_type": "stream",
     "text": [
      "Train loss: 0.2031. Train accuracy: 0.9420\n",
      "Valid loss: 0.2126. Valid_accuracy: 0.9409\n"
     ]
    },
    {
     "name": "stderr",
     "output_type": "stream",
     "text": [
      "Epoch 6/20 : 100%|█████████████████████████████████████████████████████████████████| 750/750 [00:00<00:00, 1239.50it/s]\n"
     ]
    },
    {
     "name": "stdout",
     "output_type": "stream",
     "text": [
      "Train loss: 0.1859. Train accuracy: 0.9472\n",
      "Valid loss: 0.1971. Valid_accuracy: 0.9452\n"
     ]
    },
    {
     "name": "stderr",
     "output_type": "stream",
     "text": [
      "Epoch 7/20 : 100%|█████████████████████████████████████████████████████████████████| 750/750 [00:00<00:00, 1548.89it/s]\n"
     ]
    },
    {
     "name": "stdout",
     "output_type": "stream",
     "text": [
      "Train loss: 0.1738. Train accuracy: 0.9508\n",
      "Valid loss: 0.1867. Valid_accuracy: 0.9482\n"
     ]
    },
    {
     "name": "stderr",
     "output_type": "stream",
     "text": [
      "Epoch 8/20 : 100%|█████████████████████████████████████████████████████████████████| 750/750 [00:00<00:00, 1319.27it/s]\n"
     ]
    },
    {
     "name": "stdout",
     "output_type": "stream",
     "text": [
      "Train loss: 0.1605. Train accuracy: 0.9545\n",
      "Valid loss: 0.1762. Valid_accuracy: 0.9503\n"
     ]
    },
    {
     "name": "stderr",
     "output_type": "stream",
     "text": [
      "Epoch 9/20 : 100%|█████████████████████████████████████████████████████████████████| 750/750 [00:00<00:00, 1530.61it/s]\n"
     ]
    },
    {
     "name": "stdout",
     "output_type": "stream",
     "text": [
      "Train loss: 0.1486. Train accuracy: 0.9580\n",
      "Valid loss: 0.1661. Valid_accuracy: 0.9535\n"
     ]
    },
    {
     "name": "stderr",
     "output_type": "stream",
     "text": [
      "Epoch 10/20 : 100%|████████████████████████████████████████████████████████████████| 750/750 [00:00<00:00, 1467.93it/s]\n"
     ]
    },
    {
     "name": "stdout",
     "output_type": "stream",
     "text": [
      "Train loss: 0.1412. Train accuracy: 0.9603\n",
      "Valid loss: 0.1617. Valid_accuracy: 0.9544\n"
     ]
    },
    {
     "name": "stderr",
     "output_type": "stream",
     "text": [
      "Epoch 11/20 : 100%|████████████████████████████████████████████████████████████████| 750/750 [00:00<00:00, 1435.33it/s]\n"
     ]
    },
    {
     "name": "stdout",
     "output_type": "stream",
     "text": [
      "Train loss: 0.1325. Train accuracy: 0.9626\n",
      "Valid loss: 0.1530. Valid_accuracy: 0.9557\n"
     ]
    },
    {
     "name": "stderr",
     "output_type": "stream",
     "text": [
      "Epoch 12/20 : 100%|████████████████████████████████████████████████████████████████| 750/750 [00:00<00:00, 1552.01it/s]\n"
     ]
    },
    {
     "name": "stdout",
     "output_type": "stream",
     "text": [
      "Train loss: 0.1242. Train accuracy: 0.9652\n",
      "Valid loss: 0.1463. Valid_accuracy: 0.9582\n"
     ]
    },
    {
     "name": "stderr",
     "output_type": "stream",
     "text": [
      "Epoch 13/20 : 100%|████████████████████████████████████████████████████████████████| 750/750 [00:00<00:00, 1583.08it/s]\n"
     ]
    },
    {
     "name": "stdout",
     "output_type": "stream",
     "text": [
      "Train loss: 0.1183. Train accuracy: 0.9673\n",
      "Valid loss: 0.1433. Valid_accuracy: 0.9602\n"
     ]
    },
    {
     "name": "stderr",
     "output_type": "stream",
     "text": [
      "Epoch 14/20 : 100%|████████████████████████████████████████████████████████████████| 750/750 [00:00<00:00, 1457.36it/s]\n"
     ]
    },
    {
     "name": "stdout",
     "output_type": "stream",
     "text": [
      "Train loss: 0.1124. Train accuracy: 0.9688\n",
      "Valid loss: 0.1380. Valid_accuracy: 0.9606\n"
     ]
    },
    {
     "name": "stderr",
     "output_type": "stream",
     "text": [
      "Epoch 15/20 : 100%|████████████████████████████████████████████████████████████████| 750/750 [00:00<00:00, 1406.86it/s]\n"
     ]
    },
    {
     "name": "stdout",
     "output_type": "stream",
     "text": [
      "Train loss: 0.1076. Train accuracy: 0.9703\n",
      "Valid loss: 0.1331. Valid_accuracy: 0.9616\n"
     ]
    },
    {
     "name": "stderr",
     "output_type": "stream",
     "text": [
      "Epoch 16/20 : 100%|████████████████████████████████████████████████████████████████| 750/750 [00:00<00:00, 1493.96it/s]\n"
     ]
    },
    {
     "name": "stdout",
     "output_type": "stream",
     "text": [
      "Train loss: 0.1021. Train accuracy: 0.9724\n",
      "Valid loss: 0.1305. Valid_accuracy: 0.9643\n"
     ]
    },
    {
     "name": "stderr",
     "output_type": "stream",
     "text": [
      "Epoch 17/20 : 100%|████████████████████████████████████████████████████████████████| 750/750 [00:00<00:00, 1373.13it/s]\n"
     ]
    },
    {
     "name": "stdout",
     "output_type": "stream",
     "text": [
      "Train loss: 0.0981. Train accuracy: 0.9736\n",
      "Valid loss: 0.1262. Valid_accuracy: 0.9646\n"
     ]
    },
    {
     "name": "stderr",
     "output_type": "stream",
     "text": [
      "Epoch 18/20 : 100%|████████████████████████████████████████████████████████████████| 750/750 [00:00<00:00, 1327.52it/s]\n"
     ]
    },
    {
     "name": "stdout",
     "output_type": "stream",
     "text": [
      "Train loss: 0.0943. Train accuracy: 0.9737\n",
      "Valid loss: 0.1241. Valid_accuracy: 0.9647\n"
     ]
    },
    {
     "name": "stderr",
     "output_type": "stream",
     "text": [
      "Epoch 19/20 : 100%|████████████████████████████████████████████████████████████████| 750/750 [00:00<00:00, 1495.04it/s]\n"
     ]
    },
    {
     "name": "stdout",
     "output_type": "stream",
     "text": [
      "Train loss: 0.0902. Train accuracy: 0.9754\n",
      "Valid loss: 0.1217. Valid_accuracy: 0.9668\n"
     ]
    },
    {
     "name": "stderr",
     "output_type": "stream",
     "text": [
      "Epoch 20/20 : 100%|████████████████████████████████████████████████████████████████| 750/750 [00:00<00:00, 1465.04it/s]\n"
     ]
    },
    {
     "name": "stdout",
     "output_type": "stream",
     "text": [
      "Train loss: 0.0866. Train accuracy: 0.9766\n",
      "Valid loss: 0.1185. Valid_accuracy: 0.9666\n"
     ]
    }
   ],
   "source": [
    "model = simple_NN1(64)\n",
    "model.fit(X_train, y_train,X_valid, y_valid, 20, batch_size=64, learning_rate=0.2)"
   ]
  },
  {
   "cell_type": "markdown",
   "metadata": {
    "colab_type": "text",
    "id": "ETADDqUJYSyM"
   },
   "source": [
    "### Plot loss and accuracy curves"
   ]
  },
  {
   "cell_type": "code",
   "execution_count": 25,
   "metadata": {
    "colab": {
     "base_uri": "https://localhost:8080/",
     "height": 431
    },
    "colab_type": "code",
    "executionInfo": {
     "elapsed": 38468,
     "status": "ok",
     "timestamp": 1581495537682,
     "user": {
      "displayName": "Phan Hoang",
      "photoUrl": "",
      "userId": "17165038072317104940"
     },
     "user_tz": -420
    },
    "id": "0QNRvQLyD4Gy",
    "outputId": "9e900124-1572-486f-ccc7-75e9625c3fbd"
   },
   "outputs": [
    {
     "data": {
      "image/png": "[encoded data removed]",
      "text/plain": [
       "<Figure size 1152x432 with 2 Axes>"
      ]
     },
     "metadata": {
      "needs_background": "light"
     },
     "output_type": "display_data"
    }
   ],
   "source": [
    "model.history()"
   ]
  },
  {
   "cell_type": "markdown",
   "metadata": {
    "colab_type": "text",
    "id": "AVjD4ocJYZeb"
   },
   "source": [
    "### Score on test set"
   ]
  },
  {
   "cell_type": "code",
   "execution_count": 26,
   "metadata": {
    "colab": {
     "base_uri": "https://localhost:8080/",
     "height": 34
    },
    "colab_type": "code",
    "executionInfo": {
     "elapsed": 37690,
     "status": "ok",
     "timestamp": 1581495537684,
     "user": {
      "displayName": "Phan Hoang",
      "photoUrl": "",
      "userId": "17165038072317104940"
     },
     "user_tz": -420
    },
    "id": "b3YlUceJEE5U",
    "outputId": "7f98d83e-d3ca-4ffb-c7af-a25fb8032d35"
   },
   "outputs": [
    {
     "name": "stdout",
     "output_type": "stream",
     "text": [
      "Accuracy :  0.9654\n"
     ]
    }
   ],
   "source": [
    "model.score(X_test, y_test)"
   ]
  },
  {
   "cell_type": "markdown",
   "metadata": {
    "colab_type": "text",
    "id": "JGHgfRURYcqN"
   },
   "source": [
    "### Confusion matrix"
   ]
  },
  {
   "cell_type": "code",
   "execution_count": 27,
   "metadata": {
    "colab": {
     "base_uri": "https://localhost:8080/",
     "height": 609
    },
    "colab_type": "code",
    "executionInfo": {
     "elapsed": 37323,
     "status": "ok",
     "timestamp": 1581495538396,
     "user": {
      "displayName": "Phan Hoang",
      "photoUrl": "",
      "userId": "17165038072317104940"
     },
     "user_tz": -420
    },
    "id": "lNfXIqV6Uo1a",
    "outputId": "73c3faf8-e0fa-4989-f924-1f1ec779573f"
   },
   "outputs": [
    {
     "data": {
      "text/plain": [
       "<matplotlib.axes._subplots.AxesSubplot at 0x2659ffb81d0>"
      ]
     },
     "execution_count": 27,
     "metadata": {},
     "output_type": "execute_result"
    },
    {
     "data": {
      "image/png": "[encoded data removed]",
      "text/plain": [
       "<Figure size 1080x720 with 2 Axes>"
      ]
     },
     "metadata": {
      "needs_background": "light"
     },
     "output_type": "display_data"
    }
   ],
   "source": [
    "plt.figure(figsize=(15,10))\n",
    "df = pd.DataFrame(confusion_matrix(model.predict(X_test), y_test), index=list(range(10)), columns=list(range(10)))\n",
    "sns.heatmap(df, annot=True, )"
   ]
  },
  {
   "cell_type": "markdown",
   "metadata": {
    "colab_type": "text",
    "id": "2GqKLlAPYgLL"
   },
   "source": [
    "### Retrain our model with unscaled data \n",
    " Just flatten the Mnist data"
   ]
  },
  {
   "cell_type": "code",
   "execution_count": 28,
   "metadata": {
    "colab": {},
    "colab_type": "code",
    "id": "xGL0BPllWYvN"
   },
   "outputs": [],
   "source": [
    "X_train_raw = X_train_full*255\n",
    "X_test_raw = X_test*255\n",
    "X_train, X_valid, y_train, y_valid = train_test_split(X_train_raw, y_train_full, test_size=0.2)"
   ]
  },
  {
   "cell_type": "code",
   "execution_count": null,
   "metadata": {
    "colab": {
     "base_uri": "https://localhost:8080/",
     "height": 1000,
     "referenced_widgets": [
      "8f316711240446e99c7361aaa3e5ce99",
      "a8533f1502794f14915b4fee3d96de98",
      "de926b5feb2242b5a03a00e87e0b0331",
      "6154069364334b9c95cddc578d030063",
      "98f1d21703714554afd71154a5ae28ff",
      "1a72677817da4784af7ec91f4056b447",
      "a970f4ed861243508ed6b92a98ae76db",
      "1482e871e8ce44969d1f4dee0279c4a0",
      "9973b98bafff4edfbb3eea00ba631ec7",
      "557ca5d136f54bf7bc0fa6b4e21b830c",
      "b63a0b3a24a84c4fae9b09fffd541845",
      "56d27f90f1264873aedd8fa0e9629dba",
      "e039391561af4be7a91d3d86b8ae2afe",
      "bda3465e9f574dbebeaba5fcd290b8d3",
      "c4db5bacd3314af5b1690a29506d7218",
      "09d499e2cdbd46fd97f70b41b9c8becd",
      "a91a2dbab9354c6c96db9646e3e02e9e",
      "1e0a8f9cc9884c28a9789b150d4d9e41",
      "173ee7c775664dc6aea1e04f06e04f43",
      "3237a6e8b2814a1e86fc293e1b118a8f",
      "ae07dacc3b5a4bff9071e7257399636f",
      "5e15cf89bc194ccdb4d68c0da32dd0d2",
      "f02ece90d5fb48ca89e45a9eec621f2a",
      "3a4ef663191d49e4a87b3aa43eef8db9",
      "2818b64a7c574a58817ab9c8a6257ba5",
      "7e976833e3364f9fa901a86c4f111cdf",
      "fc8df7befc554ef78dbe1d2bb7c2a053",
      "b289efb2f3064f68bbdc08d9d3af1190",
      "6cfe261cc8f64bb9b662cda612c177e5",
      "da3372932a494d9fb8fe8b85a4cc6591",
      "63114a0281924e058777ae62114a1200",
      "17c1026b4c4e425fb55ec38489e05841",
      "21aa6ba7a0ca42d3bf2a17fdba02c90a",
      "832316f9876841b2be85fe671d78c656",
      "95985cb2deac4469865521b5beea87d1",
      "1885f02280f14a2eab54dfe54b679f35",
      "9ed454f6e144491b89adadcf4da93a8b",
      "cb0d003ca7794952a44570a13668ffb8",
      "d46218445ed147da93b1c70bb518ce4c",
      "66c3ec59582e47c58ec291934de14684",
      "2a2c90f34497436e807dc10f64f72e43",
      "bb9fe33c0cc64a458a196000aa20656c",
      "377ab332d47e4ab5a4e709f9c8cbe261",
      "e6530967ccaf4dc9a7131819dbe3bcfb",
      "e957ff74cff34cad95f51214f840081a",
      "79c3483e3cb14cb8b80c5d2caf454b2c",
      "02046ad645b149e98fd6047c9bca2ebc",
      "acd3990f40324e8b9d6b332f2411cc33",
      "7220727b49af496ebcf6d607785c1ad1",
      "9c3ba596ce9c47febe7021e01d1aa032",
      "85c37126528a40c4bc3177c0a7da00a7",
      "5c65a37f768d4236a96850066d119100",
      "d87e527c6658447cb3cccda67d8adac1",
      "e6f30f4e673749628327c335be13eb26",
      "4b641ba75d0643cc8010859c6c0dc5ab",
      "0895db2039ca477b99af621b3e29819c",
      "1e6fb1d7c8e44a32883d03a8b3974420",
      "2940c360864349c799d7fbd6707ba3ec",
      "14efc6f502324824bef819c50f0215b8",
      "836444a93e994c02aba23a07a7c50353",
      "db3983d3aa8a4985b5a78ea283e08c76",
      "e2b9055a312948cb9a7b41f68527b9f1",
      "1324cd5c3094450c82f425a951d25557",
      "31f0d39a55e049f9a808632e018d0de9",
      "f370d4d29e22496395091f6323acd339",
      "747bff6471c842268f4a425d524c57ef",
      "b77b7a3161a84b7f9164fcc9b021a9d7",
      "3333476edd0f4c7794f3ffbd699d4e43",
      "6d08ef4e4ce04550bf122cc01249527f",
      "07a03f91915c47469f79678b991fb17f",
      "504d63c7b9f94c9587568ea68a7f2f89",
      "cda08c0a4b8047b59c00cbb54661dfa1",
      "0a6e74769611422abc6d54a8b1d01fb3",
      "f75580e604354c63afb28e9ca5f07891",
      "38b26c644ea24b4e9581ba97badd7008",
      "a09bdb65c7234ef8b42586a7b6e59c86",
      "e97d2a73d9fa4080a398ea9901fe13af",
      "316c8fa1d4554f2a9a14275a93ca6d46",
      "643858b7f2aa4169b335bd49d752ae88",
      "cadf369cf4604237b42293bdcb745f35",
      "c183be3ea3094941aef6f698e3a3bcff",
      "6eff121ef9b746868bb9aa7a2d3cea81",
      "daa328638db44eeb8f17187669b0a874",
      "025e754c2d1a4f259b10fd45ba0818b5",
      "9176dd389df044dfa042028cf574bb34",
      "6a77334096cd4d55b0445d159164e7ff",
      "3cd7f6de0d7d465991f217b553898ecd",
      "28319461be4c44a0b57666d2df83431c",
      "2dd56b7712b14b9796b6184b6e615f29",
      "1efd221097a34ab0ae28f0a1ff9f9db3",
      "53c17d9e76354d5588a059fd8190ec98",
      "23191fe0a00a4123866f169a9e24a1ee",
      "35b92a100c114be5a448022819cf37b4",
      "6f5c76c7173f4e4f9799e297bfb498c8",
      "1c5615eda4c847819f8a5885ff7b9cad",
      "53ba079ad5024bbeb93522999aaf6afc",
      "85638794a838424d836269d99b29aed6",
      "7dfcac6c1ded483e901578b83584f31c",
      "5b9b8c373ea142ab9990b1f40ca922c9",
      "c0338f68b3c14f14b0a5161916e18cdf",
      "61e1a8cd597141e697bd888d27d126fe",
      "961a4f3b32a24898accda7693ebdf5bf",
      "5b75ff51ecf24d8196b33ee75069cea1",
      "5992aa57b79149deb3518718cb1c76c2",
      "860b1a6cde8641b489ec61f7db6d60f9",
      "ff57a06dca8c4960be904d1c15d8e819",
      "ae3e832f5e71445f8d5e0544e5fdca54",
      "a4bfc3e8091d4cf3bf60c40ae4ea9b5a",
      "0e810dddd88b45c3a4740856a152917c",
      "714daf98cfb644d988b1c76fe00d12c8",
      "a36af6b335eb493189484469ee458b22",
      "1ef32610a791446b90c354e6861d9ba9",
      "270dfe9ec36a403baeb8a0c45b8f30c9",
      "f8d5204efeff476db603600254e089f8",
      "39ab0591bae24de4be8fb2962bed0201",
      "48c4b7d78734429b804c1e2b677a7d4d",
      "2c37776c504d403e9c67ed0197514a0b",
      "bd3fa0730bfa45788ea8aa55a944179e",
      "85256155df70411497ddb4b8d3101afe",
      "8dff65ceabbc485e827d3add81545c41",
      "d3ed4a4be5fd4a999dc41d245696112d",
      "6645eca2d4594427930d5d59c16d6ae0",
      "0adee1ed10234ba89320068ef8eaa62c",
      "a2613b6fef03455ebf90c155abaf4494",
      "95d5fab4b53e478db3c2df15bacf14ca",
      "db323d685f13459793dbfdc1b6d62177",
      "91c295babd0444d49508c80975e6cb53",
      "1379118d3d464c5a83f3309a8b9ad6f0",
      "5c83055e4eff4fc1b32819a4aaeee5a6",
      "a1de7120fb344093a4d9f943c82243fc",
      "a832200c277c4caabdf1304ceeeb0aeb",
      "f36d400d82164e69b800d8dd2114ebaa",
      "04a943b3fc90405da7548ee67d58ee61",
      "8952abd1c0644ef29249f8526dba4c9c",
      "8646692258004c80b3bbdc9f13917e36",
      "ee17cbcb35194d6da7f2d2de7c818efb",
      "e43fa748f2fd47debd849056e084ddce",
      "7ce8f6ae5a624afe8e08dc7e13e60d4a",
      "7e10467ac7194fad949ccc14bb702bd9",
      "8276e5de17974bea9c2253323ab87a3b",
      "4ab6af376cbb4bc583570447b07386e7",
      "eb758e36cd5f4fb58a1c08f113bd58e9",
      "182802faf06942c48b4ad4dba7f58503",
      "5bb988eeb4ca4a85b87de5014496bb08",
      "0d35846db48846cdbef20d36b17349ce",
      "61e372a9f82a4296b6f3b2d4c5d8fb4a",
      "7584d3e9d76e495db9cec1987f633887",
      "32505dd908b2471482200989c90be0e2",
      "96d0102e07954551b398bb58c7f27896",
      "aa22772de2f94a7d9e4133cb32e115df",
      "ee10d088f78b4ef184e343bb5fb60a0f",
      "c790714cac9745e5ab510cbad9c0136a",
      "eee086d410544af49ed708697e037f28",
      "4003dfa240a3467897913f3f31fd278e",
      "27f6ae56f62045119426c05351a967d3",
      "3173c5b7e5f2481abd53e049960ba852",
      "dcca479d20db4fcab15bce5923524e2d",
      "36b6879f24554629829e1882a65f1f7b",
      "2119020cca27458697ef3024879d6851",
      "42fe786c3a1247da9112b81575e1b5bc"
     ]
    },
    "colab_type": "code",
    "executionInfo": {
     "elapsed": 75527,
     "status": "ok",
     "timestamp": 1581495577641,
     "user": {
      "displayName": "Phan Hoang",
      "photoUrl": "",
      "userId": "17165038072317104940"
     },
     "user_tz": -420
    },
    "id": "nj1KwLmVWyNr",
    "outputId": "9d8864fa-4971-4036-b2b9-354823471983"
   },
   "outputs": [
    {
     "name": "stdout",
     "output_type": "stream",
     "text": [
      "TRAINING ON 48000 SAMPLES VALIDATE ON 12000 SAMPLES\n"
     ]
    },
    {
     "name": "stderr",
     "output_type": "stream",
     "text": [
      "Epoch 1/20 : 100%|██████████████████████████████████████████████████████████████████| 750/750 [00:00<00:00, 841.98it/s]\n"
     ]
    },
    {
     "name": "stdout",
     "output_type": "stream",
     "text": [
      "Train loss: 0.9751. Train accuracy: 0.6617\n",
      "Valid loss: 0.9795. Valid_accuracy: 0.6633\n"
     ]
    },
    {
     "name": "stderr",
     "output_type": "stream",
     "text": [
      "Epoch 2/20 : 100%|██████████████████████████████████████████████████████████████████| 750/750 [00:01<00:00, 714.47it/s]\n"
     ]
    },
    {
     "name": "stdout",
     "output_type": "stream",
     "text": [
      "Train loss: 1.0402. Train accuracy: 0.6449\n",
      "Valid loss: 1.0520. Valid_accuracy: 0.6358\n"
     ]
    },
    {
     "name": "stderr",
     "output_type": "stream",
     "text": [
      "Epoch 3/20 : 100%|██████████████████████████████████████████████████████████████████| 750/750 [00:01<00:00, 653.65it/s]\n"
     ]
    },
    {
     "name": "stdout",
     "output_type": "stream",
     "text": [
      "Train loss: 0.8177. Train accuracy: 0.7300\n",
      "Valid loss: 0.8384. Valid_accuracy: 0.7216\n"
     ]
    },
    {
     "name": "stderr",
     "output_type": "stream",
     "text": [
      "Epoch 4/20 : 100%|██████████████████████████████████████████████████████████████████| 750/750 [00:01<00:00, 582.34it/s]\n"
     ]
    },
    {
     "name": "stdout",
     "output_type": "stream",
     "text": [
      "Train loss: 0.8288. Train accuracy: 0.7224\n",
      "Valid loss: 0.8434. Valid_accuracy: 0.7156\n"
     ]
    },
    {
     "name": "stderr",
     "output_type": "stream",
     "text": [
      "Epoch 5/20 : 100%|██████████████████████████████████████████████████████████████████| 750/750 [00:01<00:00, 502.67it/s]\n"
     ]
    },
    {
     "name": "stdout",
     "output_type": "stream",
     "text": [
      "Train loss: 0.8132. Train accuracy: 0.7218\n",
      "Valid loss: 0.8195. Valid_accuracy: 0.7173\n"
     ]
    },
    {
     "name": "stderr",
     "output_type": "stream",
     "text": [
      "Epoch 6/20 : 100%|██████████████████████████████████████████████████████████████████| 750/750 [00:01<00:00, 475.65it/s]\n"
     ]
    },
    {
     "name": "stdout",
     "output_type": "stream",
     "text": [
      "Train loss: 0.8919. Train accuracy: 0.7005\n",
      "Valid loss: 0.9041. Valid_accuracy: 0.6912\n"
     ]
    },
    {
     "name": "stderr",
     "output_type": "stream",
     "text": [
      "Epoch 7/20 : 100%|██████████████████████████████████████████████████████████████████| 750/750 [00:01<00:00, 456.59it/s]\n"
     ]
    },
    {
     "name": "stdout",
     "output_type": "stream",
     "text": [
      "Train loss: 0.8976. Train accuracy: 0.6959\n",
      "Valid loss: 0.9189. Valid_accuracy: 0.6896\n"
     ]
    },
    {
     "name": "stderr",
     "output_type": "stream",
     "text": [
      "Epoch 8/20 : 100%|██████████████████████████████████████████████████████████████████| 750/750 [00:01<00:00, 439.85it/s]\n"
     ]
    },
    {
     "name": "stdout",
     "output_type": "stream",
     "text": [
      "Train loss: 0.8310. Train accuracy: 0.7295\n",
      "Valid loss: 0.8513. Valid_accuracy: 0.7185\n"
     ]
    },
    {
     "name": "stderr",
     "output_type": "stream",
     "text": [
      "Epoch 9/20 : 100%|██████████████████████████████████████████████████████████████████| 750/750 [00:01<00:00, 567.43it/s]\n"
     ]
    },
    {
     "name": "stdout",
     "output_type": "stream",
     "text": [
      "Train loss: 0.7802. Train accuracy: 0.7433\n",
      "Valid loss: 0.7894. Valid_accuracy: 0.7361\n"
     ]
    },
    {
     "name": "stderr",
     "output_type": "stream",
     "text": [
      "Epoch 10/20 : 100%|█████████████████████████████████████████████████████████████████| 750/750 [00:01<00:00, 642.55it/s]\n"
     ]
    },
    {
     "name": "stdout",
     "output_type": "stream",
     "text": [
      "Train loss: 0.8192. Train accuracy: 0.7293\n",
      "Valid loss: 0.8415. Valid_accuracy: 0.7188\n"
     ]
    },
    {
     "name": "stderr",
     "output_type": "stream",
     "text": [
      "Epoch 11/20 : 100%|█████████████████████████████████████████████████████████████████| 750/750 [00:01<00:00, 643.31it/s]\n"
     ]
    },
    {
     "name": "stdout",
     "output_type": "stream",
     "text": [
      "Train loss: 0.8505. Train accuracy: 0.7261\n",
      "Valid loss: 0.8686. Valid_accuracy: 0.7143\n"
     ]
    },
    {
     "name": "stderr",
     "output_type": "stream",
     "text": [
      "Epoch 12/20 : 100%|█████████████████████████████████████████████████████████████████| 750/750 [00:01<00:00, 448.44it/s]\n"
     ]
    },
    {
     "name": "stdout",
     "output_type": "stream",
     "text": [
      "Train loss: 1.0342. Train accuracy: 0.6380\n",
      "Valid loss: 1.0377. Valid_accuracy: 0.6381\n"
     ]
    },
    {
     "name": "stderr",
     "output_type": "stream",
     "text": [
      "Epoch 13/20 : 100%|█████████████████████████████████████████████████████████████████| 750/750 [00:01<00:00, 446.56it/s]\n"
     ]
    },
    {
     "name": "stdout",
     "output_type": "stream",
     "text": [
      "Train loss: 0.8371. Train accuracy: 0.7254\n",
      "Valid loss: 0.8371. Valid_accuracy: 0.7222\n"
     ]
    },
    {
     "name": "stderr",
     "output_type": "stream",
     "text": [
      "Epoch 14/20 : 100%|█████████████████████████████████████████████████████████████████| 750/750 [00:01<00:00, 637.18it/s]\n"
     ]
    },
    {
     "name": "stdout",
     "output_type": "stream",
     "text": [
      "Train loss: 0.8277. Train accuracy: 0.7212\n",
      "Valid loss: 0.8286. Valid_accuracy: 0.7163\n"
     ]
    },
    {
     "name": "stderr",
     "output_type": "stream",
     "text": [
      "Epoch 15/20 : 100%|█████████████████████████████████████████████████████████████████| 750/750 [00:01<00:00, 648.11it/s]\n"
     ]
    },
    {
     "name": "stdout",
     "output_type": "stream",
     "text": [
      "Train loss: 0.8279. Train accuracy: 0.7340\n",
      "Valid loss: 0.8160. Valid_accuracy: 0.7342\n"
     ]
    },
    {
     "name": "stderr",
     "output_type": "stream",
     "text": [
      "Epoch 16/20 : 100%|█████████████████████████████████████████████████████████████████| 750/750 [00:01<00:00, 529.26it/s]\n"
     ]
    },
    {
     "name": "stdout",
     "output_type": "stream",
     "text": [
      "Train loss: 0.9213. Train accuracy: 0.6872\n",
      "Valid loss: 0.9182. Valid_accuracy: 0.6891\n"
     ]
    },
    {
     "name": "stderr",
     "output_type": "stream",
     "text": [
      "Epoch 17/20 : 100%|█████████████████████████████████████████████████████████████████| 750/750 [00:01<00:00, 461.49it/s]\n"
     ]
    },
    {
     "name": "stdout",
     "output_type": "stream",
     "text": [
      "Train loss: 0.8393. Train accuracy: 0.7278\n",
      "Valid loss: 0.8576. Valid_accuracy: 0.7151\n"
     ]
    },
    {
     "name": "stderr",
     "output_type": "stream",
     "text": [
      "Epoch 18/20 : 100%|█████████████████████████████████████████████████████████████████| 750/750 [00:01<00:00, 639.58it/s]\n"
     ]
    },
    {
     "name": "stdout",
     "output_type": "stream",
     "text": [
      "Train loss: 0.8585. Train accuracy: 0.7062\n",
      "Valid loss: 0.8637. Valid_accuracy: 0.7080\n"
     ]
    },
    {
     "name": "stderr",
     "output_type": "stream",
     "text": [
      "Epoch 19/20 : 100%|█████████████████████████████████████████████████████████████████| 750/750 [00:01<00:00, 540.17it/s]\n"
     ]
    },
    {
     "name": "stdout",
     "output_type": "stream",
     "text": [
      "Train loss: 0.7670. Train accuracy: 0.7516\n",
      "Valid loss: 0.7819. Valid_accuracy: 0.7466\n"
     ]
    },
    {
     "name": "stderr",
     "output_type": "stream",
     "text": [
      "Epoch 20/20 : 100%|█████████████████████████████████████████████████████████████████| 750/750 [00:01<00:00, 625.33it/s]\n"
     ]
    }
   ],
   "source": [
    "model = simple_NN1(64)\n",
    "model.fit(X_train, y_train,X_valid, y_valid, 20, batch_size=64, learning_rate=0.2)"
   ]
  },
  {
   "cell_type": "code",
   "execution_count": null,
   "metadata": {
    "colab": {
     "base_uri": "https://localhost:8080/",
     "height": 67
    },
    "colab_type": "code",
    "executionInfo": {
     "elapsed": 74692,
     "status": "ok",
     "timestamp": 1581495577642,
     "user": {
      "displayName": "Phan Hoang",
      "photoUrl": "",
      "userId": "17165038072317104940"
     },
     "user_tz": -420
    },
    "id": "P4mRtYysXaP2",
    "outputId": "9fd9c659-4214-4195-9035-45f5c27eb5b0"
   },
   "outputs": [],
   "source": [
    "model.score(X_test_raw, y_test)"
   ]
  },
  {
   "cell_type": "markdown",
   "metadata": {
    "colab_type": "text",
    "id": "r2Oq3wJaYzVe"
   },
   "source": [
    "## The second neural network \n",
    "- Built under BaseEstimator in order to interact with scikit-learn model selection tools (Grid search)\n",
    "- Eliminate the tqdm for avoiding redundant logging messages\n"
   ]
  },
  {
   "cell_type": "code",
   "execution_count": 0,
   "metadata": {
    "colab": {},
    "colab_type": "code",
    "id": "-WP6fYDUK8eT"
   },
   "outputs": [],
   "source": [
    "\n",
    "class simple_NN2(BaseEstimator, ClassifierMixin):\n",
    "    def __init__(self, n_h=32, n_epochs=10, batch_size=32, lr=0.1, beta=0.9):\n",
    "        self.n_h = n_h\n",
    "        self.n_epochs = n_epochs\n",
    "        self.batch_size = batch_size                 \n",
    "        self.lr = lr\n",
    "        self.beta = beta\n",
    "\n",
    "    def _reshapeX(self, X_data):\n",
    "        X = X_data.T\n",
    "        return X\n",
    "\n",
    "    def _reshapeY(self, y_data):\n",
    "        y = np.zeros((y_data.size, y_data.max()+1))\n",
    "        y[np.arange(y_data.size), y_data] = 1\n",
    "        y = y.T\n",
    "        return y\n",
    "\n",
    "    def _initial_param(self,X_train, y_train):\n",
    "\n",
    "        n_x = X_train.shape[0]\n",
    "        n_class = y_train.shape[0]\n",
    "\n",
    "        self.W1 = np.random.randn(self.n_h, n_x) * np.sqrt(1 / n_x)\n",
    "        self.b1 = np.zeros((self.n_h, 1)) * np.sqrt(1 / n_x)\n",
    "        self.W2 = np.random.randn(n_class, self.n_h) * np.sqrt(1 / self.n_h)\n",
    "        self.b2 = np.zeros((n_class, 1))  * np.sqrt(1 / self.n_h)\n",
    "        \n",
    "    def _forward(self, X_data):\n",
    "        \n",
    "        Z1 = np.matmul(self.W1, X_data) + self.b1\n",
    "        A1 = sigmoid(Z1)\n",
    "        Z2 = np.matmul(self.W2, A1) + self.b2\n",
    "        A2 = np.exp(Z2) / np.sum(np.exp(Z2), axis=0)\n",
    "        return [Z1, A1, Z2, A2]\n",
    "    def _backward(self):\n",
    "        \n",
    "        dZ2 = self.A2 - self.y_train\n",
    "        dW2_ = (1/self.m) * np.matmul(dZ2, (self.A1).T)\n",
    "        db2_ = (1/self.m) * np.sum(dZ2, axis=1, keepdims=True)\n",
    "        dA1 = np.matmul((self.W2).T, dZ2)\n",
    "        dZ1 = dA1 * sigmoid(self.Z1) * (1 - sigmoid(self.Z1))\n",
    "        dW1_ = (1/self.m) * np.matmul(dZ1, (self.X_train).T)\n",
    "        db1_ = (1/self.m) * np.sum(dZ1, axis=1, keepdims=True)\n",
    "        \n",
    "        if self.batch > 0:\n",
    "            self.dW2 = (self.beta * self.dW2 + (1. - self.beta) * dW2_)\n",
    "            self.db2 = (self.beta * self.db2 + (1. - self.beta) * db2_)\n",
    "            self.dW1 = (self.beta * self.dW1 + (1. - self.beta) * dW1_)\n",
    "            self.db1 = (self.beta * self.db1 + (1. - self.beta) * db1_)\n",
    "        else:\n",
    "            self.dW2 = dW2_\n",
    "            self.db2 = db2_\n",
    "            self.dW1 = dW1_\n",
    "            self.db1 = db1_\n",
    "        \n",
    "        self.W2 = self.W2 - self.lr * self.dW2\n",
    "        self.b2 = self.b2 - self.lr * self.db2\n",
    "        self.W1 = self.W1 - self.lr * self.dW1\n",
    "        self.b1 = self.b1 - self.lr * self.db1\n",
    "    \n",
    "    \n",
    "    def fit(self, X_train, y_train, X_test=X_test, y_test=y_test):\n",
    "        X_train = self._reshapeX(X_train)\n",
    "        y_train = self._reshapeY(y_train)\n",
    "        X_test = self._reshapeX(X_test)\n",
    "        y_test = self._reshapeY(y_test)       \n",
    "        self._initial_param(X_train, y_train)\n",
    "        #print(f'Training on {X_train.shape[1]} samples test on {X_test.shape[1]} samples'.upper())\n",
    "        self.train_loss= []\n",
    "        self.train_acc = []\n",
    "        self.test_loss = []\n",
    "        self.test_acc = []\n",
    "\n",
    "        for epoch in range(self.n_epochs):\n",
    "            shuffle = np.random.permutation(X_train.shape[1])\n",
    "            X_shuffled = X_train[:, shuffle]\n",
    "            y_shuffled = y_train[:, shuffle]\n",
    "            n_batches = X_train.shape[1] // self.batch_size\n",
    "\n",
    "            for batch in range(n_batches):\n",
    "                begin = batch * self.batch_size\n",
    "                end = min(begin + self.batch_size, X_shuffled.shape[1] - 1)\n",
    "                self.X_train = X_shuffled[:, begin:end]\n",
    "                self.y_train = y_shuffled[:, begin:end]\n",
    "                self.m = (self.X_train).shape[1]\n",
    "\n",
    "                self.batch = batch\n",
    "                self.Z1, self.A1, self.Z2, self.A2 = self._forward(self.X_train)\n",
    "                self._backward()\n",
    "\n",
    "            train_ouput = self._forward(X_train)[-1]\n",
    "            train_predict = np.argmax(train_ouput, axis=0)\n",
    "            train_loss = cross_entropy(y_train, train_ouput)\n",
    "            train_acc = accuracy_score(train_predict, np.argmax(y_train, axis=0))\n",
    " \n",
    "            test_output = self._forward(X_test)[-1]\n",
    "            test_predict = np.argmax(test_output, axis=0)\n",
    "            test_loss = cross_entropy(y_test, test_output)           \n",
    "            test_acc = accuracy_score(test_predict, np.argmax(y_test, axis=0))\n",
    "\n",
    "            self.train_loss.append(train_loss)\n",
    "            self.train_acc.append(train_acc)\n",
    "            self.test_loss.append(test_loss)\n",
    "            self.test_acc.append(test_acc)\n",
    "        self.history()\n",
    "    \n",
    "    def history(self):\n",
    "        print(f'Train accuracy : {self.train_acc[-1]:.3f}. Test accuracy : {self.test_acc[-1]:.3f}')\n",
    "        fig, ax = plt.subplots(1,2, figsize=(22, 6))\n",
    "        plt.subplot(1,2,1)\n",
    "        plt.plot(self.train_loss, label='Train')\n",
    "        plt.plot(self.test_loss, label='Test')\n",
    "        plt.title('Loss on training and test sets')\n",
    "        plt.ylabel('Loss')\n",
    "        plt.xlabel('Epoch')\n",
    "        plt.legend(loc=\"upper right\")\n",
    "        plt.subplot(1,2,2)\n",
    "        plt.plot(self.train_acc, label='Test')\n",
    "        plt.plot(self.test_acc, label='Test')\n",
    "        plt.title('Accuracy on training and test sets')\n",
    "        plt.ylabel('Accuracy')\n",
    "        plt.xlabel('Epoch')\n",
    "        plt.legend(loc=\"upper left\") \n",
    "        plt.suptitle(f'Hidden state: {self.n_h}. Epochs: {self.n_epochs}. Learning rate: {self.lr}. Momentum: {self.beta}')               \n",
    "        plt.show()\n",
    "\n",
    "    def predict_proba(self, X_test):\n",
    "        X_test = self._reshapeX(X_test)\n",
    "        return self._forward(X_test)[-1]\n",
    "    \n",
    "    def predict(self, X_test):\n",
    "        proba = self.predict_proba(X_test)\n",
    "        predictions = np.argmax(proba, axis=0)\n",
    "        return predictions\n",
    "    \n",
    "    def score(self, X_test, y_test):\n",
    "        predictions = self.predict(X_test)\n",
    "        return accuracy_score(predictions, y_test)"
   ]
  },
  {
   "cell_type": "markdown",
   "metadata": {
    "colab_type": "text",
    "id": "KWNZEczpZMXU"
   },
   "source": [
    "### Experiment with different hyperparameters"
   ]
  },
  {
   "cell_type": "code",
   "execution_count": 0,
   "metadata": {
    "colab": {},
    "colab_type": "code",
    "id": "a8gTx18TMFAw"
   },
   "outputs": [],
   "source": [
    "params_grid = {'n_h':[20, 50, 100],\n",
    "               'n_epochs':[20, 50, 100],\n",
    "               'lr':[0.1, 0.001],\n",
    "               'beta': [0.9, 0.8, 0.1, 0.0]}"
   ]
  },
  {
   "cell_type": "code",
   "execution_count": 0,
   "metadata": {
    "colab": {
     "base_uri": "https://localhost:8080/",
     "height": 1000,
     "output_embedded_package_id": "1-zrdWBX1NvU-SXX9qotj3YZ6atDLnmlh"
    },
    "colab_type": "code",
    "executionInfo": {
     "elapsed": 8839410,
     "status": "ok",
     "timestamp": 1581337548014,
     "user": {
      "displayName": "Phan Hoang",
      "photoUrl": "",
      "userId": "17165038072317104940"
     },
     "user_tz": -420
    },
    "id": "JnioZk21O4Ca",
    "outputId": "f803ec23-639d-44b5-c2fb-19085fe0b5ad"
   },
   "outputs": [
    {
     "data": {
      "text/plain": [
       "Output hidden; open in https://colab.research.google.com to view."
      ]
     },
     "metadata": {},
     "output_type": "display_data"
    }
   ],
   "source": [
    "for params in ParameterGrid(params_grid):\n",
    "    model = simple_NN2(**params)\n",
    "    model.fit(X_train_full, y_train_full)"
   ]
  },
  {
   "cell_type": "markdown",
   "metadata": {
    "colab_type": "text",
    "id": "hrLvdbEeZY7M"
   },
   "source": [
    "### 5-fold cross validation\n",
    "- Only use the training set instead of including test set during traing phase\n",
    "- Our class is derived from BaseEstimator so we can use Gridsearch CV for optimal hyperparameters combination"
   ]
  },
  {
   "cell_type": "code",
   "execution_count": 0,
   "metadata": {
    "colab": {},
    "colab_type": "code",
    "id": "cwpjD4o_ORH_"
   },
   "outputs": [],
   "source": [
    "gs = GridSearchCV(simple_NN2(), param_grid = params_grid, cv = 5, verbose=False)\n",
    "gs.fit(X_train_full, y_train_full)"
   ]
  },
  {
   "cell_type": "code",
   "execution_count": 0,
   "metadata": {
    "colab": {
     "base_uri": "https://localhost:8080/",
     "height": 467
    },
    "colab_type": "code",
    "executionInfo": {
     "elapsed": 1727,
     "status": "ok",
     "timestamp": 1581321023296,
     "user": {
      "displayName": "Phan Hoang",
      "photoUrl": "",
      "userId": "17165038072317104940"
     },
     "user_tz": -420
    },
    "id": "7ZtQBD2y_4XT",
    "outputId": "4ca31e93-f096-498b-c7b9-8fc85246e163"
   },
   "outputs": [
    {
     "data": {
      "text/html": [
       "<div>\n",
       "<style scoped>\n",
       "    .dataframe tbody tr th:only-of-type {\n",
       "        vertical-align: middle;\n",
       "    }\n",
       "\n",
       "    .dataframe tbody tr th {\n",
       "        vertical-align: top;\n",
       "    }\n",
       "\n",
       "    .dataframe thead th {\n",
       "        text-align: right;\n",
       "    }\n",
       "</style>\n",
       "<table border=\"1\" class=\"dataframe\">\n",
       "  <thead>\n",
       "    <tr style=\"text-align: right;\">\n",
       "      <th></th>\n",
       "      <th>mean_fit_time</th>\n",
       "      <th>std_fit_time</th>\n",
       "      <th>mean_score_time</th>\n",
       "      <th>std_score_time</th>\n",
       "      <th>param_beta</th>\n",
       "      <th>param_lr</th>\n",
       "      <th>param_n_epochs</th>\n",
       "      <th>param_n_h</th>\n",
       "      <th>params</th>\n",
       "      <th>split0_test_score</th>\n",
       "      <th>split1_test_score</th>\n",
       "      <th>split2_test_score</th>\n",
       "      <th>split3_test_score</th>\n",
       "      <th>split4_test_score</th>\n",
       "      <th>mean_test_score</th>\n",
       "      <th>std_test_score</th>\n",
       "      <th>rank_test_score</th>\n",
       "    </tr>\n",
       "  </thead>\n",
       "  <tbody>\n",
       "    <tr>\n",
       "      <th>0</th>\n",
       "      <td>1.105997</td>\n",
       "      <td>0.014760</td>\n",
       "      <td>0.045266</td>\n",
       "      <td>0.002864</td>\n",
       "      <td>0.9</td>\n",
       "      <td>0.1</td>\n",
       "      <td>1</td>\n",
       "      <td>20</td>\n",
       "      <td>{'beta': 0.9, 'lr': 0.1, 'n_epochs': 1, 'n_h':...</td>\n",
       "      <td>0.898000</td>\n",
       "      <td>0.890167</td>\n",
       "      <td>0.889250</td>\n",
       "      <td>0.885667</td>\n",
       "      <td>0.903583</td>\n",
       "      <td>0.893333</td>\n",
       "      <td>0.006516</td>\n",
       "      <td>8</td>\n",
       "    </tr>\n",
       "    <tr>\n",
       "      <th>1</th>\n",
       "      <td>1.964419</td>\n",
       "      <td>0.017744</td>\n",
       "      <td>0.076923</td>\n",
       "      <td>0.002176</td>\n",
       "      <td>0.9</td>\n",
       "      <td>0.1</td>\n",
       "      <td>1</td>\n",
       "      <td>50</td>\n",
       "      <td>{'beta': 0.9, 'lr': 0.1, 'n_epochs': 1, 'n_h':...</td>\n",
       "      <td>0.905917</td>\n",
       "      <td>0.895417</td>\n",
       "      <td>0.890500</td>\n",
       "      <td>0.893167</td>\n",
       "      <td>0.907083</td>\n",
       "      <td>0.898417</td>\n",
       "      <td>0.006791</td>\n",
       "      <td>6</td>\n",
       "    </tr>\n",
       "    <tr>\n",
       "      <th>2</th>\n",
       "      <td>2.113053</td>\n",
       "      <td>0.028678</td>\n",
       "      <td>0.044958</td>\n",
       "      <td>0.003327</td>\n",
       "      <td>0.9</td>\n",
       "      <td>0.1</td>\n",
       "      <td>2</td>\n",
       "      <td>20</td>\n",
       "      <td>{'beta': 0.9, 'lr': 0.1, 'n_epochs': 2, 'n_h':...</td>\n",
       "      <td>0.919000</td>\n",
       "      <td>0.909750</td>\n",
       "      <td>0.909750</td>\n",
       "      <td>0.903583</td>\n",
       "      <td>0.918750</td>\n",
       "      <td>0.912167</td>\n",
       "      <td>0.005923</td>\n",
       "      <td>4</td>\n",
       "    </tr>\n",
       "    <tr>\n",
       "      <th>3</th>\n",
       "      <td>3.923450</td>\n",
       "      <td>0.091965</td>\n",
       "      <td>0.075253</td>\n",
       "      <td>0.004914</td>\n",
       "      <td>0.9</td>\n",
       "      <td>0.1</td>\n",
       "      <td>2</td>\n",
       "      <td>50</td>\n",
       "      <td>{'beta': 0.9, 'lr': 0.1, 'n_epochs': 2, 'n_h':...</td>\n",
       "      <td>0.919000</td>\n",
       "      <td>0.913667</td>\n",
       "      <td>0.910667</td>\n",
       "      <td>0.909417</td>\n",
       "      <td>0.920083</td>\n",
       "      <td>0.914567</td>\n",
       "      <td>0.004304</td>\n",
       "      <td>2</td>\n",
       "    </tr>\n",
       "    <tr>\n",
       "      <th>4</th>\n",
       "      <td>1.106571</td>\n",
       "      <td>0.061073</td>\n",
       "      <td>0.045755</td>\n",
       "      <td>0.002766</td>\n",
       "      <td>0.9</td>\n",
       "      <td>0.01</td>\n",
       "      <td>1</td>\n",
       "      <td>20</td>\n",
       "      <td>{'beta': 0.9, 'lr': 0.01, 'n_epochs': 1, 'n_h'...</td>\n",
       "      <td>0.721917</td>\n",
       "      <td>0.682500</td>\n",
       "      <td>0.666667</td>\n",
       "      <td>0.697500</td>\n",
       "      <td>0.722667</td>\n",
       "      <td>0.698250</td>\n",
       "      <td>0.021920</td>\n",
       "      <td>16</td>\n",
       "    </tr>\n",
       "  </tbody>\n",
       "</table>\n",
       "</div>"
      ],
      "text/plain": [
       "   mean_fit_time  std_fit_time  ...  std_test_score  rank_test_score\n",
       "0       1.105997      0.014760  ...        0.006516                8\n",
       "1       1.964419      0.017744  ...        0.006791                6\n",
       "2       2.113053      0.028678  ...        0.005923                4\n",
       "3       3.923450      0.091965  ...        0.004304                2\n",
       "4       1.106571      0.061073  ...        0.021920               16\n",
       "\n",
       "[5 rows x 17 columns]"
      ]
     },
     "execution_count": 33,
     "metadata": {
      "tags": []
     },
     "output_type": "execute_result"
    }
   ],
   "source": [
    "result = pd.DataFrame(gs.cv_results_)\n",
    "result.head()"
   ]
  }
 ],
 "metadata": {
  "accelerator": "GPU",
  "colab": {
   "authorship_tag": "ABX9TyPEHji1RsWLTaK7ULj8INzS",
   "collapsed_sections": [],
   "name": "NN_implement.ipynb",
   "provenance": [],
   "toc_visible": true
  },
  "kernelspec": {
   "display_name": "Python 3",
   "language": "python",
   "name": "python3"
  },
  "language_info": {
   "codemirror_mode": {
    "name": "ipython",
    "version": 3
   },
   "file_extension": ".py",
   "mimetype": "text/x-python",
   "name": "python",
   "nbconvert_exporter": "python",
   "pygments_lexer": "ipython3",
   "version": "3.7.3"
  },
  "widgets": {
   "application/vnd.jupyter.widget-state+json": {
    "state": {
     "00546d2c2d6841fd99a885d1b8ad8ff4": {
      "model_module": "@jupyter-widgets/controls",
      "model_module_version": "1.5.0",
      "model_name": "ProgressStyleModel",
      "state": {
       "description_width": "initial"
      }
     },
     "00bdbd2ee9334532b9419f8df306c165": {
      "model_module": "@jupyter-widgets/controls",
      "model_module_version": "1.5.0",
      "model_name": "HTMLModel",
      "state": {
       "layout": "IPY_MODEL_bc7d6dbee70c4ab886b614494181f055",
       "style": "IPY_MODEL_4407d366de534fe588f0bdc6b512fb8c",
       "value": "100% 750/750 [00:01&lt;00:00, 700.31it/s]"
      }
     },
     "015bc4f9b6e741cfa5b9afc2df176759": {
      "model_module": "@jupyter-widgets/controls",
      "model_module_version": "1.5.0",
      "model_name": "HTMLModel",
      "state": {
       "layout": "IPY_MODEL_4f2df63d1ed54c66ac7ebead4b38ad40",
       "style": "IPY_MODEL_b69536cc52314d03a5d0b81f06ccb2a3",
       "value": "100% 750/750 [00:00&lt;00:00, 1294.32it/s]"
      }
     },
     "01c797ef911842d282a773d89e643a71": {
      "model_module": "@jupyter-widgets/controls",
      "model_module_version": "1.5.0",
      "model_name": "HTMLModel",
      "state": {
       "layout": "IPY_MODEL_b0e23705f94d49c48a9bca557e76053a",
       "style": "IPY_MODEL_0788e9e162c84e44a99811c84c8702b0",
       "value": "100% 750/750 [00:00&lt;00:00, 1443.38it/s]"
      }
     },
     "01fed8f5c6dc421cbb302959a2c840b9": {
      "model_module": "@jupyter-widgets/controls",
      "model_module_version": "1.5.0",
      "model_name": "ProgressStyleModel",
      "state": {
       "description_width": "initial"
      }
     },
     "020b437511464cbd985cc3f2195f2b50": {
      "model_module": "@jupyter-widgets/controls",
      "model_module_version": "1.5.0",
      "model_name": "HTMLModel",
      "state": {
       "layout": "IPY_MODEL_721161a9175e4e129683093494fabf6e",
       "style": "IPY_MODEL_54cccbad7f544b22aa51d4c42864866a",
       "value": "100% 750/750 [00:00&lt;00:00, 1182.44it/s]"
      }
     },
     "031d74579bca4e5b8866e166ffcfe766": {
      "model_module": "@jupyter-widgets/controls",
      "model_module_version": "1.5.0",
      "model_name": "DescriptionStyleModel",
      "state": {
       "description_width": ""
      }
     },
     "0402c3e96ef342c19d24bc6705221c4b": {
      "model_module": "@jupyter-widgets/controls",
      "model_module_version": "1.5.0",
      "model_name": "DescriptionStyleModel",
      "state": {
       "description_width": ""
      }
     },
     "042ec4bb915a40868bb15c465bea20a0": {
      "model_module": "@jupyter-widgets/controls",
      "model_module_version": "1.5.0",
      "model_name": "HBoxModel",
      "state": {
       "children": [
        "IPY_MODEL_1d546ea0432d4955aa12ab250bbff056",
        "IPY_MODEL_7b439ce37d3142148e8deef355a7ce6b"
       ],
       "layout": "IPY_MODEL_86d64f66cb50460d84fb753a22b76e31"
      }
     },
     "0439b5f64fe643f29604f1f2c2a98b76": {
      "model_module": "@jupyter-widgets/controls",
      "model_module_version": "1.5.0",
      "model_name": "HTMLModel",
      "state": {
       "layout": "IPY_MODEL_81e0e0742fbb4c6c8f3e99655c9ac97a",
       "style": "IPY_MODEL_5669d79906474482a776dfbd01919b52",
       "value": "100% 750/750 [00:01&lt;00:00, 605.63it/s]"
      }
     },
     "04bcb0ac85d246049d00e6a95a007b60": {
      "model_module": "@jupyter-widgets/controls",
      "model_module_version": "1.5.0",
      "model_name": "IntProgressModel",
      "state": {
       "bar_style": "success",
       "description": "Epoch 1/20 : ",
       "layout": "IPY_MODEL_e677ab50df644ee9b6a5e33a2e6bd190",
       "max": 750,
       "style": "IPY_MODEL_5c6edd8e56fe46a190d131202cc3d2d6",
       "value": 750
      }
     },
     "055179748e9b47fab2855b4ff6be9cb6": {
      "model_module": "@jupyter-widgets/controls",
      "model_module_version": "1.5.0",
      "model_name": "ProgressStyleModel",
      "state": {
       "description_width": "initial"
      }
     },
     "0580050db22447b7b04364243ebb0f0d": {
      "model_module": "@jupyter-widgets/controls",
      "model_module_version": "1.5.0",
      "model_name": "IntProgressModel",
      "state": {
       "bar_style": "success",
       "description": "Epoch 17/20 : ",
       "layout": "IPY_MODEL_2b04c8c82eee46f48e2ee4d9178ee890",
       "max": 750,
       "style": "IPY_MODEL_2a363880955847ce812ed09997bdcb7f",
       "value": 750
      }
     },
     "05afdbc24a694bfcbb3a8c12c8f65202": {
      "model_module": "@jupyter-widgets/base",
      "model_module_version": "1.2.0",
      "model_name": "LayoutModel",
      "state": {}
     },
     "05e920377f8d418099e663f55f85f4b2": {
      "model_module": "@jupyter-widgets/base",
      "model_module_version": "1.2.0",
      "model_name": "LayoutModel",
      "state": {}
     },
     "068d0aed3d714067a0d4bc709ee9029e": {
      "model_module": "@jupyter-widgets/controls",
      "model_module_version": "1.5.0",
      "model_name": "ProgressStyleModel",
      "state": {
       "description_width": "initial"
      }
     },
     "06a69bb81d174b5eab0fae25445867ad": {
      "model_module": "@jupyter-widgets/controls",
      "model_module_version": "1.5.0",
      "model_name": "DescriptionStyleModel",
      "state": {
       "description_width": ""
      }
     },
     "06b1bee57b384d2d96195a9d70e31e0d": {
      "model_module": "@jupyter-widgets/base",
      "model_module_version": "1.2.0",
      "model_name": "LayoutModel",
      "state": {}
     },
     "075e22609ed0404fbb6db2df093aaa2b": {
      "model_module": "@jupyter-widgets/base",
      "model_module_version": "1.2.0",
      "model_name": "LayoutModel",
      "state": {}
     },
     "0770c58840eb4d4ba4a790c16828f3be": {
      "model_module": "@jupyter-widgets/controls",
      "model_module_version": "1.5.0",
      "model_name": "ProgressStyleModel",
      "state": {
       "description_width": "initial"
      }
     },
     "0788e9e162c84e44a99811c84c8702b0": {
      "model_module": "@jupyter-widgets/controls",
      "model_module_version": "1.5.0",
      "model_name": "DescriptionStyleModel",
      "state": {
       "description_width": ""
      }
     },
     "079b8d5adb31464ca1faac851c5e0396": {
      "model_module": "@jupyter-widgets/controls",
      "model_module_version": "1.5.0",
      "model_name": "HBoxModel",
      "state": {
       "children": [
        "IPY_MODEL_82b854edfb194d80aaad503884a6675b",
        "IPY_MODEL_f853689829aa4753830f8333c6ccfb5b"
       ],
       "layout": "IPY_MODEL_74c5168f2edb42a9b520dd9f54c790d1"
      }
     },
     "08caabd9dd674db08d095f89230dd156": {
      "model_module": "@jupyter-widgets/controls",
      "model_module_version": "1.5.0",
      "model_name": "IntProgressModel",
      "state": {
       "bar_style": "success",
       "description": "Epoch 13/20 : ",
       "layout": "IPY_MODEL_572759117bb44989ba8ce6ad24f2553f",
       "max": 750,
       "style": "IPY_MODEL_6915b33fb6554856b434e06d4fe72b68",
       "value": 750
      }
     },
     "08f3e920a60d4c3682509789bf1bb6e6": {
      "model_module": "@jupyter-widgets/base",
      "model_module_version": "1.2.0",
      "model_name": "LayoutModel",
      "state": {}
     },
     "093d706209004e6e881e1a498393dfce": {
      "model_module": "@jupyter-widgets/controls",
      "model_module_version": "1.5.0",
      "model_name": "IntProgressModel",
      "state": {
       "bar_style": "success",
       "description": "Epoch 2/20 : ",
       "layout": "IPY_MODEL_ba638e85a5944c1b8f8c631c44c18a94",
       "max": 750,
       "style": "IPY_MODEL_36db50382802496a83b99fbaaf5add8a",
       "value": 750
      }
     },
     "0945119cda94456cbe275e565eaac0a8": {
      "model_module": "@jupyter-widgets/controls",
      "model_module_version": "1.5.0",
      "model_name": "HTMLModel",
      "state": {
       "layout": "IPY_MODEL_1274e3b6541447b4951d5392e7c6eb93",
       "style": "IPY_MODEL_a62cabcc7ff1405898f72d4572741e74",
       "value": "100% 750/750 [00:01&lt;00:00, 690.85it/s]"
      }
     },
     "09828d87864e4f6186c03bdcdf31fb9b": {
      "model_module": "@jupyter-widgets/controls",
      "model_module_version": "1.5.0",
      "model_name": "HBoxModel",
      "state": {
       "children": [
        "IPY_MODEL_7c85296b1dfd45f1800e6eb76477e62c",
        "IPY_MODEL_9188fc446e5e4acfbf926eb4c5620195"
       ],
       "layout": "IPY_MODEL_7fddac7db0b74a27a5a2c7adbddd13f7"
      }
     },
     "0987db99b6cc462fba0e98a3d76b7686": {
      "model_module": "@jupyter-widgets/controls",
      "model_module_version": "1.5.0",
      "model_name": "ProgressStyleModel",
      "state": {
       "description_width": "initial"
      }
     },
     "0a135b8d56ed43f2aa4cff3165711035": {
      "model_module": "@jupyter-widgets/controls",
      "model_module_version": "1.5.0",
      "model_name": "ProgressStyleModel",
      "state": {
       "description_width": "initial"
      }
     },
     "0a206ac4e31f4cc48976fbff69fb63dc": {
      "model_module": "@jupyter-widgets/controls",
      "model_module_version": "1.5.0",
      "model_name": "IntProgressModel",
      "state": {
       "bar_style": "success",
       "description": "Epoch 12/20 : ",
       "layout": "IPY_MODEL_b7c0b52d7af348aa81b9e022a31f7007",
       "max": 750,
       "style": "IPY_MODEL_f03e882cd79647f2b260e48b0354740d",
       "value": 750
      }
     },
     "0a2c44d70e2841b79ed66135c4fe4e10": {
      "model_module": "@jupyter-widgets/controls",
      "model_module_version": "1.5.0",
      "model_name": "IntProgressModel",
      "state": {
       "bar_style": "success",
       "description": "Epoch 4/20 : ",
       "layout": "IPY_MODEL_26afe42c36344174a695ebf8cbb3b63a",
       "max": 750,
       "style": "IPY_MODEL_01fed8f5c6dc421cbb302959a2c840b9",
       "value": 750
      }
     },
     "0a8b881cfafe4d4a874302bc1b7e31c1": {
      "model_module": "@jupyter-widgets/base",
      "model_module_version": "1.2.0",
      "model_name": "LayoutModel",
      "state": {}
     },
     "0acb8fbc64c643268e1c6bf07c1807f0": {
      "model_module": "@jupyter-widgets/base",
      "model_module_version": "1.2.0",
      "model_name": "LayoutModel",
      "state": {}
     },
     "0b2285d2a8ae484aaa68ee5507cbf632": {
      "model_module": "@jupyter-widgets/controls",
      "model_module_version": "1.5.0",
      "model_name": "HTMLModel",
      "state": {
       "layout": "IPY_MODEL_8c61765b375a44c6aa4996bf4a0a19c0",
       "style": "IPY_MODEL_8be4ad0920c943daaaeb13fed917a032",
       "value": "100% 750/750 [00:01&lt;00:00, 581.58it/s]"
      }
     },
     "0b2b11103cbf43e9ad8c3ccfec651b0a": {
      "model_module": "@jupyter-widgets/controls",
      "model_module_version": "1.5.0",
      "model_name": "IntProgressModel",
      "state": {
       "bar_style": "success",
       "description": "Epoch 1/20 : ",
       "layout": "IPY_MODEL_462980923ff84744bc41b8f279a5706a",
       "max": 750,
       "style": "IPY_MODEL_1f6fe6ed98bf4f68bac4bef925132dc6",
       "value": 750
      }
     },
     "0bcc61f8358b4fd1b19528710ca8f465": {
      "model_module": "@jupyter-widgets/controls",
      "model_module_version": "1.5.0",
      "model_name": "HTMLModel",
      "state": {
       "layout": "IPY_MODEL_7d83f28d6e084860b30cc29bf560062f",
       "style": "IPY_MODEL_0df96ae4603140c4acf478db805e10b8",
       "value": "100% 750/750 [00:01&lt;00:00, 661.28it/s]"
      }
     },
     "0be389d59e2547b7b36670c424ddefc2": {
      "model_module": "@jupyter-widgets/base",
      "model_module_version": "1.2.0",
      "model_name": "LayoutModel",
      "state": {}
     },
     "0cf234233d494af692d409efa2b6ae92": {
      "model_module": "@jupyter-widgets/controls",
      "model_module_version": "1.5.0",
      "model_name": "IntProgressModel",
      "state": {
       "bar_style": "success",
       "description": "Epoch 14/20 : ",
       "layout": "IPY_MODEL_ad48ed63551a4d05aaa912c729b8ed17",
       "max": 750,
       "style": "IPY_MODEL_e428d43c1fb140ae80467c1f8e377e97",
       "value": 750
      }
     },
     "0d6dc7caae46422db1f80cf72cad998f": {
      "model_module": "@jupyter-widgets/controls",
      "model_module_version": "1.5.0",
      "model_name": "IntProgressModel",
      "state": {
       "bar_style": "success",
       "description": "Epoch 7/20 : ",
       "layout": "IPY_MODEL_f0d54de7c8c14fd298a04fb184337e34",
       "max": 750,
       "style": "IPY_MODEL_ecc5eed526f240448f4b9158b6345134",
       "value": 750
      }
     },
     "0daecff811dc4dc8967b58e455c3d8d6": {
      "model_module": "@jupyter-widgets/controls",
      "model_module_version": "1.5.0",
      "model_name": "HBoxModel",
      "state": {
       "children": [
        "IPY_MODEL_34fccf1d1be0401aa7ded6683fbf203a",
        "IPY_MODEL_93808ff226bb4137a0f72ae817824dc8"
       ],
       "layout": "IPY_MODEL_a5f2c0dff06d4eb3aab4c38b62295212"
      }
     },
     "0df96ae4603140c4acf478db805e10b8": {
      "model_module": "@jupyter-widgets/controls",
      "model_module_version": "1.5.0",
      "model_name": "DescriptionStyleModel",
      "state": {
       "description_width": ""
      }
     },
     "0e156984c73845aa8ac00f150cf40627": {
      "model_module": "@jupyter-widgets/base",
      "model_module_version": "1.2.0",
      "model_name": "LayoutModel",
      "state": {}
     },
     "0e4899bdc8364ba5acad2f0a07ad411b": {
      "model_module": "@jupyter-widgets/controls",
      "model_module_version": "1.5.0",
      "model_name": "DescriptionStyleModel",
      "state": {
       "description_width": ""
      }
     },
     "0e7e2efff1eb4d1385fbc6f3654b5f9b": {
      "model_module": "@jupyter-widgets/controls",
      "model_module_version": "1.5.0",
      "model_name": "IntProgressModel",
      "state": {
       "bar_style": "success",
       "description": "Epoch 15/20 : ",
       "layout": "IPY_MODEL_aedaf8390a314703a311df164b44a6cf",
       "max": 750,
       "style": "IPY_MODEL_5f86c80111ef40d1b4d14aa5f4b80f81",
       "value": 750
      }
     },
     "0e9a580c101e43e49f47d644f6c9b0a4": {
      "model_module": "@jupyter-widgets/base",
      "model_module_version": "1.2.0",
      "model_name": "LayoutModel",
      "state": {}
     },
     "0ea53f5cb45f4132922418a484ffe82e": {
      "model_module": "@jupyter-widgets/controls",
      "model_module_version": "1.5.0",
      "model_name": "HBoxModel",
      "state": {
       "children": [
        "IPY_MODEL_821013bcef5a44f7915450c21c6642d5",
        "IPY_MODEL_bc2a0f95c3a4477880b4b99dcb07c1e7"
       ],
       "layout": "IPY_MODEL_40598135198f474ca69fb1edbd939a99"
      }
     },
     "0eb943c0f1814d8b848cd544eb388fe1": {
      "model_module": "@jupyter-widgets/base",
      "model_module_version": "1.2.0",
      "model_name": "LayoutModel",
      "state": {}
     },
     "0ef2d5c349154ae4a96f71b5bc9df28d": {
      "model_module": "@jupyter-widgets/controls",
      "model_module_version": "1.5.0",
      "model_name": "IntProgressModel",
      "state": {
       "bar_style": "success",
       "description": "Epoch 4/20 : ",
       "layout": "IPY_MODEL_916fa43f81a042b983e7365f334ea2cd",
       "max": 750,
       "style": "IPY_MODEL_055179748e9b47fab2855b4ff6be9cb6",
       "value": 750
      }
     },
     "0f1dc16d95b041d9a20bac6ccbf13877": {
      "model_module": "@jupyter-widgets/controls",
      "model_module_version": "1.5.0",
      "model_name": "IntProgressModel",
      "state": {
       "bar_style": "success",
       "description": "Epoch 20/20 : ",
       "layout": "IPY_MODEL_83ff0b74a7884c6db7902ecf9dde30d5",
       "max": 750,
       "style": "IPY_MODEL_b48e89347cb04a8aa7b81d7f5b7308e6",
       "value": 750
      }
     },
     "0f803438c02b4bfa993fb410af9040aa": {
      "model_module": "@jupyter-widgets/base",
      "model_module_version": "1.2.0",
      "model_name": "LayoutModel",
      "state": {}
     },
     "0fdb04d5626b41979c4aabed25b84860": {
      "model_module": "@jupyter-widgets/controls",
      "model_module_version": "1.5.0",
      "model_name": "IntProgressModel",
      "state": {
       "bar_style": "success",
       "description": "Epoch 9/20 : ",
       "layout": "IPY_MODEL_95bda747790d400d93bd3d2c6d206659",
       "max": 750,
       "style": "IPY_MODEL_6f4c554c2fcb434d85aee47ba437ae55",
       "value": 750
      }
     },
     "0fe35bfb6b5045b58e7fabc733f3caac": {
      "model_module": "@jupyter-widgets/controls",
      "model_module_version": "1.5.0",
      "model_name": "DescriptionStyleModel",
      "state": {
       "description_width": ""
      }
     },
     "0fe4757cf8254b889ae6e2672b2f3824": {
      "model_module": "@jupyter-widgets/controls",
      "model_module_version": "1.5.0",
      "model_name": "HBoxModel",
      "state": {
       "children": [
        "IPY_MODEL_f52ceb4745d94c8c936d26fb957198ab",
        "IPY_MODEL_e072307c79304225b4b218ceb6198a41"
       ],
       "layout": "IPY_MODEL_62dd90ae02f0473e99adfd2092616545"
      }
     },
     "105e4a29b0804eeb9fb934ebd073e248": {
      "model_module": "@jupyter-widgets/controls",
      "model_module_version": "1.5.0",
      "model_name": "IntProgressModel",
      "state": {
       "bar_style": "success",
       "description": "Epoch 11/20 : ",
       "layout": "IPY_MODEL_6a28765cd37b4194a6ad98f129707995",
       "max": 750,
       "style": "IPY_MODEL_d35c2bbd9cff4fdd81ba78a271dbc033",
       "value": 750
      }
     },
     "11320181ee644ad392cca304afa33cac": {
      "model_module": "@jupyter-widgets/controls",
      "model_module_version": "1.5.0",
      "model_name": "IntProgressModel",
      "state": {
       "bar_style": "success",
       "description": "Epoch 9/20 : ",
       "layout": "IPY_MODEL_08f3e920a60d4c3682509789bf1bb6e6",
       "max": 750,
       "style": "IPY_MODEL_c08a7991894f4495ae266cd25f6bce2c",
       "value": 750
      }
     },
     "11a64dbdda81496d84ecbd1966133dce": {
      "model_module": "@jupyter-widgets/controls",
      "model_module_version": "1.5.0",
      "model_name": "DescriptionStyleModel",
      "state": {
       "description_width": ""
      }
     },
     "1274e3b6541447b4951d5392e7c6eb93": {
      "model_module": "@jupyter-widgets/base",
      "model_module_version": "1.2.0",
      "model_name": "LayoutModel",
      "state": {}
     },
     "12a374ce62b24b9c8d43faea144722f3": {
      "model_module": "@jupyter-widgets/base",
      "model_module_version": "1.2.0",
      "model_name": "LayoutModel",
      "state": {}
     },
     "13a5fe0db1f0428a95f80983e908a012": {
      "model_module": "@jupyter-widgets/controls",
      "model_module_version": "1.5.0",
      "model_name": "HBoxModel",
      "state": {
       "children": [
        "IPY_MODEL_b768bb5618b84f9ba780606b2f3b6c6f",
        "IPY_MODEL_3272fec3d03343bfae65eb65f3b5f2d7"
       ],
       "layout": "IPY_MODEL_f2aab0104e8748698863ab474ce95767"
      }
     },
     "13b01f74b4144c4c8125aee730779373": {
      "model_module": "@jupyter-widgets/controls",
      "model_module_version": "1.5.0",
      "model_name": "DescriptionStyleModel",
      "state": {
       "description_width": ""
      }
     },
     "13cb46d01513478d951bc00d8bad7346": {
      "model_module": "@jupyter-widgets/base",
      "model_module_version": "1.2.0",
      "model_name": "LayoutModel",
      "state": {}
     },
     "147848108ba74237ab969cec4f29faca": {
      "model_module": "@jupyter-widgets/controls",
      "model_module_version": "1.5.0",
      "model_name": "DescriptionStyleModel",
      "state": {
       "description_width": ""
      }
     },
     "148345060b014b3dbac8c3c54952081a": {
      "model_module": "@jupyter-widgets/base",
      "model_module_version": "1.2.0",
      "model_name": "LayoutModel",
      "state": {}
     },
     "14d0544212544507b6ce28d8afd22e96": {
      "model_module": "@jupyter-widgets/controls",
      "model_module_version": "1.5.0",
      "model_name": "IntProgressModel",
      "state": {
       "bar_style": "success",
       "description": "Epoch 10/20 : ",
       "layout": "IPY_MODEL_075e22609ed0404fbb6db2df093aaa2b",
       "max": 750,
       "style": "IPY_MODEL_f304bb03fbcb425392672b1aa831a18e",
       "value": 750
      }
     },
     "14deb27f630b4a88adcb675ea77c324a": {
      "model_module": "@jupyter-widgets/controls",
      "model_module_version": "1.5.0",
      "model_name": "ProgressStyleModel",
      "state": {
       "description_width": "initial"
      }
     },
     "1532c0d672b64b10afb88474d1205c01": {
      "model_module": "@jupyter-widgets/base",
      "model_module_version": "1.2.0",
      "model_name": "LayoutModel",
      "state": {}
     },
     "15b40b762a3c42a9930fc7721af1d806": {
      "model_module": "@jupyter-widgets/base",
      "model_module_version": "1.2.0",
      "model_name": "LayoutModel",
      "state": {}
     },
     "15e05fd04e024dc595cf189285d80f5f": {
      "model_module": "@jupyter-widgets/base",
      "model_module_version": "1.2.0",
      "model_name": "LayoutModel",
      "state": {}
     },
     "169dd1df78e2409aba86816d8bdac348": {
      "model_module": "@jupyter-widgets/controls",
      "model_module_version": "1.5.0",
      "model_name": "IntProgressModel",
      "state": {
       "bar_style": "success",
       "description": "Epoch 19/20 : ",
       "layout": "IPY_MODEL_5fd4e2df23c64fe58c765b900499e92e",
       "max": 750,
       "style": "IPY_MODEL_edb8bde500a644fa828a64ae4b2aa648",
       "value": 750
      }
     },
     "17736ff6f0c144d1a32f43cd457bb5a9": {
      "model_module": "@jupyter-widgets/controls",
      "model_module_version": "1.5.0",
      "model_name": "ProgressStyleModel",
      "state": {
       "description_width": "initial"
      }
     },
     "17a7ae1f43344e4c942e94a3f0ed147c": {
      "model_module": "@jupyter-widgets/base",
      "model_module_version": "1.2.0",
      "model_name": "LayoutModel",
      "state": {}
     },
     "1823de960eaf401b82a1669f9ea21574": {
      "model_module": "@jupyter-widgets/controls",
      "model_module_version": "1.5.0",
      "model_name": "HBoxModel",
      "state": {
       "children": [
        "IPY_MODEL_b47088192d904aec9ce392a22b8a5f95",
        "IPY_MODEL_741e17e31630470a9fba5049e20dcdca"
       ],
       "layout": "IPY_MODEL_5e0c78cb3d2d460f9b30a40d3730b3cd"
      }
     },
     "18d1668022f04751ba237d7ff2af9c33": {
      "model_module": "@jupyter-widgets/controls",
      "model_module_version": "1.5.0",
      "model_name": "HTMLModel",
      "state": {
       "layout": "IPY_MODEL_e9dbab6b7210473aba65376b9a1ee1cd",
       "style": "IPY_MODEL_b4d3ceaae42943e3b03fcdfa8e7c940a",
       "value": "100% 750/750 [00:01&lt;00:00, 694.25it/s]"
      }
     },
     "197a0ec384fc431a8e6d0fc547b8cdd8": {
      "model_module": "@jupyter-widgets/base",
      "model_module_version": "1.2.0",
      "model_name": "LayoutModel",
      "state": {}
     },
     "197fa073ffc545a3a8b537d7eae82cc0": {
      "model_module": "@jupyter-widgets/controls",
      "model_module_version": "1.5.0",
      "model_name": "HBoxModel",
      "state": {
       "children": [
        "IPY_MODEL_a03fb44aac7048718598c6c2c86614ac",
        "IPY_MODEL_dcc80de7857d4cb690d1020098efc4c8"
       ],
       "layout": "IPY_MODEL_bc09eb4c31c444db9d4178a2696dcfe5"
      }
     },
     "19820631e29e4b9c9120aebc2ab29d3e": {
      "model_module": "@jupyter-widgets/controls",
      "model_module_version": "1.5.0",
      "model_name": "HTMLModel",
      "state": {
       "layout": "IPY_MODEL_a9fa4ea09fee4307b21f9ad0cbd4e4b0",
       "style": "IPY_MODEL_e2d2e2e7bbf04f58b76261b1084688aa",
       "value": "100% 750/750 [00:01&lt;00:00, 534.77it/s]"
      }
     },
     "1a3128bf57a243c6a64f620852a1d929": {
      "model_module": "@jupyter-widgets/base",
      "model_module_version": "1.2.0",
      "model_name": "LayoutModel",
      "state": {}
     },
     "1a73e96c49354491bdb56e8a6dd0e7c3": {
      "model_module": "@jupyter-widgets/controls",
      "model_module_version": "1.5.0",
      "model_name": "ProgressStyleModel",
      "state": {
       "description_width": "initial"
      }
     },
     "1ab5379651524942a92ff4e3e2837a0d": {
      "model_module": "@jupyter-widgets/base",
      "model_module_version": "1.2.0",
      "model_name": "LayoutModel",
      "state": {}
     },
     "1abbd113b36a4241a291ddaea3ac5a90": {
      "model_module": "@jupyter-widgets/base",
      "model_module_version": "1.2.0",
      "model_name": "LayoutModel",
      "state": {}
     },
     "1b49b0770844496b91f43ff7e0265b09": {
      "model_module": "@jupyter-widgets/base",
      "model_module_version": "1.2.0",
      "model_name": "LayoutModel",
      "state": {}
     },
     "1b65a51d9e324297a0534baa8f41ca0b": {
      "model_module": "@jupyter-widgets/controls",
      "model_module_version": "1.5.0",
      "model_name": "DescriptionStyleModel",
      "state": {
       "description_width": ""
      }
     },
     "1b7172eff4fd433882070a8321261fcd": {
      "model_module": "@jupyter-widgets/controls",
      "model_module_version": "1.5.0",
      "model_name": "DescriptionStyleModel",
      "state": {
       "description_width": ""
      }
     },
     "1bb8ab0956234b1fa4b1b94da1da9eb1": {
      "model_module": "@jupyter-widgets/controls",
      "model_module_version": "1.5.0",
      "model_name": "HBoxModel",
      "state": {
       "children": [
        "IPY_MODEL_551c8c7b8d94401a829e30964af08959",
        "IPY_MODEL_2112c3d00c194adc9320db094cbad273"
       ],
       "layout": "IPY_MODEL_9f8c3de8efbc4ef086100b1c0b7cf2a1"
      }
     },
     "1bffb25adc6945c48ae8a26826087eb5": {
      "model_module": "@jupyter-widgets/controls",
      "model_module_version": "1.5.0",
      "model_name": "IntProgressModel",
      "state": {
       "bar_style": "success",
       "description": "Epoch 15/20 : ",
       "layout": "IPY_MODEL_3aefe02ea5ac40858ca8cfe79f86ad4a",
       "max": 750,
       "style": "IPY_MODEL_f3efb8acae444469957dbe269e14d1ea",
       "value": 750
      }
     },
     "1c22bd69fc7546de94dd4d339d74bdbb": {
      "model_module": "@jupyter-widgets/base",
      "model_module_version": "1.2.0",
      "model_name": "LayoutModel",
      "state": {}
     },
     "1c2c2128303049f296df573807c38b72": {
      "model_module": "@jupyter-widgets/base",
      "model_module_version": "1.2.0",
      "model_name": "LayoutModel",
      "state": {}
     },
     "1cfaed65c17c4930b48bd2901b0b57be": {
      "model_module": "@jupyter-widgets/base",
      "model_module_version": "1.2.0",
      "model_name": "LayoutModel",
      "state": {}
     },
     "1d018b3a12364d24bc5c1cabe7dabaa9": {
      "model_module": "@jupyter-widgets/base",
      "model_module_version": "1.2.0",
      "model_name": "LayoutModel",
      "state": {}
     },
     "1d546ea0432d4955aa12ab250bbff056": {
      "model_module": "@jupyter-widgets/controls",
      "model_module_version": "1.5.0",
      "model_name": "IntProgressModel",
      "state": {
       "bar_style": "success",
       "description": "Epoch 5/20 : ",
       "layout": "IPY_MODEL_604bc7fc74b047aa9c3386db44f15fb2",
       "max": 750,
       "style": "IPY_MODEL_5a1f77d3c3154a8194e2b38ea2be51fe",
       "value": 750
      }
     },
     "1d5acfb397e0443ea1c80f60d8dc18e4": {
      "model_module": "@jupyter-widgets/base",
      "model_module_version": "1.2.0",
      "model_name": "LayoutModel",
      "state": {}
     },
     "1d5b2a969415449991f0a1d2a9b7c514": {
      "model_module": "@jupyter-widgets/base",
      "model_module_version": "1.2.0",
      "model_name": "LayoutModel",
      "state": {}
     },
     "1d6bda0a2cf4491aa74640c2337f3f92": {
      "model_module": "@jupyter-widgets/controls",
      "model_module_version": "1.5.0",
      "model_name": "ProgressStyleModel",
      "state": {
       "description_width": "initial"
      }
     },
     "1da7c6e03722483192ffd00476819102": {
      "model_module": "@jupyter-widgets/controls",
      "model_module_version": "1.5.0",
      "model_name": "IntProgressModel",
      "state": {
       "bar_style": "success",
       "description": "Epoch 16/20 : ",
       "layout": "IPY_MODEL_be53c01949db48a5b522a39368b16f66",
       "max": 750,
       "style": "IPY_MODEL_d00c113fcf2d4963aea8de5deb8e39e5",
       "value": 750
      }
     },
     "1e3f11e47fea40ee8bf9dfa0f6c6c1bd": {
      "model_module": "@jupyter-widgets/base",
      "model_module_version": "1.2.0",
      "model_name": "LayoutModel",
      "state": {}
     },
     "1e8b052ccc4d4a259afc168c2e3de49d": {
      "model_module": "@jupyter-widgets/base",
      "model_module_version": "1.2.0",
      "model_name": "LayoutModel",
      "state": {}
     },
     "1eca0527beba4c33bce05828b17a4ca4": {
      "model_module": "@jupyter-widgets/controls",
      "model_module_version": "1.5.0",
      "model_name": "IntProgressModel",
      "state": {
       "bar_style": "success",
       "description": "Epoch 15/20 : ",
       "layout": "IPY_MODEL_9ed074d88485464bb35dd5c89eb54a23",
       "max": 750,
       "style": "IPY_MODEL_35092f9f992f44ce9a907c19aa585bb0",
       "value": 750
      }
     },
     "1f0a3604a8cb4f67b5a2ae1ec0c8cc88": {
      "model_module": "@jupyter-widgets/controls",
      "model_module_version": "1.5.0",
      "model_name": "ProgressStyleModel",
      "state": {
       "description_width": "initial"
      }
     },
     "1f2b79fbed864e869947571fdb4d374f": {
      "model_module": "@jupyter-widgets/controls",
      "model_module_version": "1.5.0",
      "model_name": "DescriptionStyleModel",
      "state": {
       "description_width": ""
      }
     },
     "1f6fe6ed98bf4f68bac4bef925132dc6": {
      "model_module": "@jupyter-widgets/controls",
      "model_module_version": "1.5.0",
      "model_name": "ProgressStyleModel",
      "state": {
       "description_width": "initial"
      }
     },
     "202fed2bf7c34944a2e834d5d3f6d108": {
      "model_module": "@jupyter-widgets/base",
      "model_module_version": "1.2.0",
      "model_name": "LayoutModel",
      "state": {}
     },
     "2095d678fd8140459a26360bd78d81be": {
      "model_module": "@jupyter-widgets/controls",
      "model_module_version": "1.5.0",
      "model_name": "DescriptionStyleModel",
      "state": {
       "description_width": ""
      }
     },
     "20c9ff6bb6e24799b6ecb81c39542cfb": {
      "model_module": "@jupyter-widgets/controls",
      "model_module_version": "1.5.0",
      "model_name": "IntProgressModel",
      "state": {
       "bar_style": "success",
       "description": "Epoch 9/20 : ",
       "layout": "IPY_MODEL_60b731da84f74ff6a0a2276a178026d7",
       "max": 750,
       "style": "IPY_MODEL_885671675fce4bf6b9db0b871a65dd27",
       "value": 750
      }
     },
     "20dda12422db46a5a1df920c7958da98": {
      "model_module": "@jupyter-widgets/base",
      "model_module_version": "1.2.0",
      "model_name": "LayoutModel",
      "state": {}
     },
     "2112c3d00c194adc9320db094cbad273": {
      "model_module": "@jupyter-widgets/controls",
      "model_module_version": "1.5.0",
      "model_name": "HTMLModel",
      "state": {
       "layout": "IPY_MODEL_c31fdb667b004f07a276e3f21b17dfdd",
       "style": "IPY_MODEL_51ca272823cc446ba60c443ef9b9bee9",
       "value": "100% 750/750 [00:01&lt;00:00, 643.56it/s]"
      }
     },
     "2236cbe455a74291aaf7a7fd4fc75520": {
      "model_module": "@jupyter-widgets/base",
      "model_module_version": "1.2.0",
      "model_name": "LayoutModel",
      "state": {}
     },
     "228ae379b2e24b6386d67363e90d6d45": {
      "model_module": "@jupyter-widgets/controls",
      "model_module_version": "1.5.0",
      "model_name": "HTMLModel",
      "state": {
       "layout": "IPY_MODEL_42e32ffb893548038d087dd4362ecb31",
       "style": "IPY_MODEL_4c05289592614328ad0fe902b69c4937",
       "value": "100% 750/750 [00:00&lt;00:00, 1303.30it/s]"
      }
     },
     "22cd2c3239164bfba80072222d40742d": {
      "model_module": "@jupyter-widgets/controls",
      "model_module_version": "1.5.0",
      "model_name": "HBoxModel",
      "state": {
       "children": [
        "IPY_MODEL_4ce92f2f982b49c8b56af6c2754281cc",
        "IPY_MODEL_d29d415b82494382815d696305e4b8df"
       ],
       "layout": "IPY_MODEL_25e23f27ac484edf841d0843db4c2415"
      }
     },
     "2360657ed2a04451ad2f3c670ce0dc1b": {
      "model_module": "@jupyter-widgets/controls",
      "model_module_version": "1.5.0",
      "model_name": "HTMLModel",
      "state": {
       "layout": "IPY_MODEL_75883d51e09a45a0b286d57639df27d3",
       "style": "IPY_MODEL_e1f534a8386b48718e217ed5b1ff3ba6",
       "value": "100% 750/750 [00:01&lt;00:00, 600.71it/s]"
      }
     },
     "2473c7d715a84e13b9b34146e35624fa": {
      "model_module": "@jupyter-widgets/controls",
      "model_module_version": "1.5.0",
      "model_name": "HBoxModel",
      "state": {
       "children": [
        "IPY_MODEL_785d37878f484cdfada07fcdbe00b6a4",
        "IPY_MODEL_7fbb14edec7f421ba7c58f008c1cfabf"
       ],
       "layout": "IPY_MODEL_809a69a5ef2a43248ec89ff6c868ba55"
      }
     },
     "249a6a9b61ec4feda8bbc825c11f2242": {
      "model_module": "@jupyter-widgets/base",
      "model_module_version": "1.2.0",
      "model_name": "LayoutModel",
      "state": {}
     },
     "24b01bdb61314034b334542344191280": {
      "model_module": "@jupyter-widgets/controls",
      "model_module_version": "1.5.0",
      "model_name": "HTMLModel",
      "state": {
       "layout": "IPY_MODEL_4fb12a1fe2c14548b66b7296019f2312",
       "style": "IPY_MODEL_92ee98eb386e434cac0f590086f1fcaa",
       "value": "100% 750/750 [00:01&lt;00:00, 558.71it/s]"
      }
     },
     "2511ad54e93b4a09804650dd9e5c6dc4": {
      "model_module": "@jupyter-widgets/base",
      "model_module_version": "1.2.0",
      "model_name": "LayoutModel",
      "state": {}
     },
     "25552d8ef5aa4fcda222a4d099b9ed6e": {
      "model_module": "@jupyter-widgets/controls",
      "model_module_version": "1.5.0",
      "model_name": "IntProgressModel",
      "state": {
       "bar_style": "success",
       "description": "Epoch 7/20 : ",
       "layout": "IPY_MODEL_b74c4ba366cd40f380ab62a501cd7fbf",
       "max": 750,
       "style": "IPY_MODEL_ee22ea44c1ae48708fcb57ab042fb6c8",
       "value": 750
      }
     },
     "255707634ffb4a2cac91d4fcc3c604b2": {
      "model_module": "@jupyter-widgets/base",
      "model_module_version": "1.2.0",
      "model_name": "LayoutModel",
      "state": {}
     },
     "25e23f27ac484edf841d0843db4c2415": {
      "model_module": "@jupyter-widgets/base",
      "model_module_version": "1.2.0",
      "model_name": "LayoutModel",
      "state": {}
     },
     "265130303c144a1aac412d6d6977737f": {
      "model_module": "@jupyter-widgets/base",
      "model_module_version": "1.2.0",
      "model_name": "LayoutModel",
      "state": {}
     },
     "26a41ce012b24690897121d2db56bf21": {
      "model_module": "@jupyter-widgets/base",
      "model_module_version": "1.2.0",
      "model_name": "LayoutModel",
      "state": {}
     },
     "26a525fd988a4525ba80af6e09756703": {
      "model_module": "@jupyter-widgets/controls",
      "model_module_version": "1.5.0",
      "model_name": "IntProgressModel",
      "state": {
       "bar_style": "success",
       "description": "Epoch 8/20 : ",
       "layout": "IPY_MODEL_5afafb9dc5d640e6a8d40b3f264d4679",
       "max": 750,
       "style": "IPY_MODEL_f9ecde1434e047fa9664e07a21b2a5e9",
       "value": 750
      }
     },
     "26afe42c36344174a695ebf8cbb3b63a": {
      "model_module": "@jupyter-widgets/base",
      "model_module_version": "1.2.0",
      "model_name": "LayoutModel",
      "state": {}
     },
     "27e933652a5d4fba882dbe4b9055750a": {
      "model_module": "@jupyter-widgets/controls",
      "model_module_version": "1.5.0",
      "model_name": "HBoxModel",
      "state": {
       "children": [
        "IPY_MODEL_836d863fa5f440aa982ec05fceeb2644",
        "IPY_MODEL_e6b4ac1577984c68a957b6f3dcaf732a"
       ],
       "layout": "IPY_MODEL_89c5f60aa16f4c22802655f39366cb16"
      }
     },
     "27f7ca6919fb4329854ad1959f3f692c": {
      "model_module": "@jupyter-widgets/controls",
      "model_module_version": "1.5.0",
      "model_name": "HBoxModel",
      "state": {
       "children": [
        "IPY_MODEL_d520afffb1684cffb6b51d56e0030069",
        "IPY_MODEL_2df802c6c25c4ed1a8174dc76429b4eb"
       ],
       "layout": "IPY_MODEL_cc49fe3f23494be3a506b93bea312000"
      }
     },
     "28cd0b0dcfa84f9caad17beb55286992": {
      "model_module": "@jupyter-widgets/controls",
      "model_module_version": "1.5.0",
      "model_name": "HTMLModel",
      "state": {
       "layout": "IPY_MODEL_6be5e1bc2b4847b3811c42e6aa71ecea",
       "style": "IPY_MODEL_aabd953b6ccb47f1986dbe373b3ca468",
       "value": "100% 750/750 [00:01&lt;00:00, 653.60it/s]"
      }
     },
     "28d91fd511ad40149b121059fc2c246f": {
      "model_module": "@jupyter-widgets/controls",
      "model_module_version": "1.5.0",
      "model_name": "DescriptionStyleModel",
      "state": {
       "description_width": ""
      }
     },
     "28db68d929884503a2ced3ec4611c8f0": {
      "model_module": "@jupyter-widgets/controls",
      "model_module_version": "1.5.0",
      "model_name": "IntProgressModel",
      "state": {
       "bar_style": "success",
       "description": "Epoch 3/20 : ",
       "layout": "IPY_MODEL_17a7ae1f43344e4c942e94a3f0ed147c",
       "max": 750,
       "style": "IPY_MODEL_7619d79b965d4f73a8988a619cd7c21a",
       "value": 750
      }
     },
     "29d38e0a802549f28e9a0911c04c7d11": {
      "model_module": "@jupyter-widgets/base",
      "model_module_version": "1.2.0",
      "model_name": "LayoutModel",
      "state": {}
     },
     "2a08404ed2024a538abdfe64d572ce31": {
      "model_module": "@jupyter-widgets/base",
      "model_module_version": "1.2.0",
      "model_name": "LayoutModel",
      "state": {}
     },
     "2a363880955847ce812ed09997bdcb7f": {
      "model_module": "@jupyter-widgets/controls",
      "model_module_version": "1.5.0",
      "model_name": "ProgressStyleModel",
      "state": {
       "description_width": "initial"
      }
     },
     "2ac3f1077eba478eb489c55274181b0f": {
      "model_module": "@jupyter-widgets/controls",
      "model_module_version": "1.5.0",
      "model_name": "ProgressStyleModel",
      "state": {
       "description_width": "initial"
      }
     },
     "2ac73814546a4615a868e044c685bc07": {
      "model_module": "@jupyter-widgets/controls",
      "model_module_version": "1.5.0",
      "model_name": "IntProgressModel",
      "state": {
       "bar_style": "success",
       "description": "Epoch 1/20 : ",
       "layout": "IPY_MODEL_87d8a7137f6640089feb60af5e08ffa7",
       "max": 750,
       "style": "IPY_MODEL_35dcfde55f9a47588e4ceaa87fcab78c",
       "value": 750
      }
     },
     "2b04c8c82eee46f48e2ee4d9178ee890": {
      "model_module": "@jupyter-widgets/base",
      "model_module_version": "1.2.0",
      "model_name": "LayoutModel",
      "state": {}
     },
     "2b1e930f22a248bb84778e5e60502449": {
      "model_module": "@jupyter-widgets/base",
      "model_module_version": "1.2.0",
      "model_name": "LayoutModel",
      "state": {}
     },
     "2b2811d5bc7f42b491d827cd1c8e7396": {
      "model_module": "@jupyter-widgets/controls",
      "model_module_version": "1.5.0",
      "model_name": "DescriptionStyleModel",
      "state": {
       "description_width": ""
      }
     },
     "2b5065645a024269998b5a8bea7e8002": {
      "model_module": "@jupyter-widgets/controls",
      "model_module_version": "1.5.0",
      "model_name": "IntProgressModel",
      "state": {
       "bar_style": "success",
       "description": "Epoch 14/20 : ",
       "layout": "IPY_MODEL_810353351bb645729ee026846ee32935",
       "max": 750,
       "style": "IPY_MODEL_3187933529c74163b46e2544745a21a5",
       "value": 750
      }
     },
     "2b608e20323745418165ab7642f51a73": {
      "model_module": "@jupyter-widgets/controls",
      "model_module_version": "1.5.0",
      "model_name": "DescriptionStyleModel",
      "state": {
       "description_width": ""
      }
     },
     "2c64b3991b554a97b17784cb5d0c3d9f": {
      "model_module": "@jupyter-widgets/controls",
      "model_module_version": "1.5.0",
      "model_name": "HTMLModel",
      "state": {
       "layout": "IPY_MODEL_f7b014ba671145c391fc1e0a54e9287f",
       "style": "IPY_MODEL_ed78e15ed51540c8b329b7ab37b16148",
       "value": "100% 750/750 [00:01&lt;00:00, 583.66it/s]"
      }
     },
     "2c8bb3891f3246e691412aacf49a9688": {
      "model_module": "@jupyter-widgets/controls",
      "model_module_version": "1.5.0",
      "model_name": "ProgressStyleModel",
      "state": {
       "description_width": "initial"
      }
     },
     "2d08b23e71024e5fb740cd0d052c936c": {
      "model_module": "@jupyter-widgets/controls",
      "model_module_version": "1.5.0",
      "model_name": "ProgressStyleModel",
      "state": {
       "description_width": "initial"
      }
     },
     "2d570661941c4a2389dcee6661a372fe": {
      "model_module": "@jupyter-widgets/base",
      "model_module_version": "1.2.0",
      "model_name": "LayoutModel",
      "state": {}
     },
     "2d629d75614f4332aac0941c375f0e10": {
      "model_module": "@jupyter-widgets/controls",
      "model_module_version": "1.5.0",
      "model_name": "DescriptionStyleModel",
      "state": {
       "description_width": ""
      }
     },
     "2d7af0c3c7eb424f9ba95d97fca174cc": {
      "model_module": "@jupyter-widgets/base",
      "model_module_version": "1.2.0",
      "model_name": "LayoutModel",
      "state": {}
     },
     "2d98362593e94a5d9f09fe2ca89dd999": {
      "model_module": "@jupyter-widgets/base",
      "model_module_version": "1.2.0",
      "model_name": "LayoutModel",
      "state": {}
     },
     "2dbb756f8d8e4b7e868dde9a0a5560c1": {
      "model_module": "@jupyter-widgets/base",
      "model_module_version": "1.2.0",
      "model_name": "LayoutModel",
      "state": {}
     },
     "2dd80919c97d46baa8f2218c7f39d981": {
      "model_module": "@jupyter-widgets/controls",
      "model_module_version": "1.5.0",
      "model_name": "HTMLModel",
      "state": {
       "layout": "IPY_MODEL_4edee49f1d4646949db5fd72a4465f8d",
       "style": "IPY_MODEL_941dc90d567545e2a0fb499472afe231",
       "value": "100% 750/750 [00:01&lt;00:00, 704.82it/s]"
      }
     },
     "2de471e1f8fb406489c113bc466e322f": {
      "model_module": "@jupyter-widgets/controls",
      "model_module_version": "1.5.0",
      "model_name": "HBoxModel",
      "state": {
       "children": [
        "IPY_MODEL_4b4ce340fbf2466bac058d11e227f0c3",
        "IPY_MODEL_833d86b448c145e1a87048be20093e4e"
       ],
       "layout": "IPY_MODEL_eb28ae94f28d42c18b13abdf8df12c2f"
      }
     },
     "2df73d2d0e194601a7de8c480dbbc876": {
      "model_module": "@jupyter-widgets/controls",
      "model_module_version": "1.5.0",
      "model_name": "ProgressStyleModel",
      "state": {
       "description_width": "initial"
      }
     },
     "2df802c6c25c4ed1a8174dc76429b4eb": {
      "model_module": "@jupyter-widgets/controls",
      "model_module_version": "1.5.0",
      "model_name": "HTMLModel",
      "state": {
       "layout": "IPY_MODEL_ddd9332747ea46258ee9138d858ab335",
       "style": "IPY_MODEL_1b7172eff4fd433882070a8321261fcd",
       "value": "100% 750/750 [00:01&lt;00:00, 529.51it/s]"
      }
     },
     "2e0b0d08b0304394804f4daaf16eb7d2": {
      "model_module": "@jupyter-widgets/controls",
      "model_module_version": "1.5.0",
      "model_name": "HTMLModel",
      "state": {
       "layout": "IPY_MODEL_fc2c62952b9e4428bc8c3f32cd33b186",
       "style": "IPY_MODEL_8e8ec31b8ed54872b5157b279ae3d03a",
       "value": "100% 750/750 [00:00&lt;00:00, 1155.08it/s]"
      }
     },
     "2e643b4b696f4d7497880b77314e718a": {
      "model_module": "@jupyter-widgets/controls",
      "model_module_version": "1.5.0",
      "model_name": "HTMLModel",
      "state": {
       "layout": "IPY_MODEL_926e1f3b041b4af5aaacbe3c0fcc3b64",
       "style": "IPY_MODEL_1f2b79fbed864e869947571fdb4d374f",
       "value": "100% 750/750 [00:01&lt;00:00, 688.08it/s]"
      }
     },
     "2e69923a8f244f66b372d2f97f094bb9": {
      "model_module": "@jupyter-widgets/base",
      "model_module_version": "1.2.0",
      "model_name": "LayoutModel",
      "state": {}
     },
     "2ec47c2ffb354c498556aa1428563019": {
      "model_module": "@jupyter-widgets/base",
      "model_module_version": "1.2.0",
      "model_name": "LayoutModel",
      "state": {}
     },
     "2ed0df1edc6f4895a4f46cd396696ac6": {
      "model_module": "@jupyter-widgets/base",
      "model_module_version": "1.2.0",
      "model_name": "LayoutModel",
      "state": {}
     },
     "2f5f4042af864420b5f3e8bd5cdb978a": {
      "model_module": "@jupyter-widgets/controls",
      "model_module_version": "1.5.0",
      "model_name": "HBoxModel",
      "state": {
       "children": [
        "IPY_MODEL_38ebbca6b1764e73a2f37ad75740ccb8",
        "IPY_MODEL_3d567a8d09b2401c8ef416ea9bac70e5"
       ],
       "layout": "IPY_MODEL_ae8b96c213204cf9b7574b933ec6080d"
      }
     },
     "2fa169b2f29046458e43b6d03636b267": {
      "model_module": "@jupyter-widgets/base",
      "model_module_version": "1.2.0",
      "model_name": "LayoutModel",
      "state": {}
     },
     "2fad565c2e0b4fcdb500da63162e3c6c": {
      "model_module": "@jupyter-widgets/controls",
      "model_module_version": "1.5.0",
      "model_name": "DescriptionStyleModel",
      "state": {
       "description_width": ""
      }
     },
     "2fbeea4a6be443e18455067fc584ea63": {
      "model_module": "@jupyter-widgets/controls",
      "model_module_version": "1.5.0",
      "model_name": "ProgressStyleModel",
      "state": {
       "description_width": "initial"
      }
     },
     "3146f444d9194de8b6b67262d64d3c6e": {
      "model_module": "@jupyter-widgets/base",
      "model_module_version": "1.2.0",
      "model_name": "LayoutModel",
      "state": {}
     },
     "3187933529c74163b46e2544745a21a5": {
      "model_module": "@jupyter-widgets/controls",
      "model_module_version": "1.5.0",
      "model_name": "ProgressStyleModel",
      "state": {
       "description_width": "initial"
      }
     },
     "31b64a8890c24dafb39a78956750bd4f": {
      "model_module": "@jupyter-widgets/base",
      "model_module_version": "1.2.0",
      "model_name": "LayoutModel",
      "state": {}
     },
     "31ebff91ea7a4665bfef45ea33f3c3b4": {
      "model_module": "@jupyter-widgets/controls",
      "model_module_version": "1.5.0",
      "model_name": "HBoxModel",
      "state": {
       "children": [
        "IPY_MODEL_e81a634871dd41a1adf9b7809f9de47a",
        "IPY_MODEL_c5084074fbaf43618279e1d5df4a1bae"
       ],
       "layout": "IPY_MODEL_3c1a89ccebcd4500affc2ea15e166861"
      }
     },
     "324eac68e9ce41c3b78d998cee7edf9f": {
      "model_module": "@jupyter-widgets/base",
      "model_module_version": "1.2.0",
      "model_name": "LayoutModel",
      "state": {}
     },
     "3272fec3d03343bfae65eb65f3b5f2d7": {
      "model_module": "@jupyter-widgets/controls",
      "model_module_version": "1.5.0",
      "model_name": "HTMLModel",
      "state": {
       "layout": "IPY_MODEL_0acb8fbc64c643268e1c6bf07c1807f0",
       "style": "IPY_MODEL_fbaf8eed3c4a4103896d967ecf5cf44c",
       "value": "100% 750/750 [00:00&lt;00:00, 1600.93it/s]"
      }
     },
     "32731724eb18481cbb91cc5797efb8a6": {
      "model_module": "@jupyter-widgets/controls",
      "model_module_version": "1.5.0",
      "model_name": "HBoxModel",
      "state": {
       "children": [
        "IPY_MODEL_1da7c6e03722483192ffd00476819102",
        "IPY_MODEL_3a3d1101d8e0421380bfebc127604429"
       ],
       "layout": "IPY_MODEL_7b692b26ffe1438ca40c462e74560405"
      }
     },
     "32f6ab318cc24045a50bf861d24fa0cc": {
      "model_module": "@jupyter-widgets/controls",
      "model_module_version": "1.5.0",
      "model_name": "HBoxModel",
      "state": {
       "children": [
        "IPY_MODEL_0580050db22447b7b04364243ebb0f0d",
        "IPY_MODEL_19820631e29e4b9c9120aebc2ab29d3e"
       ],
       "layout": "IPY_MODEL_7a75f2fd753546fdb498b81eaac15aec"
      }
     },
     "33ab9831ed0942e4ab387f048134b9a7": {
      "model_module": "@jupyter-widgets/controls",
      "model_module_version": "1.5.0",
      "model_name": "ProgressStyleModel",
      "state": {
       "description_width": "initial"
      }
     },
     "33adae700cf84e26a4d5c685908ac9f7": {
      "model_module": "@jupyter-widgets/controls",
      "model_module_version": "1.5.0",
      "model_name": "ProgressStyleModel",
      "state": {
       "description_width": "initial"
      }
     },
     "3409fd57931a460ea61c307d04b66f0a": {
      "model_module": "@jupyter-widgets/base",
      "model_module_version": "1.2.0",
      "model_name": "LayoutModel",
      "state": {}
     },
     "3469ba0b6aed458e9453336d9fd8d606": {
      "model_module": "@jupyter-widgets/base",
      "model_module_version": "1.2.0",
      "model_name": "LayoutModel",
      "state": {}
     },
     "346d73ea7f214da1a977d76338a688d7": {
      "model_module": "@jupyter-widgets/controls",
      "model_module_version": "1.5.0",
      "model_name": "DescriptionStyleModel",
      "state": {
       "description_width": ""
      }
     },
     "34a594278d4c4b6bb298b7a04ef6f9d4": {
      "model_module": "@jupyter-widgets/base",
      "model_module_version": "1.2.0",
      "model_name": "LayoutModel",
      "state": {}
     },
     "34e16c615e2b484399babeff57706156": {
      "model_module": "@jupyter-widgets/controls",
      "model_module_version": "1.5.0",
      "model_name": "DescriptionStyleModel",
      "state": {
       "description_width": ""
      }
     },
     "34ee7e9a4dcd49279e28a455aa23f2bb": {
      "model_module": "@jupyter-widgets/controls",
      "model_module_version": "1.5.0",
      "model_name": "HBoxModel",
      "state": {
       "children": [
        "IPY_MODEL_0a206ac4e31f4cc48976fbff69fb63dc",
        "IPY_MODEL_24b01bdb61314034b334542344191280"
       ],
       "layout": "IPY_MODEL_94d5d44187944822a21b06c5d0377bce"
      }
     },
     "34fccf1d1be0401aa7ded6683fbf203a": {
      "model_module": "@jupyter-widgets/controls",
      "model_module_version": "1.5.0",
      "model_name": "IntProgressModel",
      "state": {
       "bar_style": "success",
       "description": "Epoch 18/20 : ",
       "layout": "IPY_MODEL_7dccb7c00c8d4c32849d1eddb6ef75f2",
       "max": 750,
       "style": "IPY_MODEL_068d0aed3d714067a0d4bc709ee9029e",
       "value": 750
      }
     },
     "35092f9f992f44ce9a907c19aa585bb0": {
      "model_module": "@jupyter-widgets/controls",
      "model_module_version": "1.5.0",
      "model_name": "ProgressStyleModel",
      "state": {
       "description_width": "initial"
      }
     },
     "352035c513864adcb7a6a2f31f64635e": {
      "model_module": "@jupyter-widgets/base",
      "model_module_version": "1.2.0",
      "model_name": "LayoutModel",
      "state": {}
     },
     "35a91cf248d444b19869f5bc9d3d4072": {
      "model_module": "@jupyter-widgets/base",
      "model_module_version": "1.2.0",
      "model_name": "LayoutModel",
      "state": {}
     },
     "35d7af8af50f4bd8b634b1131d4c6612": {
      "model_module": "@jupyter-widgets/controls",
      "model_module_version": "1.5.0",
      "model_name": "IntProgressModel",
      "state": {
       "bar_style": "success",
       "description": "Epoch 10/20 : ",
       "layout": "IPY_MODEL_a7fb0072c85b4e73a83a55436b9ab87e",
       "max": 750,
       "style": "IPY_MODEL_9533929d74ea4ab5bcadcfb486744ad4",
       "value": 750
      }
     },
     "35dcfde55f9a47588e4ceaa87fcab78c": {
      "model_module": "@jupyter-widgets/controls",
      "model_module_version": "1.5.0",
      "model_name": "ProgressStyleModel",
      "state": {
       "description_width": "initial"
      }
     },
     "3600f1fa45824a28813f89093485633d": {
      "model_module": "@jupyter-widgets/base",
      "model_module_version": "1.2.0",
      "model_name": "LayoutModel",
      "state": {}
     },
     "369fb06c953c4c009a816955c7137cba": {
      "model_module": "@jupyter-widgets/controls",
      "model_module_version": "1.5.0",
      "model_name": "DescriptionStyleModel",
      "state": {
       "description_width": ""
      }
     },
     "36a643907a8249c0b772260e77826403": {
      "model_module": "@jupyter-widgets/base",
      "model_module_version": "1.2.0",
      "model_name": "LayoutModel",
      "state": {}
     },
     "36b1acdfb2084fdf9fc84beab4252e11": {
      "model_module": "@jupyter-widgets/controls",
      "model_module_version": "1.5.0",
      "model_name": "HBoxModel",
      "state": {
       "children": [
        "IPY_MODEL_4193ed87cfa040f39a0a735854f65f6b",
        "IPY_MODEL_4edbc261c4744604b7f72c72b5d20e66"
       ],
       "layout": "IPY_MODEL_0be389d59e2547b7b36670c424ddefc2"
      }
     },
     "36db50382802496a83b99fbaaf5add8a": {
      "model_module": "@jupyter-widgets/controls",
      "model_module_version": "1.5.0",
      "model_name": "ProgressStyleModel",
      "state": {
       "description_width": "initial"
      }
     },
     "36f91405c46742639a5acda93ec5aeb5": {
      "model_module": "@jupyter-widgets/controls",
      "model_module_version": "1.5.0",
      "model_name": "DescriptionStyleModel",
      "state": {
       "description_width": ""
      }
     },
     "37455462efdc4bbfb810c3627fed693e": {
      "model_module": "@jupyter-widgets/controls",
      "model_module_version": "1.5.0",
      "model_name": "HTMLModel",
      "state": {
       "layout": "IPY_MODEL_6e55a9e7739f44a197621afcff97bb3a",
       "style": "IPY_MODEL_8c7b010df2fa4928ba5af85d3b8e8663",
       "value": "100% 750/750 [00:00&lt;00:00, 1418.73it/s]"
      }
     },
     "37e6ce02ab824b6e84295a9c5354ddd2": {
      "model_module": "@jupyter-widgets/controls",
      "model_module_version": "1.5.0",
      "model_name": "DescriptionStyleModel",
      "state": {
       "description_width": ""
      }
     },
     "37f9455532ca4dd894e84ba8616c9bfa": {
      "model_module": "@jupyter-widgets/base",
      "model_module_version": "1.2.0",
      "model_name": "LayoutModel",
      "state": {}
     },
     "380785264d504299b1678d2eb165cd68": {
      "model_module": "@jupyter-widgets/controls",
      "model_module_version": "1.5.0",
      "model_name": "DescriptionStyleModel",
      "state": {
       "description_width": ""
      }
     },
     "3852a056619f45c0944af41cb396834f": {
      "model_module": "@jupyter-widgets/controls",
      "model_module_version": "1.5.0",
      "model_name": "ProgressStyleModel",
      "state": {
       "description_width": "initial"
      }
     },
     "38795fa90e4440ebb0dfaa099eb09d68": {
      "model_module": "@jupyter-widgets/controls",
      "model_module_version": "1.5.0",
      "model_name": "HTMLModel",
      "state": {
       "layout": "IPY_MODEL_f7cf79eda16d4c2f993585702e2852ca",
       "style": "IPY_MODEL_37e6ce02ab824b6e84295a9c5354ddd2",
       "value": "100% 750/750 [00:00&lt;00:00, 1216.12it/s]"
      }
     },
     "3892884a554846e6a24ecd11022524bd": {
      "model_module": "@jupyter-widgets/base",
      "model_module_version": "1.2.0",
      "model_name": "LayoutModel",
      "state": {}
     },
     "38bb4fad22e84ed5896025bec3651069": {
      "model_module": "@jupyter-widgets/base",
      "model_module_version": "1.2.0",
      "model_name": "LayoutModel",
      "state": {}
     },
     "38eb098c45bc416bb4bf1da2e0a9a483": {
      "model_module": "@jupyter-widgets/controls",
      "model_module_version": "1.5.0",
      "model_name": "DescriptionStyleModel",
      "state": {
       "description_width": ""
      }
     },
     "38ebbca6b1764e73a2f37ad75740ccb8": {
      "model_module": "@jupyter-widgets/controls",
      "model_module_version": "1.5.0",
      "model_name": "IntProgressModel",
      "state": {
       "bar_style": "success",
       "description": "Epoch 14/20 : ",
       "layout": "IPY_MODEL_c7e0ff22b8ea4b268c0be8d0d265721f",
       "max": 750,
       "style": "IPY_MODEL_55338a3502614635aa605ad1f6eaf3d1",
       "value": 750
      }
     },
     "390ad98955a64af8b8e14324e6a8a810": {
      "model_module": "@jupyter-widgets/controls",
      "model_module_version": "1.5.0",
      "model_name": "HBoxModel",
      "state": {
       "children": [
        "IPY_MODEL_530b0f9292574c7fb70d05ac08f17d79",
        "IPY_MODEL_ff9037e80d16420c8108c9d08aea36b8"
       ],
       "layout": "IPY_MODEL_8866617b71a04398b1a4fb6d86813044"
      }
     },
     "393f43d3030746e3ba52c993cfb17a66": {
      "model_module": "@jupyter-widgets/base",
      "model_module_version": "1.2.0",
      "model_name": "LayoutModel",
      "state": {}
     },
     "398fa3a48f4f4703b45383424f1e1527": {
      "model_module": "@jupyter-widgets/controls",
      "model_module_version": "1.5.0",
      "model_name": "HBoxModel",
      "state": {
       "children": [
        "IPY_MODEL_093d706209004e6e881e1a498393dfce",
        "IPY_MODEL_487bd5b51dc54728aa5785cb9eccfee3"
       ],
       "layout": "IPY_MODEL_6e9851ffc4cc458aa7ce1057f98146bb"
      }
     },
     "39e63771e8b3407aa839107de8df7d9d": {
      "model_module": "@jupyter-widgets/base",
      "model_module_version": "1.2.0",
      "model_name": "LayoutModel",
      "state": {}
     },
     "3a3d1101d8e0421380bfebc127604429": {
      "model_module": "@jupyter-widgets/controls",
      "model_module_version": "1.5.0",
      "model_name": "HTMLModel",
      "state": {
       "layout": "IPY_MODEL_4cecf9f487e44ae5a0cb32b9433690a4",
       "style": "IPY_MODEL_6f445c705bec4fbe8523d5a2a71a0b6c",
       "value": "100% 750/750 [00:01&lt;00:00, 583.77it/s]"
      }
     },
     "3a9e9f91ce72401b8d276741d71e7a84": {
      "model_module": "@jupyter-widgets/base",
      "model_module_version": "1.2.0",
      "model_name": "LayoutModel",
      "state": {}
     },
     "3acbad02df6f4fed8365593d56d31594": {
      "model_module": "@jupyter-widgets/controls",
      "model_module_version": "1.5.0",
      "model_name": "HBoxModel",
      "state": {
       "children": [
        "IPY_MODEL_f85fbe45e0454cfcbe20c5131600b670",
        "IPY_MODEL_5fe465bfbed34a19835df0fba2acefe2"
       ],
       "layout": "IPY_MODEL_2ed0df1edc6f4895a4f46cd396696ac6"
      }
     },
     "3aefe02ea5ac40858ca8cfe79f86ad4a": {
      "model_module": "@jupyter-widgets/base",
      "model_module_version": "1.2.0",
      "model_name": "LayoutModel",
      "state": {}
     },
     "3b11ea4309084a4badb4320468481706": {
      "model_module": "@jupyter-widgets/controls",
      "model_module_version": "1.5.0",
      "model_name": "IntProgressModel",
      "state": {
       "bar_style": "success",
       "description": "Epoch 3/20 : ",
       "layout": "IPY_MODEL_808441597fb542c88f09b7bcf928ff7f",
       "max": 750,
       "style": "IPY_MODEL_2d08b23e71024e5fb740cd0d052c936c",
       "value": 750
      }
     },
     "3b5676c42c6d45b3b4d87b8acb27e5e6": {
      "model_module": "@jupyter-widgets/controls",
      "model_module_version": "1.5.0",
      "model_name": "IntProgressModel",
      "state": {
       "bar_style": "success",
       "description": "Epoch 7/20 : ",
       "layout": "IPY_MODEL_a5617c1ede3e413d9271ae47b2269fe5",
       "max": 750,
       "style": "IPY_MODEL_c0e17996f0c940dfb901959659d31349",
       "value": 750
      }
     },
     "3bad57583b4641fe9e6235b6569f58f2": {
      "model_module": "@jupyter-widgets/base",
      "model_module_version": "1.2.0",
      "model_name": "LayoutModel",
      "state": {}
     },
     "3bcd569e707042388590e95684855f4a": {
      "model_module": "@jupyter-widgets/controls",
      "model_module_version": "1.5.0",
      "model_name": "DescriptionStyleModel",
      "state": {
       "description_width": ""
      }
     },
     "3c1a89ccebcd4500affc2ea15e166861": {
      "model_module": "@jupyter-widgets/base",
      "model_module_version": "1.2.0",
      "model_name": "LayoutModel",
      "state": {}
     },
     "3c6312e1dbeb499e9f804675c316ace5": {
      "model_module": "@jupyter-widgets/base",
      "model_module_version": "1.2.0",
      "model_name": "LayoutModel",
      "state": {}
     },
     "3c9bd2656a0a4ef4ac9accc3e3c752e1": {
      "model_module": "@jupyter-widgets/controls",
      "model_module_version": "1.5.0",
      "model_name": "HBoxModel",
      "state": {
       "children": [
        "IPY_MODEL_710d6a29dfa845e8ab60cf7511b302cb",
        "IPY_MODEL_cd3698547cec4434b13894c44f8a6c9b"
       ],
       "layout": "IPY_MODEL_fba359def95d46e08c1f758ce158ff01"
      }
     },
     "3d567a8d09b2401c8ef416ea9bac70e5": {
      "model_module": "@jupyter-widgets/controls",
      "model_module_version": "1.5.0",
      "model_name": "HTMLModel",
      "state": {
       "layout": "IPY_MODEL_75b3a76989864652a2c6f67fe02e81bf",
       "style": "IPY_MODEL_b283739179964d809cb4005a98348fee",
       "value": "100% 750/750 [00:00&lt;00:00, 1171.35it/s]"
      }
     },
     "3d706b750f19488dbbd2d8a3d520a4b9": {
      "model_module": "@jupyter-widgets/controls",
      "model_module_version": "1.5.0",
      "model_name": "DescriptionStyleModel",
      "state": {
       "description_width": ""
      }
     },
     "3dbedb80a7fa49a692d305fa1b85a660": {
      "model_module": "@jupyter-widgets/controls",
      "model_module_version": "1.5.0",
      "model_name": "ProgressStyleModel",
      "state": {
       "description_width": "initial"
      }
     },
     "3dcf7dfef0f04f08a07274c07562512b": {
      "model_module": "@jupyter-widgets/controls",
      "model_module_version": "1.5.0",
      "model_name": "ProgressStyleModel",
      "state": {
       "description_width": "initial"
      }
     },
     "3de5fc0e3b9842b9bf1d8bae5bac1d90": {
      "model_module": "@jupyter-widgets/base",
      "model_module_version": "1.2.0",
      "model_name": "LayoutModel",
      "state": {}
     },
     "3e4f0a175d0e4b3a81b87a058add38c3": {
      "model_module": "@jupyter-widgets/controls",
      "model_module_version": "1.5.0",
      "model_name": "IntProgressModel",
      "state": {
       "bar_style": "success",
       "description": "Epoch 13/20 : ",
       "layout": "IPY_MODEL_15e05fd04e024dc595cf189285d80f5f",
       "max": 750,
       "style": "IPY_MODEL_17736ff6f0c144d1a32f43cd457bb5a9",
       "value": 750
      }
     },
     "3e6cfc346e314d72b1b7d2e791d3bc0e": {
      "model_module": "@jupyter-widgets/controls",
      "model_module_version": "1.5.0",
      "model_name": "ProgressStyleModel",
      "state": {
       "description_width": "initial"
      }
     },
     "3e83e13c9dd74d938d2c949968dffdff": {
      "model_module": "@jupyter-widgets/controls",
      "model_module_version": "1.5.0",
      "model_name": "ProgressStyleModel",
      "state": {
       "description_width": "initial"
      }
     },
     "3ea49303928246f282398d4a561b5fdd": {
      "model_module": "@jupyter-widgets/controls",
      "model_module_version": "1.5.0",
      "model_name": "HBoxModel",
      "state": {
       "children": [
        "IPY_MODEL_0b2b11103cbf43e9ad8c3ccfec651b0a",
        "IPY_MODEL_228ae379b2e24b6386d67363e90d6d45"
       ],
       "layout": "IPY_MODEL_c82f7e800b0c46afb56bb0c7fa2823a0"
      }
     },
     "3eb6ca8dbde149b18a310ea6380e7fd2": {
      "model_module": "@jupyter-widgets/controls",
      "model_module_version": "1.5.0",
      "model_name": "HTMLModel",
      "state": {
       "layout": "IPY_MODEL_dcf39efeba6141b884d0998f0a356d31",
       "style": "IPY_MODEL_a932e9b8b1214d4b8930a9a98a69e0e8",
       "value": "100% 750/750 [00:00&lt;00:00, 914.58it/s]"
      }
     },
     "3ebc57a511e041ca834cb5ff0b6b4a8e": {
      "model_module": "@jupyter-widgets/base",
      "model_module_version": "1.2.0",
      "model_name": "LayoutModel",
      "state": {}
     },
     "3f1498903c184a2889c5eff111eca194": {
      "model_module": "@jupyter-widgets/controls",
      "model_module_version": "1.5.0",
      "model_name": "DescriptionStyleModel",
      "state": {
       "description_width": ""
      }
     },
     "402e5c321f074fd29083d27567365ecd": {
      "model_module": "@jupyter-widgets/controls",
      "model_module_version": "1.5.0",
      "model_name": "HTMLModel",
      "state": {
       "layout": "IPY_MODEL_baa9b6237d054fa6be5aba3d890be3d9",
       "style": "IPY_MODEL_f5d0759a6dcf4b9a8bc498b22ec6a66e",
       "value": "100% 750/750 [00:01&lt;00:00, 546.87it/s]"
      }
     },
     "40598135198f474ca69fb1edbd939a99": {
      "model_module": "@jupyter-widgets/base",
      "model_module_version": "1.2.0",
      "model_name": "LayoutModel",
      "state": {}
     },
     "4095310238264a1583a4d09ec2fd9f27": {
      "model_module": "@jupyter-widgets/base",
      "model_module_version": "1.2.0",
      "model_name": "LayoutModel",
      "state": {}
     },
     "40db08b6a69c4c829e3ef9467c2ea624": {
      "model_module": "@jupyter-widgets/controls",
      "model_module_version": "1.5.0",
      "model_name": "HBoxModel",
      "state": {
       "children": [
        "IPY_MODEL_b433db3eccd84d6badcbfe135fa04bf6",
        "IPY_MODEL_e6217b6dee7d42dd977f57b531ede2cf"
       ],
       "layout": "IPY_MODEL_dc2d6f64822a497daee12820ed234f18"
      }
     },
     "4109cf99b3a84a96adfd49188575a893": {
      "model_module": "@jupyter-widgets/controls",
      "model_module_version": "1.5.0",
      "model_name": "IntProgressModel",
      "state": {
       "bar_style": "success",
       "description": "Epoch 20/20 : ",
       "layout": "IPY_MODEL_ece9e0e54aaa4415b1233640d9e16f9c",
       "max": 750,
       "style": "IPY_MODEL_ce8c8fb12246436e8968e18ac45dc9a6",
       "value": 750
      }
     },
     "4175983a3c7045f4b2e3549b3c519a7c": {
      "model_module": "@jupyter-widgets/controls",
      "model_module_version": "1.5.0",
      "model_name": "DescriptionStyleModel",
      "state": {
       "description_width": ""
      }
     },
     "417c0e7ca9334d52a5d98587a656b170": {
      "model_module": "@jupyter-widgets/base",
      "model_module_version": "1.2.0",
      "model_name": "LayoutModel",
      "state": {}
     },
     "4193ed87cfa040f39a0a735854f65f6b": {
      "model_module": "@jupyter-widgets/controls",
      "model_module_version": "1.5.0",
      "model_name": "IntProgressModel",
      "state": {
       "bar_style": "success",
       "description": "Epoch 10/20 : ",
       "layout": "IPY_MODEL_b2f177f265ce4bc8b10974a4eb1730f7",
       "max": 750,
       "style": "IPY_MODEL_9975dcaec29940c6ae52cd4c43838b16",
       "value": 750
      }
     },
     "419e0515edb746f3990e7dd1f8621eb4": {
      "model_module": "@jupyter-widgets/controls",
      "model_module_version": "1.5.0",
      "model_name": "HBoxModel",
      "state": {
       "children": [
        "IPY_MODEL_4109cf99b3a84a96adfd49188575a893",
        "IPY_MODEL_85156aea2040489c8a8b059c15accc5c"
       ],
       "layout": "IPY_MODEL_877c1f2b578e43a59d7df7299a267b14"
      }
     },
     "428bfeff603a49379e8c33b6eab8c468": {
      "model_module": "@jupyter-widgets/base",
      "model_module_version": "1.2.0",
      "model_name": "LayoutModel",
      "state": {}
     },
     "42e32ffb893548038d087dd4362ecb31": {
      "model_module": "@jupyter-widgets/base",
      "model_module_version": "1.2.0",
      "model_name": "LayoutModel",
      "state": {}
     },
     "43057bc0147d491cb0252274010c5c57": {
      "model_module": "@jupyter-widgets/controls",
      "model_module_version": "1.5.0",
      "model_name": "HBoxModel",
      "state": {
       "children": [
        "IPY_MODEL_3b11ea4309084a4badb4320468481706",
        "IPY_MODEL_bee2bf1f45a3470e81151afa0986cf70"
       ],
       "layout": "IPY_MODEL_590714b8ee614a79b5677e04ac88bd6d"
      }
     },
     "433614e437cd4221976b16a8e1c8b7a8": {
      "model_module": "@jupyter-widgets/controls",
      "model_module_version": "1.5.0",
      "model_name": "ProgressStyleModel",
      "state": {
       "description_width": "initial"
      }
     },
     "43acdaeac5634b049fc7e9ff3160acc6": {
      "model_module": "@jupyter-widgets/controls",
      "model_module_version": "1.5.0",
      "model_name": "HTMLModel",
      "state": {
       "layout": "IPY_MODEL_a519315f8f51429b9224ecef3ce92222",
       "style": "IPY_MODEL_6f51f4ed942d4feda735b3692138fc3e",
       "value": "100% 750/750 [00:00&lt;00:00, 1065.16it/s]"
      }
     },
     "4407d366de534fe588f0bdc6b512fb8c": {
      "model_module": "@jupyter-widgets/controls",
      "model_module_version": "1.5.0",
      "model_name": "DescriptionStyleModel",
      "state": {
       "description_width": ""
      }
     },
     "44493157116045c89209f099d845443d": {
      "model_module": "@jupyter-widgets/base",
      "model_module_version": "1.2.0",
      "model_name": "LayoutModel",
      "state": {}
     },
     "448a1eff7a38400fb5bf62184c579cbf": {
      "model_module": "@jupyter-widgets/controls",
      "model_module_version": "1.5.0",
      "model_name": "IntProgressModel",
      "state": {
       "bar_style": "success",
       "description": "Epoch 19/20 : ",
       "layout": "IPY_MODEL_15b40b762a3c42a9930fc7721af1d806",
       "max": 750,
       "style": "IPY_MODEL_ed46134765164e6f953652a631938e34",
       "value": 750
      }
     },
     "44993ac8b7b0407c885e6f8a88c43b5c": {
      "model_module": "@jupyter-widgets/controls",
      "model_module_version": "1.5.0",
      "model_name": "DescriptionStyleModel",
      "state": {
       "description_width": ""
      }
     },
     "44fe4d67457d49e0815f21d5b6bc69ab": {
      "model_module": "@jupyter-widgets/controls",
      "model_module_version": "1.5.0",
      "model_name": "ProgressStyleModel",
      "state": {
       "description_width": "initial"
      }
     },
     "455c4252ee034b7e8774074444a43dfd": {
      "model_module": "@jupyter-widgets/base",
      "model_module_version": "1.2.0",
      "model_name": "LayoutModel",
      "state": {}
     },
     "462980923ff84744bc41b8f279a5706a": {
      "model_module": "@jupyter-widgets/base",
      "model_module_version": "1.2.0",
      "model_name": "LayoutModel",
      "state": {}
     },
     "463ee91940dd46e5805b9aed6f8a8ba3": {
      "model_module": "@jupyter-widgets/controls",
      "model_module_version": "1.5.0",
      "model_name": "ProgressStyleModel",
      "state": {
       "description_width": "initial"
      }
     },
     "46ce7886139642849e754947e18b7989": {
      "model_module": "@jupyter-widgets/controls",
      "model_module_version": "1.5.0",
      "model_name": "IntProgressModel",
      "state": {
       "bar_style": "success",
       "description": "Epoch 20/20 : ",
       "layout": "IPY_MODEL_faa563665d1844f5a1eb76c543e22d07",
       "max": 750,
       "style": "IPY_MODEL_95cd7628d7924b53b983e38da1fad57d",
       "value": 750
      }
     },
     "471e75a2717241698f08b3e79e666d17": {
      "model_module": "@jupyter-widgets/controls",
      "model_module_version": "1.5.0",
      "model_name": "HBoxModel",
      "state": {
       "children": [
        "IPY_MODEL_a69f3bb4672245409a408fb0cd43641c",
        "IPY_MODEL_00bdbd2ee9334532b9419f8df306c165"
       ],
       "layout": "IPY_MODEL_3600f1fa45824a28813f89093485633d"
      }
     },
     "487bc3ecf1ae47bd8766e7a17fa17d4c": {
      "model_module": "@jupyter-widgets/controls",
      "model_module_version": "1.5.0",
      "model_name": "HBoxModel",
      "state": {
       "children": [
        "IPY_MODEL_5a8b38164a1f497cb0a4cc6c24d5158e",
        "IPY_MODEL_402e5c321f074fd29083d27567365ecd"
       ],
       "layout": "IPY_MODEL_2ec47c2ffb354c498556aa1428563019"
      }
     },
     "487bd5b51dc54728aa5785cb9eccfee3": {
      "model_module": "@jupyter-widgets/controls",
      "model_module_version": "1.5.0",
      "model_name": "HTMLModel",
      "state": {
       "layout": "IPY_MODEL_5f1fe676caf642bbbdda7fa649e5c704",
       "style": "IPY_MODEL_92e1a3fd8c4e4c3e9742ffab93a30a9c",
       "value": "100% 750/750 [00:01&lt;00:00, 706.15it/s]"
      }
     },
     "48b25c612462475a9f5a3213804df54f": {
      "model_module": "@jupyter-widgets/base",
      "model_module_version": "1.2.0",
      "model_name": "LayoutModel",
      "state": {}
     },
     "493f26e9af214a60be89a0e599d0f24a": {
      "model_module": "@jupyter-widgets/base",
      "model_module_version": "1.2.0",
      "model_name": "LayoutModel",
      "state": {}
     },
     "4abfdd3fe3db44628afb48a7e7a3acbe": {
      "model_module": "@jupyter-widgets/base",
      "model_module_version": "1.2.0",
      "model_name": "LayoutModel",
      "state": {}
     },
     "4aef5195dd604911a88a8235dadc8d3e": {
      "model_module": "@jupyter-widgets/controls",
      "model_module_version": "1.5.0",
      "model_name": "HTMLModel",
      "state": {
       "layout": "IPY_MODEL_148345060b014b3dbac8c3c54952081a",
       "style": "IPY_MODEL_e4387790b5d847808ed7a3b90e82c29e",
       "value": "100% 750/750 [00:00&lt;00:00, 1182.06it/s]"
      }
     },
     "4b111f3d8bc94048a283b4e3fbbc909e": {
      "model_module": "@jupyter-widgets/controls",
      "model_module_version": "1.5.0",
      "model_name": "DescriptionStyleModel",
      "state": {
       "description_width": ""
      }
     },
     "4b166049c4e444bdb028175ccfc49ac9": {
      "model_module": "@jupyter-widgets/controls",
      "model_module_version": "1.5.0",
      "model_name": "ProgressStyleModel",
      "state": {
       "description_width": "initial"
      }
     },
     "4b19e334d11f45568f5590075fdeed9b": {
      "model_module": "@jupyter-widgets/controls",
      "model_module_version": "1.5.0",
      "model_name": "IntProgressModel",
      "state": {
       "bar_style": "success",
       "description": "Epoch 18/20 : ",
       "layout": "IPY_MODEL_8689f64c0d8748799f6167357a830279",
       "max": 750,
       "style": "IPY_MODEL_0987db99b6cc462fba0e98a3d76b7686",
       "value": 750
      }
     },
     "4b1bd5d0d68e4c529b7af7b9bfb620a7": {
      "model_module": "@jupyter-widgets/controls",
      "model_module_version": "1.5.0",
      "model_name": "ProgressStyleModel",
      "state": {
       "description_width": "initial"
      }
     },
     "4b34fa3473b74b49b055ee8a64d1d66f": {
      "model_module": "@jupyter-widgets/controls",
      "model_module_version": "1.5.0",
      "model_name": "HTMLModel",
      "state": {
       "layout": "IPY_MODEL_86fe65b248a3445b806b7f06afb44cb7",
       "style": "IPY_MODEL_34e16c615e2b484399babeff57706156",
       "value": "100% 750/750 [00:00&lt;00:00, 1347.68it/s]"
      }
     },
     "4b4ce340fbf2466bac058d11e227f0c3": {
      "model_module": "@jupyter-widgets/controls",
      "model_module_version": "1.5.0",
      "model_name": "IntProgressModel",
      "state": {
       "bar_style": "success",
       "description": "Epoch 6/20 : ",
       "layout": "IPY_MODEL_26a41ce012b24690897121d2db56bf21",
       "max": 750,
       "style": "IPY_MODEL_fe25bd49ffbf4109b8dbdc8a32e40b68",
       "value": 750
      }
     },
     "4b6ef1fd97dc4dacb3f154c3cc34ac5c": {
      "model_module": "@jupyter-widgets/controls",
      "model_module_version": "1.5.0",
      "model_name": "HBoxModel",
      "state": {
       "children": [
        "IPY_MODEL_0d6dc7caae46422db1f80cf72cad998f",
        "IPY_MODEL_2c64b3991b554a97b17784cb5d0c3d9f"
       ],
       "layout": "IPY_MODEL_20dda12422db46a5a1df920c7958da98"
      }
     },
     "4c05289592614328ad0fe902b69c4937": {
      "model_module": "@jupyter-widgets/controls",
      "model_module_version": "1.5.0",
      "model_name": "DescriptionStyleModel",
      "state": {
       "description_width": ""
      }
     },
     "4c7a195b6cef468098e4052e47e1977c": {
      "model_module": "@jupyter-widgets/controls",
      "model_module_version": "1.5.0",
      "model_name": "HTMLModel",
      "state": {
       "layout": "IPY_MODEL_1b49b0770844496b91f43ff7e0265b09",
       "style": "IPY_MODEL_06a69bb81d174b5eab0fae25445867ad",
       "value": "100% 750/750 [00:00&lt;00:00, 1299.55it/s]"
      }
     },
     "4c7ff8c0c2d741dbbdf5858a2c6bb221": {
      "model_module": "@jupyter-widgets/base",
      "model_module_version": "1.2.0",
      "model_name": "LayoutModel",
      "state": {}
     },
     "4cb5cf53931648c8839d702ab15a7ca7": {
      "model_module": "@jupyter-widgets/base",
      "model_module_version": "1.2.0",
      "model_name": "LayoutModel",
      "state": {}
     },
     "4ce92f2f982b49c8b56af6c2754281cc": {
      "model_module": "@jupyter-widgets/controls",
      "model_module_version": "1.5.0",
      "model_name": "IntProgressModel",
      "state": {
       "bar_style": "success",
       "description": "Epoch 12/20 : ",
       "layout": "IPY_MODEL_e1d8e52457834bedb3510aa17074d1fe",
       "max": 750,
       "style": "IPY_MODEL_3dbedb80a7fa49a692d305fa1b85a660",
       "value": 750
      }
     },
     "4cecf9f487e44ae5a0cb32b9433690a4": {
      "model_module": "@jupyter-widgets/base",
      "model_module_version": "1.2.0",
      "model_name": "LayoutModel",
      "state": {}
     },
     "4d104568f9a14bbcb31e6d779fabb061": {
      "model_module": "@jupyter-widgets/controls",
      "model_module_version": "1.5.0",
      "model_name": "ProgressStyleModel",
      "state": {
       "description_width": "initial"
      }
     },
     "4d105bcc3bcb493db5a7217cb7618c77": {
      "model_module": "@jupyter-widgets/controls",
      "model_module_version": "1.5.0",
      "model_name": "DescriptionStyleModel",
      "state": {
       "description_width": ""
      }
     },
     "4d5365c19ac34c68ba9312e9cdd7d9cc": {
      "model_module": "@jupyter-widgets/controls",
      "model_module_version": "1.5.0",
      "model_name": "HBoxModel",
      "state": {
       "children": [
        "IPY_MODEL_d3fafdff4b174d39af878866eccb0c74",
        "IPY_MODEL_6edd9f953a2a4dc1b0e8962128926638"
       ],
       "layout": "IPY_MODEL_860ea07306f34d8a853b5a18e0e31e76"
      }
     },
     "4d6a5b8f580b48a480fe2073b3d6453a": {
      "model_module": "@jupyter-widgets/controls",
      "model_module_version": "1.5.0",
      "model_name": "HBoxModel",
      "state": {
       "children": [
        "IPY_MODEL_61c21a9a36a04378a60d7bdb04f09fe9",
        "IPY_MODEL_798952d7b50b4c109d908a3606dd54fe"
       ],
       "layout": "IPY_MODEL_7f7aee907eee4687be3125fec3363b5f"
      }
     },
     "4d83d1f5dfe94e6ba2f52a29a9c89ef1": {
      "model_module": "@jupyter-widgets/base",
      "model_module_version": "1.2.0",
      "model_name": "LayoutModel",
      "state": {}
     },
     "4dc7dff14c67431d8285fa96ecbdb644": {
      "model_module": "@jupyter-widgets/base",
      "model_module_version": "1.2.0",
      "model_name": "LayoutModel",
      "state": {}
     },
     "4e3d78cf7af4464a86100b8fe766875b": {
      "model_module": "@jupyter-widgets/base",
      "model_module_version": "1.2.0",
      "model_name": "LayoutModel",
      "state": {}
     },
     "4edbc261c4744604b7f72c72b5d20e66": {
      "model_module": "@jupyter-widgets/controls",
      "model_module_version": "1.5.0",
      "model_name": "HTMLModel",
      "state": {
       "layout": "IPY_MODEL_6e0e10bf49f24186a0a5e52653da616c",
       "style": "IPY_MODEL_a9765d99b6e84430b27e6fde5b3faac2",
       "value": "100% 750/750 [00:01&lt;00:00, 684.43it/s]"
      }
     },
     "4edee49f1d4646949db5fd72a4465f8d": {
      "model_module": "@jupyter-widgets/base",
      "model_module_version": "1.2.0",
      "model_name": "LayoutModel",
      "state": {}
     },
     "4f2bb583ec8440eb90fde52017be25f2": {
      "model_module": "@jupyter-widgets/base",
      "model_module_version": "1.2.0",
      "model_name": "LayoutModel",
      "state": {}
     },
     "4f2df63d1ed54c66ac7ebead4b38ad40": {
      "model_module": "@jupyter-widgets/base",
      "model_module_version": "1.2.0",
      "model_name": "LayoutModel",
      "state": {}
     },
     "4fb12a1fe2c14548b66b7296019f2312": {
      "model_module": "@jupyter-widgets/base",
      "model_module_version": "1.2.0",
      "model_name": "LayoutModel",
      "state": {}
     },
     "4ff9ee1829894f44af59cfda78e967be": {
      "model_module": "@jupyter-widgets/controls",
      "model_module_version": "1.5.0",
      "model_name": "DescriptionStyleModel",
      "state": {
       "description_width": ""
      }
     },
     "507e1c7f37a3482b9bbccbc9690eb37f": {
      "model_module": "@jupyter-widgets/controls",
      "model_module_version": "1.5.0",
      "model_name": "ProgressStyleModel",
      "state": {
       "description_width": "initial"
      }
     },
     "50b03e9b7c394ccea4310971e3fc869a": {
      "model_module": "@jupyter-widgets/controls",
      "model_module_version": "1.5.0",
      "model_name": "HBoxModel",
      "state": {
       "children": [
        "IPY_MODEL_b5a0aaa3feaa48928b3f850176eb1c55",
        "IPY_MODEL_9e8800ea911d4326b82652e5852889e2"
       ],
       "layout": "IPY_MODEL_e62067e3a4cd4fcebec53904c437aadf"
      }
     },
     "50e6573f84a14cc9be1172ed91ad177b": {
      "model_module": "@jupyter-widgets/controls",
      "model_module_version": "1.5.0",
      "model_name": "IntProgressModel",
      "state": {
       "bar_style": "success",
       "description": "Epoch 5/20 : ",
       "layout": "IPY_MODEL_aae02d3cff1e4a4cb28dec88bd66adcb",
       "max": 750,
       "style": "IPY_MODEL_e4fe5dfba138425a839ae11b97cffc21",
       "value": 750
      }
     },
     "518129098733403f82407e95a766166e": {
      "model_module": "@jupyter-widgets/controls",
      "model_module_version": "1.5.0",
      "model_name": "ProgressStyleModel",
      "state": {
       "description_width": "initial"
      }
     },
     "51b6b35d406e4d2b8a68fcbf2d3ee862": {
      "model_module": "@jupyter-widgets/base",
      "model_module_version": "1.2.0",
      "model_name": "LayoutModel",
      "state": {}
     },
     "51ca272823cc446ba60c443ef9b9bee9": {
      "model_module": "@jupyter-widgets/controls",
      "model_module_version": "1.5.0",
      "model_name": "DescriptionStyleModel",
      "state": {
       "description_width": ""
      }
     },
     "51d28cf2907f46f1998199089d573922": {
      "model_module": "@jupyter-widgets/controls",
      "model_module_version": "1.5.0",
      "model_name": "HTMLModel",
      "state": {
       "layout": "IPY_MODEL_c011fdf7212341c6bdcf48ef498eeb4d",
       "style": "IPY_MODEL_911b50db62b24d48acd1fa365c9a9259",
       "value": "100% 750/750 [00:00&lt;00:00, 1166.20it/s]"
      }
     },
     "52fd4e8b5a3e421c8799a026cb0a59db": {
      "model_module": "@jupyter-widgets/controls",
      "model_module_version": "1.5.0",
      "model_name": "IntProgressModel",
      "state": {
       "bar_style": "success",
       "description": "Epoch 3/20 : ",
       "layout": "IPY_MODEL_fa7fcdfc1dfa4cff87ee0b3d47492211",
       "max": 750,
       "style": "IPY_MODEL_8a9615e2ff5f4e8ea4766c86b2903ac6",
       "value": 750
      }
     },
     "530b0f9292574c7fb70d05ac08f17d79": {
      "model_module": "@jupyter-widgets/controls",
      "model_module_version": "1.5.0",
      "model_name": "IntProgressModel",
      "state": {
       "bar_style": "success",
       "description": "Epoch 9/20 : ",
       "layout": "IPY_MODEL_fcdf667acd9547a795c078018b0c79e5",
       "max": 750,
       "style": "IPY_MODEL_e3e100485ac64d6aa7d98edba0c3e87c",
       "value": 750
      }
     },
     "53564267b6f94a62beb3beb6cf700a9f": {
      "model_module": "@jupyter-widgets/base",
      "model_module_version": "1.2.0",
      "model_name": "LayoutModel",
      "state": {}
     },
     "53b9c3639b6345b8a52273dded44810e": {
      "model_module": "@jupyter-widgets/controls",
      "model_module_version": "1.5.0",
      "model_name": "HBoxModel",
      "state": {
       "children": [
        "IPY_MODEL_c1db6827721746f4a62aab85d98c9310",
        "IPY_MODEL_aa0bc4e6b2d34704bebc0eedc58c557e"
       ],
       "layout": "IPY_MODEL_4abfdd3fe3db44628afb48a7e7a3acbe"
      }
     },
     "53c278c95cc446aca2b4ae43b49a4b34": {
      "model_module": "@jupyter-widgets/controls",
      "model_module_version": "1.5.0",
      "model_name": "ProgressStyleModel",
      "state": {
       "description_width": "initial"
      }
     },
     "547593cdee124f1e8a0ea75404dab105": {
      "model_module": "@jupyter-widgets/controls",
      "model_module_version": "1.5.0",
      "model_name": "HTMLModel",
      "state": {
       "layout": "IPY_MODEL_bc889e909e61455398d7586e6896f72c",
       "style": "IPY_MODEL_cb988764dcf349c292a241e06ab72de7",
       "value": "100% 750/750 [00:00&lt;00:00, 1299.22it/s]"
      }
     },
     "54cccbad7f544b22aa51d4c42864866a": {
      "model_module": "@jupyter-widgets/controls",
      "model_module_version": "1.5.0",
      "model_name": "DescriptionStyleModel",
      "state": {
       "description_width": ""
      }
     },
     "551c8c7b8d94401a829e30964af08959": {
      "model_module": "@jupyter-widgets/controls",
      "model_module_version": "1.5.0",
      "model_name": "IntProgressModel",
      "state": {
       "bar_style": "success",
       "description": "Epoch 11/20 : ",
       "layout": "IPY_MODEL_b89972cb22be4abbb624605c933b4846",
       "max": 750,
       "style": "IPY_MODEL_f3dae3e20bbd40bc8246a8234252cc9e",
       "value": 750
      }
     },
     "55338a3502614635aa605ad1f6eaf3d1": {
      "model_module": "@jupyter-widgets/controls",
      "model_module_version": "1.5.0",
      "model_name": "ProgressStyleModel",
      "state": {
       "description_width": "initial"
      }
     },
     "55706c5461304d39967d2e4f60955e6c": {
      "model_module": "@jupyter-widgets/controls",
      "model_module_version": "1.5.0",
      "model_name": "IntProgressModel",
      "state": {
       "bar_style": "success",
       "description": "Epoch 8/20 : ",
       "layout": "IPY_MODEL_4dc7dff14c67431d8285fa96ecbdb644",
       "max": 750,
       "style": "IPY_MODEL_2c8bb3891f3246e691412aacf49a9688",
       "value": 750
      }
     },
     "56258662e3b54455aed30da3180332d0": {
      "model_module": "@jupyter-widgets/controls",
      "model_module_version": "1.5.0",
      "model_name": "ProgressStyleModel",
      "state": {
       "description_width": "initial"
      }
     },
     "5635a29f6e764a78b677555332a37620": {
      "model_module": "@jupyter-widgets/base",
      "model_module_version": "1.2.0",
      "model_name": "LayoutModel",
      "state": {}
     },
     "5637665b03d144dc9b90a82d7ba02991": {
      "model_module": "@jupyter-widgets/controls",
      "model_module_version": "1.5.0",
      "model_name": "HBoxModel",
      "state": {
       "children": [
        "IPY_MODEL_717c70b2c10d492ea47eacb2267f5cce",
        "IPY_MODEL_dc7cb843236d48b0a71d8ff6c56b09b0"
       ],
       "layout": "IPY_MODEL_d5e947edba014d39a39084d3df29ba26"
      }
     },
     "5669d79906474482a776dfbd01919b52": {
      "model_module": "@jupyter-widgets/controls",
      "model_module_version": "1.5.0",
      "model_name": "DescriptionStyleModel",
      "state": {
       "description_width": ""
      }
     },
     "566bfcf522af48aca92615a6e56ecdb3": {
      "model_module": "@jupyter-widgets/controls",
      "model_module_version": "1.5.0",
      "model_name": "DescriptionStyleModel",
      "state": {
       "description_width": ""
      }
     },
     "572759117bb44989ba8ce6ad24f2553f": {
      "model_module": "@jupyter-widgets/base",
      "model_module_version": "1.2.0",
      "model_name": "LayoutModel",
      "state": {}
     },
     "5735773fa198401eb8343b0eeecd49c0": {
      "model_module": "@jupyter-widgets/base",
      "model_module_version": "1.2.0",
      "model_name": "LayoutModel",
      "state": {}
     },
     "577341bb29ec47f9b4e989e5e1190b45": {
      "model_module": "@jupyter-widgets/base",
      "model_module_version": "1.2.0",
      "model_name": "LayoutModel",
      "state": {}
     },
     "57bcbb7a3b7149f982f9c1659c21b9db": {
      "model_module": "@jupyter-widgets/base",
      "model_module_version": "1.2.0",
      "model_name": "LayoutModel",
      "state": {}
     },
     "589c46597d1643f68f58cdaef10a6424": {
      "model_module": "@jupyter-widgets/controls",
      "model_module_version": "1.5.0",
      "model_name": "IntProgressModel",
      "state": {
       "bar_style": "success",
       "description": "Epoch 9/20 : ",
       "layout": "IPY_MODEL_9ff1ca36ace74c3abe41bdfa63c9486e",
       "max": 750,
       "style": "IPY_MODEL_970eaf7241a147dba954a2293c2c20bd",
       "value": 750
      }
     },
     "589db740581f4d69ad1e117fa649f881": {
      "model_module": "@jupyter-widgets/controls",
      "model_module_version": "1.5.0",
      "model_name": "IntProgressModel",
      "state": {
       "bar_style": "success",
       "description": "Epoch 11/20 : ",
       "layout": "IPY_MODEL_3469ba0b6aed458e9453336d9fd8d606",
       "max": 750,
       "style": "IPY_MODEL_e6910d6f99de4971b7b03d08dd32d2b7",
       "value": 750
      }
     },
     "58ef0260fa8f4e969c9d990c9a0babfa": {
      "model_module": "@jupyter-widgets/controls",
      "model_module_version": "1.5.0",
      "model_name": "HTMLModel",
      "state": {
       "layout": "IPY_MODEL_48b25c612462475a9f5a3213804df54f",
       "style": "IPY_MODEL_11a64dbdda81496d84ecbd1966133dce",
       "value": "100% 750/750 [00:00&lt;00:00, 1158.13it/s]"
      }
     },
     "590714b8ee614a79b5677e04ac88bd6d": {
      "model_module": "@jupyter-widgets/base",
      "model_module_version": "1.2.0",
      "model_name": "LayoutModel",
      "state": {}
     },
     "59407e90cdbe41369d9b03f54ed5eaba": {
      "model_module": "@jupyter-widgets/controls",
      "model_module_version": "1.5.0",
      "model_name": "DescriptionStyleModel",
      "state": {
       "description_width": ""
      }
     },
     "5953573a9aef498587ffec447bdefac2": {
      "model_module": "@jupyter-widgets/controls",
      "model_module_version": "1.5.0",
      "model_name": "HBoxModel",
      "state": {
       "children": [
        "IPY_MODEL_ad2530595a0c4a758f7915e7386e683e",
        "IPY_MODEL_4b34fa3473b74b49b055ee8a64d1d66f"
       ],
       "layout": "IPY_MODEL_65a13e9ad4e2474e99dcec9260927098"
      }
     },
     "597f012c51c6455a8ca0948d32ca4408": {
      "model_module": "@jupyter-widgets/controls",
      "model_module_version": "1.5.0",
      "model_name": "HTMLModel",
      "state": {
       "layout": "IPY_MODEL_2e69923a8f244f66b372d2f97f094bb9",
       "style": "IPY_MODEL_78d5aeb28a2d47c5b4e7b98dd7300b92",
       "value": "100% 750/750 [00:01&lt;00:00, 719.39it/s]"
      }
     },
     "599bd4d9d2a6498fa1197684b2d28e87": {
      "model_module": "@jupyter-widgets/base",
      "model_module_version": "1.2.0",
      "model_name": "LayoutModel",
      "state": {}
     },
     "59b82d35973d45e9ba73c3ef6db1600f": {
      "model_module": "@jupyter-widgets/controls",
      "model_module_version": "1.5.0",
      "model_name": "IntProgressModel",
      "state": {
       "bar_style": "success",
       "description": "Epoch 11/20 : ",
       "layout": "IPY_MODEL_b9ceb19264c64a6d8e6810d5c2e30e1d",
       "max": 750,
       "style": "IPY_MODEL_b822c04dc9a64ea99882f8820741f842",
       "value": 750
      }
     },
     "5a1e39bb7df24a7682e19264f1f03a7d": {
      "model_module": "@jupyter-widgets/controls",
      "model_module_version": "1.5.0",
      "model_name": "HBoxModel",
      "state": {
       "children": [
        "IPY_MODEL_589db740581f4d69ad1e117fa649f881",
        "IPY_MODEL_703c8f9951c5444498463eb3b01463e0"
       ],
       "layout": "IPY_MODEL_738f813d90c3495786746152cb67d350"
      }
     },
     "5a1f77d3c3154a8194e2b38ea2be51fe": {
      "model_module": "@jupyter-widgets/controls",
      "model_module_version": "1.5.0",
      "model_name": "ProgressStyleModel",
      "state": {
       "description_width": "initial"
      }
     },
     "5a87d718059a40a8b4b2989159fb84dd": {
      "model_module": "@jupyter-widgets/controls",
      "model_module_version": "1.5.0",
      "model_name": "IntProgressModel",
      "state": {
       "bar_style": "success",
       "description": "Epoch 19/20 : ",
       "layout": "IPY_MODEL_8953d450b7484f03aff3471db1094537",
       "max": 750,
       "style": "IPY_MODEL_6d6c7294ca2a4ae59e043ae0a03eb074",
       "value": 750
      }
     },
     "5a8b38164a1f497cb0a4cc6c24d5158e": {
      "model_module": "@jupyter-widgets/controls",
      "model_module_version": "1.5.0",
      "model_name": "IntProgressModel",
      "state": {
       "bar_style": "success",
       "description": "Epoch 15/20 : ",
       "layout": "IPY_MODEL_68151baf0e9c4087a9fbd23ab96c1b9b",
       "max": 750,
       "style": "IPY_MODEL_df267d8e2ee04693968f79f6ed36ce90",
       "value": 750
      }
     },
     "5afafb9dc5d640e6a8d40b3f264d4679": {
      "model_module": "@jupyter-widgets/base",
      "model_module_version": "1.2.0",
      "model_name": "LayoutModel",
      "state": {}
     },
     "5b34eea1d9be402b96443d2e328958fd": {
      "model_module": "@jupyter-widgets/base",
      "model_module_version": "1.2.0",
      "model_name": "LayoutModel",
      "state": {}
     },
     "5b371900e9384a96ac2513f2646444e5": {
      "model_module": "@jupyter-widgets/controls",
      "model_module_version": "1.5.0",
      "model_name": "HBoxModel",
      "state": {
       "children": [
        "IPY_MODEL_35d7af8af50f4bd8b634b1131d4c6612",
        "IPY_MODEL_9f59d45d2b424f61947178e29c214629"
       ],
       "layout": "IPY_MODEL_0eb943c0f1814d8b848cd544eb388fe1"
      }
     },
     "5b4012eee0854ed2b2b4639e412ec999": {
      "model_module": "@jupyter-widgets/controls",
      "model_module_version": "1.5.0",
      "model_name": "HTMLModel",
      "state": {
       "layout": "IPY_MODEL_5d267b8e900f42dcba5b1d4e748396b6",
       "style": "IPY_MODEL_cb9ac08729eb415190b32fe8b7593310",
       "value": "100% 750/750 [00:00&lt;00:00, 1489.24it/s]"
      }
     },
     "5c1c54b733c24537b9d6832de2722172": {
      "model_module": "@jupyter-widgets/controls",
      "model_module_version": "1.5.0",
      "model_name": "HTMLModel",
      "state": {
       "layout": "IPY_MODEL_88eaec332b96436bb1f59f0628f7f327",
       "style": "IPY_MODEL_e4bc827fd3904f819dd305ee5f739acb",
       "value": "100% 750/750 [00:00&lt;00:00, 1302.19it/s]"
      }
     },
     "5c2a44693a91427f86a045548db3107b": {
      "model_module": "@jupyter-widgets/controls",
      "model_module_version": "1.5.0",
      "model_name": "HBoxModel",
      "state": {
       "children": [
        "IPY_MODEL_b18b1d8df6344b8d8f922bbac9788bdc",
        "IPY_MODEL_cd9fedbbce0b4d5a940d52cc5d383c12"
       ],
       "layout": "IPY_MODEL_755e7172b862425f97df5d9c134663ef"
      }
     },
     "5c6db4096e7643288abf07760caa5df4": {
      "model_module": "@jupyter-widgets/controls",
      "model_module_version": "1.5.0",
      "model_name": "HTMLModel",
      "state": {
       "layout": "IPY_MODEL_bb005e0be1ef4236886d436aa4019bb9",
       "style": "IPY_MODEL_fc544c293238465891577e902812d224",
       "value": "100% 750/750 [00:00&lt;00:00, 805.99it/s]"
      }
     },
     "5c6edd8e56fe46a190d131202cc3d2d6": {
      "model_module": "@jupyter-widgets/controls",
      "model_module_version": "1.5.0",
      "model_name": "ProgressStyleModel",
      "state": {
       "description_width": "initial"
      }
     },
     "5d267b8e900f42dcba5b1d4e748396b6": {
      "model_module": "@jupyter-widgets/base",
      "model_module_version": "1.2.0",
      "model_name": "LayoutModel",
      "state": {}
     },
     "5d3386ceee5b4cdaa89b652de89ac4f1": {
      "model_module": "@jupyter-widgets/controls",
      "model_module_version": "1.5.0",
      "model_name": "HBoxModel",
      "state": {
       "children": [
        "IPY_MODEL_db4ab46ac2d4403d94e1ff935da1aada",
        "IPY_MODEL_7be8b73646e94d22abe475d288d4b1c9"
       ],
       "layout": "IPY_MODEL_f3bd347e0b0f4a3fb97c728330210b26"
      }
     },
     "5d63257a0adf43d597eaa434e414fea9": {
      "model_module": "@jupyter-widgets/base",
      "model_module_version": "1.2.0",
      "model_name": "LayoutModel",
      "state": {}
     },
     "5d78553210c844cdaf5bd503aacf638b": {
      "model_module": "@jupyter-widgets/base",
      "model_module_version": "1.2.0",
      "model_name": "LayoutModel",
      "state": {}
     },
     "5e0c78cb3d2d460f9b30a40d3730b3cd": {
      "model_module": "@jupyter-widgets/base",
      "model_module_version": "1.2.0",
      "model_name": "LayoutModel",
      "state": {}
     },
     "5e4c4ac7244f4a34ae3893658b880889": {
      "model_module": "@jupyter-widgets/controls",
      "model_module_version": "1.5.0",
      "model_name": "DescriptionStyleModel",
      "state": {
       "description_width": ""
      }
     },
     "5e56b022d9424ad48001beeaf7dd1d1b": {
      "model_module": "@jupyter-widgets/controls",
      "model_module_version": "1.5.0",
      "model_name": "DescriptionStyleModel",
      "state": {
       "description_width": ""
      }
     },
     "5eef24d31d0f449b82b54638d42e3432": {
      "model_module": "@jupyter-widgets/controls",
      "model_module_version": "1.5.0",
      "model_name": "DescriptionStyleModel",
      "state": {
       "description_width": ""
      }
     },
     "5f1fe676caf642bbbdda7fa649e5c704": {
      "model_module": "@jupyter-widgets/base",
      "model_module_version": "1.2.0",
      "model_name": "LayoutModel",
      "state": {}
     },
     "5f2ab2d9382c4ae0aecf3e96b11ebd01": {
      "model_module": "@jupyter-widgets/controls",
      "model_module_version": "1.5.0",
      "model_name": "DescriptionStyleModel",
      "state": {
       "description_width": ""
      }
     },
     "5f86c80111ef40d1b4d14aa5f4b80f81": {
      "model_module": "@jupyter-widgets/controls",
      "model_module_version": "1.5.0",
      "model_name": "ProgressStyleModel",
      "state": {
       "description_width": "initial"
      }
     },
     "5fd4e2df23c64fe58c765b900499e92e": {
      "model_module": "@jupyter-widgets/base",
      "model_module_version": "1.2.0",
      "model_name": "LayoutModel",
      "state": {}
     },
     "5fe465bfbed34a19835df0fba2acefe2": {
      "model_module": "@jupyter-widgets/controls",
      "model_module_version": "1.5.0",
      "model_name": "HTMLModel",
      "state": {
       "layout": "IPY_MODEL_c3b45944806042a9b39db6b69fb90da7",
       "style": "IPY_MODEL_4b111f3d8bc94048a283b4e3fbbc909e",
       "value": "100% 750/750 [00:00&lt;00:00, 1400.52it/s]"
      }
     },
     "5ffc4d9927334de39b39bbf306077f2c": {
      "model_module": "@jupyter-widgets/controls",
      "model_module_version": "1.5.0",
      "model_name": "HTMLModel",
      "state": {
       "layout": "IPY_MODEL_6be7702f28f4453e97b34ee4e1efaea2",
       "style": "IPY_MODEL_87826c4b657d42199073446838823e04",
       "value": "100% 750/750 [00:00&lt;00:00, 1459.67it/s]"
      }
     },
     "601d53d890424d228fffa8d2c2205aba": {
      "model_module": "@jupyter-widgets/controls",
      "model_module_version": "1.5.0",
      "model_name": "HBoxModel",
      "state": {
       "children": [
        "IPY_MODEL_6ebd69bbaf4e4a309f8ce6acc3614a21",
        "IPY_MODEL_ee55eab6b5634863b0f7497dc9bd2a7f"
       ],
       "layout": "IPY_MODEL_ff86074e3ba74bb78fc7320b92f8737b"
      }
     },
     "604bc7fc74b047aa9c3386db44f15fb2": {
      "model_module": "@jupyter-widgets/base",
      "model_module_version": "1.2.0",
      "model_name": "LayoutModel",
      "state": {}
     },
     "608a5afe244142508ffa9264fbf18f1b": {
      "model_module": "@jupyter-widgets/controls",
      "model_module_version": "1.5.0",
      "model_name": "HBoxModel",
      "state": {
       "children": [
        "IPY_MODEL_0f1dc16d95b041d9a20bac6ccbf13877",
        "IPY_MODEL_fdd8783256e34a7da03e9423d67e20bb"
       ],
       "layout": "IPY_MODEL_626eda2f02ab423aa020603d21d94862"
      }
     },
     "60a97b0fc6ab46d59301a482e6259a3c": {
      "model_module": "@jupyter-widgets/controls",
      "model_module_version": "1.5.0",
      "model_name": "HBoxModel",
      "state": {
       "children": [
        "IPY_MODEL_e0cdb66e04014cca83d146ea3230a8a2",
        "IPY_MODEL_015bc4f9b6e741cfa5b9afc2df176759"
       ],
       "layout": "IPY_MODEL_c5bf3ed5a7f74fc4974322532be074f8"
      }
     },
     "60b731da84f74ff6a0a2276a178026d7": {
      "model_module": "@jupyter-widgets/base",
      "model_module_version": "1.2.0",
      "model_name": "LayoutModel",
      "state": {}
     },
     "60bd433164d44e56951fe23ef7e9ee40": {
      "model_module": "@jupyter-widgets/controls",
      "model_module_version": "1.5.0",
      "model_name": "ProgressStyleModel",
      "state": {
       "description_width": "initial"
      }
     },
     "60d1b34ccde4403f81985995b614fcfb": {
      "model_module": "@jupyter-widgets/controls",
      "model_module_version": "1.5.0",
      "model_name": "IntProgressModel",
      "state": {
       "bar_style": "success",
       "description": "Epoch 8/20 : ",
       "layout": "IPY_MODEL_3409fd57931a460ea61c307d04b66f0a",
       "max": 750,
       "style": "IPY_MODEL_53c278c95cc446aca2b4ae43b49a4b34",
       "value": 750
      }
     },
     "60dbb092aed34046ae085e71ddaa33bd": {
      "model_module": "@jupyter-widgets/controls",
      "model_module_version": "1.5.0",
      "model_name": "HBoxModel",
      "state": {
       "children": [
        "IPY_MODEL_e2f9982bda9d4059a396bedec3821d0e",
        "IPY_MODEL_72d3b663c78146a8816a22a2cb0584c7"
       ],
       "layout": "IPY_MODEL_abd69a7e8c7c4866b7e67914ca7a5e44"
      }
     },
     "60e77684d34e43a99e77442abd352c09": {
      "model_module": "@jupyter-widgets/controls",
      "model_module_version": "1.5.0",
      "model_name": "HBoxModel",
      "state": {
       "children": [
        "IPY_MODEL_981abbb03fad49a5976d444658de3d2b",
        "IPY_MODEL_af0f18fd138741c185504895a52e6fc4"
       ],
       "layout": "IPY_MODEL_905253acb9e549c7802c65beeb4e10fa"
      }
     },
     "61be76c5500f4b7da4f863a5b2ab4df8": {
      "model_module": "@jupyter-widgets/base",
      "model_module_version": "1.2.0",
      "model_name": "LayoutModel",
      "state": {}
     },
     "61c21a9a36a04378a60d7bdb04f09fe9": {
      "model_module": "@jupyter-widgets/controls",
      "model_module_version": "1.5.0",
      "model_name": "IntProgressModel",
      "state": {
       "bar_style": "success",
       "description": "Epoch 5/20 : ",
       "layout": "IPY_MODEL_a87a4ea62b1949a195eedad1f27af098",
       "max": 750,
       "style": "IPY_MODEL_dac2ef4e984b47a28672e3c22541f8ea",
       "value": 750
      }
     },
     "62132e140d24433fb96f88c02f863f50": {
      "model_module": "@jupyter-widgets/base",
      "model_module_version": "1.2.0",
      "model_name": "LayoutModel",
      "state": {}
     },
     "6266edfd0a444c12928331df69a068de": {
      "model_module": "@jupyter-widgets/controls",
      "model_module_version": "1.5.0",
      "model_name": "IntProgressModel",
      "state": {
       "bar_style": "success",
       "description": "Epoch 12/20 : ",
       "layout": "IPY_MODEL_3ebc57a511e041ca834cb5ff0b6b4a8e",
       "max": 750,
       "style": "IPY_MODEL_a87860ef038a4fd5adbc6725f4360345",
       "value": 750
      }
     },
     "626eda2f02ab423aa020603d21d94862": {
      "model_module": "@jupyter-widgets/base",
      "model_module_version": "1.2.0",
      "model_name": "LayoutModel",
      "state": {}
     },
     "62b8f13aa0f4413fb42d696291e991f4": {
      "model_module": "@jupyter-widgets/base",
      "model_module_version": "1.2.0",
      "model_name": "LayoutModel",
      "state": {}
     },
     "62dd90ae02f0473e99adfd2092616545": {
      "model_module": "@jupyter-widgets/base",
      "model_module_version": "1.2.0",
      "model_name": "LayoutModel",
      "state": {}
     },
     "6364fa6374a2400bb4d34a579669a5e9": {
      "model_module": "@jupyter-widgets/controls",
      "model_module_version": "1.5.0",
      "model_name": "IntProgressModel",
      "state": {
       "bar_style": "success",
       "description": "Epoch 16/20 : ",
       "layout": "IPY_MODEL_e41ac85716d34dae8381d62a7c1ce6d5",
       "max": 750,
       "style": "IPY_MODEL_b433e479cf984ce1b6c2a560eeaa4ee6",
       "value": 750
      }
     },
     "63c65d70f86e42748898ea14488754f2": {
      "model_module": "@jupyter-widgets/controls",
      "model_module_version": "1.5.0",
      "model_name": "HBoxModel",
      "state": {
       "children": [
        "IPY_MODEL_eeca25f1af0641f2b1737053c9041bd0",
        "IPY_MODEL_2dd80919c97d46baa8f2218c7f39d981"
       ],
       "layout": "IPY_MODEL_b44651186cb04285ae43a932cc1da1fd"
      }
     },
     "63ea866ea15d415f96924776569a21f7": {
      "model_module": "@jupyter-widgets/controls",
      "model_module_version": "1.5.0",
      "model_name": "DescriptionStyleModel",
      "state": {
       "description_width": ""
      }
     },
     "6401070753cb46c486c41601553bd45f": {
      "model_module": "@jupyter-widgets/controls",
      "model_module_version": "1.5.0",
      "model_name": "HBoxModel",
      "state": {
       "children": [
        "IPY_MODEL_9883ced330f14eb7a152427af3a7f1f8",
        "IPY_MODEL_5c1c54b733c24537b9d6832de2722172"
       ],
       "layout": "IPY_MODEL_de25c2c43ffd4cca9ffe79c7f7cbc28a"
      }
     },
     "64d80a8119224c72986df4023f2bfd6a": {
      "model_module": "@jupyter-widgets/base",
      "model_module_version": "1.2.0",
      "model_name": "LayoutModel",
      "state": {}
     },
     "65a13e9ad4e2474e99dcec9260927098": {
      "model_module": "@jupyter-widgets/base",
      "model_module_version": "1.2.0",
      "model_name": "LayoutModel",
      "state": {}
     },
     "68151baf0e9c4087a9fbd23ab96c1b9b": {
      "model_module": "@jupyter-widgets/base",
      "model_module_version": "1.2.0",
      "model_name": "LayoutModel",
      "state": {}
     },
     "685b3d168174456a9a4813470f8dc58a": {
      "model_module": "@jupyter-widgets/base",
      "model_module_version": "1.2.0",
      "model_name": "LayoutModel",
      "state": {}
     },
     "68e0a30aa0ca4c42bb2accf4aade111c": {
      "model_module": "@jupyter-widgets/controls",
      "model_module_version": "1.5.0",
      "model_name": "HTMLModel",
      "state": {
       "layout": "IPY_MODEL_2d98362593e94a5d9f09fe2ca89dd999",
       "style": "IPY_MODEL_ee85e1c2185a4c02b28e58b9c9e18b05",
       "value": "100% 750/750 [00:00&lt;00:00, 936.59it/s]"
      }
     },
     "6915b33fb6554856b434e06d4fe72b68": {
      "model_module": "@jupyter-widgets/controls",
      "model_module_version": "1.5.0",
      "model_name": "ProgressStyleModel",
      "state": {
       "description_width": "initial"
      }
     },
     "695abd2c44f4414587ec3dba2553fff1": {
      "model_module": "@jupyter-widgets/controls",
      "model_module_version": "1.5.0",
      "model_name": "DescriptionStyleModel",
      "state": {
       "description_width": ""
      }
     },
     "69928caebddb42aaa9b117dc52bf32bd": {
      "model_module": "@jupyter-widgets/controls",
      "model_module_version": "1.5.0",
      "model_name": "HBoxModel",
      "state": {
       "children": [
        "IPY_MODEL_832879d4da9b49edb5031c767cdfe062",
        "IPY_MODEL_959944d0737d47feb47542233660bbbc"
       ],
       "layout": "IPY_MODEL_c5c4184d3e884ec7aa190e77381d1e84"
      }
     },
     "69b422978ed347a3be79e0ef79e38536": {
      "model_module": "@jupyter-widgets/controls",
      "model_module_version": "1.5.0",
      "model_name": "HTMLModel",
      "state": {
       "layout": "IPY_MODEL_685b3d168174456a9a4813470f8dc58a",
       "style": "IPY_MODEL_0402c3e96ef342c19d24bc6705221c4b",
       "value": "100% 750/750 [00:00&lt;00:00, 1358.27it/s]"
      }
     },
     "69e0c358accd41c6b787172cdc6547c8": {
      "model_module": "@jupyter-widgets/base",
      "model_module_version": "1.2.0",
      "model_name": "LayoutModel",
      "state": {}
     },
     "6a0451f5557b41c2bfad7b9fc5d9a9fb": {
      "model_module": "@jupyter-widgets/controls",
      "model_module_version": "1.5.0",
      "model_name": "IntProgressModel",
      "state": {
       "bar_style": "success",
       "description": "Epoch 18/20 : ",
       "layout": "IPY_MODEL_9c6ac2223b5243028fb6a0734028c1ae",
       "max": 750,
       "style": "IPY_MODEL_60bd433164d44e56951fe23ef7e9ee40",
       "value": 750
      }
     },
     "6a28765cd37b4194a6ad98f129707995": {
      "model_module": "@jupyter-widgets/base",
      "model_module_version": "1.2.0",
      "model_name": "LayoutModel",
      "state": {}
     },
     "6aacf113191c4a43bb702e3000562e2d": {
      "model_module": "@jupyter-widgets/base",
      "model_module_version": "1.2.0",
      "model_name": "LayoutModel",
      "state": {}
     },
     "6b5bee66d19a47479a1a127edcdd11b3": {
      "model_module": "@jupyter-widgets/base",
      "model_module_version": "1.2.0",
      "model_name": "LayoutModel",
      "state": {}
     },
     "6baf049a58b84c0994f8e82f63a6337d": {
      "model_module": "@jupyter-widgets/controls",
      "model_module_version": "1.5.0",
      "model_name": "ProgressStyleModel",
      "state": {
       "description_width": "initial"
      }
     },
     "6be5e1bc2b4847b3811c42e6aa71ecea": {
      "model_module": "@jupyter-widgets/base",
      "model_module_version": "1.2.0",
      "model_name": "LayoutModel",
      "state": {}
     },
     "6be7702f28f4453e97b34ee4e1efaea2": {
      "model_module": "@jupyter-widgets/base",
      "model_module_version": "1.2.0",
      "model_name": "LayoutModel",
      "state": {}
     },
     "6c95a124744b4f4ea101a4c0562a442e": {
      "model_module": "@jupyter-widgets/controls",
      "model_module_version": "1.5.0",
      "model_name": "ProgressStyleModel",
      "state": {
       "description_width": "initial"
      }
     },
     "6cd2625dfd854aa09efc4a745147ce2e": {
      "model_module": "@jupyter-widgets/controls",
      "model_module_version": "1.5.0",
      "model_name": "ProgressStyleModel",
      "state": {
       "description_width": "initial"
      }
     },
     "6d03f45ba1564c908a1b622356437c24": {
      "model_module": "@jupyter-widgets/controls",
      "model_module_version": "1.5.0",
      "model_name": "IntProgressModel",
      "state": {
       "bar_style": "success",
       "description": "Epoch 6/20 : ",
       "layout": "IPY_MODEL_38bb4fad22e84ed5896025bec3651069",
       "max": 750,
       "style": "IPY_MODEL_cdecaba210414702b7e201cb1dc44a8e",
       "value": 750
      }
     },
     "6d6c7294ca2a4ae59e043ae0a03eb074": {
      "model_module": "@jupyter-widgets/controls",
      "model_module_version": "1.5.0",
      "model_name": "ProgressStyleModel",
      "state": {
       "description_width": "initial"
      }
     },
     "6e0e10bf49f24186a0a5e52653da616c": {
      "model_module": "@jupyter-widgets/base",
      "model_module_version": "1.2.0",
      "model_name": "LayoutModel",
      "state": {}
     },
     "6e55a9e7739f44a197621afcff97bb3a": {
      "model_module": "@jupyter-widgets/base",
      "model_module_version": "1.2.0",
      "model_name": "LayoutModel",
      "state": {}
     },
     "6e9851ffc4cc458aa7ce1057f98146bb": {
      "model_module": "@jupyter-widgets/base",
      "model_module_version": "1.2.0",
      "model_name": "LayoutModel",
      "state": {}
     },
     "6eb66f51a02c4c32beb17047ad08636c": {
      "model_module": "@jupyter-widgets/base",
      "model_module_version": "1.2.0",
      "model_name": "LayoutModel",
      "state": {}
     },
     "6ebd69bbaf4e4a309f8ce6acc3614a21": {
      "model_module": "@jupyter-widgets/controls",
      "model_module_version": "1.5.0",
      "model_name": "IntProgressModel",
      "state": {
       "bar_style": "success",
       "description": "Epoch 6/20 : ",
       "layout": "IPY_MODEL_57bcbb7a3b7149f982f9c1659c21b9db",
       "max": 750,
       "style": "IPY_MODEL_3e83e13c9dd74d938d2c949968dffdff",
       "value": 750
      }
     },
     "6edd9f953a2a4dc1b0e8962128926638": {
      "model_module": "@jupyter-widgets/controls",
      "model_module_version": "1.5.0",
      "model_name": "HTMLModel",
      "state": {
       "layout": "IPY_MODEL_992c026fbf3444f4b49b6ff47214770e",
       "style": "IPY_MODEL_902f5ebc6b4c404a88f9a86a62802bf7",
       "value": "100% 750/750 [00:01&lt;00:00, 626.12it/s]"
      }
     },
     "6f16d04a616a47f0acb90ed8b59bf6af": {
      "model_module": "@jupyter-widgets/base",
      "model_module_version": "1.2.0",
      "model_name": "LayoutModel",
      "state": {}
     },
     "6f405d27e74d487e8f9e310a54f77420": {
      "model_module": "@jupyter-widgets/base",
      "model_module_version": "1.2.0",
      "model_name": "LayoutModel",
      "state": {}
     },
     "6f445c705bec4fbe8523d5a2a71a0b6c": {
      "model_module": "@jupyter-widgets/controls",
      "model_module_version": "1.5.0",
      "model_name": "DescriptionStyleModel",
      "state": {
       "description_width": ""
      }
     },
     "6f4c554c2fcb434d85aee47ba437ae55": {
      "model_module": "@jupyter-widgets/controls",
      "model_module_version": "1.5.0",
      "model_name": "ProgressStyleModel",
      "state": {
       "description_width": "initial"
      }
     },
     "6f51f4ed942d4feda735b3692138fc3e": {
      "model_module": "@jupyter-widgets/controls",
      "model_module_version": "1.5.0",
      "model_name": "DescriptionStyleModel",
      "state": {
       "description_width": ""
      }
     },
     "6facda0630d44f86920c86dc53e8f5a2": {
      "model_module": "@jupyter-widgets/controls",
      "model_module_version": "1.5.0",
      "model_name": "HBoxModel",
      "state": {
       "children": [
        "IPY_MODEL_e2f746a058514f629e8ce60d00503419",
        "IPY_MODEL_4aef5195dd604911a88a8235dadc8d3e"
       ],
       "layout": "IPY_MODEL_0a8b881cfafe4d4a874302bc1b7e31c1"
      }
     },
     "6ff3865e84794a1d93720bf4b1208455": {
      "model_module": "@jupyter-widgets/base",
      "model_module_version": "1.2.0",
      "model_name": "LayoutModel",
      "state": {}
     },
     "70173b0578144426a8b9c799fe6fc47e": {
      "model_module": "@jupyter-widgets/base",
      "model_module_version": "1.2.0",
      "model_name": "LayoutModel",
      "state": {}
     },
     "7028813f12c2416786460b515614c983": {
      "model_module": "@jupyter-widgets/controls",
      "model_module_version": "1.5.0",
      "model_name": "DescriptionStyleModel",
      "state": {
       "description_width": ""
      }
     },
     "703c8f9951c5444498463eb3b01463e0": {
      "model_module": "@jupyter-widgets/controls",
      "model_module_version": "1.5.0",
      "model_name": "HTMLModel",
      "state": {
       "layout": "IPY_MODEL_74e9ad8b9c2e4d0096b8c1241da54556",
       "style": "IPY_MODEL_e19aad710a0440a3881ef7cce3fcdea6",
       "value": "100% 750/750 [00:01&lt;00:00, 572.21it/s]"
      }
     },
     "704efa236a4a449b9127c54ce2e8b2d4": {
      "model_module": "@jupyter-widgets/base",
      "model_module_version": "1.2.0",
      "model_name": "LayoutModel",
      "state": {}
     },
     "704fe885fca448c5817954a5bb484a3b": {
      "model_module": "@jupyter-widgets/controls",
      "model_module_version": "1.5.0",
      "model_name": "HTMLModel",
      "state": {
       "layout": "IPY_MODEL_fbb26b60d35a4a86a1c0059136c95518",
       "style": "IPY_MODEL_3bcd569e707042388590e95684855f4a",
       "value": "100% 750/750 [00:00&lt;00:00, 1228.69it/s]"
      }
     },
     "7092221bcfc248e3bc38053db5833195": {
      "model_module": "@jupyter-widgets/base",
      "model_module_version": "1.2.0",
      "model_name": "LayoutModel",
      "state": {}
     },
     "70ab50ef1a854d0685fb692ada7cff1f": {
      "model_module": "@jupyter-widgets/controls",
      "model_module_version": "1.5.0",
      "model_name": "HBoxModel",
      "state": {
       "children": [
        "IPY_MODEL_b5854386ff104efcbdaed36b9b2ff556",
        "IPY_MODEL_7ee689cb2a684b1e8f6ee9634646f2d0"
       ],
       "layout": "IPY_MODEL_d54e54cbccc4461d8037c1cea53b7372"
      }
     },
     "71052ae26ccb40b09dd75c7fa99e46b2": {
      "model_module": "@jupyter-widgets/controls",
      "model_module_version": "1.5.0",
      "model_name": "HTMLModel",
      "state": {
       "layout": "IPY_MODEL_9a423bf84c9d4614a6d7d17353ff651b",
       "style": "IPY_MODEL_e0f3467fd23448498748e89a3afd94d4",
       "value": "100% 750/750 [00:00&lt;00:00, 1112.13it/s]"
      }
     },
     "710d6a29dfa845e8ab60cf7511b302cb": {
      "model_module": "@jupyter-widgets/controls",
      "model_module_version": "1.5.0",
      "model_name": "IntProgressModel",
      "state": {
       "bar_style": "success",
       "description": "Epoch 17/20 : ",
       "layout": "IPY_MODEL_d83ca505e36b4c12b735469c6ece78d7",
       "max": 750,
       "style": "IPY_MODEL_d192b5602abd45f59c22016697f5a2f2",
       "value": 750
      }
     },
     "71221eaadc054c43a66a99d5ec87cecd": {
      "model_module": "@jupyter-widgets/base",
      "model_module_version": "1.2.0",
      "model_name": "LayoutModel",
      "state": {}
     },
     "713490dc8c2949d4a2bdb7080abdd40c": {
      "model_module": "@jupyter-widgets/controls",
      "model_module_version": "1.5.0",
      "model_name": "HBoxModel",
      "state": {
       "children": [
        "IPY_MODEL_98f15cd1e2464eae84829cad3fd47ae2",
        "IPY_MODEL_da391c6d4f4d4f7abef069acc8218dc4"
       ],
       "layout": "IPY_MODEL_1a3128bf57a243c6a64f620852a1d929"
      }
     },
     "717c70b2c10d492ea47eacb2267f5cce": {
      "model_module": "@jupyter-widgets/controls",
      "model_module_version": "1.5.0",
      "model_name": "IntProgressModel",
      "state": {
       "bar_style": "success",
       "description": "Epoch 10/20 : ",
       "layout": "IPY_MODEL_bce1b06c481b43c4890d62ddd532be50",
       "max": 750,
       "style": "IPY_MODEL_a675a6bd6de64482893237765349eaea",
       "value": 750
      }
     },
     "71c4f1ff2cff45bf9a8c0c2a7d6efce0": {
      "model_module": "@jupyter-widgets/controls",
      "model_module_version": "1.5.0",
      "model_name": "HBoxModel",
      "state": {
       "children": [
        "IPY_MODEL_b330bea8955c44cc9c39d9c83e6d7ff7",
        "IPY_MODEL_71052ae26ccb40b09dd75c7fa99e46b2"
       ],
       "layout": "IPY_MODEL_1d018b3a12364d24bc5c1cabe7dabaa9"
      }
     },
     "721161a9175e4e129683093494fabf6e": {
      "model_module": "@jupyter-widgets/base",
      "model_module_version": "1.2.0",
      "model_name": "LayoutModel",
      "state": {}
     },
     "7288fc2038e443bdbf241c2176bfb5bb": {
      "model_module": "@jupyter-widgets/controls",
      "model_module_version": "1.5.0",
      "model_name": "HTMLModel",
      "state": {
       "layout": "IPY_MODEL_a7121c66c7a245dbad8730ef647018f3",
       "style": "IPY_MODEL_369fb06c953c4c009a816955c7137cba",
       "value": "100% 750/750 [00:00&lt;00:00, 1270.28it/s]"
      }
     },
     "72aa987a87c84e7d88fdf8bf6515b307": {
      "model_module": "@jupyter-widgets/controls",
      "model_module_version": "1.5.0",
      "model_name": "IntProgressModel",
      "state": {
       "bar_style": "success",
       "description": "Epoch 16/20 : ",
       "layout": "IPY_MODEL_5b34eea1d9be402b96443d2e328958fd",
       "max": 750,
       "style": "IPY_MODEL_8269702e88634b478431aa9139b7b87f",
       "value": 750
      }
     },
     "72d3b663c78146a8816a22a2cb0584c7": {
      "model_module": "@jupyter-widgets/controls",
      "model_module_version": "1.5.0",
      "model_name": "HTMLModel",
      "state": {
       "layout": "IPY_MODEL_a821a49ad49c40b6a03e43a716711548",
       "style": "IPY_MODEL_c328418ed28946e7b471124e6418e159",
       "value": "100% 750/750 [00:01&lt;00:00, 616.32it/s]"
      }
     },
     "731882f182794044a48c9c094f625450": {
      "model_module": "@jupyter-widgets/controls",
      "model_module_version": "1.5.0",
      "model_name": "IntProgressModel",
      "state": {
       "bar_style": "success",
       "description": "Epoch 18/20 : ",
       "layout": "IPY_MODEL_97fb2bb875274e158e9a9f41558033be",
       "max": 750,
       "style": "IPY_MODEL_1f0a3604a8cb4f67b5a2ae1ec0c8cc88",
       "value": 750
      }
     },
     "73852d93f3794ee39d5c6918f1961b27": {
      "model_module": "@jupyter-widgets/controls",
      "model_module_version": "1.5.0",
      "model_name": "HTMLModel",
      "state": {
       "layout": "IPY_MODEL_202fed2bf7c34944a2e834d5d3f6d108",
       "style": "IPY_MODEL_3d706b750f19488dbbd2d8a3d520a4b9",
       "value": "100% 750/750 [00:01&lt;00:00, 580.98it/s]"
      }
     },
     "7387718db671473d87645428e54454b2": {
      "model_module": "@jupyter-widgets/base",
      "model_module_version": "1.2.0",
      "model_name": "LayoutModel",
      "state": {}
     },
     "738f813d90c3495786746152cb67d350": {
      "model_module": "@jupyter-widgets/base",
      "model_module_version": "1.2.0",
      "model_name": "LayoutModel",
      "state": {}
     },
     "73d219c9a1714c3a830a82196c6ba170": {
      "model_module": "@jupyter-widgets/controls",
      "model_module_version": "1.5.0",
      "model_name": "ProgressStyleModel",
      "state": {
       "description_width": "initial"
      }
     },
     "741e17e31630470a9fba5049e20dcdca": {
      "model_module": "@jupyter-widgets/controls",
      "model_module_version": "1.5.0",
      "model_name": "HTMLModel",
      "state": {
       "layout": "IPY_MODEL_aa1a667b727d40b487de9796de5201d1",
       "style": "IPY_MODEL_c351b10911a54256840b46c767574d68",
       "value": "100% 750/750 [00:01&lt;00:00, 653.24it/s]"
      }
     },
     "74c5168f2edb42a9b520dd9f54c790d1": {
      "model_module": "@jupyter-widgets/base",
      "model_module_version": "1.2.0",
      "model_name": "LayoutModel",
      "state": {}
     },
     "74e9ad8b9c2e4d0096b8c1241da54556": {
      "model_module": "@jupyter-widgets/base",
      "model_module_version": "1.2.0",
      "model_name": "LayoutModel",
      "state": {}
     },
     "755e7172b862425f97df5d9c134663ef": {
      "model_module": "@jupyter-widgets/base",
      "model_module_version": "1.2.0",
      "model_name": "LayoutModel",
      "state": {}
     },
     "756f8b9d52bb4c5f8657ed83eac5a4c7": {
      "model_module": "@jupyter-widgets/base",
      "model_module_version": "1.2.0",
      "model_name": "LayoutModel",
      "state": {}
     },
     "75883d51e09a45a0b286d57639df27d3": {
      "model_module": "@jupyter-widgets/base",
      "model_module_version": "1.2.0",
      "model_name": "LayoutModel",
      "state": {}
     },
     "759ea7adf72b46fcb836761e79753a50": {
      "model_module": "@jupyter-widgets/base",
      "model_module_version": "1.2.0",
      "model_name": "LayoutModel",
      "state": {}
     },
     "75aa5592acb349f29a77ab19efb9be58": {
      "model_module": "@jupyter-widgets/controls",
      "model_module_version": "1.5.0",
      "model_name": "ProgressStyleModel",
      "state": {
       "description_width": "initial"
      }
     },
     "75b3a76989864652a2c6f67fe02e81bf": {
      "model_module": "@jupyter-widgets/base",
      "model_module_version": "1.2.0",
      "model_name": "LayoutModel",
      "state": {}
     },
     "7619d79b965d4f73a8988a619cd7c21a": {
      "model_module": "@jupyter-widgets/controls",
      "model_module_version": "1.5.0",
      "model_name": "ProgressStyleModel",
      "state": {
       "description_width": "initial"
      }
     },
     "765602a100334055be8f702bc1c907c4": {
      "model_module": "@jupyter-widgets/controls",
      "model_module_version": "1.5.0",
      "model_name": "DescriptionStyleModel",
      "state": {
       "description_width": ""
      }
     },
     "766c37a1e6024aaaa4ce98740c7f57e0": {
      "model_module": "@jupyter-widgets/controls",
      "model_module_version": "1.5.0",
      "model_name": "HBoxModel",
      "state": {
       "children": [
        "IPY_MODEL_ed11f4675d954ce2bd6e6a8e9661f805",
        "IPY_MODEL_88a30dde84cb4b20b98292462e14d858"
       ],
       "layout": "IPY_MODEL_f0847ed9ea234e928f876a0933735684"
      }
     },
     "767e18776de942bf8036d0ceb6d18295": {
      "model_module": "@jupyter-widgets/controls",
      "model_module_version": "1.5.0",
      "model_name": "IntProgressModel",
      "state": {
       "bar_style": "success",
       "description": "Epoch 6/20 : ",
       "layout": "IPY_MODEL_62132e140d24433fb96f88c02f863f50",
       "max": 750,
       "style": "IPY_MODEL_cb01f2ebebdb4688922e0bfc564f0433",
       "value": 750
      }
     },
     "772fad67a24f4477869d6680eb809b7a": {
      "model_module": "@jupyter-widgets/controls",
      "model_module_version": "1.5.0",
      "model_name": "HTMLModel",
      "state": {
       "layout": "IPY_MODEL_2511ad54e93b4a09804650dd9e5c6dc4",
       "style": "IPY_MODEL_79bb9d4b6ae1453294ce5838b3029d31",
       "value": "100% 750/750 [00:00&lt;00:00, 1387.46it/s]"
      }
     },
     "77494e58d3fd47aea00d298e4db0ca9b": {
      "model_module": "@jupyter-widgets/base",
      "model_module_version": "1.2.0",
      "model_name": "LayoutModel",
      "state": {}
     },
     "7759bb47ccda44ecbe5f2afa42d73d38": {
      "model_module": "@jupyter-widgets/base",
      "model_module_version": "1.2.0",
      "model_name": "LayoutModel",
      "state": {}
     },
     "77a0c64bfc334690a473ea2d70e4b4fc": {
      "model_module": "@jupyter-widgets/base",
      "model_module_version": "1.2.0",
      "model_name": "LayoutModel",
      "state": {}
     },
     "77b0cc2bdc1f4c3e80b090100efad1af": {
      "model_module": "@jupyter-widgets/base",
      "model_module_version": "1.2.0",
      "model_name": "LayoutModel",
      "state": {}
     },
     "784592821e6b40c1bf12bf4097256192": {
      "model_module": "@jupyter-widgets/controls",
      "model_module_version": "1.5.0",
      "model_name": "DescriptionStyleModel",
      "state": {
       "description_width": ""
      }
     },
     "785d37878f484cdfada07fcdbe00b6a4": {
      "model_module": "@jupyter-widgets/controls",
      "model_module_version": "1.5.0",
      "model_name": "IntProgressModel",
      "state": {
       "bar_style": "success",
       "description": "Epoch 18/20 : ",
       "layout": "IPY_MODEL_958865979d034b4199b5116063e95c2b",
       "max": 750,
       "style": "IPY_MODEL_2ac3f1077eba478eb489c55274181b0f",
       "value": 750
      }
     },
     "7861a0d02fd84b219a3ab238e16c65e9": {
      "model_module": "@jupyter-widgets/controls",
      "model_module_version": "1.5.0",
      "model_name": "ProgressStyleModel",
      "state": {
       "description_width": "initial"
      }
     },
     "786f532ec1f84becb92c8a6478465fd8": {
      "model_module": "@jupyter-widgets/controls",
      "model_module_version": "1.5.0",
      "model_name": "DescriptionStyleModel",
      "state": {
       "description_width": ""
      }
     },
     "78bd8a88403742ea8844e2affdf109ed": {
      "model_module": "@jupyter-widgets/controls",
      "model_module_version": "1.5.0",
      "model_name": "HTMLModel",
      "state": {
       "layout": "IPY_MODEL_255707634ffb4a2cac91d4fcc3c604b2",
       "style": "IPY_MODEL_59407e90cdbe41369d9b03f54ed5eaba",
       "value": "100% 750/750 [00:00&lt;00:00, 1100.16it/s]"
      }
     },
     "78d5aeb28a2d47c5b4e7b98dd7300b92": {
      "model_module": "@jupyter-widgets/controls",
      "model_module_version": "1.5.0",
      "model_name": "DescriptionStyleModel",
      "state": {
       "description_width": ""
      }
     },
     "78fd0d6065fe4245bfd34cfd30cb5ed4": {
      "model_module": "@jupyter-widgets/controls",
      "model_module_version": "1.5.0",
      "model_name": "HBoxModel",
      "state": {
       "children": [
        "IPY_MODEL_0ef2d5c349154ae4a96f71b5bc9df28d",
        "IPY_MODEL_a1607b44afd7464f925071ad97b2c459"
       ],
       "layout": "IPY_MODEL_70173b0578144426a8b9c799fe6fc47e"
      }
     },
     "7952f15948444d4ca09c706bf8c6917a": {
      "model_module": "@jupyter-widgets/base",
      "model_module_version": "1.2.0",
      "model_name": "LayoutModel",
      "state": {}
     },
     "798952d7b50b4c109d908a3606dd54fe": {
      "model_module": "@jupyter-widgets/controls",
      "model_module_version": "1.5.0",
      "model_name": "HTMLModel",
      "state": {
       "layout": "IPY_MODEL_f05d79d298ce4018b36f2aeed95120d7",
       "style": "IPY_MODEL_36f91405c46742639a5acda93ec5aeb5",
       "value": "100% 750/750 [00:01&lt;00:00, 645.02it/s]"
      }
     },
     "79a11502b061497893e8a42c5b9e5721": {
      "model_module": "@jupyter-widgets/controls",
      "model_module_version": "1.5.0",
      "model_name": "IntProgressModel",
      "state": {
       "bar_style": "success",
       "description": "Epoch 17/20 : ",
       "layout": "IPY_MODEL_6b5bee66d19a47479a1a127edcdd11b3",
       "max": 750,
       "style": "IPY_MODEL_3e6cfc346e314d72b1b7d2e791d3bc0e",
       "value": 750
      }
     },
     "79bb9d4b6ae1453294ce5838b3029d31": {
      "model_module": "@jupyter-widgets/controls",
      "model_module_version": "1.5.0",
      "model_name": "DescriptionStyleModel",
      "state": {
       "description_width": ""
      }
     },
     "7a495d11f2f946cb92bb933c6682d7b7": {
      "model_module": "@jupyter-widgets/controls",
      "model_module_version": "1.5.0",
      "model_name": "IntProgressModel",
      "state": {
       "bar_style": "success",
       "description": "Epoch 15/20 : ",
       "layout": "IPY_MODEL_9af38659a78e430a951626ceb4094b8d",
       "max": 750,
       "style": "IPY_MODEL_1d6bda0a2cf4491aa74640c2337f3f92",
       "value": 750
      }
     },
     "7a75f2fd753546fdb498b81eaac15aec": {
      "model_module": "@jupyter-widgets/base",
      "model_module_version": "1.2.0",
      "model_name": "LayoutModel",
      "state": {}
     },
     "7a7deaaa0bc544b29617200195168fe0": {
      "model_module": "@jupyter-widgets/controls",
      "model_module_version": "1.5.0",
      "model_name": "HBoxModel",
      "state": {
       "children": [
        "IPY_MODEL_6a0451f5557b41c2bfad7b9fc5d9a9fb",
        "IPY_MODEL_43acdaeac5634b049fc7e9ff3160acc6"
       ],
       "layout": "IPY_MODEL_f2d0cafc54d144299e37964a4032429f"
      }
     },
     "7a92c3b074d34d59970c96ec3b69a376": {
      "model_module": "@jupyter-widgets/controls",
      "model_module_version": "1.5.0",
      "model_name": "ProgressStyleModel",
      "state": {
       "description_width": "initial"
      }
     },
     "7ab25df18a9a43758d03dd8252e6742b": {
      "model_module": "@jupyter-widgets/base",
      "model_module_version": "1.2.0",
      "model_name": "LayoutModel",
      "state": {}
     },
     "7b439ce37d3142148e8deef355a7ce6b": {
      "model_module": "@jupyter-widgets/controls",
      "model_module_version": "1.5.0",
      "model_name": "HTMLModel",
      "state": {
       "layout": "IPY_MODEL_9196ffb7b30f4b04853baaf655a729e2",
       "style": "IPY_MODEL_44993ac8b7b0407c885e6f8a88c43b5c",
       "value": "100% 750/750 [00:00&lt;00:00, 1418.25it/s]"
      }
     },
     "7b692b26ffe1438ca40c462e74560405": {
      "model_module": "@jupyter-widgets/base",
      "model_module_version": "1.2.0",
      "model_name": "LayoutModel",
      "state": {}
     },
     "7be8b73646e94d22abe475d288d4b1c9": {
      "model_module": "@jupyter-widgets/controls",
      "model_module_version": "1.5.0",
      "model_name": "HTMLModel",
      "state": {
       "layout": "IPY_MODEL_197a0ec384fc431a8e6d0fc547b8cdd8",
       "style": "IPY_MODEL_eb2475fe098a445ab966f2f2d0d45f25",
       "value": "100% 750/750 [00:00&lt;00:00, 1180.54it/s]"
      }
     },
     "7c8142298a96492eb96b21686e850a77": {
      "model_module": "@jupyter-widgets/controls",
      "model_module_version": "1.5.0",
      "model_name": "HBoxModel",
      "state": {
       "children": [
        "IPY_MODEL_60d1b34ccde4403f81985995b614fcfb",
        "IPY_MODEL_b4397d1a9b544206af7a40adf5d3d4ff"
       ],
       "layout": "IPY_MODEL_b2dbe0a6d38144f096160e2ad714b2fd"
      }
     },
     "7c85296b1dfd45f1800e6eb76477e62c": {
      "model_module": "@jupyter-widgets/controls",
      "model_module_version": "1.5.0",
      "model_name": "IntProgressModel",
      "state": {
       "bar_style": "success",
       "description": "Epoch 8/20 : ",
       "layout": "IPY_MODEL_29d38e0a802549f28e9a0911c04c7d11",
       "max": 750,
       "style": "IPY_MODEL_00546d2c2d6841fd99a885d1b8ad8ff4",
       "value": 750
      }
     },
     "7d41c6e5ff56456383a41a91d13e723a": {
      "model_module": "@jupyter-widgets/controls",
      "model_module_version": "1.5.0",
      "model_name": "HBoxModel",
      "state": {
       "children": [
        "IPY_MODEL_79a11502b061497893e8a42c5b9e5721",
        "IPY_MODEL_a1aed33375904c3f920b4af4b157e2c5"
       ],
       "layout": "IPY_MODEL_3bad57583b4641fe9e6235b6569f58f2"
      }
     },
     "7d7c255c16d04e6b9d25e4286683131b": {
      "model_module": "@jupyter-widgets/controls",
      "model_module_version": "1.5.0",
      "model_name": "HTMLModel",
      "state": {
       "layout": "IPY_MODEL_44493157116045c89209f099d845443d",
       "style": "IPY_MODEL_5e56b022d9424ad48001beeaf7dd1d1b",
       "value": "100% 750/750 [00:01&lt;00:00, 708.23it/s]"
      }
     },
     "7d83f28d6e084860b30cc29bf560062f": {
      "model_module": "@jupyter-widgets/base",
      "model_module_version": "1.2.0",
      "model_name": "LayoutModel",
      "state": {}
     },
     "7dccb7c00c8d4c32849d1eddb6ef75f2": {
      "model_module": "@jupyter-widgets/base",
      "model_module_version": "1.2.0",
      "model_name": "LayoutModel",
      "state": {}
     },
     "7ee4a8f0579b48d796e3e42709af40de": {
      "model_module": "@jupyter-widgets/controls",
      "model_module_version": "1.5.0",
      "model_name": "IntProgressModel",
      "state": {
       "bar_style": "success",
       "description": "Epoch 2/20 : ",
       "layout": "IPY_MODEL_4095310238264a1583a4d09ec2fd9f27",
       "max": 750,
       "style": "IPY_MODEL_518129098733403f82407e95a766166e",
       "value": 750
      }
     },
     "7ee689cb2a684b1e8f6ee9634646f2d0": {
      "model_module": "@jupyter-widgets/controls",
      "model_module_version": "1.5.0",
      "model_name": "HTMLModel",
      "state": {
       "layout": "IPY_MODEL_fa940fdd45a744e5b6d2e92d8e5c22a7",
       "style": "IPY_MODEL_976f9b81133f4d909211f8ad5d3054df",
       "value": "100% 750/750 [00:01&lt;00:00, 616.29it/s]"
      }
     },
     "7f7aee907eee4687be3125fec3363b5f": {
      "model_module": "@jupyter-widgets/base",
      "model_module_version": "1.2.0",
      "model_name": "LayoutModel",
      "state": {}
     },
     "7fbb14edec7f421ba7c58f008c1cfabf": {
      "model_module": "@jupyter-widgets/controls",
      "model_module_version": "1.5.0",
      "model_name": "HTMLModel",
      "state": {
       "layout": "IPY_MODEL_bec2c8ac70cf4735be8ea3791a983eb4",
       "style": "IPY_MODEL_765602a100334055be8f702bc1c907c4",
       "value": "100% 750/750 [00:00&lt;00:00, 1248.47it/s]"
      }
     },
     "7fddac7db0b74a27a5a2c7adbddd13f7": {
      "model_module": "@jupyter-widgets/base",
      "model_module_version": "1.2.0",
      "model_name": "LayoutModel",
      "state": {}
     },
     "801810f1798f41a7b7f0a3417794238d": {
      "model_module": "@jupyter-widgets/base",
      "model_module_version": "1.2.0",
      "model_name": "LayoutModel",
      "state": {}
     },
     "803770bd1cb447178fafc9a24095f95f": {
      "model_module": "@jupyter-widgets/controls",
      "model_module_version": "1.5.0",
      "model_name": "HBoxModel",
      "state": {
       "children": [
        "IPY_MODEL_4b19e334d11f45568f5590075fdeed9b",
        "IPY_MODEL_e485c7de62db498eb0098a8f56f98aae"
       ],
       "layout": "IPY_MODEL_9cf52327675242fe93d5c2e7cfa91cfa"
      }
     },
     "807d5fcedd8b4b828c0e39635d077bc4": {
      "model_module": "@jupyter-widgets/base",
      "model_module_version": "1.2.0",
      "model_name": "LayoutModel",
      "state": {}
     },
     "808441597fb542c88f09b7bcf928ff7f": {
      "model_module": "@jupyter-widgets/base",
      "model_module_version": "1.2.0",
      "model_name": "LayoutModel",
      "state": {}
     },
     "809a69a5ef2a43248ec89ff6c868ba55": {
      "model_module": "@jupyter-widgets/base",
      "model_module_version": "1.2.0",
      "model_name": "LayoutModel",
      "state": {}
     },
     "810353351bb645729ee026846ee32935": {
      "model_module": "@jupyter-widgets/base",
      "model_module_version": "1.2.0",
      "model_name": "LayoutModel",
      "state": {}
     },
     "817a4a30de0d4f419c0018ab9f705419": {
      "model_module": "@jupyter-widgets/base",
      "model_module_version": "1.2.0",
      "model_name": "LayoutModel",
      "state": {}
     },
     "81e0e0742fbb4c6c8f3e99655c9ac97a": {
      "model_module": "@jupyter-widgets/base",
      "model_module_version": "1.2.0",
      "model_name": "LayoutModel",
      "state": {}
     },
     "821013bcef5a44f7915450c21c6642d5": {
      "model_module": "@jupyter-widgets/controls",
      "model_module_version": "1.5.0",
      "model_name": "IntProgressModel",
      "state": {
       "bar_style": "success",
       "description": "Epoch 8/20 : ",
       "layout": "IPY_MODEL_9db9cdd59c00452ba02a6ece13131a8c",
       "max": 750,
       "style": "IPY_MODEL_a56c1bff35574b039b333025c546220a",
       "value": 750
      }
     },
     "8269702e88634b478431aa9139b7b87f": {
      "model_module": "@jupyter-widgets/controls",
      "model_module_version": "1.5.0",
      "model_name": "ProgressStyleModel",
      "state": {
       "description_width": "initial"
      }
     },
     "82b854edfb194d80aaad503884a6675b": {
      "model_module": "@jupyter-widgets/controls",
      "model_module_version": "1.5.0",
      "model_name": "IntProgressModel",
      "state": {
       "bar_style": "success",
       "description": "Epoch 10/20 : ",
       "layout": "IPY_MODEL_a7fbb5a969584c7daa5792900507a459",
       "max": 750,
       "style": "IPY_MODEL_1a73e96c49354491bdb56e8a6dd0e7c3",
       "value": 750
      }
     },
     "82dacf126c10498f8e3e189cb22958dc": {
      "model_module": "@jupyter-widgets/controls",
      "model_module_version": "1.5.0",
      "model_name": "DescriptionStyleModel",
      "state": {
       "description_width": ""
      }
     },
     "832879d4da9b49edb5031c767cdfe062": {
      "model_module": "@jupyter-widgets/controls",
      "model_module_version": "1.5.0",
      "model_name": "IntProgressModel",
      "state": {
       "bar_style": "success",
       "description": "Epoch 11/20 : ",
       "layout": "IPY_MODEL_5735773fa198401eb8343b0eeecd49c0",
       "max": 750,
       "style": "IPY_MODEL_4d104568f9a14bbcb31e6d779fabb061",
       "value": 750
      }
     },
     "833d86b448c145e1a87048be20093e4e": {
      "model_module": "@jupyter-widgets/controls",
      "model_module_version": "1.5.0",
      "model_name": "HTMLModel",
      "state": {
       "layout": "IPY_MODEL_1c2c2128303049f296df573807c38b72",
       "style": "IPY_MODEL_9c7fd79a869f41c48f168dc43980e4e9",
       "value": "100% 750/750 [00:01&lt;00:00, 650.20it/s]"
      }
     },
     "834c306b195f4d80a53f7cff15880487": {
      "model_module": "@jupyter-widgets/controls",
      "model_module_version": "1.5.0",
      "model_name": "IntProgressModel",
      "state": {
       "bar_style": "success",
       "description": "Epoch 1/20 : ",
       "layout": "IPY_MODEL_b75a7095543e445c9d13e9482707f5e3",
       "max": 750,
       "style": "IPY_MODEL_3dcf7dfef0f04f08a07274c07562512b",
       "value": 750
      }
     },
     "836d863fa5f440aa982ec05fceeb2644": {
      "model_module": "@jupyter-widgets/controls",
      "model_module_version": "1.5.0",
      "model_name": "IntProgressModel",
      "state": {
       "bar_style": "success",
       "description": "Epoch 7/20 : ",
       "layout": "IPY_MODEL_6aacf113191c4a43bb702e3000562e2d",
       "max": 750,
       "style": "IPY_MODEL_56258662e3b54455aed30da3180332d0",
       "value": 750
      }
     },
     "83d92b5d52104c8cb83fefb5df16d1b2": {
      "model_module": "@jupyter-widgets/base",
      "model_module_version": "1.2.0",
      "model_name": "LayoutModel",
      "state": {}
     },
     "83e07ab2087f43dfb425b38d0852c30d": {
      "model_module": "@jupyter-widgets/controls",
      "model_module_version": "1.5.0",
      "model_name": "IntProgressModel",
      "state": {
       "bar_style": "success",
       "description": "Epoch 16/20 : ",
       "layout": "IPY_MODEL_98719d9fc8d24a1cbbc4d5c143fd562f",
       "max": 750,
       "style": "IPY_MODEL_884a683c6a0b441b9f4568428f8f3d56",
       "value": 750
      }
     },
     "83ff0b74a7884c6db7902ecf9dde30d5": {
      "model_module": "@jupyter-widgets/base",
      "model_module_version": "1.2.0",
      "model_name": "LayoutModel",
      "state": {}
     },
     "85156aea2040489c8a8b059c15accc5c": {
      "model_module": "@jupyter-widgets/controls",
      "model_module_version": "1.5.0",
      "model_name": "HTMLModel",
      "state": {
       "layout": "IPY_MODEL_acc1f350a948434883c751f2f0bce974",
       "style": "IPY_MODEL_adbd9e6e4c5c44b9a85b3a91f6f87469",
       "value": "100% 750/750 [00:00&lt;00:00, 1093.03it/s]"
      }
     },
     "85503da4770f489893ab785582fc5411": {
      "model_module": "@jupyter-widgets/base",
      "model_module_version": "1.2.0",
      "model_name": "LayoutModel",
      "state": {}
     },
     "855ea8aeb2f846d88e219aa5057af22f": {
      "model_module": "@jupyter-widgets/base",
      "model_module_version": "1.2.0",
      "model_name": "LayoutModel",
      "state": {}
     },
     "860ea07306f34d8a853b5a18e0e31e76": {
      "model_module": "@jupyter-widgets/base",
      "model_module_version": "1.2.0",
      "model_name": "LayoutModel",
      "state": {}
     },
     "8689f64c0d8748799f6167357a830279": {
      "model_module": "@jupyter-widgets/base",
      "model_module_version": "1.2.0",
      "model_name": "LayoutModel",
      "state": {}
     },
     "86bfa591492f45cf8d49017ae79ffaed": {
      "model_module": "@jupyter-widgets/controls",
      "model_module_version": "1.5.0",
      "model_name": "HBoxModel",
      "state": {
       "children": [
        "IPY_MODEL_98793b5aa2d74e2ca370e879e72e7544",
        "IPY_MODEL_a4fda83f3c9b4a1ca3f6ffd4ba7440da"
       ],
       "layout": "IPY_MODEL_4c7ff8c0c2d741dbbdf5858a2c6bb221"
      }
     },
     "86d64f66cb50460d84fb753a22b76e31": {
      "model_module": "@jupyter-widgets/base",
      "model_module_version": "1.2.0",
      "model_name": "LayoutModel",
      "state": {}
     },
     "86fe65b248a3445b806b7f06afb44cb7": {
      "model_module": "@jupyter-widgets/base",
      "model_module_version": "1.2.0",
      "model_name": "LayoutModel",
      "state": {}
     },
     "877c1f2b578e43a59d7df7299a267b14": {
      "model_module": "@jupyter-widgets/base",
      "model_module_version": "1.2.0",
      "model_name": "LayoutModel",
      "state": {}
     },
     "87826c4b657d42199073446838823e04": {
      "model_module": "@jupyter-widgets/controls",
      "model_module_version": "1.5.0",
      "model_name": "DescriptionStyleModel",
      "state": {
       "description_width": ""
      }
     },
     "8786812c16a447cfa8965c97060c6b15": {
      "model_module": "@jupyter-widgets/controls",
      "model_module_version": "1.5.0",
      "model_name": "DescriptionStyleModel",
      "state": {
       "description_width": ""
      }
     },
     "879039ce5e6145b3b521a8d51c861283": {
      "model_module": "@jupyter-widgets/controls",
      "model_module_version": "1.5.0",
      "model_name": "HBoxModel",
      "state": {
       "children": [
        "IPY_MODEL_fd98132fe6d34e0490c82fca151a09b1",
        "IPY_MODEL_01c797ef911842d282a773d89e643a71"
       ],
       "layout": "IPY_MODEL_352035c513864adcb7a6a2f31f64635e"
      }
     },
     "87d8a7137f6640089feb60af5e08ffa7": {
      "model_module": "@jupyter-widgets/base",
      "model_module_version": "1.2.0",
      "model_name": "LayoutModel",
      "state": {}
     },
     "87fdf67844bb4b9ea9b828aa317751cf": {
      "model_module": "@jupyter-widgets/controls",
      "model_module_version": "1.5.0",
      "model_name": "HBoxModel",
      "state": {
       "children": [
        "IPY_MODEL_50e6573f84a14cc9be1172ed91ad177b",
        "IPY_MODEL_2e643b4b696f4d7497880b77314e718a"
       ],
       "layout": "IPY_MODEL_817a4a30de0d4f419c0018ab9f705419"
      }
     },
     "884a683c6a0b441b9f4568428f8f3d56": {
      "model_module": "@jupyter-widgets/controls",
      "model_module_version": "1.5.0",
      "model_name": "ProgressStyleModel",
      "state": {
       "description_width": "initial"
      }
     },
     "885671675fce4bf6b9db0b871a65dd27": {
      "model_module": "@jupyter-widgets/controls",
      "model_module_version": "1.5.0",
      "model_name": "ProgressStyleModel",
      "state": {
       "description_width": "initial"
      }
     },
     "8866617b71a04398b1a4fb6d86813044": {
      "model_module": "@jupyter-widgets/base",
      "model_module_version": "1.2.0",
      "model_name": "LayoutModel",
      "state": {}
     },
     "88a30dde84cb4b20b98292462e14d858": {
      "model_module": "@jupyter-widgets/controls",
      "model_module_version": "1.5.0",
      "model_name": "HTMLModel",
      "state": {
       "layout": "IPY_MODEL_39e63771e8b3407aa839107de8df7d9d",
       "style": "IPY_MODEL_5e4c4ac7244f4a34ae3893658b880889",
       "value": "100% 750/750 [00:00&lt;00:00, 785.04it/s]"
      }
     },
     "88eaec332b96436bb1f59f0628f7f327": {
      "model_module": "@jupyter-widgets/base",
      "model_module_version": "1.2.0",
      "model_name": "LayoutModel",
      "state": {}
     },
     "8953d450b7484f03aff3471db1094537": {
      "model_module": "@jupyter-widgets/base",
      "model_module_version": "1.2.0",
      "model_name": "LayoutModel",
      "state": {}
     },
     "89b135bc78f742a1b2f94ea9af392d44": {
      "model_module": "@jupyter-widgets/controls",
      "model_module_version": "1.5.0",
      "model_name": "HBoxModel",
      "state": {
       "children": [
        "IPY_MODEL_105e4a29b0804eeb9fb934ebd073e248",
        "IPY_MODEL_ca47a6e287b94d5b9a0ca8a32cdfa403"
       ],
       "layout": "IPY_MODEL_ea19a4c9d4a94d57817827ba8b1d92ea"
      }
     },
     "89c5f60aa16f4c22802655f39366cb16": {
      "model_module": "@jupyter-widgets/base",
      "model_module_version": "1.2.0",
      "model_name": "LayoutModel",
      "state": {}
     },
     "89eccecb9c664f79987453fda7c90593": {
      "model_module": "@jupyter-widgets/controls",
      "model_module_version": "1.5.0",
      "model_name": "HTMLModel",
      "state": {
       "layout": "IPY_MODEL_0e9a580c101e43e49f47d644f6c9b0a4",
       "style": "IPY_MODEL_f52b873b19ae4e63869921cb0dc59f76",
       "value": "100% 750/750 [00:01&lt;00:00, 696.70it/s]"
      }
     },
     "8a2de8eacb934de5ae499faa04ba4c4e": {
      "model_module": "@jupyter-widgets/base",
      "model_module_version": "1.2.0",
      "model_name": "LayoutModel",
      "state": {}
     },
     "8a70e9755d8e4136b67664207bff1757": {
      "model_module": "@jupyter-widgets/controls",
      "model_module_version": "1.5.0",
      "model_name": "DescriptionStyleModel",
      "state": {
       "description_width": ""
      }
     },
     "8a9615e2ff5f4e8ea4766c86b2903ac6": {
      "model_module": "@jupyter-widgets/controls",
      "model_module_version": "1.5.0",
      "model_name": "ProgressStyleModel",
      "state": {
       "description_width": "initial"
      }
     },
     "8a9689a68c604ecdaed4f46c9ac6168d": {
      "model_module": "@jupyter-widgets/controls",
      "model_module_version": "1.5.0",
      "model_name": "HTMLModel",
      "state": {
       "layout": "IPY_MODEL_6eb66f51a02c4c32beb17047ad08636c",
       "style": "IPY_MODEL_dfd5f7885e844329bcbcb251fb71d0be",
       "value": "100% 750/750 [00:01&lt;00:00, 671.76it/s]"
      }
     },
     "8b1568bc75564c67afac20eb741ef283": {
      "model_module": "@jupyter-widgets/controls",
      "model_module_version": "1.5.0",
      "model_name": "IntProgressModel",
      "state": {
       "bar_style": "success",
       "description": "Epoch 5/20 : ",
       "layout": "IPY_MODEL_8f7e112e92384fcc8504ae4834933490",
       "max": 750,
       "style": "IPY_MODEL_44fe4d67457d49e0815f21d5b6bc69ab",
       "value": 750
      }
     },
     "8b891622d8e24155a917078c18055ec8": {
      "model_module": "@jupyter-widgets/base",
      "model_module_version": "1.2.0",
      "model_name": "LayoutModel",
      "state": {}
     },
     "8be4ad0920c943daaaeb13fed917a032": {
      "model_module": "@jupyter-widgets/controls",
      "model_module_version": "1.5.0",
      "model_name": "DescriptionStyleModel",
      "state": {
       "description_width": ""
      }
     },
     "8bf00afc4e634598b85a2bbc2afb9285": {
      "model_module": "@jupyter-widgets/controls",
      "model_module_version": "1.5.0",
      "model_name": "HTMLModel",
      "state": {
       "layout": "IPY_MODEL_1e8b052ccc4d4a259afc168c2e3de49d",
       "style": "IPY_MODEL_f94ef9495d5644c583f983616fd8d424",
       "value": "100% 750/750 [00:00&lt;00:00, 1154.07it/s]"
      }
     },
     "8c01249f038c403cafdb7dbf182fe66b": {
      "model_module": "@jupyter-widgets/controls",
      "model_module_version": "1.5.0",
      "model_name": "ProgressStyleModel",
      "state": {
       "description_width": "initial"
      }
     },
     "8c61765b375a44c6aa4996bf4a0a19c0": {
      "model_module": "@jupyter-widgets/base",
      "model_module_version": "1.2.0",
      "model_name": "LayoutModel",
      "state": {}
     },
     "8c7b010df2fa4928ba5af85d3b8e8663": {
      "model_module": "@jupyter-widgets/controls",
      "model_module_version": "1.5.0",
      "model_name": "DescriptionStyleModel",
      "state": {
       "description_width": ""
      }
     },
     "8e14c826941f44378723060083a8d0a3": {
      "model_module": "@jupyter-widgets/base",
      "model_module_version": "1.2.0",
      "model_name": "LayoutModel",
      "state": {}
     },
     "8e443532d6b24ccea39e4d24c7fe1e14": {
      "model_module": "@jupyter-widgets/controls",
      "model_module_version": "1.5.0",
      "model_name": "HBoxModel",
      "state": {
       "children": [
        "IPY_MODEL_f94e0466944740dfb0248412fb582fd1",
        "IPY_MODEL_0945119cda94456cbe275e565eaac0a8"
       ],
       "layout": "IPY_MODEL_3c6312e1dbeb499e9f804675c316ace5"
      }
     },
     "8e5baa6ef5d848598fc72966169eabc2": {
      "model_module": "@jupyter-widgets/base",
      "model_module_version": "1.2.0",
      "model_name": "LayoutModel",
      "state": {}
     },
     "8e8a0bc403bf45a88dd136616418756d": {
      "model_module": "@jupyter-widgets/base",
      "model_module_version": "1.2.0",
      "model_name": "LayoutModel",
      "state": {}
     },
     "8e8ec31b8ed54872b5157b279ae3d03a": {
      "model_module": "@jupyter-widgets/controls",
      "model_module_version": "1.5.0",
      "model_name": "DescriptionStyleModel",
      "state": {
       "description_width": ""
      }
     },
     "8f34275818be4687844618e9e572708c": {
      "model_module": "@jupyter-widgets/base",
      "model_module_version": "1.2.0",
      "model_name": "LayoutModel",
      "state": {}
     },
     "8f7e112e92384fcc8504ae4834933490": {
      "model_module": "@jupyter-widgets/base",
      "model_module_version": "1.2.0",
      "model_name": "LayoutModel",
      "state": {}
     },
     "8fc071fb987b44d1a267a2059ac4bdb2": {
      "model_module": "@jupyter-widgets/controls",
      "model_module_version": "1.5.0",
      "model_name": "IntProgressModel",
      "state": {
       "bar_style": "success",
       "description": "Epoch 14/20 : ",
       "layout": "IPY_MODEL_c0c4c3de8fe14600abdd55bd100b1422",
       "max": 750,
       "style": "IPY_MODEL_bfe3fad174b74037b52fa2a07a2f0e07",
       "value": 750
      }
     },
     "8fe9bfb67abe4eb9a32356f2709618e4": {
      "model_module": "@jupyter-widgets/base",
      "model_module_version": "1.2.0",
      "model_name": "LayoutModel",
      "state": {}
     },
     "902f5ebc6b4c404a88f9a86a62802bf7": {
      "model_module": "@jupyter-widgets/controls",
      "model_module_version": "1.5.0",
      "model_name": "DescriptionStyleModel",
      "state": {
       "description_width": ""
      }
     },
     "903e3d226a73490b884493de2061b773": {
      "model_module": "@jupyter-widgets/controls",
      "model_module_version": "1.5.0",
      "model_name": "ProgressStyleModel",
      "state": {
       "description_width": "initial"
      }
     },
     "905253acb9e549c7802c65beeb4e10fa": {
      "model_module": "@jupyter-widgets/base",
      "model_module_version": "1.2.0",
      "model_name": "LayoutModel",
      "state": {}
     },
     "911b50db62b24d48acd1fa365c9a9259": {
      "model_module": "@jupyter-widgets/controls",
      "model_module_version": "1.5.0",
      "model_name": "DescriptionStyleModel",
      "state": {
       "description_width": ""
      }
     },
     "916fa43f81a042b983e7365f334ea2cd": {
      "model_module": "@jupyter-widgets/base",
      "model_module_version": "1.2.0",
      "model_name": "LayoutModel",
      "state": {}
     },
     "9188fc446e5e4acfbf926eb4c5620195": {
      "model_module": "@jupyter-widgets/controls",
      "model_module_version": "1.5.0",
      "model_name": "HTMLModel",
      "state": {
       "layout": "IPY_MODEL_51b6b35d406e4d2b8a68fcbf2d3ee862",
       "style": "IPY_MODEL_695abd2c44f4414587ec3dba2553fff1",
       "value": "100% 750/750 [00:00&lt;00:00, 1030.54it/s]"
      }
     },
     "9196ffb7b30f4b04853baaf655a729e2": {
      "model_module": "@jupyter-widgets/base",
      "model_module_version": "1.2.0",
      "model_name": "LayoutModel",
      "state": {}
     },
     "919887e8778e4b42aa3d1485259f457b": {
      "model_module": "@jupyter-widgets/controls",
      "model_module_version": "1.5.0",
      "model_name": "HBoxModel",
      "state": {
       "children": [
        "IPY_MODEL_28db68d929884503a2ced3ec4611c8f0",
        "IPY_MODEL_547593cdee124f1e8a0ea75404dab105"
       ],
       "layout": "IPY_MODEL_fbe006f26d584ce5af45bd42d7743c82"
      }
     },
     "91a7e722d8f84c928b5c4456ffe5ee23": {
      "model_module": "@jupyter-widgets/controls",
      "model_module_version": "1.5.0",
      "model_name": "DescriptionStyleModel",
      "state": {
       "description_width": ""
      }
     },
     "91e3eee4674b443faf9123a5b1fccc43": {
      "model_module": "@jupyter-widgets/controls",
      "model_module_version": "1.5.0",
      "model_name": "HBoxModel",
      "state": {
       "children": [
        "IPY_MODEL_08caabd9dd674db08d095f89230dd156",
        "IPY_MODEL_8a9689a68c604ecdaed4f46c9ac6168d"
       ],
       "layout": "IPY_MODEL_1abbd113b36a4241a291ddaea3ac5a90"
      }
     },
     "926e1f3b041b4af5aaacbe3c0fcc3b64": {
      "model_module": "@jupyter-widgets/base",
      "model_module_version": "1.2.0",
      "model_name": "LayoutModel",
      "state": {}
     },
     "92e1a3fd8c4e4c3e9742ffab93a30a9c": {
      "model_module": "@jupyter-widgets/controls",
      "model_module_version": "1.5.0",
      "model_name": "DescriptionStyleModel",
      "state": {
       "description_width": ""
      }
     },
     "92ee98eb386e434cac0f590086f1fcaa": {
      "model_module": "@jupyter-widgets/controls",
      "model_module_version": "1.5.0",
      "model_name": "DescriptionStyleModel",
      "state": {
       "description_width": ""
      }
     },
     "9349b3baae58456f87d5b4a4828a932e": {
      "model_module": "@jupyter-widgets/controls",
      "model_module_version": "1.5.0",
      "model_name": "HBoxModel",
      "state": {
       "children": [
        "IPY_MODEL_93abe27a081347278b7b198da09fc3a4",
        "IPY_MODEL_e0e5f849831f4f6cbf73ddfce7012b32"
       ],
       "layout": "IPY_MODEL_a33aedebf8c7476daa2daadcea3450b1"
      }
     },
     "934eb2208cb94984854c7ba5f1c163d3": {
      "model_module": "@jupyter-widgets/controls",
      "model_module_version": "1.5.0",
      "model_name": "HBoxModel",
      "state": {
       "children": [
        "IPY_MODEL_3e4f0a175d0e4b3a81b87a058add38c3",
        "IPY_MODEL_dc09216ec5504be98aa69415ee35da68"
       ],
       "layout": "IPY_MODEL_a966d63f597a416592ce12b2a4cb108c"
      }
     },
     "9353caae75d042eca9a0735252f99598": {
      "model_module": "@jupyter-widgets/base",
      "model_module_version": "1.2.0",
      "model_name": "LayoutModel",
      "state": {}
     },
     "93808ff226bb4137a0f72ae817824dc8": {
      "model_module": "@jupyter-widgets/controls",
      "model_module_version": "1.5.0",
      "model_name": "HTMLModel",
      "state": {
       "layout": "IPY_MODEL_0e156984c73845aa8ac00f150cf40627",
       "style": "IPY_MODEL_5eef24d31d0f449b82b54638d42e3432",
       "value": "100% 750/750 [00:00&lt;00:00, 1336.64it/s]"
      }
     },
     "93978a743cf54be9a0c82f7a69d81184": {
      "model_module": "@jupyter-widgets/base",
      "model_module_version": "1.2.0",
      "model_name": "LayoutModel",
      "state": {}
     },
     "93abe27a081347278b7b198da09fc3a4": {
      "model_module": "@jupyter-widgets/controls",
      "model_module_version": "1.5.0",
      "model_name": "IntProgressModel",
      "state": {
       "bar_style": "success",
       "description": "Epoch 3/20 : ",
       "layout": "IPY_MODEL_69e0c358accd41c6b787172cdc6547c8",
       "max": 750,
       "style": "IPY_MODEL_baa52887b8114ac5987feef7f6359fbb",
       "value": 750
      }
     },
     "93d5524eb9934af69fa605c80b7044eb": {
      "model_module": "@jupyter-widgets/controls",
      "model_module_version": "1.5.0",
      "model_name": "HBoxModel",
      "state": {
       "children": [
        "IPY_MODEL_8fc071fb987b44d1a267a2059ac4bdb2",
        "IPY_MODEL_b11516d7fbbf46edb437261ec3c6828b"
       ],
       "layout": "IPY_MODEL_1d5b2a969415449991f0a1d2a9b7c514"
      }
     },
     "941dc90d567545e2a0fb499472afe231": {
      "model_module": "@jupyter-widgets/controls",
      "model_module_version": "1.5.0",
      "model_name": "DescriptionStyleModel",
      "state": {
       "description_width": ""
      }
     },
     "94934c83d6d24c0ea72e9e8e60b0a52c": {
      "model_module": "@jupyter-widgets/base",
      "model_module_version": "1.2.0",
      "model_name": "LayoutModel",
      "state": {}
     },
     "94d5d44187944822a21b06c5d0377bce": {
      "model_module": "@jupyter-widgets/base",
      "model_module_version": "1.2.0",
      "model_name": "LayoutModel",
      "state": {}
     },
     "950d358222dd4e15be5897d0363e9de7": {
      "model_module": "@jupyter-widgets/base",
      "model_module_version": "1.2.0",
      "model_name": "LayoutModel",
      "state": {}
     },
     "9533929d74ea4ab5bcadcfb486744ad4": {
      "model_module": "@jupyter-widgets/controls",
      "model_module_version": "1.5.0",
      "model_name": "ProgressStyleModel",
      "state": {
       "description_width": "initial"
      }
     },
     "958865979d034b4199b5116063e95c2b": {
      "model_module": "@jupyter-widgets/base",
      "model_module_version": "1.2.0",
      "model_name": "LayoutModel",
      "state": {}
     },
     "959944d0737d47feb47542233660bbbc": {
      "model_module": "@jupyter-widgets/controls",
      "model_module_version": "1.5.0",
      "model_name": "HTMLModel",
      "state": {
       "layout": "IPY_MODEL_cb3ceb529af54ae48ad1928357b3fbc0",
       "style": "IPY_MODEL_2b2811d5bc7f42b491d827cd1c8e7396",
       "value": "100% 750/750 [00:01&lt;00:00, 599.95it/s]"
      }
     },
     "95bda747790d400d93bd3d2c6d206659": {
      "model_module": "@jupyter-widgets/base",
      "model_module_version": "1.2.0",
      "model_name": "LayoutModel",
      "state": {}
     },
     "95cd7628d7924b53b983e38da1fad57d": {
      "model_module": "@jupyter-widgets/controls",
      "model_module_version": "1.5.0",
      "model_name": "ProgressStyleModel",
      "state": {
       "description_width": "initial"
      }
     },
     "96a85c8fcd7d4288a0a16b8d46c0a666": {
      "model_module": "@jupyter-widgets/controls",
      "model_module_version": "1.5.0",
      "model_name": "HBoxModel",
      "state": {
       "children": [
        "IPY_MODEL_26a525fd988a4525ba80af6e09756703",
        "IPY_MODEL_cb6ec8f35feb4dad92fa88f42e44d11c"
       ],
       "layout": "IPY_MODEL_bcfa920139f141079fe41d040db2f51f"
      }
     },
     "96eb1c2726334e24a8708db8aa086932": {
      "model_module": "@jupyter-widgets/controls",
      "model_module_version": "1.5.0",
      "model_name": "HBoxModel",
      "state": {
       "children": [
        "IPY_MODEL_589c46597d1643f68f58cdaef10a6424",
        "IPY_MODEL_58ef0260fa8f4e969c9d990c9a0babfa"
       ],
       "layout": "IPY_MODEL_a3ca597c6eaf4e0aa24ce2ba423f7857"
      }
     },
     "970eaf7241a147dba954a2293c2c20bd": {
      "model_module": "@jupyter-widgets/controls",
      "model_module_version": "1.5.0",
      "model_name": "ProgressStyleModel",
      "state": {
       "description_width": "initial"
      }
     },
     "971480289712497590305f01b95ba01e": {
      "model_module": "@jupyter-widgets/controls",
      "model_module_version": "1.5.0",
      "model_name": "ProgressStyleModel",
      "state": {
       "description_width": "initial"
      }
     },
     "97307f0bc2504276862666f25b701779": {
      "model_module": "@jupyter-widgets/controls",
      "model_module_version": "1.5.0",
      "model_name": "HBoxModel",
      "state": {
       "children": [
        "IPY_MODEL_6d03f45ba1564c908a1b622356437c24",
        "IPY_MODEL_dca71e4de7c8438a8b6521097f63c08f"
       ],
       "layout": "IPY_MODEL_c1b1c497989b436fb06764d84eed0f4b"
      }
     },
     "973a6ca83e234f6db5a288f09f4e557c": {
      "model_module": "@jupyter-widgets/controls",
      "model_module_version": "1.5.0",
      "model_name": "IntProgressModel",
      "state": {
       "bar_style": "success",
       "description": "Epoch 8/20 : ",
       "layout": "IPY_MODEL_4cb5cf53931648c8839d702ab15a7ca7",
       "max": 750,
       "style": "IPY_MODEL_2fbeea4a6be443e18455067fc584ea63",
       "value": 750
      }
     },
     "976f9b81133f4d909211f8ad5d3054df": {
      "model_module": "@jupyter-widgets/controls",
      "model_module_version": "1.5.0",
      "model_name": "DescriptionStyleModel",
      "state": {
       "description_width": ""
      }
     },
     "97709614ac9e4fcc989a4b6eabcf6ead": {
      "model_module": "@jupyter-widgets/base",
      "model_module_version": "1.2.0",
      "model_name": "LayoutModel",
      "state": {}
     },
     "97973f484d944944865225d449707527": {
      "model_module": "@jupyter-widgets/controls",
      "model_module_version": "1.5.0",
      "model_name": "DescriptionStyleModel",
      "state": {
       "description_width": ""
      }
     },
     "97c29f860a3c410d9b4cd2e94e178464": {
      "model_module": "@jupyter-widgets/base",
      "model_module_version": "1.2.0",
      "model_name": "LayoutModel",
      "state": {}
     },
     "97fb2bb875274e158e9a9f41558033be": {
      "model_module": "@jupyter-widgets/base",
      "model_module_version": "1.2.0",
      "model_name": "LayoutModel",
      "state": {}
     },
     "981abbb03fad49a5976d444658de3d2b": {
      "model_module": "@jupyter-widgets/controls",
      "model_module_version": "1.5.0",
      "model_name": "IntProgressModel",
      "state": {
       "bar_style": "success",
       "description": "Epoch 12/20 : ",
       "layout": "IPY_MODEL_8b891622d8e24155a917078c18055ec8",
       "max": 750,
       "style": "IPY_MODEL_75aa5592acb349f29a77ab19efb9be58",
       "value": 750
      }
     },
     "9836bf7e13274e35bfb69174c63adc2c": {
      "model_module": "@jupyter-widgets/controls",
      "model_module_version": "1.5.0",
      "model_name": "ProgressStyleModel",
      "state": {
       "description_width": "initial"
      }
     },
     "98719d9fc8d24a1cbbc4d5c143fd562f": {
      "model_module": "@jupyter-widgets/base",
      "model_module_version": "1.2.0",
      "model_name": "LayoutModel",
      "state": {}
     },
     "98793b5aa2d74e2ca370e879e72e7544": {
      "model_module": "@jupyter-widgets/controls",
      "model_module_version": "1.5.0",
      "model_name": "IntProgressModel",
      "state": {
       "bar_style": "success",
       "description": "Epoch 19/20 : ",
       "layout": "IPY_MODEL_428bfeff603a49379e8c33b6eab8c468",
       "max": 750,
       "style": "IPY_MODEL_b62f57277e0044f5ba93c4c83d842255",
       "value": 750
      }
     },
     "9883ced330f14eb7a152427af3a7f1f8": {
      "model_module": "@jupyter-widgets/controls",
      "model_module_version": "1.5.0",
      "model_name": "IntProgressModel",
      "state": {
       "bar_style": "success",
       "description": "Epoch 20/20 : ",
       "layout": "IPY_MODEL_599bd4d9d2a6498fa1197684b2d28e87",
       "max": 750,
       "style": "IPY_MODEL_0770c58840eb4d4ba4a790c16828f3be",
       "value": 750
      }
     },
     "98c5d0cb55654d98aeb06e9e1e173137": {
      "model_module": "@jupyter-widgets/controls",
      "model_module_version": "1.5.0",
      "model_name": "HTMLModel",
      "state": {
       "layout": "IPY_MODEL_61be76c5500f4b7da4f863a5b2ab4df8",
       "style": "IPY_MODEL_4d105bcc3bcb493db5a7217cb7618c77",
       "value": "100% 750/750 [00:00&lt;00:00, 1109.00it/s]"
      }
     },
     "98dfd1084fec4b8eb9571b5c179798ab": {
      "model_module": "@jupyter-widgets/base",
      "model_module_version": "1.2.0",
      "model_name": "LayoutModel",
      "state": {}
     },
     "98f15cd1e2464eae84829cad3fd47ae2": {
      "model_module": "@jupyter-widgets/controls",
      "model_module_version": "1.5.0",
      "model_name": "IntProgressModel",
      "state": {
       "bar_style": "success",
       "description": "Epoch 4/20 : ",
       "layout": "IPY_MODEL_759ea7adf72b46fcb836761e79753a50",
       "max": 750,
       "style": "IPY_MODEL_33adae700cf84e26a4d5c685908ac9f7",
       "value": 750
      }
     },
     "9920539508dc410bb872ec4801a4e2c0": {
      "model_module": "@jupyter-widgets/base",
      "model_module_version": "1.2.0",
      "model_name": "LayoutModel",
      "state": {}
     },
     "992c026fbf3444f4b49b6ff47214770e": {
      "model_module": "@jupyter-widgets/base",
      "model_module_version": "1.2.0",
      "model_name": "LayoutModel",
      "state": {}
     },
     "9944ef66358f4bf494ae317b3d104ff5": {
      "model_module": "@jupyter-widgets/base",
      "model_module_version": "1.2.0",
      "model_name": "LayoutModel",
      "state": {}
     },
     "99502078792a4c8baa679ca0102b5a5b": {
      "model_module": "@jupyter-widgets/controls",
      "model_module_version": "1.5.0",
      "model_name": "HTMLModel",
      "state": {
       "layout": "IPY_MODEL_a27a78c521bf495d9141fea0be6b8d75",
       "style": "IPY_MODEL_ac532f67866e442bb7b02eeab80e7244",
       "value": "100% 750/750 [00:01&lt;00:00, 689.92it/s]"
      }
     },
     "995c9c399fd74737a6b20bf419a8ade6": {
      "model_module": "@jupyter-widgets/controls",
      "model_module_version": "1.5.0",
      "model_name": "HTMLModel",
      "state": {
       "layout": "IPY_MODEL_97709614ac9e4fcc989a4b6eabcf6ead",
       "style": "IPY_MODEL_8786812c16a447cfa8965c97060c6b15",
       "value": "100% 750/750 [00:00&lt;00:00, 1321.22it/s]"
      }
     },
     "9975dcaec29940c6ae52cd4c43838b16": {
      "model_module": "@jupyter-widgets/controls",
      "model_module_version": "1.5.0",
      "model_name": "ProgressStyleModel",
      "state": {
       "description_width": "initial"
      }
     },
     "99b73994f5d34e4f849a633661f07af3": {
      "model_module": "@jupyter-widgets/controls",
      "model_module_version": "1.5.0",
      "model_name": "HBoxModel",
      "state": {
       "children": [
        "IPY_MODEL_46ce7886139642849e754947e18b7989",
        "IPY_MODEL_ceb82a026c0a4b068739f2543735bdb1"
       ],
       "layout": "IPY_MODEL_b9abc0eb00b245e4961da31d9265ef96"
      }
     },
     "9a153f0e8d8840cab4090c2088635999": {
      "model_module": "@jupyter-widgets/controls",
      "model_module_version": "1.5.0",
      "model_name": "HBoxModel",
      "state": {
       "children": [
        "IPY_MODEL_834c306b195f4d80a53f7cff15880487",
        "IPY_MODEL_2e0b0d08b0304394804f4daaf16eb7d2"
       ],
       "layout": "IPY_MODEL_e840c5c29df142299324180e29f62bd9"
      }
     },
     "9a423bf84c9d4614a6d7d17353ff651b": {
      "model_module": "@jupyter-widgets/base",
      "model_module_version": "1.2.0",
      "model_name": "LayoutModel",
      "state": {}
     },
     "9a765fc2bcdb42d394f37ac6744a047c": {
      "model_module": "@jupyter-widgets/base",
      "model_module_version": "1.2.0",
      "model_name": "LayoutModel",
      "state": {}
     },
     "9af38659a78e430a951626ceb4094b8d": {
      "model_module": "@jupyter-widgets/base",
      "model_module_version": "1.2.0",
      "model_name": "LayoutModel",
      "state": {}
     },
     "9b363dd981d54ddea16f5e6f7dcc7c4f": {
      "model_module": "@jupyter-widgets/base",
      "model_module_version": "1.2.0",
      "model_name": "LayoutModel",
      "state": {}
     },
     "9b93de9dae7842ea8d4e23016e47d726": {
      "model_module": "@jupyter-widgets/base",
      "model_module_version": "1.2.0",
      "model_name": "LayoutModel",
      "state": {}
     },
     "9bfd61246320420fa4093d6c82a04471": {
      "model_module": "@jupyter-widgets/base",
      "model_module_version": "1.2.0",
      "model_name": "LayoutModel",
      "state": {}
     },
     "9c6ac2223b5243028fb6a0734028c1ae": {
      "model_module": "@jupyter-widgets/base",
      "model_module_version": "1.2.0",
      "model_name": "LayoutModel",
      "state": {}
     },
     "9c7fd79a869f41c48f168dc43980e4e9": {
      "model_module": "@jupyter-widgets/controls",
      "model_module_version": "1.5.0",
      "model_name": "DescriptionStyleModel",
      "state": {
       "description_width": ""
      }
     },
     "9c83b9e2af0f4c74ae85dfcd022c6e9f": {
      "model_module": "@jupyter-widgets/base",
      "model_module_version": "1.2.0",
      "model_name": "LayoutModel",
      "state": {}
     },
     "9cf52327675242fe93d5c2e7cfa91cfa": {
      "model_module": "@jupyter-widgets/base",
      "model_module_version": "1.2.0",
      "model_name": "LayoutModel",
      "state": {}
     },
     "9d227de34716442c8f887f1325230633": {
      "model_module": "@jupyter-widgets/controls",
      "model_module_version": "1.5.0",
      "model_name": "DescriptionStyleModel",
      "state": {
       "description_width": ""
      }
     },
     "9db9cdd59c00452ba02a6ece13131a8c": {
      "model_module": "@jupyter-widgets/base",
      "model_module_version": "1.2.0",
      "model_name": "LayoutModel",
      "state": {}
     },
     "9dce591a599f4bacb8b1e2acc3fccc19": {
      "model_module": "@jupyter-widgets/controls",
      "model_module_version": "1.5.0",
      "model_name": "IntProgressModel",
      "state": {
       "bar_style": "success",
       "description": "Epoch 18/20 : ",
       "layout": "IPY_MODEL_704efa236a4a449b9127c54ce2e8b2d4",
       "max": 750,
       "style": "IPY_MODEL_4b166049c4e444bdb028175ccfc49ac9",
       "value": 750
      }
     },
     "9dd07f33258b4932a8966416618f5d97": {
      "model_module": "@jupyter-widgets/controls",
      "model_module_version": "1.5.0",
      "model_name": "HTMLModel",
      "state": {
       "layout": "IPY_MODEL_1ab5379651524942a92ff4e3e2837a0d",
       "style": "IPY_MODEL_7028813f12c2416786460b515614c983",
       "value": "100% 750/750 [00:01&lt;00:00, 597.30it/s]"
      }
     },
     "9e8800ea911d4326b82652e5852889e2": {
      "model_module": "@jupyter-widgets/controls",
      "model_module_version": "1.5.0",
      "model_name": "HTMLModel",
      "state": {
       "layout": "IPY_MODEL_3146f444d9194de8b6b67262d64d3c6e",
       "style": "IPY_MODEL_97973f484d944944865225d449707527",
       "value": "100% 750/750 [00:00&lt;00:00, 1171.32it/s]"
      }
     },
     "9e8c87b16e99436e880dab1ef4f3c589": {
      "model_module": "@jupyter-widgets/base",
      "model_module_version": "1.2.0",
      "model_name": "LayoutModel",
      "state": {}
     },
     "9ed074d88485464bb35dd5c89eb54a23": {
      "model_module": "@jupyter-widgets/base",
      "model_module_version": "1.2.0",
      "model_name": "LayoutModel",
      "state": {}
     },
     "9f59d45d2b424f61947178e29c214629": {
      "model_module": "@jupyter-widgets/controls",
      "model_module_version": "1.5.0",
      "model_name": "HTMLModel",
      "state": {
       "layout": "IPY_MODEL_807d5fcedd8b4b828c0e39635d077bc4",
       "style": "IPY_MODEL_f516700e6de34d9783e455244fdc013f",
       "value": "100% 750/750 [00:00&lt;00:00, 957.61it/s]"
      }
     },
     "9f749feabd58486f84c998e35a2832ae": {
      "model_module": "@jupyter-widgets/base",
      "model_module_version": "1.2.0",
      "model_name": "LayoutModel",
      "state": {}
     },
     "9f7ae071dd294bdc96d88108ad1bc8dd": {
      "model_module": "@jupyter-widgets/controls",
      "model_module_version": "1.5.0",
      "model_name": "HBoxModel",
      "state": {
       "children": [
        "IPY_MODEL_bda0767f3cdb4fb89d5809aa703787a0",
        "IPY_MODEL_9dd07f33258b4932a8966416618f5d97"
       ],
       "layout": "IPY_MODEL_05afdbc24a694bfcbb3a8c12c8f65202"
      }
     },
     "9f8c3de8efbc4ef086100b1c0b7cf2a1": {
      "model_module": "@jupyter-widgets/base",
      "model_module_version": "1.2.0",
      "model_name": "LayoutModel",
      "state": {}
     },
     "9fb221ae5229477e9b61ac058288b44b": {
      "model_module": "@jupyter-widgets/controls",
      "model_module_version": "1.5.0",
      "model_name": "IntProgressModel",
      "state": {
       "bar_style": "success",
       "description": "Epoch 7/20 : ",
       "layout": "IPY_MODEL_77a0c64bfc334690a473ea2d70e4b4fc",
       "max": 750,
       "style": "IPY_MODEL_433614e437cd4221976b16a8e1c8b7a8",
       "value": 750
      }
     },
     "9fe339bfa1c548458eb8e5b9f147bfa7": {
      "model_module": "@jupyter-widgets/base",
      "model_module_version": "1.2.0",
      "model_name": "LayoutModel",
      "state": {}
     },
     "9ff1ca36ace74c3abe41bdfa63c9486e": {
      "model_module": "@jupyter-widgets/base",
      "model_module_version": "1.2.0",
      "model_name": "LayoutModel",
      "state": {}
     },
     "a03fb44aac7048718598c6c2c86614ac": {
      "model_module": "@jupyter-widgets/controls",
      "model_module_version": "1.5.0",
      "model_name": "IntProgressModel",
      "state": {
       "bar_style": "success",
       "description": "Epoch 4/20 : ",
       "layout": "IPY_MODEL_1cfaed65c17c4930b48bd2901b0b57be",
       "max": 750,
       "style": "IPY_MODEL_ddca4646f6fc4639949e3ec99d03be5a",
       "value": 750
      }
     },
     "a0595361bff74bd3aeaeb52b6cb0942a": {
      "model_module": "@jupyter-widgets/controls",
      "model_module_version": "1.5.0",
      "model_name": "DescriptionStyleModel",
      "state": {
       "description_width": ""
      }
     },
     "a0d4139496824c4eb530267306b3ba5a": {
      "model_module": "@jupyter-widgets/controls",
      "model_module_version": "1.5.0",
      "model_name": "HBoxModel",
      "state": {
       "children": [
        "IPY_MODEL_ef2d0c82a36e4be7be4f9b2357de66f8",
        "IPY_MODEL_c55ce513e4f64c548aa79549a0352d95"
       ],
       "layout": "IPY_MODEL_2d7af0c3c7eb424f9ba95d97fca174cc"
      }
     },
     "a0e155cccf4c49adb95d1173ec0a800a": {
      "model_module": "@jupyter-widgets/controls",
      "model_module_version": "1.5.0",
      "model_name": "ProgressStyleModel",
      "state": {
       "description_width": "initial"
      }
     },
     "a12a30acd07d487aaceeedb4b2b398e0": {
      "model_module": "@jupyter-widgets/controls",
      "model_module_version": "1.5.0",
      "model_name": "HBoxModel",
      "state": {
       "children": [
        "IPY_MODEL_2ac73814546a4615a868e044c685bc07",
        "IPY_MODEL_3eb6ca8dbde149b18a310ea6380e7fd2"
       ],
       "layout": "IPY_MODEL_a35aae45255f46b48d8d2d44383359f3"
      }
     },
     "a15434545aaa4f7cb995ea9358bdfb1f": {
      "model_module": "@jupyter-widgets/controls",
      "model_module_version": "1.5.0",
      "model_name": "HBoxModel",
      "state": {
       "children": [
        "IPY_MODEL_9fb221ae5229477e9b61ac058288b44b",
        "IPY_MODEL_7288fc2038e443bdbf241c2176bfb5bb"
       ],
       "layout": "IPY_MODEL_a7cf839877a642bf9b60ec24c8d17712"
      }
     },
     "a15528c77a584c20b2a8d2fbdfb1ab5e": {
      "model_module": "@jupyter-widgets/controls",
      "model_module_version": "1.5.0",
      "model_name": "DescriptionStyleModel",
      "state": {
       "description_width": ""
      }
     },
     "a1607b44afd7464f925071ad97b2c459": {
      "model_module": "@jupyter-widgets/controls",
      "model_module_version": "1.5.0",
      "model_name": "HTMLModel",
      "state": {
       "layout": "IPY_MODEL_d941f4b0828c4575860d12a018800fe5",
       "style": "IPY_MODEL_28d91fd511ad40149b121059fc2c246f",
       "value": "100% 750/750 [00:01&lt;00:00, 698.64it/s]"
      }
     },
     "a1aed33375904c3f920b4af4b157e2c5": {
      "model_module": "@jupyter-widgets/controls",
      "model_module_version": "1.5.0",
      "model_name": "HTMLModel",
      "state": {
       "layout": "IPY_MODEL_417c0e7ca9334d52a5d98587a656b170",
       "style": "IPY_MODEL_eaf6a2d3782149fcbe0c1b1410b8e621",
       "value": "100% 750/750 [00:01&lt;00:00, 658.58it/s]"
      }
     },
     "a27a78c521bf495d9141fea0be6b8d75": {
      "model_module": "@jupyter-widgets/base",
      "model_module_version": "1.2.0",
      "model_name": "LayoutModel",
      "state": {}
     },
     "a27c99ec3e2a40f491390f3706e2eecf": {
      "model_module": "@jupyter-widgets/controls",
      "model_module_version": "1.5.0",
      "model_name": "HBoxModel",
      "state": {
       "children": [
        "IPY_MODEL_04bcb0ac85d246049d00e6a95a007b60",
        "IPY_MODEL_f081eb07aa02454eaec49dfa8994045d"
       ],
       "layout": "IPY_MODEL_801810f1798f41a7b7f0a3417794238d"
      }
     },
     "a2801b18ba7e434a80189dff29f1d8c3": {
      "model_module": "@jupyter-widgets/controls",
      "model_module_version": "1.5.0",
      "model_name": "HTMLModel",
      "state": {
       "layout": "IPY_MODEL_a52c7099a2ff49388866504649653661",
       "style": "IPY_MODEL_566bfcf522af48aca92615a6e56ecdb3",
       "value": "100% 750/750 [00:00&lt;00:00, 1219.50it/s]"
      }
     },
     "a33aedebf8c7476daa2daadcea3450b1": {
      "model_module": "@jupyter-widgets/base",
      "model_module_version": "1.2.0",
      "model_name": "LayoutModel",
      "state": {}
     },
     "a35aae45255f46b48d8d2d44383359f3": {
      "model_module": "@jupyter-widgets/base",
      "model_module_version": "1.2.0",
      "model_name": "LayoutModel",
      "state": {}
     },
     "a3ca597c6eaf4e0aa24ce2ba423f7857": {
      "model_module": "@jupyter-widgets/base",
      "model_module_version": "1.2.0",
      "model_name": "LayoutModel",
      "state": {}
     },
     "a4fda83f3c9b4a1ca3f6ffd4ba7440da": {
      "model_module": "@jupyter-widgets/controls",
      "model_module_version": "1.5.0",
      "model_name": "HTMLModel",
      "state": {
       "layout": "IPY_MODEL_7ab25df18a9a43758d03dd8252e6742b",
       "style": "IPY_MODEL_2095d678fd8140459a26360bd78d81be",
       "value": "100% 750/750 [00:01&lt;00:00, 638.82it/s]"
      }
     },
     "a5144e6f81d74404889bcb038aaef92f": {
      "model_module": "@jupyter-widgets/controls",
      "model_module_version": "1.5.0",
      "model_name": "HBoxModel",
      "state": {
       "children": [
        "IPY_MODEL_c7ec5b7f0dc24050bbb6a04712cc3827",
        "IPY_MODEL_b519a4417f9c4012be0ac4299ff712bd"
       ],
       "layout": "IPY_MODEL_8e14c826941f44378723060083a8d0a3"
      }
     },
     "a519315f8f51429b9224ecef3ce92222": {
      "model_module": "@jupyter-widgets/base",
      "model_module_version": "1.2.0",
      "model_name": "LayoutModel",
      "state": {}
     },
     "a52c7099a2ff49388866504649653661": {
      "model_module": "@jupyter-widgets/base",
      "model_module_version": "1.2.0",
      "model_name": "LayoutModel",
      "state": {}
     },
     "a5617c1ede3e413d9271ae47b2269fe5": {
      "model_module": "@jupyter-widgets/base",
      "model_module_version": "1.2.0",
      "model_name": "LayoutModel",
      "state": {}
     },
     "a56c1bff35574b039b333025c546220a": {
      "model_module": "@jupyter-widgets/controls",
      "model_module_version": "1.5.0",
      "model_name": "ProgressStyleModel",
      "state": {
       "description_width": "initial"
      }
     },
     "a5ae85bc8ec84d148cb833103091bb01": {
      "model_module": "@jupyter-widgets/controls",
      "model_module_version": "1.5.0",
      "model_name": "HBoxModel",
      "state": {
       "children": [
        "IPY_MODEL_d6031b6d5cfa47a9bf0cf0f30c36180d",
        "IPY_MODEL_89eccecb9c664f79987453fda7c90593"
       ],
       "layout": "IPY_MODEL_db94b4d071124f54b125bd5e43e1b847"
      }
     },
     "a5bfe722dd734d73a48b21c55d2c9c6f": {
      "model_module": "@jupyter-widgets/controls",
      "model_module_version": "1.5.0",
      "model_name": "DescriptionStyleModel",
      "state": {
       "description_width": ""
      }
     },
     "a5d24547f1364455bbbab66f01c119ff": {
      "model_module": "@jupyter-widgets/base",
      "model_module_version": "1.2.0",
      "model_name": "LayoutModel",
      "state": {}
     },
     "a5f2c0dff06d4eb3aab4c38b62295212": {
      "model_module": "@jupyter-widgets/base",
      "model_module_version": "1.2.0",
      "model_name": "LayoutModel",
      "state": {}
     },
     "a615d58ef9944849b5d9317a23ad915e": {
      "model_module": "@jupyter-widgets/controls",
      "model_module_version": "1.5.0",
      "model_name": "HBoxModel",
      "state": {
       "children": [
        "IPY_MODEL_1eca0527beba4c33bce05828b17a4ca4",
        "IPY_MODEL_b32ff0c37ae74411bf99c48a8ba2f6c1"
       ],
       "layout": "IPY_MODEL_98dfd1084fec4b8eb9571b5c179798ab"
      }
     },
     "a62cabcc7ff1405898f72d4572741e74": {
      "model_module": "@jupyter-widgets/controls",
      "model_module_version": "1.5.0",
      "model_name": "DescriptionStyleModel",
      "state": {
       "description_width": ""
      }
     },
     "a675a6bd6de64482893237765349eaea": {
      "model_module": "@jupyter-widgets/controls",
      "model_module_version": "1.5.0",
      "model_name": "ProgressStyleModel",
      "state": {
       "description_width": "initial"
      }
     },
     "a685337625ec4d87a8b2c559509e3ddf": {
      "model_module": "@jupyter-widgets/controls",
      "model_module_version": "1.5.0",
      "model_name": "DescriptionStyleModel",
      "state": {
       "description_width": ""
      }
     },
     "a69f3bb4672245409a408fb0cd43641c": {
      "model_module": "@jupyter-widgets/controls",
      "model_module_version": "1.5.0",
      "model_name": "IntProgressModel",
      "state": {
       "bar_style": "success",
       "description": "Epoch 20/20 : ",
       "layout": "IPY_MODEL_2dbb756f8d8e4b7e868dde9a0a5560c1",
       "max": 750,
       "style": "IPY_MODEL_ebfdd2ed67a3406cb9d62396fe467dd6",
       "value": 750
      }
     },
     "a7121c66c7a245dbad8730ef647018f3": {
      "model_module": "@jupyter-widgets/base",
      "model_module_version": "1.2.0",
      "model_name": "LayoutModel",
      "state": {}
     },
     "a7b40bfc7e6a490992aa5d9dfd350286": {
      "model_module": "@jupyter-widgets/base",
      "model_module_version": "1.2.0",
      "model_name": "LayoutModel",
      "state": {}
     },
     "a7cd75718de2488e97d0052b62d2b7f3": {
      "model_module": "@jupyter-widgets/base",
      "model_module_version": "1.2.0",
      "model_name": "LayoutModel",
      "state": {}
     },
     "a7cf839877a642bf9b60ec24c8d17712": {
      "model_module": "@jupyter-widgets/base",
      "model_module_version": "1.2.0",
      "model_name": "LayoutModel",
      "state": {}
     },
     "a7fb0072c85b4e73a83a55436b9ab87e": {
      "model_module": "@jupyter-widgets/base",
      "model_module_version": "1.2.0",
      "model_name": "LayoutModel",
      "state": {}
     },
     "a7fbb5a969584c7daa5792900507a459": {
      "model_module": "@jupyter-widgets/base",
      "model_module_version": "1.2.0",
      "model_name": "LayoutModel",
      "state": {}
     },
     "a812d1edf0174a9db8d22e554fab644e": {
      "model_module": "@jupyter-widgets/controls",
      "model_module_version": "1.5.0",
      "model_name": "DescriptionStyleModel",
      "state": {
       "description_width": ""
      }
     },
     "a821a49ad49c40b6a03e43a716711548": {
      "model_module": "@jupyter-widgets/base",
      "model_module_version": "1.2.0",
      "model_name": "LayoutModel",
      "state": {}
     },
     "a832c3ddcd8f4b70bf86d88a21c958f4": {
      "model_module": "@jupyter-widgets/controls",
      "model_module_version": "1.5.0",
      "model_name": "HBoxModel",
      "state": {
       "children": [
        "IPY_MODEL_5a87d718059a40a8b4b2989159fb84dd",
        "IPY_MODEL_69b422978ed347a3be79e0ef79e38536"
       ],
       "layout": "IPY_MODEL_455c4252ee034b7e8774074444a43dfd"
      }
     },
     "a84285a1265c4115bd320894e135de23": {
      "model_module": "@jupyter-widgets/controls",
      "model_module_version": "1.5.0",
      "model_name": "ProgressStyleModel",
      "state": {
       "description_width": "initial"
      }
     },
     "a87860ef038a4fd5adbc6725f4360345": {
      "model_module": "@jupyter-widgets/controls",
      "model_module_version": "1.5.0",
      "model_name": "ProgressStyleModel",
      "state": {
       "description_width": "initial"
      }
     },
     "a87a4ea62b1949a195eedad1f27af098": {
      "model_module": "@jupyter-widgets/base",
      "model_module_version": "1.2.0",
      "model_name": "LayoutModel",
      "state": {}
     },
     "a9043c8d363f4899b21d32fd0d5728e4": {
      "model_module": "@jupyter-widgets/controls",
      "model_module_version": "1.5.0",
      "model_name": "HBoxModel",
      "state": {
       "children": [
        "IPY_MODEL_1bffb25adc6945c48ae8a26826087eb5",
        "IPY_MODEL_78bd8a88403742ea8844e2affdf109ed"
       ],
       "layout": "IPY_MODEL_2fa169b2f29046458e43b6d03636b267"
      }
     },
     "a932e9b8b1214d4b8930a9a98a69e0e8": {
      "model_module": "@jupyter-widgets/controls",
      "model_module_version": "1.5.0",
      "model_name": "DescriptionStyleModel",
      "state": {
       "description_width": ""
      }
     },
     "a966d63f597a416592ce12b2a4cb108c": {
      "model_module": "@jupyter-widgets/base",
      "model_module_version": "1.2.0",
      "model_name": "LayoutModel",
      "state": {}
     },
     "a9765d99b6e84430b27e6fde5b3faac2": {
      "model_module": "@jupyter-widgets/controls",
      "model_module_version": "1.5.0",
      "model_name": "DescriptionStyleModel",
      "state": {
       "description_width": ""
      }
     },
     "a9821b70c26141b19cb71c7c897c4707": {
      "model_module": "@jupyter-widgets/base",
      "model_module_version": "1.2.0",
      "model_name": "LayoutModel",
      "state": {}
     },
     "a9af9215c88e4b1fb6a1e54e0f85c7ed": {
      "model_module": "@jupyter-widgets/base",
      "model_module_version": "1.2.0",
      "model_name": "LayoutModel",
      "state": {}
     },
     "a9fa4ea09fee4307b21f9ad0cbd4e4b0": {
      "model_module": "@jupyter-widgets/base",
      "model_module_version": "1.2.0",
      "model_name": "LayoutModel",
      "state": {}
     },
     "aa0916bbb3274481bc5f6bac94a763c0": {
      "model_module": "@jupyter-widgets/base",
      "model_module_version": "1.2.0",
      "model_name": "LayoutModel",
      "state": {}
     },
     "aa0bc4e6b2d34704bebc0eedc58c557e": {
      "model_module": "@jupyter-widgets/controls",
      "model_module_version": "1.5.0",
      "model_name": "HTMLModel",
      "state": {
       "layout": "IPY_MODEL_9e8c87b16e99436e880dab1ef4f3c589",
       "style": "IPY_MODEL_ed4ced3189744d59b46833f01e74f815",
       "value": "100% 750/750 [00:00&lt;00:00, 1216.84it/s]"
      }
     },
     "aa1a667b727d40b487de9796de5201d1": {
      "model_module": "@jupyter-widgets/base",
      "model_module_version": "1.2.0",
      "model_name": "LayoutModel",
      "state": {}
     },
     "aa9eb65543914262b14ea2708561e0e6": {
      "model_module": "@jupyter-widgets/controls",
      "model_module_version": "1.5.0",
      "model_name": "DescriptionStyleModel",
      "state": {
       "description_width": ""
      }
     },
     "aaa2f650bbc0412e87e61ff788200df6": {
      "model_module": "@jupyter-widgets/base",
      "model_module_version": "1.2.0",
      "model_name": "LayoutModel",
      "state": {}
     },
     "aabd953b6ccb47f1986dbe373b3ca468": {
      "model_module": "@jupyter-widgets/controls",
      "model_module_version": "1.5.0",
      "model_name": "DescriptionStyleModel",
      "state": {
       "description_width": ""
      }
     },
     "aae02d3cff1e4a4cb28dec88bd66adcb": {
      "model_module": "@jupyter-widgets/base",
      "model_module_version": "1.2.0",
      "model_name": "LayoutModel",
      "state": {}
     },
     "abd3ac8e6c2e4303a2b0f5f7f06ac05f": {
      "model_module": "@jupyter-widgets/controls",
      "model_module_version": "1.5.0",
      "model_name": "HBoxModel",
      "state": {
       "children": [
        "IPY_MODEL_f2c426b653cc4c5184296cdfc6a43c66",
        "IPY_MODEL_c16d5799c71c410489a98b06b88baf63"
       ],
       "layout": "IPY_MODEL_c10e786472bd4c5abfa5433cd2825202"
      }
     },
     "abd69a7e8c7c4866b7e67914ca7a5e44": {
      "model_module": "@jupyter-widgets/base",
      "model_module_version": "1.2.0",
      "model_name": "LayoutModel",
      "state": {}
     },
     "ac0b22a7775d42bbae5d430e2aebc8a1": {
      "model_module": "@jupyter-widgets/base",
      "model_module_version": "1.2.0",
      "model_name": "LayoutModel",
      "state": {}
     },
     "ac532f67866e442bb7b02eeab80e7244": {
      "model_module": "@jupyter-widgets/controls",
      "model_module_version": "1.5.0",
      "model_name": "DescriptionStyleModel",
      "state": {
       "description_width": ""
      }
     },
     "acc1f350a948434883c751f2f0bce974": {
      "model_module": "@jupyter-widgets/base",
      "model_module_version": "1.2.0",
      "model_name": "LayoutModel",
      "state": {}
     },
     "ad080b4cb6fa458582ab1b248bc070a5": {
      "model_module": "@jupyter-widgets/controls",
      "model_module_version": "1.5.0",
      "model_name": "IntProgressModel",
      "state": {
       "bar_style": "success",
       "description": "Epoch 2/20 : ",
       "layout": "IPY_MODEL_31b64a8890c24dafb39a78956750bd4f",
       "max": 750,
       "style": "IPY_MODEL_3852a056619f45c0944af41cb396834f",
       "value": 750
      }
     },
     "ad2530595a0c4a758f7915e7386e683e": {
      "model_module": "@jupyter-widgets/controls",
      "model_module_version": "1.5.0",
      "model_name": "IntProgressModel",
      "state": {
       "bar_style": "success",
       "description": "Epoch 19/20 : ",
       "layout": "IPY_MODEL_cddac8aa4ae34352bcc226d92efa73d4",
       "max": 750,
       "style": "IPY_MODEL_7a92c3b074d34d59970c96ec3b69a376",
       "value": 750
      }
     },
     "ad2cc1a4cca64a8aa5b1299ce38259e6": {
      "model_module": "@jupyter-widgets/controls",
      "model_module_version": "1.5.0",
      "model_name": "DescriptionStyleModel",
      "state": {
       "description_width": ""
      }
     },
     "ad48ed63551a4d05aaa912c729b8ed17": {
      "model_module": "@jupyter-widgets/base",
      "model_module_version": "1.2.0",
      "model_name": "LayoutModel",
      "state": {}
     },
     "adbd9e6e4c5c44b9a85b3a91f6f87469": {
      "model_module": "@jupyter-widgets/controls",
      "model_module_version": "1.5.0",
      "model_name": "DescriptionStyleModel",
      "state": {
       "description_width": ""
      }
     },
     "ae8b96c213204cf9b7574b933ec6080d": {
      "model_module": "@jupyter-widgets/base",
      "model_module_version": "1.2.0",
      "model_name": "LayoutModel",
      "state": {}
     },
     "ae91c2532d654c4d9b56dd94e42f5a4b": {
      "model_module": "@jupyter-widgets/base",
      "model_module_version": "1.2.0",
      "model_name": "LayoutModel",
      "state": {}
     },
     "aedaf8390a314703a311df164b44a6cf": {
      "model_module": "@jupyter-widgets/base",
      "model_module_version": "1.2.0",
      "model_name": "LayoutModel",
      "state": {}
     },
     "af06bc8a38284f1993ab0790a323d437": {
      "model_module": "@jupyter-widgets/base",
      "model_module_version": "1.2.0",
      "model_name": "LayoutModel",
      "state": {}
     },
     "af0f18fd138741c185504895a52e6fc4": {
      "model_module": "@jupyter-widgets/controls",
      "model_module_version": "1.5.0",
      "model_name": "HTMLModel",
      "state": {
       "layout": "IPY_MODEL_c9ecfc9684ed4a21b49233f58951ba24",
       "style": "IPY_MODEL_91a7e722d8f84c928b5c4456ffe5ee23",
       "value": "100% 750/750 [00:00&lt;00:00, 1273.57it/s]"
      }
     },
     "af3ed3b6a8934f39842eb272e4f70a57": {
      "model_module": "@jupyter-widgets/controls",
      "model_module_version": "1.5.0",
      "model_name": "HBoxModel",
      "state": {
       "children": [
        "IPY_MODEL_7ee4a8f0579b48d796e3e42709af40de",
        "IPY_MODEL_5ffc4d9927334de39b39bbf306077f2c"
       ],
       "layout": "IPY_MODEL_4f2bb583ec8440eb90fde52017be25f2"
      }
     },
     "afc73cf56d394f79a035902c23df3d65": {
      "model_module": "@jupyter-widgets/controls",
      "model_module_version": "1.5.0",
      "model_name": "HBoxModel",
      "state": {
       "children": [
        "IPY_MODEL_6266edfd0a444c12928331df69a068de",
        "IPY_MODEL_020b437511464cbd985cc3f2195f2b50"
       ],
       "layout": "IPY_MODEL_1d5acfb397e0443ea1c80f60d8dc18e4"
      }
     },
     "b0108f5103d840aabdd753637d5d5c9b": {
      "model_module": "@jupyter-widgets/base",
      "model_module_version": "1.2.0",
      "model_name": "LayoutModel",
      "state": {}
     },
     "b0e23705f94d49c48a9bca557e76053a": {
      "model_module": "@jupyter-widgets/base",
      "model_module_version": "1.2.0",
      "model_name": "LayoutModel",
      "state": {}
     },
     "b11516d7fbbf46edb437261ec3c6828b": {
      "model_module": "@jupyter-widgets/controls",
      "model_module_version": "1.5.0",
      "model_name": "HTMLModel",
      "state": {
       "layout": "IPY_MODEL_265130303c144a1aac412d6d6977737f",
       "style": "IPY_MODEL_a812d1edf0174a9db8d22e554fab644e",
       "value": "100% 750/750 [00:01&lt;00:00, 651.76it/s]"
      }
     },
     "b18b1d8df6344b8d8f922bbac9788bdc": {
      "model_module": "@jupyter-widgets/controls",
      "model_module_version": "1.5.0",
      "model_name": "IntProgressModel",
      "state": {
       "bar_style": "success",
       "description": "Epoch 19/20 : ",
       "layout": "IPY_MODEL_5d78553210c844cdaf5bd503aacf638b",
       "max": 750,
       "style": "IPY_MODEL_73d219c9a1714c3a830a82196c6ba170",
       "value": 750
      }
     },
     "b283739179964d809cb4005a98348fee": {
      "model_module": "@jupyter-widgets/controls",
      "model_module_version": "1.5.0",
      "model_name": "DescriptionStyleModel",
      "state": {
       "description_width": ""
      }
     },
     "b2dbe0a6d38144f096160e2ad714b2fd": {
      "model_module": "@jupyter-widgets/base",
      "model_module_version": "1.2.0",
      "model_name": "LayoutModel",
      "state": {}
     },
     "b2f177f265ce4bc8b10974a4eb1730f7": {
      "model_module": "@jupyter-widgets/base",
      "model_module_version": "1.2.0",
      "model_name": "LayoutModel",
      "state": {}
     },
     "b32ff0c37ae74411bf99c48a8ba2f6c1": {
      "model_module": "@jupyter-widgets/controls",
      "model_module_version": "1.5.0",
      "model_name": "HTMLModel",
      "state": {
       "layout": "IPY_MODEL_3892884a554846e6a24ecd11022524bd",
       "style": "IPY_MODEL_c4198801daaf450da4f9b0b4a53a543f",
       "value": "100% 750/750 [00:00&lt;00:00, 1179.34it/s]"
      }
     },
     "b330bea8955c44cc9c39d9c83e6d7ff7": {
      "model_module": "@jupyter-widgets/controls",
      "model_module_version": "1.5.0",
      "model_name": "IntProgressModel",
      "state": {
       "bar_style": "success",
       "description": "Epoch 13/20 : ",
       "layout": "IPY_MODEL_855ea8aeb2f846d88e219aa5057af22f",
       "max": 750,
       "style": "IPY_MODEL_9836bf7e13274e35bfb69174c63adc2c",
       "value": 750
      }
     },
     "b3883e63ec744d03b47e990098af2dc6": {
      "model_module": "@jupyter-widgets/controls",
      "model_module_version": "1.5.0",
      "model_name": "IntProgressModel",
      "state": {
       "bar_style": "success",
       "description": "Epoch 17/20 : ",
       "layout": "IPY_MODEL_c7281808ca834d23b9b3aa830594bb0b",
       "max": 750,
       "style": "IPY_MODEL_dfa0bfbb9a5d4ef7a27f906c38515868",
       "value": 750
      }
     },
     "b433db3eccd84d6badcbfe135fa04bf6": {
      "model_module": "@jupyter-widgets/controls",
      "model_module_version": "1.5.0",
      "model_name": "IntProgressModel",
      "state": {
       "bar_style": "success",
       "description": "Epoch 2/20 : ",
       "layout": "IPY_MODEL_393f43d3030746e3ba52c993cfb17a66",
       "max": 750,
       "style": "IPY_MODEL_ba3b0a92a4ed4b719589889013551260",
       "value": 750
      }
     },
     "b433e479cf984ce1b6c2a560eeaa4ee6": {
      "model_module": "@jupyter-widgets/controls",
      "model_module_version": "1.5.0",
      "model_name": "ProgressStyleModel",
      "state": {
       "description_width": "initial"
      }
     },
     "b4397d1a9b544206af7a40adf5d3d4ff": {
      "model_module": "@jupyter-widgets/controls",
      "model_module_version": "1.5.0",
      "model_name": "HTMLModel",
      "state": {
       "layout": "IPY_MODEL_05e920377f8d418099e663f55f85f4b2",
       "style": "IPY_MODEL_a685337625ec4d87a8b2c559509e3ddf",
       "value": "100% 750/750 [00:01&lt;00:00, 635.69it/s]"
      }
     },
     "b44651186cb04285ae43a932cc1da1fd": {
      "model_module": "@jupyter-widgets/base",
      "model_module_version": "1.2.0",
      "model_name": "LayoutModel",
      "state": {}
     },
     "b47088192d904aec9ce392a22b8a5f95": {
      "model_module": "@jupyter-widgets/controls",
      "model_module_version": "1.5.0",
      "model_name": "IntProgressModel",
      "state": {
       "bar_style": "success",
       "description": "Epoch 14/20 : ",
       "layout": "IPY_MODEL_f682a7aaa1a84cb4be6d8fb54c45b965",
       "max": 750,
       "style": "IPY_MODEL_a0e155cccf4c49adb95d1173ec0a800a",
       "value": 750
      }
     },
     "b48a148473704c6a85ded3f5c47e9c8e": {
      "model_module": "@jupyter-widgets/controls",
      "model_module_version": "1.5.0",
      "model_name": "ProgressStyleModel",
      "state": {
       "description_width": "initial"
      }
     },
     "b48e89347cb04a8aa7b81d7f5b7308e6": {
      "model_module": "@jupyter-widgets/controls",
      "model_module_version": "1.5.0",
      "model_name": "ProgressStyleModel",
      "state": {
       "description_width": "initial"
      }
     },
     "b4a0020b8b344008b44481fd1ade3869": {
      "model_module": "@jupyter-widgets/base",
      "model_module_version": "1.2.0",
      "model_name": "LayoutModel",
      "state": {}
     },
     "b4d3ceaae42943e3b03fcdfa8e7c940a": {
      "model_module": "@jupyter-widgets/controls",
      "model_module_version": "1.5.0",
      "model_name": "DescriptionStyleModel",
      "state": {
       "description_width": ""
      }
     },
     "b4dc17bc3cb0407ebc714a2dd1562c8b": {
      "model_module": "@jupyter-widgets/controls",
      "model_module_version": "1.5.0",
      "model_name": "ProgressStyleModel",
      "state": {
       "description_width": "initial"
      }
     },
     "b4efc989f72145e1b7b648bd39d8c72e": {
      "model_module": "@jupyter-widgets/controls",
      "model_module_version": "1.5.0",
      "model_name": "HBoxModel",
      "state": {
       "children": [
        "IPY_MODEL_83e07ab2087f43dfb425b38d0852c30d",
        "IPY_MODEL_5c6db4096e7643288abf07760caa5df4"
       ],
       "layout": "IPY_MODEL_97c29f860a3c410d9b4cd2e94e178464"
      }
     },
     "b519a4417f9c4012be0ac4299ff712bd": {
      "model_module": "@jupyter-widgets/controls",
      "model_module_version": "1.5.0",
      "model_name": "HTMLModel",
      "state": {
       "layout": "IPY_MODEL_d9a9c3799ddb47bab208842c1585ba12",
       "style": "IPY_MODEL_031d74579bca4e5b8866e166ffcfe766",
       "value": "100% 750/750 [00:00&lt;00:00, 750.87it/s]"
      }
     },
     "b536c884edad4014a3020c9e3556bd0c": {
      "model_module": "@jupyter-widgets/controls",
      "model_module_version": "1.5.0",
      "model_name": "HBoxModel",
      "state": {
       "children": [
        "IPY_MODEL_9dce591a599f4bacb8b1e2acc3fccc19",
        "IPY_MODEL_18d1668022f04751ba237d7ff2af9c33"
       ],
       "layout": "IPY_MODEL_06b1bee57b384d2d96195a9d70e31e0d"
      }
     },
     "b5789cd9d9af43f99cc2772cb67706b8": {
      "model_module": "@jupyter-widgets/base",
      "model_module_version": "1.2.0",
      "model_name": "LayoutModel",
      "state": {}
     },
     "b5854386ff104efcbdaed36b9b2ff556": {
      "model_module": "@jupyter-widgets/controls",
      "model_module_version": "1.5.0",
      "model_name": "IntProgressModel",
      "state": {
       "bar_style": "success",
       "description": "Epoch 16/20 : ",
       "layout": "IPY_MODEL_da683627be52409aaeb5a481d992f25b",
       "max": 750,
       "style": "IPY_MODEL_e88b9a0163b34bb5bce04113d3df2795",
       "value": 750
      }
     },
     "b5a0aaa3feaa48928b3f850176eb1c55": {
      "model_module": "@jupyter-widgets/controls",
      "model_module_version": "1.5.0",
      "model_name": "IntProgressModel",
      "state": {
       "bar_style": "success",
       "description": "Epoch 7/20 : ",
       "layout": "IPY_MODEL_756f8b9d52bb4c5f8657ed83eac5a4c7",
       "max": 750,
       "style": "IPY_MODEL_33ab9831ed0942e4ab387f048134b9a7",
       "value": 750
      }
     },
     "b5aa154d3a4e4c11942438c6914ebe53": {
      "model_module": "@jupyter-widgets/controls",
      "model_module_version": "1.5.0",
      "model_name": "IntProgressModel",
      "state": {
       "bar_style": "success",
       "description": "Epoch 13/20 : ",
       "layout": "IPY_MODEL_eb1f279f0da649f5977b5d9b3dc0944d",
       "max": 750,
       "style": "IPY_MODEL_ea2e70e6efe241919560623e54e96a95",
       "value": 750
      }
     },
     "b62f57277e0044f5ba93c4c83d842255": {
      "model_module": "@jupyter-widgets/controls",
      "model_module_version": "1.5.0",
      "model_name": "ProgressStyleModel",
      "state": {
       "description_width": "initial"
      }
     },
     "b69536cc52314d03a5d0b81f06ccb2a3": {
      "model_module": "@jupyter-widgets/controls",
      "model_module_version": "1.5.0",
      "model_name": "DescriptionStyleModel",
      "state": {
       "description_width": ""
      }
     },
     "b6ca708753974c1fab20ac1e6fa8fa63": {
      "model_module": "@jupyter-widgets/controls",
      "model_module_version": "1.5.0",
      "model_name": "HBoxModel",
      "state": {
       "children": [
        "IPY_MODEL_448a1eff7a38400fb5bf62184c579cbf",
        "IPY_MODEL_0bcc61f8358b4fd1b19528710ca8f465"
       ],
       "layout": "IPY_MODEL_e3e17371bd46482cb4d61f0c904c3d25"
      }
     },
     "b74c4ba366cd40f380ab62a501cd7fbf": {
      "model_module": "@jupyter-widgets/base",
      "model_module_version": "1.2.0",
      "model_name": "LayoutModel",
      "state": {}
     },
     "b75a7095543e445c9d13e9482707f5e3": {
      "model_module": "@jupyter-widgets/base",
      "model_module_version": "1.2.0",
      "model_name": "LayoutModel",
      "state": {}
     },
     "b768bb5618b84f9ba780606b2f3b6c6f": {
      "model_module": "@jupyter-widgets/controls",
      "model_module_version": "1.5.0",
      "model_name": "IntProgressModel",
      "state": {
       "bar_style": "success",
       "description": "Epoch 1/20 : ",
       "layout": "IPY_MODEL_e1041f965d13487e909adaa216189511",
       "max": 750,
       "style": "IPY_MODEL_e2b15a94035c4dabb999821af3c1c5f0",
       "value": 750
      }
     },
     "b7c0b52d7af348aa81b9e022a31f7007": {
      "model_module": "@jupyter-widgets/base",
      "model_module_version": "1.2.0",
      "model_name": "LayoutModel",
      "state": {}
     },
     "b822c04dc9a64ea99882f8820741f842": {
      "model_module": "@jupyter-widgets/controls",
      "model_module_version": "1.5.0",
      "model_name": "ProgressStyleModel",
      "state": {
       "description_width": "initial"
      }
     },
     "b89972cb22be4abbb624605c933b4846": {
      "model_module": "@jupyter-widgets/base",
      "model_module_version": "1.2.0",
      "model_name": "LayoutModel",
      "state": {}
     },
     "b99ebf37fbcf48b1bd7a59d36fa34ab5": {
      "model_module": "@jupyter-widgets/controls",
      "model_module_version": "1.5.0",
      "model_name": "HBoxModel",
      "state": {
       "children": [
        "IPY_MODEL_0e7e2efff1eb4d1385fbc6f3654b5f9b",
        "IPY_MODEL_28cd0b0dcfa84f9caad17beb55286992"
       ],
       "layout": "IPY_MODEL_d3f165e4060e4d51b734e340f48f0a18"
      }
     },
     "b9abc0eb00b245e4961da31d9265ef96": {
      "model_module": "@jupyter-widgets/base",
      "model_module_version": "1.2.0",
      "model_name": "LayoutModel",
      "state": {}
     },
     "b9ceb19264c64a6d8e6810d5c2e30e1d": {
      "model_module": "@jupyter-widgets/base",
      "model_module_version": "1.2.0",
      "model_name": "LayoutModel",
      "state": {}
     },
     "ba3b0a92a4ed4b719589889013551260": {
      "model_module": "@jupyter-widgets/controls",
      "model_module_version": "1.5.0",
      "model_name": "ProgressStyleModel",
      "state": {
       "description_width": "initial"
      }
     },
     "ba638e85a5944c1b8f8c631c44c18a94": {
      "model_module": "@jupyter-widgets/base",
      "model_module_version": "1.2.0",
      "model_name": "LayoutModel",
      "state": {}
     },
     "baa07357ace04a6b985fa15eda897846": {
      "model_module": "@jupyter-widgets/controls",
      "model_module_version": "1.5.0",
      "model_name": "DescriptionStyleModel",
      "state": {
       "description_width": ""
      }
     },
     "baa52887b8114ac5987feef7f6359fbb": {
      "model_module": "@jupyter-widgets/controls",
      "model_module_version": "1.5.0",
      "model_name": "ProgressStyleModel",
      "state": {
       "description_width": "initial"
      }
     },
     "baa9b6237d054fa6be5aba3d890be3d9": {
      "model_module": "@jupyter-widgets/base",
      "model_module_version": "1.2.0",
      "model_name": "LayoutModel",
      "state": {}
     },
     "bb005e0be1ef4236886d436aa4019bb9": {
      "model_module": "@jupyter-widgets/base",
      "model_module_version": "1.2.0",
      "model_name": "LayoutModel",
      "state": {}
     },
     "bc09eb4c31c444db9d4178a2696dcfe5": {
      "model_module": "@jupyter-widgets/base",
      "model_module_version": "1.2.0",
      "model_name": "LayoutModel",
      "state": {}
     },
     "bc2a0f95c3a4477880b4b99dcb07c1e7": {
      "model_module": "@jupyter-widgets/controls",
      "model_module_version": "1.5.0",
      "model_name": "HTMLModel",
      "state": {
       "layout": "IPY_MODEL_2d570661941c4a2389dcee6661a372fe",
       "style": "IPY_MODEL_d0506dc57cfc4732a2520657c99221b2",
       "value": "100% 750/750 [00:01&lt;00:00, 717.88it/s]"
      }
     },
     "bc4539fc795444b89d435b2a19301d65": {
      "model_module": "@jupyter-widgets/controls",
      "model_module_version": "1.5.0",
      "model_name": "HBoxModel",
      "state": {
       "children": [
        "IPY_MODEL_ad080b4cb6fa458582ab1b248bc070a5",
        "IPY_MODEL_c867392af4804373a57b84359e2f54e2"
       ],
       "layout": "IPY_MODEL_e0369b78b7c545c3ba10feca6a24abdd"
      }
     },
     "bc7d6dbee70c4ab886b614494181f055": {
      "model_module": "@jupyter-widgets/base",
      "model_module_version": "1.2.0",
      "model_name": "LayoutModel",
      "state": {}
     },
     "bc889e909e61455398d7586e6896f72c": {
      "model_module": "@jupyter-widgets/base",
      "model_module_version": "1.2.0",
      "model_name": "LayoutModel",
      "state": {}
     },
     "bce1b06c481b43c4890d62ddd532be50": {
      "model_module": "@jupyter-widgets/base",
      "model_module_version": "1.2.0",
      "model_name": "LayoutModel",
      "state": {}
     },
     "bcfa920139f141079fe41d040db2f51f": {
      "model_module": "@jupyter-widgets/base",
      "model_module_version": "1.2.0",
      "model_name": "LayoutModel",
      "state": {}
     },
     "bda0767f3cdb4fb89d5809aa703787a0": {
      "model_module": "@jupyter-widgets/controls",
      "model_module_version": "1.5.0",
      "model_name": "IntProgressModel",
      "state": {
       "bar_style": "success",
       "description": "Epoch 9/20 : ",
       "layout": "IPY_MODEL_c0d2a705b7d548c6ab9f5dbac39764e2",
       "max": 750,
       "style": "IPY_MODEL_903e3d226a73490b884493de2061b773",
       "value": 750
      }
     },
     "be53c01949db48a5b522a39368b16f66": {
      "model_module": "@jupyter-widgets/base",
      "model_module_version": "1.2.0",
      "model_name": "LayoutModel",
      "state": {}
     },
     "be8d99b86f434156837f0500dd865e79": {
      "model_module": "@jupyter-widgets/controls",
      "model_module_version": "1.5.0",
      "model_name": "HBoxModel",
      "state": {
       "children": [
        "IPY_MODEL_59b82d35973d45e9ba73c3ef6db1600f",
        "IPY_MODEL_98c5d0cb55654d98aeb06e9e1e173137"
       ],
       "layout": "IPY_MODEL_7092221bcfc248e3bc38053db5833195"
      }
     },
     "bec2c8ac70cf4735be8ea3791a983eb4": {
      "model_module": "@jupyter-widgets/base",
      "model_module_version": "1.2.0",
      "model_name": "LayoutModel",
      "state": {}
     },
     "bee2bf1f45a3470e81151afa0986cf70": {
      "model_module": "@jupyter-widgets/controls",
      "model_module_version": "1.5.0",
      "model_name": "HTMLModel",
      "state": {
       "layout": "IPY_MODEL_6f16d04a616a47f0acb90ed8b59bf6af",
       "style": "IPY_MODEL_e653f20aa7d54393b7a128013885403c",
       "value": "100% 750/750 [00:00&lt;00:00, 1010.05it/s]"
      }
     },
     "bf3e9743cb214b74b4ebcefa91edb9dc": {
      "model_module": "@jupyter-widgets/controls",
      "model_module_version": "1.5.0",
      "model_name": "HBoxModel",
      "state": {
       "children": [
        "IPY_MODEL_6364fa6374a2400bb4d34a579669a5e9",
        "IPY_MODEL_ff8adcbb6b094a96a228ecdfb0a1d330"
       ],
       "layout": "IPY_MODEL_324eac68e9ce41c3b78d998cee7edf9f"
      }
     },
     "bfe3fad174b74037b52fa2a07a2f0e07": {
      "model_module": "@jupyter-widgets/controls",
      "model_module_version": "1.5.0",
      "model_name": "ProgressStyleModel",
      "state": {
       "description_width": "initial"
      }
     },
     "bff24e4f8b6546deb9802022e9a7c61c": {
      "model_module": "@jupyter-widgets/controls",
      "model_module_version": "1.5.0",
      "model_name": "HBoxModel",
      "state": {
       "children": [
        "IPY_MODEL_25552d8ef5aa4fcda222a4d099b9ed6e",
        "IPY_MODEL_99502078792a4c8baa679ca0102b5a5b"
       ],
       "layout": "IPY_MODEL_8f34275818be4687844618e9e572708c"
      }
     },
     "c011fdf7212341c6bdcf48ef498eeb4d": {
      "model_module": "@jupyter-widgets/base",
      "model_module_version": "1.2.0",
      "model_name": "LayoutModel",
      "state": {}
     },
     "c0714333877e4636a6ff937663f4514a": {
      "model_module": "@jupyter-widgets/base",
      "model_module_version": "1.2.0",
      "model_name": "LayoutModel",
      "state": {}
     },
     "c08a7991894f4495ae266cd25f6bce2c": {
      "model_module": "@jupyter-widgets/controls",
      "model_module_version": "1.5.0",
      "model_name": "ProgressStyleModel",
      "state": {
       "description_width": "initial"
      }
     },
     "c0c4c3de8fe14600abdd55bd100b1422": {
      "model_module": "@jupyter-widgets/base",
      "model_module_version": "1.2.0",
      "model_name": "LayoutModel",
      "state": {}
     },
     "c0d2a705b7d548c6ab9f5dbac39764e2": {
      "model_module": "@jupyter-widgets/base",
      "model_module_version": "1.2.0",
      "model_name": "LayoutModel",
      "state": {}
     },
     "c0e17996f0c940dfb901959659d31349": {
      "model_module": "@jupyter-widgets/controls",
      "model_module_version": "1.5.0",
      "model_name": "ProgressStyleModel",
      "state": {
       "description_width": "initial"
      }
     },
     "c0fada5672c34a5190cb2f4b83ddfce5": {
      "model_module": "@jupyter-widgets/controls",
      "model_module_version": "1.5.0",
      "model_name": "ProgressStyleModel",
      "state": {
       "description_width": "initial"
      }
     },
     "c10e786472bd4c5abfa5433cd2825202": {
      "model_module": "@jupyter-widgets/base",
      "model_module_version": "1.2.0",
      "model_name": "LayoutModel",
      "state": {}
     },
     "c16d5799c71c410489a98b06b88baf63": {
      "model_module": "@jupyter-widgets/controls",
      "model_module_version": "1.5.0",
      "model_name": "HTMLModel",
      "state": {
       "layout": "IPY_MODEL_9920539508dc410bb872ec4801a4e2c0",
       "style": "IPY_MODEL_4175983a3c7045f4b2e3549b3c519a7c",
       "value": "100% 750/750 [00:00&lt;00:00, 791.74it/s]"
      }
     },
     "c1b1c497989b436fb06764d84eed0f4b": {
      "model_module": "@jupyter-widgets/base",
      "model_module_version": "1.2.0",
      "model_name": "LayoutModel",
      "state": {}
     },
     "c1db6827721746f4a62aab85d98c9310": {
      "model_module": "@jupyter-widgets/controls",
      "model_module_version": "1.5.0",
      "model_name": "IntProgressModel",
      "state": {
       "bar_style": "success",
       "description": "Epoch 6/20 : ",
       "layout": "IPY_MODEL_e3b136301e834192a02a4575a63fc478",
       "max": 750,
       "style": "IPY_MODEL_a84285a1265c4115bd320894e135de23",
       "value": 750
      }
     },
     "c222217e44874b6cb4bf185dc79c225d": {
      "model_module": "@jupyter-widgets/base",
      "model_module_version": "1.2.0",
      "model_name": "LayoutModel",
      "state": {}
     },
     "c2424be060204bc49fc71b5eb3fae61d": {
      "model_module": "@jupyter-widgets/controls",
      "model_module_version": "1.5.0",
      "model_name": "HBoxModel",
      "state": {
       "children": [
        "IPY_MODEL_f1950b5bd8cc4813b2949e0a5fef81c6",
        "IPY_MODEL_772fad67a24f4477869d6680eb809b7a"
       ],
       "layout": "IPY_MODEL_62b8f13aa0f4413fb42d696291e991f4"
      }
     },
     "c2b3fcec7b9040d6a98ecd586f5a73ef": {
      "model_module": "@jupyter-widgets/base",
      "model_module_version": "1.2.0",
      "model_name": "LayoutModel",
      "state": {}
     },
     "c31fdb667b004f07a276e3f21b17dfdd": {
      "model_module": "@jupyter-widgets/base",
      "model_module_version": "1.2.0",
      "model_name": "LayoutModel",
      "state": {}
     },
     "c328418ed28946e7b471124e6418e159": {
      "model_module": "@jupyter-widgets/controls",
      "model_module_version": "1.5.0",
      "model_name": "DescriptionStyleModel",
      "state": {
       "description_width": ""
      }
     },
     "c351b10911a54256840b46c767574d68": {
      "model_module": "@jupyter-widgets/controls",
      "model_module_version": "1.5.0",
      "model_name": "DescriptionStyleModel",
      "state": {
       "description_width": ""
      }
     },
     "c357ce7884d34e20a17540a97acbc215": {
      "model_module": "@jupyter-widgets/controls",
      "model_module_version": "1.5.0",
      "model_name": "HBoxModel",
      "state": {
       "children": [
        "IPY_MODEL_b3883e63ec744d03b47e990098af2dc6",
        "IPY_MODEL_c5fb4c8ede5e4469b56f68c16ce26b34"
       ],
       "layout": "IPY_MODEL_1c22bd69fc7546de94dd4d339d74bdbb"
      }
     },
     "c3b3f27fdfc84a0c956fce964cfe503e": {
      "model_module": "@jupyter-widgets/base",
      "model_module_version": "1.2.0",
      "model_name": "LayoutModel",
      "state": {}
     },
     "c3b45944806042a9b39db6b69fb90da7": {
      "model_module": "@jupyter-widgets/base",
      "model_module_version": "1.2.0",
      "model_name": "LayoutModel",
      "state": {}
     },
     "c3ee450724074823b3c4e04806cfae82": {
      "model_module": "@jupyter-widgets/controls",
      "model_module_version": "1.5.0",
      "model_name": "DescriptionStyleModel",
      "state": {
       "description_width": ""
      }
     },
     "c4198801daaf450da4f9b0b4a53a543f": {
      "model_module": "@jupyter-widgets/controls",
      "model_module_version": "1.5.0",
      "model_name": "DescriptionStyleModel",
      "state": {
       "description_width": ""
      }
     },
     "c5084074fbaf43618279e1d5df4a1bae": {
      "model_module": "@jupyter-widgets/controls",
      "model_module_version": "1.5.0",
      "model_name": "HTMLModel",
      "state": {
       "layout": "IPY_MODEL_a9af9215c88e4b1fb6a1e54e0f85c7ed",
       "style": "IPY_MODEL_ad2cc1a4cca64a8aa5b1299ce38259e6",
       "value": "100% 750/750 [00:01&lt;00:00, 603.56it/s]"
      }
     },
     "c55ce513e4f64c548aa79549a0352d95": {
      "model_module": "@jupyter-widgets/controls",
      "model_module_version": "1.5.0",
      "model_name": "HTMLModel",
      "state": {
       "layout": "IPY_MODEL_d905402cf14047018a4c5cbc3b119627",
       "style": "IPY_MODEL_aa9eb65543914262b14ea2708561e0e6",
       "value": "100% 750/750 [00:00&lt;00:00, 1331.60it/s]"
      }
     },
     "c5bf3ed5a7f74fc4974322532be074f8": {
      "model_module": "@jupyter-widgets/base",
      "model_module_version": "1.2.0",
      "model_name": "LayoutModel",
      "state": {}
     },
     "c5c4184d3e884ec7aa190e77381d1e84": {
      "model_module": "@jupyter-widgets/base",
      "model_module_version": "1.2.0",
      "model_name": "LayoutModel",
      "state": {}
     },
     "c5fb4c8ede5e4469b56f68c16ce26b34": {
      "model_module": "@jupyter-widgets/controls",
      "model_module_version": "1.5.0",
      "model_name": "HTMLModel",
      "state": {
       "layout": "IPY_MODEL_6f405d27e74d487e8f9e310a54f77420",
       "style": "IPY_MODEL_9d227de34716442c8f887f1325230633",
       "value": "100% 750/750 [00:00&lt;00:00, 1270.14it/s]"
      }
     },
     "c7281808ca834d23b9b3aa830594bb0b": {
      "model_module": "@jupyter-widgets/base",
      "model_module_version": "1.2.0",
      "model_name": "LayoutModel",
      "state": {}
     },
     "c7e0ff22b8ea4b268c0be8d0d265721f": {
      "model_module": "@jupyter-widgets/base",
      "model_module_version": "1.2.0",
      "model_name": "LayoutModel",
      "state": {}
     },
     "c7ec5b7f0dc24050bbb6a04712cc3827": {
      "model_module": "@jupyter-widgets/controls",
      "model_module_version": "1.5.0",
      "model_name": "IntProgressModel",
      "state": {
       "bar_style": "success",
       "description": "Epoch 5/20 : ",
       "layout": "IPY_MODEL_0f803438c02b4bfa993fb410af9040aa",
       "max": 750,
       "style": "IPY_MODEL_8c01249f038c403cafdb7dbf182fe66b",
       "value": 750
      }
     },
     "c82f7e800b0c46afb56bb0c7fa2823a0": {
      "model_module": "@jupyter-widgets/base",
      "model_module_version": "1.2.0",
      "model_name": "LayoutModel",
      "state": {}
     },
     "c836054a4e6f466795a490217d833b6a": {
      "model_module": "@jupyter-widgets/controls",
      "model_module_version": "1.5.0",
      "model_name": "HBoxModel",
      "state": {
       "children": [
        "IPY_MODEL_0fdb04d5626b41979c4aabed25b84860",
        "IPY_MODEL_cdcb3f158eaf4b7db5f1a1369abfb402"
       ],
       "layout": "IPY_MODEL_a5d24547f1364455bbbab66f01c119ff"
      }
     },
     "c867392af4804373a57b84359e2f54e2": {
      "model_module": "@jupyter-widgets/controls",
      "model_module_version": "1.5.0",
      "model_name": "HTMLModel",
      "state": {
       "layout": "IPY_MODEL_9c83b9e2af0f4c74ae85dfcd022c6e9f",
       "style": "IPY_MODEL_d4f35ee19dec4fa69d8f938c8d47b662",
       "value": "100% 750/750 [00:01&lt;00:00, 680.49it/s]"
      }
     },
     "c8c065137b944f70ab9ce30b8b30aa62": {
      "model_module": "@jupyter-widgets/controls",
      "model_module_version": "1.5.0",
      "model_name": "HBoxModel",
      "state": {
       "children": [
        "IPY_MODEL_52fd4e8b5a3e421c8799a026cb0a59db",
        "IPY_MODEL_597f012c51c6455a8ca0948d32ca4408"
       ],
       "layout": "IPY_MODEL_577341bb29ec47f9b4e989e5e1190b45"
      }
     },
     "c9ecfc9684ed4a21b49233f58951ba24": {
      "model_module": "@jupyter-widgets/base",
      "model_module_version": "1.2.0",
      "model_name": "LayoutModel",
      "state": {}
     },
     "ca47a6e287b94d5b9a0ca8a32cdfa403": {
      "model_module": "@jupyter-widgets/controls",
      "model_module_version": "1.5.0",
      "model_name": "HTMLModel",
      "state": {
       "layout": "IPY_MODEL_94934c83d6d24c0ea72e9e8e60b0a52c",
       "style": "IPY_MODEL_0e4899bdc8364ba5acad2f0a07ad411b",
       "value": "100% 750/750 [00:00&lt;00:00, 1087.75it/s]"
      }
     },
     "cb01f2ebebdb4688922e0bfc564f0433": {
      "model_module": "@jupyter-widgets/controls",
      "model_module_version": "1.5.0",
      "model_name": "ProgressStyleModel",
      "state": {
       "description_width": "initial"
      }
     },
     "cb054249997e4bf686f9370073847c5a": {
      "model_module": "@jupyter-widgets/controls",
      "model_module_version": "1.5.0",
      "model_name": "DescriptionStyleModel",
      "state": {
       "description_width": ""
      }
     },
     "cb3ceb529af54ae48ad1928357b3fbc0": {
      "model_module": "@jupyter-widgets/base",
      "model_module_version": "1.2.0",
      "model_name": "LayoutModel",
      "state": {}
     },
     "cb6ec8f35feb4dad92fa88f42e44d11c": {
      "model_module": "@jupyter-widgets/controls",
      "model_module_version": "1.5.0",
      "model_name": "HTMLModel",
      "state": {
       "layout": "IPY_MODEL_53564267b6f94a62beb3beb6cf700a9f",
       "style": "IPY_MODEL_147848108ba74237ab969cec4f29faca",
       "value": "100% 750/750 [00:00&lt;00:00, 1393.87it/s]"
      }
     },
     "cb988764dcf349c292a241e06ab72de7": {
      "model_module": "@jupyter-widgets/controls",
      "model_module_version": "1.5.0",
      "model_name": "DescriptionStyleModel",
      "state": {
       "description_width": ""
      }
     },
     "cb9ac08729eb415190b32fe8b7593310": {
      "model_module": "@jupyter-widgets/controls",
      "model_module_version": "1.5.0",
      "model_name": "DescriptionStyleModel",
      "state": {
       "description_width": ""
      }
     },
     "cbe5cf4e423f412b830aadad62591a6d": {
      "model_module": "@jupyter-widgets/base",
      "model_module_version": "1.2.0",
      "model_name": "LayoutModel",
      "state": {}
     },
     "cc49fe3f23494be3a506b93bea312000": {
      "model_module": "@jupyter-widgets/base",
      "model_module_version": "1.2.0",
      "model_name": "LayoutModel",
      "state": {}
     },
     "cca3281a82084bcba4502979e4b2e2c1": {
      "model_module": "@jupyter-widgets/controls",
      "model_module_version": "1.5.0",
      "model_name": "HTMLModel",
      "state": {
       "layout": "IPY_MODEL_6ff3865e84794a1d93720bf4b1208455",
       "style": "IPY_MODEL_2d629d75614f4332aac0941c375f0e10",
       "value": "100% 750/750 [00:01&lt;00:00, 680.56it/s]"
      }
     },
     "cd3698547cec4434b13894c44f8a6c9b": {
      "model_module": "@jupyter-widgets/controls",
      "model_module_version": "1.5.0",
      "model_name": "HTMLModel",
      "state": {
       "layout": "IPY_MODEL_1532c0d672b64b10afb88474d1205c01",
       "style": "IPY_MODEL_4ff9ee1829894f44af59cfda78e967be",
       "value": "100% 750/750 [00:00&lt;00:00, 1199.45it/s]"
      }
     },
     "cd4148c0f758440180b8a8d64f85cc6b": {
      "model_module": "@jupyter-widgets/controls",
      "model_module_version": "1.5.0",
      "model_name": "ProgressStyleModel",
      "state": {
       "description_width": "initial"
      }
     },
     "cd9fedbbce0b4d5a940d52cc5d383c12": {
      "model_module": "@jupyter-widgets/controls",
      "model_module_version": "1.5.0",
      "model_name": "HTMLModel",
      "state": {
       "layout": "IPY_MODEL_d4a8d448592e441fba50d7c3ef1c5d7e",
       "style": "IPY_MODEL_3f1498903c184a2889c5eff111eca194",
       "value": "100% 750/750 [00:01&lt;00:00, 696.29it/s]"
      }
     },
     "cdcb3f158eaf4b7db5f1a1369abfb402": {
      "model_module": "@jupyter-widgets/controls",
      "model_module_version": "1.5.0",
      "model_name": "HTMLModel",
      "state": {
       "layout": "IPY_MODEL_7952f15948444d4ca09c706bf8c6917a",
       "style": "IPY_MODEL_63ea866ea15d415f96924776569a21f7",
       "value": "100% 750/750 [00:01&lt;00:00, 604.23it/s]"
      }
     },
     "cddac8aa4ae34352bcc226d92efa73d4": {
      "model_module": "@jupyter-widgets/base",
      "model_module_version": "1.2.0",
      "model_name": "LayoutModel",
      "state": {}
     },
     "cdecaba210414702b7e201cb1dc44a8e": {
      "model_module": "@jupyter-widgets/controls",
      "model_module_version": "1.5.0",
      "model_name": "ProgressStyleModel",
      "state": {
       "description_width": "initial"
      }
     },
     "ce8c8fb12246436e8968e18ac45dc9a6": {
      "model_module": "@jupyter-widgets/controls",
      "model_module_version": "1.5.0",
      "model_name": "ProgressStyleModel",
      "state": {
       "description_width": "initial"
      }
     },
     "ce9cbb196f9b46019ae32763fe1757e3": {
      "model_module": "@jupyter-widgets/controls",
      "model_module_version": "1.5.0",
      "model_name": "HTMLModel",
      "state": {
       "layout": "IPY_MODEL_9b363dd981d54ddea16f5e6f7dcc7c4f",
       "style": "IPY_MODEL_2fad565c2e0b4fcdb500da63162e3c6c",
       "value": "100% 750/750 [00:00&lt;00:00, 1399.08it/s]"
      }
     },
     "ceb82a026c0a4b068739f2543735bdb1": {
      "model_module": "@jupyter-widgets/controls",
      "model_module_version": "1.5.0",
      "model_name": "HTMLModel",
      "state": {
       "layout": "IPY_MODEL_ed800cd02b8349e69197df2d23754ee9",
       "style": "IPY_MODEL_fcb641d3bcd04247b944cb6665fdb5af",
       "value": "100% 750/750 [00:01&lt;00:00, 464.30it/s]"
      }
     },
     "cef172c7d011407da7fcb2b5fe8afa99": {
      "model_module": "@jupyter-widgets/controls",
      "model_module_version": "1.5.0",
      "model_name": "ProgressStyleModel",
      "state": {
       "description_width": "initial"
      }
     },
     "cf56cfc032284d1899d1fbd21099f06b": {
      "model_module": "@jupyter-widgets/controls",
      "model_module_version": "1.5.0",
      "model_name": "ProgressStyleModel",
      "state": {
       "description_width": "initial"
      }
     },
     "cff244df44154e888fc85cbad11e38d5": {
      "model_module": "@jupyter-widgets/base",
      "model_module_version": "1.2.0",
      "model_name": "LayoutModel",
      "state": {}
     },
     "d00c113fcf2d4963aea8de5deb8e39e5": {
      "model_module": "@jupyter-widgets/controls",
      "model_module_version": "1.5.0",
      "model_name": "ProgressStyleModel",
      "state": {
       "description_width": "initial"
      }
     },
     "d0506dc57cfc4732a2520657c99221b2": {
      "model_module": "@jupyter-widgets/controls",
      "model_module_version": "1.5.0",
      "model_name": "DescriptionStyleModel",
      "state": {
       "description_width": ""
      }
     },
     "d118fb95b4bf4d8896a9414d33722c6f": {
      "model_module": "@jupyter-widgets/controls",
      "model_module_version": "1.5.0",
      "model_name": "HBoxModel",
      "state": {
       "children": [
        "IPY_MODEL_0cf234233d494af692d409efa2b6ae92",
        "IPY_MODEL_2360657ed2a04451ad2f3c670ce0dc1b"
       ],
       "layout": "IPY_MODEL_c222217e44874b6cb4bf185dc79c225d"
      }
     },
     "d192b5602abd45f59c22016697f5a2f2": {
      "model_module": "@jupyter-widgets/controls",
      "model_module_version": "1.5.0",
      "model_name": "ProgressStyleModel",
      "state": {
       "description_width": "initial"
      }
     },
     "d29d415b82494382815d696305e4b8df": {
      "model_module": "@jupyter-widgets/controls",
      "model_module_version": "1.5.0",
      "model_name": "HTMLModel",
      "state": {
       "layout": "IPY_MODEL_a7cd75718de2488e97d0052b62d2b7f3",
       "style": "IPY_MODEL_baa07357ace04a6b985fa15eda897846",
       "value": "100% 750/750 [00:01&lt;00:00, 512.45it/s]"
      }
     },
     "d2bcd69e114d4058a6781305cae29e95": {
      "model_module": "@jupyter-widgets/base",
      "model_module_version": "1.2.0",
      "model_name": "LayoutModel",
      "state": {}
     },
     "d300b304c1f94e7ab5f7a1cd579c9851": {
      "model_module": "@jupyter-widgets/controls",
      "model_module_version": "1.5.0",
      "model_name": "HBoxModel",
      "state": {
       "children": [
        "IPY_MODEL_8b1568bc75564c67afac20eb741ef283",
        "IPY_MODEL_e22121d4bb664b5cb2d05efc8a7f6514"
       ],
       "layout": "IPY_MODEL_8e8a0bc403bf45a88dd136616418756d"
      }
     },
     "d35c2bbd9cff4fdd81ba78a271dbc033": {
      "model_module": "@jupyter-widgets/controls",
      "model_module_version": "1.5.0",
      "model_name": "ProgressStyleModel",
      "state": {
       "description_width": "initial"
      }
     },
     "d3c8ea6a34104bf1b54c38dda1f07df3": {
      "model_module": "@jupyter-widgets/base",
      "model_module_version": "1.2.0",
      "model_name": "LayoutModel",
      "state": {}
     },
     "d3f165e4060e4d51b734e340f48f0a18": {
      "model_module": "@jupyter-widgets/base",
      "model_module_version": "1.2.0",
      "model_name": "LayoutModel",
      "state": {}
     },
     "d3fafdff4b174d39af878866eccb0c74": {
      "model_module": "@jupyter-widgets/controls",
      "model_module_version": "1.5.0",
      "model_name": "IntProgressModel",
      "state": {
       "bar_style": "success",
       "description": "Epoch 12/20 : ",
       "layout": "IPY_MODEL_77494e58d3fd47aea00d298e4db0ca9b",
       "max": 750,
       "style": "IPY_MODEL_b48a148473704c6a85ded3f5c47e9c8e",
       "value": 750
      }
     },
     "d4a8d448592e441fba50d7c3ef1c5d7e": {
      "model_module": "@jupyter-widgets/base",
      "model_module_version": "1.2.0",
      "model_name": "LayoutModel",
      "state": {}
     },
     "d4f35ee19dec4fa69d8f938c8d47b662": {
      "model_module": "@jupyter-widgets/controls",
      "model_module_version": "1.5.0",
      "model_name": "DescriptionStyleModel",
      "state": {
       "description_width": ""
      }
     },
     "d520afffb1684cffb6b51d56e0030069": {
      "model_module": "@jupyter-widgets/controls",
      "model_module_version": "1.5.0",
      "model_name": "IntProgressModel",
      "state": {
       "bar_style": "success",
       "description": "Epoch 10/20 : ",
       "layout": "IPY_MODEL_ae91c2532d654c4d9b56dd94e42f5a4b",
       "max": 750,
       "style": "IPY_MODEL_cd4148c0f758440180b8a8d64f85cc6b",
       "value": 750
      }
     },
     "d54e54cbccc4461d8037c1cea53b7372": {
      "model_module": "@jupyter-widgets/base",
      "model_module_version": "1.2.0",
      "model_name": "LayoutModel",
      "state": {}
     },
     "d5e947edba014d39a39084d3df29ba26": {
      "model_module": "@jupyter-widgets/base",
      "model_module_version": "1.2.0",
      "model_name": "LayoutModel",
      "state": {}
     },
     "d6031b6d5cfa47a9bf0cf0f30c36180d": {
      "model_module": "@jupyter-widgets/controls",
      "model_module_version": "1.5.0",
      "model_name": "IntProgressModel",
      "state": {
       "bar_style": "success",
       "description": "Epoch 3/20 : ",
       "layout": "IPY_MODEL_950d358222dd4e15be5897d0363e9de7",
       "max": 750,
       "style": "IPY_MODEL_6c95a124744b4f4ea101a4c0562a442e",
       "value": 750
      }
     },
     "d77aa37ea5104904af4969da461d3e95": {
      "model_module": "@jupyter-widgets/controls",
      "model_module_version": "1.5.0",
      "model_name": "DescriptionStyleModel",
      "state": {
       "description_width": ""
      }
     },
     "d7b85511f20a436e9e95950511dc6981": {
      "model_module": "@jupyter-widgets/controls",
      "model_module_version": "1.5.0",
      "model_name": "HBoxModel",
      "state": {
       "children": [
        "IPY_MODEL_731882f182794044a48c9c094f625450",
        "IPY_MODEL_0439b5f64fe643f29604f1f2c2a98b76"
       ],
       "layout": "IPY_MODEL_71221eaadc054c43a66a99d5ec87cecd"
      }
     },
     "d83ca505e36b4c12b735469c6ece78d7": {
      "model_module": "@jupyter-widgets/base",
      "model_module_version": "1.2.0",
      "model_name": "LayoutModel",
      "state": {}
     },
     "d8be1cc6533b4498924b64f5c20a859c": {
      "model_module": "@jupyter-widgets/controls",
      "model_module_version": "1.5.0",
      "model_name": "ProgressStyleModel",
      "state": {
       "description_width": "initial"
      }
     },
     "d905402cf14047018a4c5cbc3b119627": {
      "model_module": "@jupyter-widgets/base",
      "model_module_version": "1.2.0",
      "model_name": "LayoutModel",
      "state": {}
     },
     "d941f4b0828c4575860d12a018800fe5": {
      "model_module": "@jupyter-widgets/base",
      "model_module_version": "1.2.0",
      "model_name": "LayoutModel",
      "state": {}
     },
     "d9a9c3799ddb47bab208842c1585ba12": {
      "model_module": "@jupyter-widgets/base",
      "model_module_version": "1.2.0",
      "model_name": "LayoutModel",
      "state": {}
     },
     "d9cf8eddeef84350a921c7a4cb163f6d": {
      "model_module": "@jupyter-widgets/base",
      "model_module_version": "1.2.0",
      "model_name": "LayoutModel",
      "state": {}
     },
     "d9ef0c18f07a4ccfac5524a3835be1ac": {
      "model_module": "@jupyter-widgets/controls",
      "model_module_version": "1.5.0",
      "model_name": "HTMLModel",
      "state": {
       "layout": "IPY_MODEL_5d63257a0adf43d597eaa434e414fea9",
       "style": "IPY_MODEL_8a70e9755d8e4136b67664207bff1757",
       "value": "100% 750/750 [00:00&lt;00:00, 1272.43it/s]"
      }
     },
     "da391c6d4f4d4f7abef069acc8218dc4": {
      "model_module": "@jupyter-widgets/controls",
      "model_module_version": "1.5.0",
      "model_name": "HTMLModel",
      "state": {
       "layout": "IPY_MODEL_77b0cc2bdc1f4c3e80b090100efad1af",
       "style": "IPY_MODEL_5f2ab2d9382c4ae0aecf3e96b11ebd01",
       "value": "100% 750/750 [00:01&lt;00:00, 647.30it/s]"
      }
     },
     "da683627be52409aaeb5a481d992f25b": {
      "model_module": "@jupyter-widgets/base",
      "model_module_version": "1.2.0",
      "model_name": "LayoutModel",
      "state": {}
     },
     "dac2ef4e984b47a28672e3c22541f8ea": {
      "model_module": "@jupyter-widgets/controls",
      "model_module_version": "1.5.0",
      "model_name": "ProgressStyleModel",
      "state": {
       "description_width": "initial"
      }
     },
     "db4ab46ac2d4403d94e1ff935da1aada": {
      "model_module": "@jupyter-widgets/controls",
      "model_module_version": "1.5.0",
      "model_name": "IntProgressModel",
      "state": {
       "bar_style": "success",
       "description": "Epoch 13/20 : ",
       "layout": "IPY_MODEL_cff244df44154e888fc85cbad11e38d5",
       "max": 750,
       "style": "IPY_MODEL_6cd2625dfd854aa09efc4a745147ce2e",
       "value": 750
      }
     },
     "db94b4d071124f54b125bd5e43e1b847": {
      "model_module": "@jupyter-widgets/base",
      "model_module_version": "1.2.0",
      "model_name": "LayoutModel",
      "state": {}
     },
     "dc09216ec5504be98aa69415ee35da68": {
      "model_module": "@jupyter-widgets/controls",
      "model_module_version": "1.5.0",
      "model_name": "HTMLModel",
      "state": {
       "layout": "IPY_MODEL_4d83d1f5dfe94e6ba2f52a29a9c89ef1",
       "style": "IPY_MODEL_2b608e20323745418165ab7642f51a73",
       "value": "100% 750/750 [00:00&lt;00:00, 1305.66it/s]"
      }
     },
     "dc2d6f64822a497daee12820ed234f18": {
      "model_module": "@jupyter-widgets/base",
      "model_module_version": "1.2.0",
      "model_name": "LayoutModel",
      "state": {}
     },
     "dc78385c62834822989d8314f8f9d9fa": {
      "model_module": "@jupyter-widgets/controls",
      "model_module_version": "1.5.0",
      "model_name": "HBoxModel",
      "state": {
       "children": [
        "IPY_MODEL_2b5065645a024269998b5a8bea7e8002",
        "IPY_MODEL_68e0a30aa0ca4c42bb2accf4aade111c"
       ],
       "layout": "IPY_MODEL_13cb46d01513478d951bc00d8bad7346"
      }
     },
     "dc7cb843236d48b0a71d8ff6c56b09b0": {
      "model_module": "@jupyter-widgets/controls",
      "model_module_version": "1.5.0",
      "model_name": "HTMLModel",
      "state": {
       "layout": "IPY_MODEL_ac0b22a7775d42bbae5d430e2aebc8a1",
       "style": "IPY_MODEL_f3d8134e74af4585afd415329b9a2ae3",
       "value": "100% 750/750 [00:00&lt;00:00, 1249.07it/s]"
      }
     },
     "dca71e4de7c8438a8b6521097f63c08f": {
      "model_module": "@jupyter-widgets/controls",
      "model_module_version": "1.5.0",
      "model_name": "HTMLModel",
      "state": {
       "layout": "IPY_MODEL_5635a29f6e764a78b677555332a37620",
       "style": "IPY_MODEL_346d73ea7f214da1a977d76338a688d7",
       "value": "100% 750/750 [00:00&lt;00:00, 754.36it/s]"
      }
     },
     "dcc80de7857d4cb690d1020098efc4c8": {
      "model_module": "@jupyter-widgets/controls",
      "model_module_version": "1.5.0",
      "model_name": "HTMLModel",
      "state": {
       "layout": "IPY_MODEL_7759bb47ccda44ecbe5f2afa42d73d38",
       "style": "IPY_MODEL_784592821e6b40c1bf12bf4097256192",
       "value": "100% 750/750 [00:00&lt;00:00, 1140.73it/s]"
      }
     },
     "dcf39efeba6141b884d0998f0a356d31": {
      "model_module": "@jupyter-widgets/base",
      "model_module_version": "1.2.0",
      "model_name": "LayoutModel",
      "state": {}
     },
     "dd282c07beec484bb8c16b1c42cfbf6c": {
      "model_module": "@jupyter-widgets/controls",
      "model_module_version": "1.5.0",
      "model_name": "HBoxModel",
      "state": {
       "children": [
        "IPY_MODEL_df3baf33401449e78e5a4a57c35871aa",
        "IPY_MODEL_995c9c399fd74737a6b20bf419a8ade6"
       ],
       "layout": "IPY_MODEL_aaa2f650bbc0412e87e61ff788200df6"
      }
     },
     "ddca4646f6fc4639949e3ec99d03be5a": {
      "model_module": "@jupyter-widgets/controls",
      "model_module_version": "1.5.0",
      "model_name": "ProgressStyleModel",
      "state": {
       "description_width": "initial"
      }
     },
     "ddd9332747ea46258ee9138d858ab335": {
      "model_module": "@jupyter-widgets/base",
      "model_module_version": "1.2.0",
      "model_name": "LayoutModel",
      "state": {}
     },
     "de1d7cd1d3b44dbe892dd1ce2b495f42": {
      "model_module": "@jupyter-widgets/base",
      "model_module_version": "1.2.0",
      "model_name": "LayoutModel",
      "state": {}
     },
     "de25c2c43ffd4cca9ffe79c7f7cbc28a": {
      "model_module": "@jupyter-widgets/base",
      "model_module_version": "1.2.0",
      "model_name": "LayoutModel",
      "state": {}
     },
     "df267d8e2ee04693968f79f6ed36ce90": {
      "model_module": "@jupyter-widgets/controls",
      "model_module_version": "1.5.0",
      "model_name": "ProgressStyleModel",
      "state": {
       "description_width": "initial"
      }
     },
     "df3baf33401449e78e5a4a57c35871aa": {
      "model_module": "@jupyter-widgets/controls",
      "model_module_version": "1.5.0",
      "model_name": "IntProgressModel",
      "state": {
       "bar_style": "success",
       "description": "Epoch 12/20 : ",
       "layout": "IPY_MODEL_d2bcd69e114d4058a6781305cae29e95",
       "max": 750,
       "style": "IPY_MODEL_f453b57286b04bb4ac02315ffdb57c21",
       "value": 750
      }
     },
     "dfa0bfbb9a5d4ef7a27f906c38515868": {
      "model_module": "@jupyter-widgets/controls",
      "model_module_version": "1.5.0",
      "model_name": "ProgressStyleModel",
      "state": {
       "description_width": "initial"
      }
     },
     "dfd5f7885e844329bcbcb251fb71d0be": {
      "model_module": "@jupyter-widgets/controls",
      "model_module_version": "1.5.0",
      "model_name": "DescriptionStyleModel",
      "state": {
       "description_width": ""
      }
     },
     "e0369b78b7c545c3ba10feca6a24abdd": {
      "model_module": "@jupyter-widgets/base",
      "model_module_version": "1.2.0",
      "model_name": "LayoutModel",
      "state": {}
     },
     "e072307c79304225b4b218ceb6198a41": {
      "model_module": "@jupyter-widgets/controls",
      "model_module_version": "1.5.0",
      "model_name": "HTMLModel",
      "state": {
       "layout": "IPY_MODEL_493f26e9af214a60be89a0e599d0f24a",
       "style": "IPY_MODEL_a15528c77a584c20b2a8d2fbdfb1ab5e",
       "value": "100% 750/750 [00:01&lt;00:00, 672.22it/s]"
      }
     },
     "e0cdb66e04014cca83d146ea3230a8a2": {
      "model_module": "@jupyter-widgets/controls",
      "model_module_version": "1.5.0",
      "model_name": "IntProgressModel",
      "state": {
       "bar_style": "success",
       "description": "Epoch 5/20 : ",
       "layout": "IPY_MODEL_83d92b5d52104c8cb83fefb5df16d1b2",
       "max": 750,
       "style": "IPY_MODEL_507e1c7f37a3482b9bbccbc9690eb37f",
       "value": 750
      }
     },
     "e0e5f849831f4f6cbf73ddfce7012b32": {
      "model_module": "@jupyter-widgets/controls",
      "model_module_version": "1.5.0",
      "model_name": "HTMLModel",
      "state": {
       "layout": "IPY_MODEL_35a91cf248d444b19869f5bc9d3d4072",
       "style": "IPY_MODEL_380785264d504299b1678d2eb165cd68",
       "value": "100% 750/750 [00:01&lt;00:00, 712.17it/s]"
      }
     },
     "e0f3467fd23448498748e89a3afd94d4": {
      "model_module": "@jupyter-widgets/controls",
      "model_module_version": "1.5.0",
      "model_name": "DescriptionStyleModel",
      "state": {
       "description_width": ""
      }
     },
     "e1041f965d13487e909adaa216189511": {
      "model_module": "@jupyter-widgets/base",
      "model_module_version": "1.2.0",
      "model_name": "LayoutModel",
      "state": {}
     },
     "e19aad710a0440a3881ef7cce3fcdea6": {
      "model_module": "@jupyter-widgets/controls",
      "model_module_version": "1.5.0",
      "model_name": "DescriptionStyleModel",
      "state": {
       "description_width": ""
      }
     },
     "e1d8e52457834bedb3510aa17074d1fe": {
      "model_module": "@jupyter-widgets/base",
      "model_module_version": "1.2.0",
      "model_name": "LayoutModel",
      "state": {}
     },
     "e1f534a8386b48718e217ed5b1ff3ba6": {
      "model_module": "@jupyter-widgets/controls",
      "model_module_version": "1.5.0",
      "model_name": "DescriptionStyleModel",
      "state": {
       "description_width": ""
      }
     },
     "e22121d4bb664b5cb2d05efc8a7f6514": {
      "model_module": "@jupyter-widgets/controls",
      "model_module_version": "1.5.0",
      "model_name": "HTMLModel",
      "state": {
       "layout": "IPY_MODEL_a9821b70c26141b19cb71c7c897c4707",
       "style": "IPY_MODEL_a5bfe722dd734d73a48b21c55d2c9c6f",
       "value": "100% 750/750 [00:00&lt;00:00, 1243.10it/s]"
      }
     },
     "e2b15a94035c4dabb999821af3c1c5f0": {
      "model_module": "@jupyter-widgets/controls",
      "model_module_version": "1.5.0",
      "model_name": "ProgressStyleModel",
      "state": {
       "description_width": "initial"
      }
     },
     "e2d2e2e7bbf04f58b76261b1084688aa": {
      "model_module": "@jupyter-widgets/controls",
      "model_module_version": "1.5.0",
      "model_name": "DescriptionStyleModel",
      "state": {
       "description_width": ""
      }
     },
     "e2f746a058514f629e8ce60d00503419": {
      "model_module": "@jupyter-widgets/controls",
      "model_module_version": "1.5.0",
      "model_name": "IntProgressModel",
      "state": {
       "bar_style": "success",
       "description": "Epoch 11/20 : ",
       "layout": "IPY_MODEL_9bfd61246320420fa4093d6c82a04471",
       "max": 750,
       "style": "IPY_MODEL_e96a800585294016b009f4e79aa95efd",
       "value": 750
      }
     },
     "e2f9982bda9d4059a396bedec3821d0e": {
      "model_module": "@jupyter-widgets/controls",
      "model_module_version": "1.5.0",
      "model_name": "IntProgressModel",
      "state": {
       "bar_style": "success",
       "description": "Epoch 17/20 : ",
       "layout": "IPY_MODEL_93978a743cf54be9a0c82f7a69d81184",
       "max": 750,
       "style": "IPY_MODEL_971480289712497590305f01b95ba01e",
       "value": 750
      }
     },
     "e3173b8a1cbb401c9738cb2803a321b0": {
      "model_module": "@jupyter-widgets/controls",
      "model_module_version": "1.5.0",
      "model_name": "HBoxModel",
      "state": {
       "children": [
        "IPY_MODEL_767e18776de942bf8036d0ceb6d18295",
        "IPY_MODEL_5b4012eee0854ed2b2b4639e412ec999"
       ],
       "layout": "IPY_MODEL_b4a0020b8b344008b44481fd1ade3869"
      }
     },
     "e39de9d4ff82471084d6ff893879cdc4": {
      "model_module": "@jupyter-widgets/controls",
      "model_module_version": "1.5.0",
      "model_name": "HBoxModel",
      "state": {
       "children": [
        "IPY_MODEL_f34f298484d341c885f252c8ec6b90b0",
        "IPY_MODEL_a2801b18ba7e434a80189dff29f1d8c3"
       ],
       "layout": "IPY_MODEL_4e3d78cf7af4464a86100b8fe766875b"
      }
     },
     "e3b136301e834192a02a4575a63fc478": {
      "model_module": "@jupyter-widgets/base",
      "model_module_version": "1.2.0",
      "model_name": "LayoutModel",
      "state": {}
     },
     "e3e100485ac64d6aa7d98edba0c3e87c": {
      "model_module": "@jupyter-widgets/controls",
      "model_module_version": "1.5.0",
      "model_name": "ProgressStyleModel",
      "state": {
       "description_width": "initial"
      }
     },
     "e3e17371bd46482cb4d61f0c904c3d25": {
      "model_module": "@jupyter-widgets/base",
      "model_module_version": "1.2.0",
      "model_name": "LayoutModel",
      "state": {}
     },
     "e41ac85716d34dae8381d62a7c1ce6d5": {
      "model_module": "@jupyter-widgets/base",
      "model_module_version": "1.2.0",
      "model_name": "LayoutModel",
      "state": {}
     },
     "e428d43c1fb140ae80467c1f8e377e97": {
      "model_module": "@jupyter-widgets/controls",
      "model_module_version": "1.5.0",
      "model_name": "ProgressStyleModel",
      "state": {
       "description_width": "initial"
      }
     },
     "e4387790b5d847808ed7a3b90e82c29e": {
      "model_module": "@jupyter-widgets/controls",
      "model_module_version": "1.5.0",
      "model_name": "DescriptionStyleModel",
      "state": {
       "description_width": ""
      }
     },
     "e485c7de62db498eb0098a8f56f98aae": {
      "model_module": "@jupyter-widgets/controls",
      "model_module_version": "1.5.0",
      "model_name": "HTMLModel",
      "state": {
       "layout": "IPY_MODEL_64d80a8119224c72986df4023f2bfd6a",
       "style": "IPY_MODEL_cb054249997e4bf686f9370073847c5a",
       "value": "100% 750/750 [00:01&lt;00:00, 719.10it/s]"
      }
     },
     "e4bc827fd3904f819dd305ee5f739acb": {
      "model_module": "@jupyter-widgets/controls",
      "model_module_version": "1.5.0",
      "model_name": "DescriptionStyleModel",
      "state": {
       "description_width": ""
      }
     },
     "e4fe5dfba138425a839ae11b97cffc21": {
      "model_module": "@jupyter-widgets/controls",
      "model_module_version": "1.5.0",
      "model_name": "ProgressStyleModel",
      "state": {
       "description_width": "initial"
      }
     },
     "e516ee7a1ed34676a3e4c778f4b4cca6": {
      "model_module": "@jupyter-widgets/controls",
      "model_module_version": "1.5.0",
      "model_name": "IntProgressModel",
      "state": {
       "bar_style": "success",
       "description": "Epoch 6/20 : ",
       "layout": "IPY_MODEL_12a374ce62b24b9c8d43faea144722f3",
       "max": 750,
       "style": "IPY_MODEL_463ee91940dd46e5805b9aed6f8a8ba3",
       "value": 750
      }
     },
     "e62067e3a4cd4fcebec53904c437aadf": {
      "model_module": "@jupyter-widgets/base",
      "model_module_version": "1.2.0",
      "model_name": "LayoutModel",
      "state": {}
     },
     "e6217b6dee7d42dd977f57b531ede2cf": {
      "model_module": "@jupyter-widgets/controls",
      "model_module_version": "1.5.0",
      "model_name": "HTMLModel",
      "state": {
       "layout": "IPY_MODEL_1e3f11e47fea40ee8bf9dfa0f6c6c1bd",
       "style": "IPY_MODEL_1b65a51d9e324297a0534baa8f41ca0b",
       "value": "100% 750/750 [00:00&lt;00:00, 1328.70it/s]"
      }
     },
     "e6415ba5c3c44b25b847dc0265d88300": {
      "model_module": "@jupyter-widgets/controls",
      "model_module_version": "1.5.0",
      "model_name": "HBoxModel",
      "state": {
       "children": [
        "IPY_MODEL_e516ee7a1ed34676a3e4c778f4b4cca6",
        "IPY_MODEL_0b2285d2a8ae484aaa68ee5507cbf632"
       ],
       "layout": "IPY_MODEL_7387718db671473d87645428e54454b2"
      }
     },
     "e653f20aa7d54393b7a128013885403c": {
      "model_module": "@jupyter-widgets/controls",
      "model_module_version": "1.5.0",
      "model_name": "DescriptionStyleModel",
      "state": {
       "description_width": ""
      }
     },
     "e677ab50df644ee9b6a5e33a2e6bd190": {
      "model_module": "@jupyter-widgets/base",
      "model_module_version": "1.2.0",
      "model_name": "LayoutModel",
      "state": {}
     },
     "e6910d6f99de4971b7b03d08dd32d2b7": {
      "model_module": "@jupyter-widgets/controls",
      "model_module_version": "1.5.0",
      "model_name": "ProgressStyleModel",
      "state": {
       "description_width": "initial"
      }
     },
     "e6b4ac1577984c68a957b6f3dcaf732a": {
      "model_module": "@jupyter-widgets/controls",
      "model_module_version": "1.5.0",
      "model_name": "HTMLModel",
      "state": {
       "layout": "IPY_MODEL_9a765fc2bcdb42d394f37ac6744a047c",
       "style": "IPY_MODEL_13b01f74b4144c4c8125aee730779373",
       "value": "100% 750/750 [00:00&lt;00:00, 781.64it/s]"
      }
     },
     "e765f29a93bc4ecabe1c91a95c4bf8b8": {
      "model_module": "@jupyter-widgets/controls",
      "model_module_version": "1.5.0",
      "model_name": "HBoxModel",
      "state": {
       "children": [
        "IPY_MODEL_0a2c44d70e2841b79ed66135c4fe4e10",
        "IPY_MODEL_37455462efdc4bbfb810c3627fed693e"
       ],
       "layout": "IPY_MODEL_b5789cd9d9af43f99cc2772cb67706b8"
      }
     },
     "e7854c367c114262a899255482d8eaf9": {
      "model_module": "@jupyter-widgets/controls",
      "model_module_version": "1.5.0",
      "model_name": "HBoxModel",
      "state": {
       "children": [
        "IPY_MODEL_169dd1df78e2409aba86816d8bdac348",
        "IPY_MODEL_38795fa90e4440ebb0dfaa099eb09d68"
       ],
       "layout": "IPY_MODEL_8e5baa6ef5d848598fc72966169eabc2"
      }
     },
     "e81a634871dd41a1adf9b7809f9de47a": {
      "model_module": "@jupyter-widgets/controls",
      "model_module_version": "1.5.0",
      "model_name": "IntProgressModel",
      "state": {
       "bar_style": "success",
       "description": "Epoch 15/20 : ",
       "layout": "IPY_MODEL_2a08404ed2024a538abdfe64d572ce31",
       "max": 750,
       "style": "IPY_MODEL_b4dc17bc3cb0407ebc714a2dd1562c8b",
       "value": 750
      }
     },
     "e840c5c29df142299324180e29f62bd9": {
      "model_module": "@jupyter-widgets/base",
      "model_module_version": "1.2.0",
      "model_name": "LayoutModel",
      "state": {}
     },
     "e88b9a0163b34bb5bce04113d3df2795": {
      "model_module": "@jupyter-widgets/controls",
      "model_module_version": "1.5.0",
      "model_name": "ProgressStyleModel",
      "state": {
       "description_width": "initial"
      }
     },
     "e96a800585294016b009f4e79aa95efd": {
      "model_module": "@jupyter-widgets/controls",
      "model_module_version": "1.5.0",
      "model_name": "ProgressStyleModel",
      "state": {
       "description_width": "initial"
      }
     },
     "e9dbab6b7210473aba65376b9a1ee1cd": {
      "model_module": "@jupyter-widgets/base",
      "model_module_version": "1.2.0",
      "model_name": "LayoutModel",
      "state": {}
     },
     "ea19a4c9d4a94d57817827ba8b1d92ea": {
      "model_module": "@jupyter-widgets/base",
      "model_module_version": "1.2.0",
      "model_name": "LayoutModel",
      "state": {}
     },
     "ea2e70e6efe241919560623e54e96a95": {
      "model_module": "@jupyter-widgets/controls",
      "model_module_version": "1.5.0",
      "model_name": "ProgressStyleModel",
      "state": {
       "description_width": "initial"
      }
     },
     "eaf6a2d3782149fcbe0c1b1410b8e621": {
      "model_module": "@jupyter-widgets/controls",
      "model_module_version": "1.5.0",
      "model_name": "DescriptionStyleModel",
      "state": {
       "description_width": ""
      }
     },
     "eb1f279f0da649f5977b5d9b3dc0944d": {
      "model_module": "@jupyter-widgets/base",
      "model_module_version": "1.2.0",
      "model_name": "LayoutModel",
      "state": {}
     },
     "eb2475fe098a445ab966f2f2d0d45f25": {
      "model_module": "@jupyter-widgets/controls",
      "model_module_version": "1.5.0",
      "model_name": "DescriptionStyleModel",
      "state": {
       "description_width": ""
      }
     },
     "eb28ae94f28d42c18b13abdf8df12c2f": {
      "model_module": "@jupyter-widgets/base",
      "model_module_version": "1.2.0",
      "model_name": "LayoutModel",
      "state": {}
     },
     "eba6fbbae45147c1b3ce29ab8eaf4c5d": {
      "model_module": "@jupyter-widgets/controls",
      "model_module_version": "1.5.0",
      "model_name": "HBoxModel",
      "state": {
       "children": [
        "IPY_MODEL_11320181ee644ad392cca304afa33cac",
        "IPY_MODEL_8bf00afc4e634598b85a2bbc2afb9285"
       ],
       "layout": "IPY_MODEL_c0714333877e4636a6ff937663f4514a"
      }
     },
     "ebfdd2ed67a3406cb9d62396fe467dd6": {
      "model_module": "@jupyter-widgets/controls",
      "model_module_version": "1.5.0",
      "model_name": "ProgressStyleModel",
      "state": {
       "description_width": "initial"
      }
     },
     "ecac95f886984979bb50f1039f5194e0": {
      "model_module": "@jupyter-widgets/controls",
      "model_module_version": "1.5.0",
      "model_name": "IntProgressModel",
      "state": {
       "bar_style": "success",
       "description": "Epoch 20/20 : ",
       "layout": "IPY_MODEL_9944ef66358f4bf494ae317b3d104ff5",
       "max": 750,
       "style": "IPY_MODEL_4b1bd5d0d68e4c529b7af7b9bfb620a7",
       "value": 750
      }
     },
     "ecc5eed526f240448f4b9158b6345134": {
      "model_module": "@jupyter-widgets/controls",
      "model_module_version": "1.5.0",
      "model_name": "ProgressStyleModel",
      "state": {
       "description_width": "initial"
      }
     },
     "ece3dce7da75438eb6642a1cae51be78": {
      "model_module": "@jupyter-widgets/controls",
      "model_module_version": "1.5.0",
      "model_name": "HBoxModel",
      "state": {
       "children": [
        "IPY_MODEL_3b5676c42c6d45b3b4d87b8acb27e5e6",
        "IPY_MODEL_fcbb00a87f4442f8abd89bdc5114fdeb"
       ],
       "layout": "IPY_MODEL_37f9455532ca4dd894e84ba8616c9bfa"
      }
     },
     "ece9e0e54aaa4415b1233640d9e16f9c": {
      "model_module": "@jupyter-widgets/base",
      "model_module_version": "1.2.0",
      "model_name": "LayoutModel",
      "state": {}
     },
     "ed11f4675d954ce2bd6e6a8e9661f805": {
      "model_module": "@jupyter-widgets/controls",
      "model_module_version": "1.5.0",
      "model_name": "IntProgressModel",
      "state": {
       "bar_style": "success",
       "description": "Epoch 4/20 : ",
       "layout": "IPY_MODEL_9f749feabd58486f84c998e35a2832ae",
       "max": 750,
       "style": "IPY_MODEL_0a135b8d56ed43f2aa4cff3165711035",
       "value": 750
      }
     },
     "ed46134765164e6f953652a631938e34": {
      "model_module": "@jupyter-widgets/controls",
      "model_module_version": "1.5.0",
      "model_name": "ProgressStyleModel",
      "state": {
       "description_width": "initial"
      }
     },
     "ed4ced3189744d59b46833f01e74f815": {
      "model_module": "@jupyter-widgets/controls",
      "model_module_version": "1.5.0",
      "model_name": "DescriptionStyleModel",
      "state": {
       "description_width": ""
      }
     },
     "ed6babdf28b44363b264a4b4c582df81": {
      "model_module": "@jupyter-widgets/controls",
      "model_module_version": "1.5.0",
      "model_name": "HBoxModel",
      "state": {
       "children": [
        "IPY_MODEL_14d0544212544507b6ce28d8afd22e96",
        "IPY_MODEL_d9ef0c18f07a4ccfac5524a3835be1ac"
       ],
       "layout": "IPY_MODEL_a7b40bfc7e6a490992aa5d9dfd350286"
      }
     },
     "ed78e15ed51540c8b329b7ab37b16148": {
      "model_module": "@jupyter-widgets/controls",
      "model_module_version": "1.5.0",
      "model_name": "DescriptionStyleModel",
      "state": {
       "description_width": ""
      }
     },
     "ed800cd02b8349e69197df2d23754ee9": {
      "model_module": "@jupyter-widgets/base",
      "model_module_version": "1.2.0",
      "model_name": "LayoutModel",
      "state": {}
     },
     "edb8bde500a644fa828a64ae4b2aa648": {
      "model_module": "@jupyter-widgets/controls",
      "model_module_version": "1.5.0",
      "model_name": "ProgressStyleModel",
      "state": {
       "description_width": "initial"
      }
     },
     "ee08e93ac7854be5bfea8ae00c69a651": {
      "model_module": "@jupyter-widgets/controls",
      "model_module_version": "1.5.0",
      "model_name": "HBoxModel",
      "state": {
       "children": [
        "IPY_MODEL_973a6ca83e234f6db5a288f09f4e557c",
        "IPY_MODEL_73852d93f3794ee39d5c6918f1961b27"
       ],
       "layout": "IPY_MODEL_2b1e930f22a248bb84778e5e60502449"
      }
     },
     "ee22ea44c1ae48708fcb57ab042fb6c8": {
      "model_module": "@jupyter-widgets/controls",
      "model_module_version": "1.5.0",
      "model_name": "ProgressStyleModel",
      "state": {
       "description_width": "initial"
      }
     },
     "ee55eab6b5634863b0f7497dc9bd2a7f": {
      "model_module": "@jupyter-widgets/controls",
      "model_module_version": "1.5.0",
      "model_name": "HTMLModel",
      "state": {
       "layout": "IPY_MODEL_fe5dfdf846864d978577cad6e8e89172",
       "style": "IPY_MODEL_0fe35bfb6b5045b58e7fabc733f3caac",
       "value": "100% 750/750 [00:00&lt;00:00, 1365.39it/s]"
      }
     },
     "ee85e1c2185a4c02b28e58b9c9e18b05": {
      "model_module": "@jupyter-widgets/controls",
      "model_module_version": "1.5.0",
      "model_name": "DescriptionStyleModel",
      "state": {
       "description_width": ""
      }
     },
     "eeca25f1af0641f2b1737053c9041bd0": {
      "model_module": "@jupyter-widgets/controls",
      "model_module_version": "1.5.0",
      "model_name": "IntProgressModel",
      "state": {
       "bar_style": "success",
       "description": "Epoch 16/20 : ",
       "layout": "IPY_MODEL_34a594278d4c4b6bb298b7a04ef6f9d4",
       "max": 750,
       "style": "IPY_MODEL_cef172c7d011407da7fcb2b5fe8afa99",
       "value": 750
      }
     },
     "ef2d0c82a36e4be7be4f9b2357de66f8": {
      "model_module": "@jupyter-widgets/controls",
      "model_module_version": "1.5.0",
      "model_name": "IntProgressModel",
      "state": {
       "bar_style": "success",
       "description": "Epoch 4/20 : ",
       "layout": "IPY_MODEL_de1d7cd1d3b44dbe892dd1ce2b495f42",
       "max": 750,
       "style": "IPY_MODEL_14deb27f630b4a88adcb675ea77c324a",
       "value": 750
      }
     },
     "ef35551f4c2d4e439c2a1e4cb63b4a19": {
      "model_module": "@jupyter-widgets/controls",
      "model_module_version": "1.5.0",
      "model_name": "HBoxModel",
      "state": {
       "children": [
        "IPY_MODEL_20c9ff6bb6e24799b6ecb81c39542cfb",
        "IPY_MODEL_ce9cbb196f9b46019ae32763fe1757e3"
       ],
       "layout": "IPY_MODEL_249a6a9b61ec4feda8bbc825c11f2242"
      }
     },
     "f03e882cd79647f2b260e48b0354740d": {
      "model_module": "@jupyter-widgets/controls",
      "model_module_version": "1.5.0",
      "model_name": "ProgressStyleModel",
      "state": {
       "description_width": "initial"
      }
     },
     "f05d79d298ce4018b36f2aeed95120d7": {
      "model_module": "@jupyter-widgets/base",
      "model_module_version": "1.2.0",
      "model_name": "LayoutModel",
      "state": {}
     },
     "f081eb07aa02454eaec49dfa8994045d": {
      "model_module": "@jupyter-widgets/controls",
      "model_module_version": "1.5.0",
      "model_name": "HTMLModel",
      "state": {
       "layout": "IPY_MODEL_b0108f5103d840aabdd753637d5d5c9b",
       "style": "IPY_MODEL_82dacf126c10498f8e3e189cb22958dc",
       "value": "100% 750/750 [00:01&lt;00:00, 737.27it/s]"
      }
     },
     "f0847ed9ea234e928f876a0933735684": {
      "model_module": "@jupyter-widgets/base",
      "model_module_version": "1.2.0",
      "model_name": "LayoutModel",
      "state": {}
     },
     "f0d54de7c8c14fd298a04fb184337e34": {
      "model_module": "@jupyter-widgets/base",
      "model_module_version": "1.2.0",
      "model_name": "LayoutModel",
      "state": {}
     },
     "f1950b5bd8cc4813b2949e0a5fef81c6": {
      "model_module": "@jupyter-widgets/controls",
      "model_module_version": "1.5.0",
      "model_name": "IntProgressModel",
      "state": {
       "bar_style": "success",
       "description": "Epoch 17/20 : ",
       "layout": "IPY_MODEL_2236cbe455a74291aaf7a7fd4fc75520",
       "max": 750,
       "style": "IPY_MODEL_f45e98bee66c4bbbbb74aac6a654bd84",
       "value": 750
      }
     },
     "f2aab0104e8748698863ab474ce95767": {
      "model_module": "@jupyter-widgets/base",
      "model_module_version": "1.2.0",
      "model_name": "LayoutModel",
      "state": {}
     },
     "f2c426b653cc4c5184296cdfc6a43c66": {
      "model_module": "@jupyter-widgets/controls",
      "model_module_version": "1.5.0",
      "model_name": "IntProgressModel",
      "state": {
       "bar_style": "success",
       "description": "Epoch 1/20 : ",
       "layout": "IPY_MODEL_c2b3fcec7b9040d6a98ecd586f5a73ef",
       "max": 750,
       "style": "IPY_MODEL_2df73d2d0e194601a7de8c480dbbc876",
       "value": 750
      }
     },
     "f2d0cafc54d144299e37964a4032429f": {
      "model_module": "@jupyter-widgets/base",
      "model_module_version": "1.2.0",
      "model_name": "LayoutModel",
      "state": {}
     },
     "f304bb03fbcb425392672b1aa831a18e": {
      "model_module": "@jupyter-widgets/controls",
      "model_module_version": "1.5.0",
      "model_name": "ProgressStyleModel",
      "state": {
       "description_width": "initial"
      }
     },
     "f34f298484d341c885f252c8ec6b90b0": {
      "model_module": "@jupyter-widgets/controls",
      "model_module_version": "1.5.0",
      "model_name": "IntProgressModel",
      "state": {
       "bar_style": "success",
       "description": "Epoch 14/20 : ",
       "layout": "IPY_MODEL_d3c8ea6a34104bf1b54c38dda1f07df3",
       "max": 750,
       "style": "IPY_MODEL_6baf049a58b84c0994f8e82f63a6337d",
       "value": 750
      }
     },
     "f3bd347e0b0f4a3fb97c728330210b26": {
      "model_module": "@jupyter-widgets/base",
      "model_module_version": "1.2.0",
      "model_name": "LayoutModel",
      "state": {}
     },
     "f3d8134e74af4585afd415329b9a2ae3": {
      "model_module": "@jupyter-widgets/controls",
      "model_module_version": "1.5.0",
      "model_name": "DescriptionStyleModel",
      "state": {
       "description_width": ""
      }
     },
     "f3dae3e20bbd40bc8246a8234252cc9e": {
      "model_module": "@jupyter-widgets/controls",
      "model_module_version": "1.5.0",
      "model_name": "ProgressStyleModel",
      "state": {
       "description_width": "initial"
      }
     },
     "f3efb8acae444469957dbe269e14d1ea": {
      "model_module": "@jupyter-widgets/controls",
      "model_module_version": "1.5.0",
      "model_name": "ProgressStyleModel",
      "state": {
       "description_width": "initial"
      }
     },
     "f453b57286b04bb4ac02315ffdb57c21": {
      "model_module": "@jupyter-widgets/controls",
      "model_module_version": "1.5.0",
      "model_name": "ProgressStyleModel",
      "state": {
       "description_width": "initial"
      }
     },
     "f45e98bee66c4bbbbb74aac6a654bd84": {
      "model_module": "@jupyter-widgets/controls",
      "model_module_version": "1.5.0",
      "model_name": "ProgressStyleModel",
      "state": {
       "description_width": "initial"
      }
     },
     "f516700e6de34d9783e455244fdc013f": {
      "model_module": "@jupyter-widgets/controls",
      "model_module_version": "1.5.0",
      "model_name": "DescriptionStyleModel",
      "state": {
       "description_width": ""
      }
     },
     "f52b873b19ae4e63869921cb0dc59f76": {
      "model_module": "@jupyter-widgets/controls",
      "model_module_version": "1.5.0",
      "model_name": "DescriptionStyleModel",
      "state": {
       "description_width": ""
      }
     },
     "f52ceb4745d94c8c936d26fb957198ab": {
      "model_module": "@jupyter-widgets/controls",
      "model_module_version": "1.5.0",
      "model_name": "IntProgressModel",
      "state": {
       "bar_style": "success",
       "description": "Epoch 13/20 : ",
       "layout": "IPY_MODEL_36a643907a8249c0b772260e77826403",
       "max": 750,
       "style": "IPY_MODEL_c0fada5672c34a5190cb2f4b83ddfce5",
       "value": 750
      }
     },
     "f5d0759a6dcf4b9a8bc498b22ec6a66e": {
      "model_module": "@jupyter-widgets/controls",
      "model_module_version": "1.5.0",
      "model_name": "DescriptionStyleModel",
      "state": {
       "description_width": ""
      }
     },
     "f682a7aaa1a84cb4be6d8fb54c45b965": {
      "model_module": "@jupyter-widgets/base",
      "model_module_version": "1.2.0",
      "model_name": "LayoutModel",
      "state": {}
     },
     "f7b014ba671145c391fc1e0a54e9287f": {
      "model_module": "@jupyter-widgets/base",
      "model_module_version": "1.2.0",
      "model_name": "LayoutModel",
      "state": {}
     },
     "f7cf79eda16d4c2f993585702e2852ca": {
      "model_module": "@jupyter-widgets/base",
      "model_module_version": "1.2.0",
      "model_name": "LayoutModel",
      "state": {}
     },
     "f853689829aa4753830f8333c6ccfb5b": {
      "model_module": "@jupyter-widgets/controls",
      "model_module_version": "1.5.0",
      "model_name": "HTMLModel",
      "state": {
       "layout": "IPY_MODEL_9b93de9dae7842ea8d4e23016e47d726",
       "style": "IPY_MODEL_c3ee450724074823b3c4e04806cfae82",
       "value": "100% 750/750 [00:01&lt;00:00, 577.11it/s]"
      }
     },
     "f85fbe45e0454cfcbe20c5131600b670": {
      "model_module": "@jupyter-widgets/controls",
      "model_module_version": "1.5.0",
      "model_name": "IntProgressModel",
      "state": {
       "bar_style": "success",
       "description": "Epoch 2/20 : ",
       "layout": "IPY_MODEL_9353caae75d042eca9a0735252f99598",
       "max": 750,
       "style": "IPY_MODEL_cf56cfc032284d1899d1fbd21099f06b",
       "value": 750
      }
     },
     "f8d5dceba73d47be9bf0a6ee79e66a6a": {
      "model_module": "@jupyter-widgets/controls",
      "model_module_version": "1.5.0",
      "model_name": "HBoxModel",
      "state": {
       "children": [
        "IPY_MODEL_72aa987a87c84e7d88fdf8bf6515b307",
        "IPY_MODEL_51d28cf2907f46f1998199089d573922"
       ],
       "layout": "IPY_MODEL_d9cf8eddeef84350a921c7a4cb163f6d"
      }
     },
     "f94e0466944740dfb0248412fb582fd1": {
      "model_module": "@jupyter-widgets/controls",
      "model_module_version": "1.5.0",
      "model_name": "IntProgressModel",
      "state": {
       "bar_style": "success",
       "description": "Epoch 2/20 : ",
       "layout": "IPY_MODEL_c3b3f27fdfc84a0c956fce964cfe503e",
       "max": 750,
       "style": "IPY_MODEL_7861a0d02fd84b219a3ab238e16c65e9",
       "value": 750
      }
     },
     "f94ef9495d5644c583f983616fd8d424": {
      "model_module": "@jupyter-widgets/controls",
      "model_module_version": "1.5.0",
      "model_name": "DescriptionStyleModel",
      "state": {
       "description_width": ""
      }
     },
     "f9917ade3b394a5b8a00e0853ad7aa48": {
      "model_module": "@jupyter-widgets/controls",
      "model_module_version": "1.5.0",
      "model_name": "HBoxModel",
      "state": {
       "children": [
        "IPY_MODEL_ecac95f886984979bb50f1039f5194e0",
        "IPY_MODEL_7d7c255c16d04e6b9d25e4286683131b"
       ],
       "layout": "IPY_MODEL_9fe339bfa1c548458eb8e5b9f147bfa7"
      }
     },
     "f9ecde1434e047fa9664e07a21b2a5e9": {
      "model_module": "@jupyter-widgets/controls",
      "model_module_version": "1.5.0",
      "model_name": "ProgressStyleModel",
      "state": {
       "description_width": "initial"
      }
     },
     "fa7fcdfc1dfa4cff87ee0b3d47492211": {
      "model_module": "@jupyter-widgets/base",
      "model_module_version": "1.2.0",
      "model_name": "LayoutModel",
      "state": {}
     },
     "fa940fdd45a744e5b6d2e92d8e5c22a7": {
      "model_module": "@jupyter-widgets/base",
      "model_module_version": "1.2.0",
      "model_name": "LayoutModel",
      "state": {}
     },
     "faa563665d1844f5a1eb76c543e22d07": {
      "model_module": "@jupyter-widgets/base",
      "model_module_version": "1.2.0",
      "model_name": "LayoutModel",
      "state": {}
     },
     "fba359def95d46e08c1f758ce158ff01": {
      "model_module": "@jupyter-widgets/base",
      "model_module_version": "1.2.0",
      "model_name": "LayoutModel",
      "state": {}
     },
     "fbaf8eed3c4a4103896d967ecf5cf44c": {
      "model_module": "@jupyter-widgets/controls",
      "model_module_version": "1.5.0",
      "model_name": "DescriptionStyleModel",
      "state": {
       "description_width": ""
      }
     },
     "fbb26b60d35a4a86a1c0059136c95518": {
      "model_module": "@jupyter-widgets/base",
      "model_module_version": "1.2.0",
      "model_name": "LayoutModel",
      "state": {}
     },
     "fbe006f26d584ce5af45bd42d7743c82": {
      "model_module": "@jupyter-widgets/base",
      "model_module_version": "1.2.0",
      "model_name": "LayoutModel",
      "state": {}
     },
     "fc2c62952b9e4428bc8c3f32cd33b186": {
      "model_module": "@jupyter-widgets/base",
      "model_module_version": "1.2.0",
      "model_name": "LayoutModel",
      "state": {}
     },
     "fc544c293238465891577e902812d224": {
      "model_module": "@jupyter-widgets/controls",
      "model_module_version": "1.5.0",
      "model_name": "DescriptionStyleModel",
      "state": {
       "description_width": ""
      }
     },
     "fcb3e4255e74415aacc8a2e357c360b7": {
      "model_module": "@jupyter-widgets/controls",
      "model_module_version": "1.5.0",
      "model_name": "HBoxModel",
      "state": {
       "children": [
        "IPY_MODEL_55706c5461304d39967d2e4f60955e6c",
        "IPY_MODEL_4c7a195b6cef468098e4052e47e1977c"
       ],
       "layout": "IPY_MODEL_cbe5cf4e423f412b830aadad62591a6d"
      }
     },
     "fcb641d3bcd04247b944cb6665fdb5af": {
      "model_module": "@jupyter-widgets/controls",
      "model_module_version": "1.5.0",
      "model_name": "DescriptionStyleModel",
      "state": {
       "description_width": ""
      }
     },
     "fcbb00a87f4442f8abd89bdc5114fdeb": {
      "model_module": "@jupyter-widgets/controls",
      "model_module_version": "1.5.0",
      "model_name": "HTMLModel",
      "state": {
       "layout": "IPY_MODEL_3de5fc0e3b9842b9bf1d8bae5bac1d90",
       "style": "IPY_MODEL_786f532ec1f84becb92c8a6478465fd8",
       "value": "100% 750/750 [00:00&lt;00:00, 1434.04it/s]"
      }
     },
     "fcdf667acd9547a795c078018b0c79e5": {
      "model_module": "@jupyter-widgets/base",
      "model_module_version": "1.2.0",
      "model_name": "LayoutModel",
      "state": {}
     },
     "fd98132fe6d34e0490c82fca151a09b1": {
      "model_module": "@jupyter-widgets/controls",
      "model_module_version": "1.5.0",
      "model_name": "IntProgressModel",
      "state": {
       "bar_style": "success",
       "description": "Epoch 3/20 : ",
       "layout": "IPY_MODEL_af06bc8a38284f1993ab0790a323d437",
       "max": 750,
       "style": "IPY_MODEL_d8be1cc6533b4498924b64f5c20a859c",
       "value": 750
      }
     },
     "fdc4c21bebb343b5bcf7597bb0070151": {
      "model_module": "@jupyter-widgets/controls",
      "model_module_version": "1.5.0",
      "model_name": "HBoxModel",
      "state": {
       "children": [
        "IPY_MODEL_b5aa154d3a4e4c11942438c6914ebe53",
        "IPY_MODEL_cca3281a82084bcba4502979e4b2e2c1"
       ],
       "layout": "IPY_MODEL_85503da4770f489893ab785582fc5411"
      }
     },
     "fdd8783256e34a7da03e9423d67e20bb": {
      "model_module": "@jupyter-widgets/controls",
      "model_module_version": "1.5.0",
      "model_name": "HTMLModel",
      "state": {
       "layout": "IPY_MODEL_8fe9bfb67abe4eb9a32356f2709618e4",
       "style": "IPY_MODEL_a0595361bff74bd3aeaeb52b6cb0942a",
       "value": "100% 750/750 [00:00&lt;00:00, 1215.77it/s]"
      }
     },
     "fe25bd49ffbf4109b8dbdc8a32e40b68": {
      "model_module": "@jupyter-widgets/controls",
      "model_module_version": "1.5.0",
      "model_name": "ProgressStyleModel",
      "state": {
       "description_width": "initial"
      }
     },
     "fe5dfdf846864d978577cad6e8e89172": {
      "model_module": "@jupyter-widgets/base",
      "model_module_version": "1.2.0",
      "model_name": "LayoutModel",
      "state": {}
     },
     "ff36cd7c990747729a0fabccf71416e7": {
      "model_module": "@jupyter-widgets/controls",
      "model_module_version": "1.5.0",
      "model_name": "HBoxModel",
      "state": {
       "children": [
        "IPY_MODEL_7a495d11f2f946cb92bb933c6682d7b7",
        "IPY_MODEL_704fe885fca448c5817954a5bb484a3b"
       ],
       "layout": "IPY_MODEL_aa0916bbb3274481bc5f6bac94a763c0"
      }
     },
     "ff86074e3ba74bb78fc7320b92f8737b": {
      "model_module": "@jupyter-widgets/base",
      "model_module_version": "1.2.0",
      "model_name": "LayoutModel",
      "state": {}
     },
     "ff8adcbb6b094a96a228ecdfb0a1d330": {
      "model_module": "@jupyter-widgets/controls",
      "model_module_version": "1.5.0",
      "model_name": "HTMLModel",
      "state": {
       "layout": "IPY_MODEL_8a2de8eacb934de5ae499faa04ba4c4e",
       "style": "IPY_MODEL_38eb098c45bc416bb4bf1da2e0a9a483",
       "value": "100% 750/750 [00:00&lt;00:00, 1123.33it/s]"
      }
     },
     "ff9037e80d16420c8108c9d08aea36b8": {
      "model_module": "@jupyter-widgets/controls",
      "model_module_version": "1.5.0",
      "model_name": "HTMLModel",
      "state": {
       "layout": "IPY_MODEL_3a9e9f91ce72401b8d276741d71e7a84",
       "style": "IPY_MODEL_d77aa37ea5104904af4969da461d3e95",
       "value": "100% 750/750 [00:01&lt;00:00, 543.42it/s]"
      }
     }
    },
    "version_major": 2,
    "version_minor": 0
   }
  }
 },
 "nbformat": 4,
 "nbformat_minor": 1
}
