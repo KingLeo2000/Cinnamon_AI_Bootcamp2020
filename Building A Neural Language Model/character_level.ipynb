{
  "nbformat": 4,
  "nbformat_minor": 0,
  "metadata": {
    "colab": {
      "name": "character_level.ipynb",
      "provenance": [],
      "collapsed_sections": []
    },
    "kernelspec": {
      "name": "python3",
      "display_name": "Python 3"
    },
    "accelerator": "GPU"
  },
  "cells": [
    {
      "cell_type": "markdown",
      "metadata": {
        "id": "lDnhhvP-KrzX",
        "colab_type": "text"
      },
      "source": [
        "# Preparation"
      ]
    },
    {
      "cell_type": "code",
      "metadata": {
        "id": "t_HFtrWBKOUL",
        "colab_type": "code",
        "colab": {}
      },
      "source": [
        "! wget https://s3.amazonaws.com/research.metamind.io/wikitext/wikitext-103-v1.zip\n",
        "! unzip wikitext-103-v1.zip"
      ],
      "execution_count": 0,
      "outputs": []
    },
    {
      "cell_type": "code",
      "metadata": {
        "id": "2XMteuYkiuaA",
        "colab_type": "code",
        "colab": {}
      },
      "source": [
        "! wget https://s3.amazonaws.com/research.metamind.io/wikitext/wikitext-2-v1.zip\n",
        "! unzip wikitext-2-v1.zip"
      ],
      "execution_count": 0,
      "outputs": []
    },
    {
      "cell_type": "code",
      "metadata": {
        "id": "ADh1s750Lpv5",
        "colab_type": "code",
        "outputId": "8454fc3d-da22-4b95-952e-1ef2bfcbe71e",
        "colab": {
          "base_uri": "https://localhost:8080/",
          "height": 62
        }
      },
      "source": [
        "import numpy as np\n",
        "import os\n",
        "from tqdm import tqdm\n",
        "import string\n",
        "import tensorflow as tf\n",
        "import re\n",
        "import matplotlib.pyplot as plt\n",
        "tf.enable_eager_execution()"
      ],
      "execution_count": 0,
      "outputs": [
        {
          "output_type": "display_data",
          "data": {
            "text/html": [
              "<p style=\"color: red;\">\n",
              "The default version of TensorFlow in Colab will soon switch to TensorFlow 2.x.<br>\n",
              "We recommend you <a href=\"https://www.tensorflow.org/guide/migrate\" target=\"_blank\">upgrade</a> now \n",
              "or ensure your notebook will continue to use TensorFlow 1.x via the <code>%tensorflow_version 1.x</code> magic:\n",
              "<a href=\"https://colab.research.google.com/notebooks/tensorflow_version.ipynb\" target=\"_blank\">more info</a>.</p>\n"
            ],
            "text/plain": [
              "<IPython.core.display.HTML object>"
            ]
          },
          "metadata": {
            "tags": []
          }
        }
      ]
    },
    {
      "cell_type": "markdown",
      "metadata": {
        "id": "jjdO8sgPKvU1",
        "colab_type": "text"
      },
      "source": [
        "# Implement the language model"
      ]
    },
    {
      "cell_type": "code",
      "metadata": {
        "id": "7aXK3tzWl8GP",
        "colab_type": "code",
        "colab": {}
      },
      "source": [
        "class Language_model:\n",
        "\n",
        "    def __init__(self, folder_path):\n",
        "       \n",
        "       self.folder_path = folder_path\n",
        "       \n",
        "    def get_text(self, file_name):\n",
        "        \n",
        "        path = os.path.join(self.folder_path, file_name)\n",
        "        with open(path, 'r', encoding='utf-8') as f:\n",
        "            document = []\n",
        "            for sentence in tqdm(f, desc=f'PROCESSING {file_name}', position=0):\n",
        "\n",
        "                if len(sentence)>2:                                                       # preprocess and add the cut-off (end of string) token\n",
        "                    accepted_char = '[a-zA-z=.<>]+'\n",
        "                    sentence = ' '.join(re.findall(accepted_char, sentence)).strip()\n",
        "                    if not sentence.endswith('='):\n",
        "                        sentence += '\\x00'\n",
        "                    document.append(sentence.lower())\n",
        "        return '\\n'.join(document).strip()\n",
        "\n",
        "    \n",
        "    def encode_data(self, seq_length=300):\n",
        "\n",
        "        self.train = self.get_text('wiki.train.tokens') \n",
        "        self.valid = self.get_text('wiki.valid.tokens') \n",
        "        self.test = self.get_text('wiki.test.tokens')\n",
        "        print('-'*100)\n",
        "        print('ENCODING_DATA ...')\n",
        "        self.vocab = sorted(set(self.train))\n",
        "        print ('Vocabulary has: {} unique characters'.format(len(self.vocab)))\n",
        "\n",
        "        self.char2idx = {u:i for i, u in enumerate(self.vocab)}\n",
        "        self.idx2char = np.array(self.vocab)\n",
        "\n",
        "        encoded_train = np.array([self.char2idx[c] for c in self.train])\n",
        "        encoded_valid = np.array([self.char2idx[c] for c in self.valid])\n",
        "        encoded_test = np.array([self.char2idx[c] for c in self.test])\n",
        "\n",
        "        train_dataset = tf.data.Dataset.from_tensor_slices(encoded_train)\n",
        "        valid_dataset = tf.data.Dataset.from_tensor_slices(encoded_valid)\n",
        "        test_dataset = tf.data.Dataset.from_tensor_slices(encoded_test)\n",
        "\n",
        "        self.train_sequences = train_dataset.batch(seq_length+1, drop_remainder=True)\n",
        "        self.valid_sequences = valid_dataset.batch(seq_length+1, drop_remainder=True)\n",
        "        self.test_sequences = test_dataset.batch(seq_length+1, drop_remainder=True)\n",
        "\n",
        "    def generate_data(self, BATCH_SIZE=64):\n",
        "\n",
        "        self.encode_data()\n",
        "        print('-'*100)\n",
        "        print('GENERATING DATA ...')\n",
        "        def split_input_target(chunk):\n",
        "            input_text = chunk[:-1]\n",
        "            target_text = chunk[1:]\n",
        "            return input_text, target_text\n",
        "\n",
        "        train_dataset = self.train_sequences.map(split_input_target)\n",
        "        valid_dataset = self.valid_sequences.map(split_input_target)\n",
        "        test_dataset = self.test_sequences.map(split_input_target)\n",
        "\n",
        "        self.train_dataset = train_dataset.batch(BATCH_SIZE, drop_remainder=True)\n",
        "        self.valid_dataset = valid_dataset.batch(BATCH_SIZE, drop_remainder=True)\n",
        "        self.test_dataset = test_dataset.batch(BATCH_SIZE, drop_remainder=True)\n",
        "\n",
        "    def build_model(self, embedding_dim=256, rnn_units=1024, batch_size=64, rnn_type='RNN'):\n",
        "        \n",
        "        assert rnn_type in ['RNN', 'LSTM', 'GRU'], 'Invalid RNN architecture!'\n",
        "        \n",
        "        self.embedding_dim = embedding_dim\n",
        "        self.rnn_units = rnn_units\n",
        "        self.batch_size = batch_size\n",
        "        self.rnn_type = rnn_type\n",
        "\n",
        "        print('-'*90)\n",
        "        if  self.rnn_type == 'LSTM':  \n",
        "\n",
        "            self.model = tf.keras.Sequential([\n",
        "                    tf.keras.layers.Embedding(len(self.vocab), embedding_dim,\n",
        "                                              batch_input_shape=[batch_size, None]),\n",
        "                    tf.keras.layers.LSTM(rnn_units,\n",
        "                                         stateful=True,\n",
        "                                         return_sequences=True), \n",
        "                    tf.keras.layers.Dropout(0.2),                                \n",
        "                    tf.keras.layers.Dense(len(self.vocab))\n",
        "                    ])\n",
        "            \n",
        "        elif self.rnn_type == 'RNN':\n",
        "\n",
        "            self.model = tf.keras.Sequential([\n",
        "                    tf.keras.layers.Embedding(len(self.vocab), embedding_dim,\n",
        "                                              batch_input_shape=[batch_size, None]),           \n",
        "                    tf.keras.layers.SimpleRNN(rnn_units,\n",
        "                                         stateful=True,\n",
        "                                         return_sequences=True), \n",
        "                    tf.keras.layers.Dropout(0.2),                                \n",
        "                    tf.keras.layers.Dense(len(self.vocab))\n",
        "                    ])  \n",
        "        else:\n",
        "\n",
        "            self.model = tf.keras.Sequential([\n",
        "                    tf.keras.layers.Embedding(len(self.vocab), embedding_dim,\n",
        "                                              batch_input_shape=[batch_size, None]),\n",
        "                    tf.keras.layers.GRU(rnn_units,\n",
        "                                         stateful=True,\n",
        "                                         return_sequences=True), \n",
        "                    tf.keras.layers.Dropout(0.2),                                \n",
        "                    tf.keras.layers.Dense(len(self.vocab))\n",
        "                    ])  \n",
        "\n",
        "        print(self.model.summary())\n",
        "        return self.model\n",
        "    \n",
        "    def train_model(self, checkpoint_dir = './training_checkpoints', EPOCHS=10):\n",
        "        \n",
        "        self.checkpoint_dir = checkpoint_dir\n",
        "        def loss(labels, logits):\n",
        "            return tf.keras.losses.sparse_categorical_crossentropy(labels, logits, from_logits=True)\n",
        "    \n",
        "        def accuracy(labels, logits):\n",
        "            return tf.keras.metrics.sparse_categorical_accuracy(labels, logits)\n",
        "\n",
        "        self.model.compile(optimizer=tf.keras.optimizers.Adam(), loss=loss, metrics=[accuracy])\n",
        "        self.checkpoint_dir = './training_checkpoints'\n",
        "        checkpoint_prefix = os.path.join(self.checkpoint_dir, '{val_accuracy}')\n",
        "\n",
        "        checkpoint_callback=tf.keras.callbacks.ModelCheckpoint(\n",
        "            filepath=checkpoint_prefix,\n",
        "            save_weights_only=True)\n",
        "        \n",
        "        early_stopping = tf.keras.callbacks.EarlyStopping(monitor='val_accuracy', patience=1)\n",
        "       \n",
        "        self.history = self.model.fit(self.train_dataset, \n",
        "                                      epochs=EPOCHS, \n",
        "                                      validation_data=self.valid_dataset,\n",
        "                                      callbacks=[checkpoint_callback, early_stopping])\n",
        "        \n",
        "        \n",
        "    def plot_history(self):\n",
        "\n",
        "        print('EVALUATING ON TEST SET')\n",
        "        self.model.evaluate(self.test_dataset, verbose=1)\n",
        "        print('-'*100)\n",
        "        fig, ax = plt.subplots(1,2, figsize=(16, 6))\n",
        "        plt.subplot(1,2,1)\n",
        "        plt.plot(self.history.history['loss'], label='Train')\n",
        "        plt.plot(self.history.history['val_loss'], label='Validataion')\n",
        "        plt.title('Loss on training and validation sets')\n",
        "        plt.ylabel('Loss')\n",
        "        plt.xlabel('Epoch')\n",
        "        plt.legend(loc=\"upper right\")\n",
        "        plt.subplot(1,2,2)\n",
        "        plt.plot(self.history.history['accuracy'], label='Train')\n",
        "        plt.plot(self.history.history['val_accuracy'], label='Validataion')\n",
        "        plt.title('Accuracy on training and validation sets')\n",
        "        plt.ylabel('Accuracy')\n",
        "        plt.xlabel('Epoch')\n",
        "        plt.legend(loc=\"upper left\")                \n",
        "        plt.show()\n",
        "\n",
        "    def generate_text(self, string, max_chars=300):\n",
        "\n",
        "        best_model = self.build_model(self.embedding_dim, self.rnn_units, batch_size=1, rnn_type=self.rnn_type)    # load pretrained model and change batch size for prediction\n",
        "        best_model.load_weights(tf.train.latest_checkpoint(self.checkpoint_dir))\n",
        "        best_model.build(tf.TensorShape([1, None]))\n",
        "        \n",
        "        input_seq = [self.char2idx[c] for c in string]\n",
        "        input_seq = tf.expand_dims(input_seq, 0)\n",
        "        text_generated = []\n",
        "\n",
        "        temperature = 1                    # the higher temperature, the more surprising text\n",
        "        best_model.reset_states()    \n",
        "            \n",
        "        for i in range(max_chars):                      # decode until the model produce the '\\x00' character or when reaching time fixed time step (defaut=300)\n",
        "            next_char = best_model(input_seq)\n",
        "            next_char = tf.squeeze(next_char, 0) / temperature\n",
        "            next_char_id = tf.random.categorical(next_char, num_samples=1)[-1, 0].numpy()\n",
        "            input_seq = tf.expand_dims([next_char_id], 0)\n",
        "            predicted_char = self.idx2char[next_char_id]\n",
        "            if predicted_char == '\\x00':\n",
        "                break\n",
        "            text_generated.append(predicted_char)\n",
        "  \n",
        "        return string + ''.join(text_generated)"
      ],
      "execution_count": 0,
      "outputs": []
    },
    {
      "cell_type": "code",
      "metadata": {
        "id": "eZOP72pIRSdg",
        "colab_type": "code",
        "outputId": "cc275233-3424-4ffd-b105-e3020f69ac82",
        "colab": {
          "base_uri": "https://localhost:8080/",
          "height": 67
        }
      },
      "source": [
        "wiki103_folder = os.path.join(os.getcwd(), 'wikitext-103')\n",
        "\n",
        "wiki103_paths = [os.path.join(wiki103_folder, file_name) for file_name in os.listdir(wiki103_folder)]\n",
        "wiki103_paths"
      ],
      "execution_count": 0,
      "outputs": [
        {
          "output_type": "execute_result",
          "data": {
            "text/plain": [
              "['/content/drive/My Drive/Cinnamon/a7/wikitext-103/wiki.train.tokens',\n",
              " '/content/drive/My Drive/Cinnamon/a7/wikitext-103/wiki.test.tokens',\n",
              " '/content/drive/My Drive/Cinnamon/a7/wikitext-103/wiki.valid.tokens']"
            ]
          },
          "metadata": {
            "tags": []
          },
          "execution_count": 51
        }
      ]
    },
    {
      "cell_type": "code",
      "metadata": {
        "id": "kTRC_z25jeVX",
        "colab_type": "code",
        "outputId": "0b0455b7-94e2-4fbd-ffeb-0fe4ab8eb9c3",
        "colab": {
          "base_uri": "https://localhost:8080/",
          "height": 67
        }
      },
      "source": [
        "wiki2_folder = os.path.join(os.getcwd(), 'wikitext-2')\n",
        "\n",
        "wiki2_paths = [os.path.join(wiki2_folder, file_name) for file_name in os.listdir(wiki2_folder)]\n",
        "wiki2_paths"
      ],
      "execution_count": 0,
      "outputs": [
        {
          "output_type": "execute_result",
          "data": {
            "text/plain": [
              "['/content/drive/My Drive/Cinnamon/a7/wikitext-2/wiki.train.tokens',\n",
              " '/content/drive/My Drive/Cinnamon/a7/wikitext-2/wiki.valid.tokens',\n",
              " '/content/drive/My Drive/Cinnamon/a7/wikitext-2/wiki.test.tokens']"
            ]
          },
          "metadata": {
            "tags": []
          },
          "execution_count": 52
        }
      ]
    },
    {
      "cell_type": "markdown",
      "metadata": {
        "id": "KH8wR8PFLDr5",
        "colab_type": "text"
      },
      "source": [
        "I will take the wiki 2 data because of my limited computation resource"
      ]
    },
    {
      "cell_type": "code",
      "metadata": {
        "id": "Htqq8eKaY1g5",
        "colab_type": "code",
        "outputId": "0b762b17-230a-4cb9-d0bb-0f64dd2b850f",
        "colab": {
          "base_uri": "https://localhost:8080/",
          "height": 185
        }
      },
      "source": [
        "%%time\n",
        "LM = Language_model(wiki2_folder)\n",
        "LM.generate_data()"
      ],
      "execution_count": 0,
      "outputs": [
        {
          "output_type": "stream",
          "text": [
            "PROCESSING wiki.train.tokens: 36718it [00:00, 74494.19it/s]\n",
            "PROCESSING wiki.valid.tokens: 3760it [00:00, 66672.80it/s]\n",
            "PROCESSING wiki.test.tokens: 4358it [00:00, 78524.17it/s]\n"
          ],
          "name": "stderr"
        },
        {
          "output_type": "stream",
          "text": [
            "----------------------------------------------------------------------------------------------------\n",
            "ENCODING_DATA ...\n",
            "Vocabulary has: 38 unique characters\n",
            "----------------------------------------------------------------------------------------------------\n",
            "GENERATING DATA ...\n",
            "CPU times: user 2.36 s, sys: 26.3 ms, total: 2.38 s\n",
            "Wall time: 2.42 s\n"
          ],
          "name": "stdout"
        }
      ]
    },
    {
      "cell_type": "code",
      "metadata": {
        "id": "5JDvCEIRQx8K",
        "colab_type": "code",
        "outputId": "8e679883-e38a-4497-b00f-aef0638ef047",
        "colab": {
          "base_uri": "https://localhost:8080/",
          "height": 104
        }
      },
      "source": [
        "print(LM.test[1500:1800])"
      ],
      "execution_count": 0,
      "outputs": [
        {
          "output_type": "stream",
          "text": [
            "unk> starred in the film <unk> directed by paris <unk> .\u0000\n",
            "= = career = =\n",
            "= = = = = =\n",
            "in <unk> had a guest starring role on the television series the bill he portrayed scott parry in the episode in safe hands . <unk> starred as scott in the play herons written by simon stephens which was performed in\n"
          ],
          "name": "stdout"
        }
      ]
    },
    {
      "cell_type": "markdown",
      "metadata": {
        "id": "rgIwF24Tj6b6",
        "colab_type": "text"
      },
      "source": [
        "## Traditional RNN"
      ]
    },
    {
      "cell_type": "code",
      "metadata": {
        "id": "FVE9jUHJhcCh",
        "colab_type": "code",
        "outputId": "61bf46a5-d952-491b-ad8c-6e8b9c3f8867",
        "colab": {
          "base_uri": "https://localhost:8080/",
          "height": 336
        }
      },
      "source": [
        "LM.build_model(rnn_type='RNN')"
      ],
      "execution_count": 0,
      "outputs": [
        {
          "output_type": "stream",
          "text": [
            "------------------------------------------------------------------------------------------\n",
            "Model: \"sequential_7\"\n",
            "_________________________________________________________________\n",
            "Layer (type)                 Output Shape              Param #   \n",
            "=================================================================\n",
            "embedding_13 (Embedding)     (64, None, 256)           9728      \n",
            "_________________________________________________________________\n",
            "simple_rnn_1 (SimpleRNN)     (64, None, 1024)          1311744   \n",
            "_________________________________________________________________\n",
            "dropout_7 (Dropout)          (64, None, 1024)          0         \n",
            "_________________________________________________________________\n",
            "dense_7 (Dense)              (64, None, 38)            38950     \n",
            "=================================================================\n",
            "Total params: 1,360,422\n",
            "Trainable params: 1,360,422\n",
            "Non-trainable params: 0\n",
            "_________________________________________________________________\n",
            "None\n"
          ],
          "name": "stdout"
        },
        {
          "output_type": "execute_result",
          "data": {
            "text/plain": [
              "<tensorflow.python.keras.engine.sequential.Sequential at 0x7f7143bc5780>"
            ]
          },
          "metadata": {
            "tags": []
          },
          "execution_count": 55
        }
      ]
    },
    {
      "cell_type": "code",
      "metadata": {
        "id": "CyphDotEjVm0",
        "colab_type": "code",
        "outputId": "64d896f5-d09a-4cb6-e20f-c6156d7c82a1",
        "colab": {
          "base_uri": "https://localhost:8080/",
          "height": 218
        }
      },
      "source": [
        "%%time\n",
        "LM.train_model(EPOCHS=5)"
      ],
      "execution_count": 0,
      "outputs": [
        {
          "output_type": "stream",
          "text": [
            "Epoch 1/5\n",
            "521/521 [==============================] - 114s 219ms/step - loss: 2.2290 - accuracy: 0.3503 - val_loss: 0.0000e+00 - val_accuracy: 0.0000e+00\n",
            "Epoch 2/5\n",
            "521/521 [==============================] - 113s 217ms/step - loss: 1.7916 - accuracy: 0.4669 - val_loss: 1.5368 - val_accuracy: 0.5408\n",
            "Epoch 3/5\n",
            "521/521 [==============================] - 113s 216ms/step - loss: 1.6159 - accuracy: 0.5205 - val_loss: 1.4231 - val_accuracy: 0.5722\n",
            "Epoch 4/5\n",
            "521/521 [==============================] - 115s 220ms/step - loss: 1.5269 - accuracy: 0.5458 - val_loss: 1.3628 - val_accuracy: 0.5895\n",
            "Epoch 5/5\n",
            "521/521 [==============================] - 115s 220ms/step - loss: 1.4720 - accuracy: 0.5609 - val_loss: 1.3252 - val_accuracy: 0.5999\n",
            "CPU times: user 13min 33s, sys: 45.6 s, total: 14min 19s\n",
            "Wall time: 9min 28s\n"
          ],
          "name": "stdout"
        }
      ]
    },
    {
      "cell_type": "code",
      "metadata": {
        "id": "YhcEPfIRjf4K",
        "colab_type": "code",
        "outputId": "1325aed6-e861-4a79-c415-5ade70a88594",
        "colab": {
          "base_uri": "https://localhost:8080/",
          "height": 454
        }
      },
      "source": [
        "LM.plot_history()"
      ],
      "execution_count": 0,
      "outputs": [
        {
          "output_type": "stream",
          "text": [
            "EVALUATING ON TEST SET\n",
            "60/60 [==============================] - 3s 42ms/step - loss: 1.3204 - accuracy: 0.6019\n",
            "----------------------------------------------------------------------------------------------------\n"
          ],
          "name": "stdout"
        },
        {
          "output_type": "display_data",
          "data": {
            "image/png": "[encoded data removed]",
            "text/plain": [
              "<Figure size 1152x432 with 2 Axes>"
            ]
          },
          "metadata": {
            "tags": []
          }
        }
      ]
    },
    {
      "cell_type": "code",
      "metadata": {
        "id": "GYIvUgfujVvY",
        "colab_type": "code",
        "outputId": "259ad57f-54fb-410e-f09a-bb124e71e95f",
        "colab": {
          "base_uri": "https://localhost:8080/",
          "height": 356
        }
      },
      "source": [
        "LM.generate_text('an invasion of europe in would be') # a small text on the test set"
      ],
      "execution_count": 0,
      "outputs": [
        {
          "output_type": "stream",
          "text": [
            "------------------------------------------------------------------------------------------\n",
            "Model: \"sequential_15\"\n",
            "_________________________________________________________________\n",
            "Layer (type)                 Output Shape              Param #   \n",
            "=================================================================\n",
            "embedding_21 (Embedding)     (1, None, 256)            9728      \n",
            "_________________________________________________________________\n",
            "simple_rnn_9 (SimpleRNN)     (1, None, 1024)           1311744   \n",
            "_________________________________________________________________\n",
            "dropout_15 (Dropout)         (1, None, 1024)           0         \n",
            "_________________________________________________________________\n",
            "dense_15 (Dense)             (1, None, 38)             38950     \n",
            "=================================================================\n",
            "Total params: 1,360,422\n",
            "Trainable params: 1,360,422\n",
            "Non-trainable params: 0\n",
            "_________________________________________________________________\n",
            "None\n"
          ],
          "name": "stdout"
        },
        {
          "output_type": "execute_result",
          "data": {
            "text/plain": [
              "'an invasion of europe in would be alone had an home and did him as rusn moviate played tower making her <unk> specuro unines they plop stan and people of bratil on m appears in flie participer and speriophonisted and monemellisted for the ymost of heavier <unk> .\\n= = cround planna voowing on a form of morking . men as a form largi'"
            ]
          },
          "metadata": {
            "tags": []
          },
          "execution_count": 77
        }
      ]
    },
    {
      "cell_type": "markdown",
      "metadata": {
        "id": "iJKMiTL0j9-w",
        "colab_type": "text"
      },
      "source": [
        "## GRU"
      ]
    },
    {
      "cell_type": "code",
      "metadata": {
        "id": "m75h1BgvhJBZ",
        "colab_type": "code",
        "outputId": "344241a0-fe73-4cf0-c03a-29751a206bb2",
        "colab": {
          "base_uri": "https://localhost:8080/",
          "height": 336
        }
      },
      "source": [
        "LM.build_model(rnn_type='GRU')"
      ],
      "execution_count": 0,
      "outputs": [
        {
          "output_type": "stream",
          "text": [
            "------------------------------------------------------------------------------------------\n",
            "Model: \"sequential_17\"\n",
            "_________________________________________________________________\n",
            "Layer (type)                 Output Shape              Param #   \n",
            "=================================================================\n",
            "embedding_23 (Embedding)     (64, None, 256)           9728      \n",
            "_________________________________________________________________\n",
            "gru_4 (GRU)                  (64, None, 1024)          3935232   \n",
            "_________________________________________________________________\n",
            "dropout_17 (Dropout)         (64, None, 1024)          0         \n",
            "_________________________________________________________________\n",
            "dense_17 (Dense)             (64, None, 38)            38950     \n",
            "=================================================================\n",
            "Total params: 3,983,910\n",
            "Trainable params: 3,983,910\n",
            "Non-trainable params: 0\n",
            "_________________________________________________________________\n",
            "None\n"
          ],
          "name": "stdout"
        },
        {
          "output_type": "execute_result",
          "data": {
            "text/plain": [
              "<tensorflow.python.keras.engine.sequential.Sequential at 0x7f70f410e4e0>"
            ]
          },
          "metadata": {
            "tags": []
          },
          "execution_count": 81
        }
      ]
    },
    {
      "cell_type": "code",
      "metadata": {
        "id": "UcvgKCOjhLof",
        "colab_type": "code",
        "outputId": "4d08b8a3-3580-4084-d4e9-bed3488d213e",
        "colab": {
          "base_uri": "https://localhost:8080/",
          "height": 218
        }
      },
      "source": [
        "%%time\n",
        "LM.train_model(EPOCHS=5)"
      ],
      "execution_count": 0,
      "outputs": [
        {
          "output_type": "stream",
          "text": [
            "Epoch 1/5\n",
            "521/521 [==============================] - 316s 606ms/step - loss: 2.0910 - accuracy: 0.3896 - val_loss: 0.0000e+00 - val_accuracy: 0.0000e+00\n",
            "Epoch 2/5\n",
            "521/521 [==============================] - 314s 602ms/step - loss: 1.5818 - accuracy: 0.5265 - val_loss: 1.3627 - val_accuracy: 0.5878\n",
            "Epoch 3/5\n",
            "521/521 [==============================] - 314s 602ms/step - loss: 1.4209 - accuracy: 0.5708 - val_loss: 1.2729 - val_accuracy: 0.6121\n",
            "Epoch 4/5\n",
            "521/521 [==============================] - 314s 603ms/step - loss: 1.3381 - accuracy: 0.5937 - val_loss: 1.2262 - val_accuracy: 0.6250\n",
            "Epoch 5/5\n",
            "521/521 [==============================] - 315s 605ms/step - loss: 1.2856 - accuracy: 0.6083 - val_loss: 1.1980 - val_accuracy: 0.6326\n",
            "CPU times: user 30min 38s, sys: 1min 44s, total: 32min 23s\n",
            "Wall time: 26min 12s\n"
          ],
          "name": "stdout"
        }
      ]
    },
    {
      "cell_type": "markdown",
      "metadata": {
        "id": "53RPOfuMkA4i",
        "colab_type": "text"
      },
      "source": [
        "## LSTM"
      ]
    },
    {
      "cell_type": "code",
      "metadata": {
        "id": "siFxMx0JQP1m",
        "colab_type": "code",
        "outputId": "72f76ae2-3fc6-41b3-89aa-1c91c558ca14",
        "colab": {
          "base_uri": "https://localhost:8080/",
          "height": 336
        }
      },
      "source": [
        "LM.build_model(rnn_type='LSTM')"
      ],
      "execution_count": 0,
      "outputs": [
        {
          "output_type": "stream",
          "text": [
            "------------------------------------------------------------------------------------------\n",
            "Model: \"sequential_2\"\n",
            "_________________________________________________________________\n",
            "Layer (type)                 Output Shape              Param #   \n",
            "=================================================================\n",
            "embedding_2 (Embedding)      (64, None, 256)           9728      \n",
            "_________________________________________________________________\n",
            "lstm_2 (LSTM)                (64, None, 1024)          5246976   \n",
            "_________________________________________________________________\n",
            "dropout_2 (Dropout)          (64, None, 1024)          0         \n",
            "_________________________________________________________________\n",
            "dense_2 (Dense)              (64, None, 38)            38950     \n",
            "=================================================================\n",
            "Total params: 5,295,654\n",
            "Trainable params: 5,295,654\n",
            "Non-trainable params: 0\n",
            "_________________________________________________________________\n",
            "None\n"
          ],
          "name": "stdout"
        },
        {
          "output_type": "execute_result",
          "data": {
            "text/plain": [
              "<tensorflow.python.keras.engine.sequential.Sequential at 0x7f714e0809e8>"
            ]
          },
          "metadata": {
            "tags": []
          },
          "execution_count": 22
        }
      ]
    },
    {
      "cell_type": "code",
      "metadata": {
        "id": "oWws0sf0lfXd",
        "colab_type": "code",
        "outputId": "a4a1c122-7624-4901-c695-d1583b2e9d55",
        "colab": {
          "base_uri": "https://localhost:8080/",
          "height": 218
        }
      },
      "source": [
        "%%time\n",
        "LM.train_model(EPOCHS=5)"
      ],
      "execution_count": 0,
      "outputs": [
        {
          "output_type": "stream",
          "text": [
            "Epoch 1/5\n",
            "521/521 [==============================] - 408s 783ms/step - loss: 2.1216 - accuracy: 0.3760 - val_loss: 0.0000e+00 - val_accuracy: 0.0000e+00\n",
            "Epoch 2/5\n",
            "521/521 [==============================] - 406s 780ms/step - loss: 1.5790 - accuracy: 0.5258 - val_loss: 1.3466 - val_accuracy: 0.5914\n",
            "Epoch 3/5\n",
            "521/521 [==============================] - 405s 777ms/step - loss: 1.4009 - accuracy: 0.5750 - val_loss: 1.2461 - val_accuracy: 0.6179\n",
            "Epoch 4/5\n",
            "521/521 [==============================] - 404s 776ms/step - loss: 1.3158 - accuracy: 0.5983 - val_loss: 1.1979 - val_accuracy: 0.6305\n",
            "Epoch 5/5\n",
            "521/521 [==============================] - 408s 782ms/step - loss: 1.2631 - accuracy: 0.6128 - val_loss: 1.1687 - val_accuracy: 0.6386\n",
            "CPU times: user 38min 40s, sys: 3min 12s, total: 41min 52s\n",
            "Wall time: 33min 50s\n"
          ],
          "name": "stdout"
        }
      ]
    }
  ]
}